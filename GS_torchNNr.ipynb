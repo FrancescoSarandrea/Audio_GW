{
  "cells": [
    {
      "cell_type": "markdown",
      "metadata": {
        "id": "view-in-github",
        "colab_type": "text"
      },
      "source": [
        "<a href=\"https://colab.research.google.com/github/FrancescoSarandrea/Audio_GW/blob/main/GS_torchNNr.ipynb\" target=\"_parent\"><img src=\"https://colab.research.google.com/assets/colab-badge.svg\" alt=\"Open In Colab\"/></a>"
      ]
    },
    {
      "cell_type": "markdown",
      "metadata": {
        "id": "-HokMp0jROML"
      },
      "source": [
        "Simple notebook with data load and few NNs for raw and scattered transformed datas"
      ]
    },
    {
      "cell_type": "code",
      "execution_count": null,
      "metadata": {
        "colab": {
          "base_uri": "https://localhost:8080/"
        },
        "id": "Mt3clcKKfqGY",
        "outputId": "c3244078-06a8-4f30-d993-41a551236b06"
      },
      "outputs": [
        {
          "output_type": "stream",
          "name": "stdout",
          "text": [
            "Mounted at /content/drive\n"
          ]
        }
      ],
      "source": [
        "from google.colab import drive\n",
        "drive.mount('/content/drive')  "
      ]
    },
    {
      "cell_type": "code",
      "execution_count": null,
      "metadata": {
        "id": "1Af0hXsJ5Xph"
      },
      "outputs": [],
      "source": [
        "!unzip -q /content/drive/MyDrive/GW_ML/Gravity_Spy_Glitches_whitened_1.zip \n",
        "!unzip -q /content/drive/MyDrive/GW_ML/Gravity_Spy_Glitches_whitened_2.zip\n",
        "!unzip -q /content/drive/MyDrive/GW_ML/Gravity_Spy_Glitches_whitened_3.zip \n",
        "!unzip -q /content/drive/MyDrive/GW_ML/Gravity_Spy_Glitches_whitened_4.zip  \n",
        "!unzip -q /content/drive/MyDrive/GW_ML/Gravity_Spy_Glitches_whitened_5.zip \n",
        "!unzip -q /content/drive/MyDrive/GW_ML/Gravity_Spy_Glitches_whitened_6.zip \n",
        "!unzip -q /content/drive/MyDrive/GW_ML/Gravity_Spy_Glitches_whitened_7.zip "
      ]
    },
    {
      "cell_type": "code",
      "execution_count": null,
      "metadata": {
        "id": "zZ5Bs9__7HPV"
      },
      "outputs": [],
      "source": [
        "try:\n",
        "    from gwpy.timeseries import TimeSeries\n",
        "except ModuleNotFoundError: \n",
        "    !pip install --quiet gwpy\n",
        "    from gwpy.timeseries import TimeSeries\n",
        "\n",
        "try:\n",
        "    from kymatio.torch import Scattering1D\n",
        "except ModuleNotFoundError: \n",
        "    !pip install --quiet kymatio\n",
        "    from kymatio.torch import Scattering1D"
      ]
    },
    {
      "cell_type": "code",
      "execution_count": null,
      "metadata": {
        "id": "IzvdRngD6zhB"
      },
      "outputs": [],
      "source": [
        "import os\n",
        "import h5py as h5\n",
        "import pandas as pd\n",
        "import matplotlib.pyplot as plt\n",
        "from os import listdir\n",
        "import numpy as np\n",
        "import pandas as pd\n",
        "\n",
        "import torch\n",
        "import torch.nn as nn\n",
        "import torch.nn.functional as F\n",
        "import torch.optim as optim\n",
        "import torchaudio\n",
        "import sys\n",
        "from torch.utils.data import DataLoader, TensorDataset\n",
        "import matplotlib.pyplot as plt\n",
        "from tqdm.notebook import tqdm\n",
        "from torchsummary import summary\n",
        "import torchvision\n",
        "from sklearn.model_selection import train_test_split"
      ]
    },
    {
      "cell_type": "code",
      "source": [
        "from IPython.display import clear_output"
      ],
      "metadata": {
        "id": "RlR-1qaIQ3eM"
      },
      "execution_count": null,
      "outputs": []
    },
    {
      "cell_type": "code",
      "execution_count": null,
      "metadata": {
        "colab": {
          "base_uri": "https://localhost:8080/"
        },
        "id": "FFg88ZNqqpyL",
        "outputId": "fe900d95-432b-4bd2-f056-3233ad056d17"
      },
      "outputs": [
        {
          "output_type": "stream",
          "name": "stdout",
          "text": [
            "cuda\n"
          ]
        }
      ],
      "source": [
        "device = torch.device(\"cuda\" if torch.cuda.is_available() else \"cpu\")\n",
        "print(device)"
      ]
    },
    {
      "cell_type": "markdown",
      "source": [
        "Dataset Utility"
      ],
      "metadata": {
        "id": "aLV6peNzImAN"
      }
    },
    {
      "cell_type": "code",
      "source": [
        "def construct_dataframe(path,t_delta=None):\n",
        "  name_data=[]\n",
        "  starting_times_data=[]\n",
        "  timeseries_data=[]\n",
        "  type_data=[]\n",
        "  for file in listdir(path):\n",
        "    if file != '.ipynb_checkpoints':\n",
        "        fout=h5.File(path+file,'r') \n",
        "    type_of_glitch=list(fout.keys())[0]\n",
        "    dataset=fout[type_of_glitch]\n",
        "    t = TimeSeries(dataset[()])\n",
        "    ln=len(t)/2\n",
        "    #if no t_delta is provided, the whole the timeseries are not cut \n",
        "    if t_delta==None:\n",
        "      t_delta=ln\n",
        "    name_data.append(file.split('.')[0].split('_')[0])\n",
        "    type_data.append(type_of_glitch)\n",
        "    starting_times_data.append(dataset.attrs['t0'])\n",
        "    dataset_cut=dataset[()][int(ln-t_delta):int(ln+t_delta)]\n",
        "    timeseries_data.append(dataset_cut)\n",
        "    # intialise data of lists.\n",
        "\n",
        "  data_Virgo = {'ID':name_data,\n",
        "        'Type_Of_Glitch':type_data,\n",
        "        'Starting_Times':starting_times_data,\n",
        "        'TimeSeries':timeseries_data}\n",
        "    # Create DataFrame\n",
        "  df= pd.DataFrame(data_Virgo)\n",
        "  return df\n",
        "\n",
        "def check_remove_nanDF(dataframe, col='TimeSeries'):\n",
        "    val=dataframe[col].values\n",
        "    idx=[]\n",
        "    for i in range(len(val)):\n",
        "        if np.isnan(val[i])[0]==True:\n",
        "            idx+=[i]\n",
        "    print(\"removed timeseries:\", len(idx))\n",
        "    print(idx)\n",
        "    return dataframe.drop(labels=idx,axis=0)\n",
        "\n",
        "\n",
        "def build_torchDataset(Dataset, norm=True):\n",
        "    X,y=Dataset.T\n",
        "    data=[]\n",
        "    label=[]\n",
        "    for element in X:\n",
        "        data+= [element]\n",
        "    for i in y:\n",
        "        label+=[i]\n",
        "    X_t=torch.tensor(np.asarray(data)).unsqueeze(1)\n",
        "    y_t=torch.tensor(label).long()\n",
        "    if norm:\n",
        "        X_t=(X_t-X_t.mean(0))/X_t.std(0)\n",
        "    return TensorDataset(X_t,y_t)\n",
        "\n",
        "\n",
        "\n",
        "def build_dataset(path='/content/content/sample_data/', idx=['_2', '_3', '_4', '_5', '_6', '_7']):\n",
        "    df_LIGO=construct_dataframe(path+'Gravity_Spy/')\n",
        "    df_LIGO=check_remove_nanDF(df_LIGO)\n",
        "    for i in idx:\n",
        "        df_tmp=construct_dataframe(path+'Gravity_Spy'+i+'/')\n",
        "        df_tmp=check_remove_nanDF(df_tmp)\n",
        "        df_LIGO=pd.concat([df_LIGO,df_tmp],axis=0)\n",
        "    return df_LIGO\n",
        "\n",
        "def pytorch_glitch(df,norm=True):\n",
        "    df.Type_Of_Glitch = pd.Categorical(df.Type_Of_Glitch)\n",
        "    df['code']=df.Type_Of_Glitch.cat.codes\n",
        "    return build_torchDataset(df.drop(columns=['ID', 'Type_Of_Glitch', 'Starting_Times']).values,norm)\n",
        "\n",
        "def get_labels(df):\n",
        "    return  sorted(list(set(datapoint[1] for datapoint in df.to_numpy())))\n",
        "\n",
        "def remove_row_by_freq(df, col='Type_Of_Glitch', freq=50):\n",
        "    return df[df.groupby(col)[col].transform('count').ge(freq)]\n",
        "\n",
        "\n",
        "def split_stratified_into_train_val_test(df_input, stratify_colname='Type_Of_Glitch',\n",
        "                                         frac_train=0.75, frac_val=0.15, frac_test=0.10,\n",
        "                                         random_state=137):\n",
        "    '''\n",
        "    Splits a Pandas dataframe into three subsets (train, val, and test)\n",
        "    following fractional ratios provided by the user, where each subset is\n",
        "    stratified by the values in a specific column (that is, each subset has\n",
        "    the same relative frequency of the values in the column). It performs this\n",
        "    splitting by running train_test_split() twice.\n",
        "\n",
        "    Parameters\n",
        "    ----------\n",
        "    df_input : Pandas dataframe\n",
        "        Input dataframe to be split.\n",
        "    stratify_colname : str\n",
        "        The name of the column that will be used for stratification. Usually\n",
        "        this column would be for the label.\n",
        "    frac_train : float\n",
        "    frac_val   : float\n",
        "    frac_test  : float\n",
        "        The ratios with which the dataframe will be split into train, val, and\n",
        "        test data. The values should be expressed as float fractions and should\n",
        "        sum to 1.0.\n",
        "    random_state : int, None, or RandomStateInstance\n",
        "        Value to be passed to train_test_split().\n",
        "\n",
        "    Returns\n",
        "    -------\n",
        "    df_train, df_val, df_test :\n",
        "        Dataframes containing the three splits.\n",
        "    '''\n",
        "\n",
        "    if frac_train + frac_val + frac_test != 1.0:\n",
        "        raise ValueError('fractions %f, %f, %f do not add up to 1.0' % \\\n",
        "                         (frac_train, frac_val, frac_test))\n",
        "\n",
        "    if stratify_colname not in df_input.columns:\n",
        "        raise ValueError('%s is not a column in the dataframe' % (stratify_colname))\n",
        "\n",
        "    X = df_input # Contains all columns.\n",
        "    y = df_input[[stratify_colname]] # Dataframe of just the column on which to stratify.\n",
        "\n",
        "    # Split original dataframe into train and temp dataframes.\n",
        "    df_train, df_temp, y_train, y_temp = train_test_split(X,\n",
        "                                                          y,\n",
        "                                                          stratify=y,\n",
        "                                                          test_size=(1.0 - frac_train),\n",
        "                                                          random_state=random_state)\n",
        "\n",
        "    # Split the temp dataframe into val and test dataframes.\n",
        "    relative_frac_test = frac_test / (frac_val + frac_test)\n",
        "    df_val, df_test, y_val, y_test = train_test_split(df_temp,\n",
        "                                                      y_temp,\n",
        "                                                      stratify=y_temp,\n",
        "                                                      test_size=relative_frac_test,\n",
        "                                                      random_state=random_state)\n",
        "\n",
        "    assert len(df_input) == len(df_train) + len(df_val) + len(df_test)\n",
        "    return df_train, df_val, df_test"
      ],
      "metadata": {
        "id": "-g0o8aEh1NCg"
      },
      "execution_count": null,
      "outputs": []
    },
    {
      "cell_type": "markdown",
      "source": [
        "Networks"
      ],
      "metadata": {
        "id": "Bvtbn8CaIp0W"
      }
    },
    {
      "cell_type": "code",
      "source": [
        "def evaluate_accuracy(model,transform, dataloader):\n",
        "    correct = 0\n",
        "    total = 0\n",
        "    model.eval()\n",
        "    with torch.no_grad():\n",
        "        for data in dataloader:\n",
        "            images, y = data\n",
        "            if transform:\n",
        "                images=transform(images.to(device))\n",
        "            else:\n",
        "                images=images.to(device)\n",
        "            outputs = model(images)\n",
        "            _, predicted = torch.max(outputs.data, 1)  \n",
        "            total += y.size(0) \n",
        "            correct += (predicted == y.to(device)).sum().item()\n",
        "    accuracy = 100 * correct / total  \n",
        "    return accuracy\n",
        "\n",
        "def accuracy_classes(net,transform,dataloader,classes): \n",
        "    correct_pred = {classname: 0 for classname in classes}\n",
        "    total_pred = {classname: 0 for classname in classes}\n",
        "    net.eval()\n",
        "    with torch.no_grad():\n",
        "        for data in dataloader:\n",
        "            images, labels = data\n",
        "            if transform:\n",
        "                images=transform(images.to(device))\n",
        "            else:\n",
        "                images=images.to(device)\n",
        "            outputs = net(images)\n",
        "            _, predictions = torch.max(outputs, 1)\n",
        "            for label, prediction in zip(labels.to(device), predictions):\n",
        "                if label == prediction:\n",
        "                    correct_pred[classes[label]] += 1\n",
        "                total_pred[classes[label]] += 1\n",
        "\n",
        "    for classname, correct_count in correct_pred.items():\n",
        "        accuracy = 100 * float(correct_count) / total_pred[classname]\n",
        "        print(f'Accuracy for class: {classname:5s} is {accuracy:.1f} %')\n",
        "\n",
        "\n",
        "def training(net,transform,optimizer,criterion,train_loader,test_loader,num_epochs):\n",
        "  history={'loss':[],'train_accuracy':[],'val_accuracy':[]}\n",
        "  for epoch in tqdm(range(num_epochs)):\n",
        "      running_loss = 0.0\n",
        "      running_corrects = 0.0\n",
        "      net.train()\n",
        "      for i, data in enumerate(train_loader, 0):\n",
        "          inputs, y = data\n",
        "          optimizer.zero_grad()\n",
        "          if transform:\n",
        "            inputs=transform(inputs.to(device))\n",
        "          else:\n",
        "            inputs=inputs.to(device)\n",
        "          outputs = net(inputs)\n",
        "\n",
        "          loss = criterion(outputs, y.to(device))\n",
        "          loss.backward()\n",
        "          optimizer.step()\n",
        " \n",
        "          _, predicted = torch.max(outputs.data.cpu(), 1)\n",
        "          running_corrects += torch.sum(predicted == y.data).item()\n",
        "        \n",
        "          running_loss += loss.item() * inputs.size(0)\n",
        "        \n",
        "\n",
        "      epoch_loss = running_loss / len(train_loader.dataset)\n",
        "      epoch_acc = 100.0*running_corrects / len(train_loader.dataset)\n",
        "      val_acc=evaluate_accuracy(net,transform,test_loader)\n",
        "      history['loss'].append(epoch_loss)\n",
        "      history['train_accuracy'].append(epoch_acc)\n",
        "      history['val_accuracy'].append(val_acc)\n",
        "      print('Epoch {} Loss: {:.4f} Acc: {:.4f}% Val Acc: {:.4f}%'.format(epoch+1, epoch_loss, epoch_acc, val_acc))  \n",
        "  return history\n",
        "\n",
        "\n",
        "class LogisticRegression(nn.Module):\n",
        "    def __init__(self, n_input, n_output=18):\n",
        "        super().__init__()\n",
        "        self.fc1 = nn.Linear(n_input, n_output)\n",
        "    def forward(self, x):\n",
        "        x=x.view(x.shape[0],-1)\n",
        "        x = self.fc1(x)\n",
        "        return F.log_softmax(x, dim=1).squeeze()\n",
        "\n",
        "class M5(nn.Module):\n",
        "    def __init__(self, n_input=1, n_output=35, stride=16, n_channel=32):\n",
        "        super().__init__()\n",
        "        self.conv1 = nn.Conv1d(n_input, n_channel, kernel_size=80, stride=stride)\n",
        "        self.bn1 = nn.BatchNorm1d(n_channel)\n",
        "        self.pool1 = nn.MaxPool1d(4)\n",
        "        self.conv2 = nn.Conv1d(n_channel, n_channel, kernel_size=3)\n",
        "        self.bn2 = nn.BatchNorm1d(n_channel)\n",
        "        self.pool2 = nn.MaxPool1d(4)\n",
        "        self.conv3 = nn.Conv1d(n_channel, 2 * n_channel, kernel_size=3)\n",
        "        self.bn3 = nn.BatchNorm1d(2 * n_channel)\n",
        "        self.pool3 = nn.MaxPool1d(4)\n",
        "        self.conv4 = nn.Conv1d(2 * n_channel, 2 * n_channel, kernel_size=3)\n",
        "        self.bn4 = nn.BatchNorm1d(2 * n_channel)\n",
        "        self.pool4 = nn.MaxPool1d(4)\n",
        "        self.fc1 = nn.Linear(2 * n_channel, n_output)\n",
        "\n",
        "    def forward(self, x):\n",
        "        x = self.conv1(x)\n",
        "        x = F.relu(self.bn1(x))\n",
        "        x = self.pool1(x)\n",
        "        x = self.conv2(x)\n",
        "        x = F.relu(self.bn2(x))\n",
        "        x = self.pool2(x)\n",
        "        x = self.conv3(x)\n",
        "        x = F.relu(self.bn3(x))\n",
        "        x = self.pool3(x)\n",
        "        x = self.conv4(x)\n",
        "        x = F.relu(self.bn4(x))\n",
        "        x = self.pool4(x)\n",
        "        x = F.avg_pool1d(x, x.shape[-1])\n",
        "        x = x.permute(0, 2, 1)\n",
        "        x = self.fc1(x)\n",
        "        return F.log_softmax(x, dim=2).squeeze()\n",
        "\n",
        "\n",
        "class LogScattering:\n",
        "    def __init__(self,J,T,Q, sample_rate=16000,device='cuda'):\n",
        "        self.transform= torchaudio.transforms.Resample(orig_freq=sample_rate, new_freq=T).to(device)\n",
        "        self.scattering = Scattering1D(J, T, Q).to(device)\n",
        "        self.eps=1e-6\n",
        "    def __call__(self,x):\n",
        "        x /= torch.max(torch.abs(x))\n",
        "        x=self.transform(x.squeeze())\n",
        "        x=self.scattering(x.contiguous())\n",
        "        return torch.log(torch.abs(x[:,1:,:])+self.eps).mean(-1)\n",
        "\n",
        "        \n",
        "class Wavelet:\n",
        "    def __init__(self, J, T, Q,image_size = 64,sample_rate=16000,device='cuda'):\n",
        "        '''\n",
        "        This class does a sequence of transformations.\n",
        "        1- waveform are reshaped from smaple_rate to T\n",
        "        2-wavelet scattering transform is then applied to the reshaped signals\n",
        "        3-the transformed samples are reshaped to a (image_size,image_size)\n",
        "        4-Finally, batch normalization is applied to the reshaped images\n",
        "        '''\n",
        "        self.scattering = Scattering1D(J, T, Q).to(device)\n",
        "        self.resize = torchvision.transforms.Resize((image_size,image_size)).to(device)\n",
        "        self.transform= torchaudio.transforms.Resample(orig_freq=sample_rate, new_freq=T).to(device)\n",
        "        self.bn = nn.BatchNorm2d(1).to(device)\n",
        "\n",
        "    def __call__(self, x):\n",
        "        x=self.transform(x) #step 1\n",
        "        #x=x/ torch.max(torch.abs(x))\n",
        "        x=self.scattering(x.contiguous()) #step 2\n",
        "        x=self.resize(x) #step 3\n",
        "        x=self.bn(x) #step 4\n",
        "        return x\n",
        "     \n",
        "\n",
        "class Flatten(nn.Module):\n",
        "    def forward(self, input):\n",
        "        batch_size = input.size(0)\n",
        "        out = input.view(batch_size,-1)\n",
        "        return out # (batch_size, *size)\n",
        "\n",
        "#General convolutional neural network for squared images with size=(img_shape,img_shape)\n",
        "#The list hidden_sizes fix the numbers of convolutional layers (len(hidden_sizes))\n",
        "#And the kernel for the ith layer (hidden_sizes[i])\n",
        "#The activation functions can be choosen between relu, elu and tanh\n",
        "#Dropout=True ad a dropout to each convolutional layers with porbability p\n",
        "class WaveletCNN(nn.Module):\n",
        "    def __init__(self, img_shape, hidden_sizes=[16],dropout=True,p=0.05,act='relu',input_channel=1,n_classes=35):\n",
        "        super(WaveletCNN, self).__init__()\n",
        "\n",
        "        net=[]\n",
        "        hidden_sizes=[input_channel]+hidden_sizes\n",
        "        for i in range(len(hidden_sizes)-1):\n",
        "          net.append(nn.Conv2d(hidden_sizes[i], hidden_sizes[i+1], kernel_size=3, padding=1))\n",
        "          net.append(nn.BatchNorm2d(hidden_sizes[i+1]))\n",
        "          if act=='relu':\n",
        "            net.append(nn.ReLU())\n",
        "          elif act=='elu':\n",
        "            net.append(nn.SiLU())\n",
        "          else:\n",
        "            net.append(nn.Tanh())\n",
        "          if dropout:\n",
        "            net.append(nn.Dropout(p=p))\n",
        "          net.append(nn.MaxPool2d(kernel_size=2, stride=2))\n",
        "\n",
        "        net.append(Flatten())\n",
        "        net.append(nn.Linear(int(hidden_sizes[-1] * (img_shape/(2**(len(hidden_sizes)-1)))**2), n_classes))\n",
        "        self.net=nn.ModuleList(net)\n",
        "\n",
        "        \n",
        "    def forward(self, x):\n",
        "        for l in self.net:\n",
        "          x=l(x)\n",
        "        return x\n",
        "     \n"
      ],
      "metadata": {
        "id": "33dPDzYJIsF8"
      },
      "execution_count": null,
      "outputs": []
    },
    {
      "cell_type": "code",
      "execution_count": null,
      "metadata": {
        "id": "h0Z6FsgtS5Mm",
        "colab": {
          "base_uri": "https://localhost:8080/"
        },
        "outputId": "550571e2-f2cb-40f5-e81f-6848efe77356"
      },
      "outputs": [
        {
          "output_type": "stream",
          "name": "stdout",
          "text": [
            "removed timeseries: 4\n",
            "[150, 341, 440, 980]\n",
            "removed timeseries: 31\n",
            "[24, 48, 64, 77, 85, 154, 171, 197, 212, 224, 237, 253, 277, 298, 336, 351, 402, 417, 446, 452, 454, 523, 528, 529, 544, 549, 570, 591, 594, 631, 801]\n",
            "removed timeseries: 24\n",
            "[50, 92, 93, 106, 125, 130, 149, 178, 207, 218, 354, 387, 440, 455, 550, 554, 593, 633, 659, 674, 707, 708, 741, 743]\n",
            "removed timeseries: 12\n",
            "[58, 213, 338, 356, 506, 526, 581, 584, 648, 678, 732, 761]\n",
            "removed timeseries: 21\n",
            "[43, 49, 97, 130, 190, 211, 265, 331, 346, 387, 418, 431, 497, 527, 570, 586, 588, 590, 605, 686, 690]\n",
            "removed timeseries: 17\n",
            "[31, 60, 71, 93, 107, 190, 225, 314, 387, 428, 507, 542, 577, 629, 682, 727, 738]\n",
            "removed timeseries: 27\n",
            "[33, 44, 55, 72, 110, 117, 137, 158, 182, 190, 284, 358, 381, 440, 488, 493, 508, 516, 532, 608, 634, 661, 685, 689, 694, 736, 751]\n"
          ]
        }
      ],
      "source": [
        "df_LIGO=build_dataset()"
      ]
    },
    {
      "cell_type": "code",
      "source": [
        "df_LIGO['Type_Of_Glitch'].value_counts()"
      ],
      "metadata": {
        "colab": {
          "base_uri": "https://localhost:8080/"
        },
        "id": "UCk4ihzs9AJe",
        "outputId": "00acfef8-1412-4c5e-b59e-6c5c5b0c91e9"
      },
      "execution_count": null,
      "outputs": [
        {
          "output_type": "execute_result",
          "data": {
            "text/plain": [
              "Blip                   1707\n",
              "Koi_Fish                598\n",
              "Low_Frequency_Burst     557\n",
              "Power_Line              432\n",
              "Low_Frequency_Lines     416\n",
              "Scattered_Light         415\n",
              "Extremely_Loud          287\n",
              "Scratchy                247\n",
              "Light_Modulation        221\n",
              "Whistle                 144\n",
              "1080Lines               140\n",
              "No_Glitch               137\n",
              "Tomte                   100\n",
              "Repeating_Blips          79\n",
              "1400Ripples              75\n",
              "Chirp                    53\n",
              "Air_Compressor           51\n",
              "None_of_the_Above        40\n",
              "Paired_Doves             15\n",
              "Wandering_Line            6\n",
              "Violin_Mode               2\n",
              "Name: Type_Of_Glitch, dtype: int64"
            ]
          },
          "metadata": {},
          "execution_count": 8
        }
      ]
    },
    {
      "cell_type": "code",
      "source": [
        "rem=True\n",
        "if rem:\n",
        "  df_LIGO=remove_row_by_freq(df_LIGO,freq=400)"
      ],
      "metadata": {
        "id": "gMzOgct04wdZ"
      },
      "execution_count": null,
      "outputs": []
    },
    {
      "cell_type": "code",
      "source": [
        "df_LIGO['Type_Of_Glitch'].value_counts()"
      ],
      "metadata": {
        "colab": {
          "base_uri": "https://localhost:8080/"
        },
        "id": "qu1c04_79GdZ",
        "outputId": "602d8817-2dca-41d4-b443-e0ef83a09132"
      },
      "execution_count": null,
      "outputs": [
        {
          "output_type": "execute_result",
          "data": {
            "text/plain": [
              "Blip                   1707\n",
              "Koi_Fish                598\n",
              "Low_Frequency_Burst     557\n",
              "Power_Line              432\n",
              "Low_Frequency_Lines     416\n",
              "Scattered_Light         415\n",
              "Name: Type_Of_Glitch, dtype: int64"
            ]
          },
          "metadata": {},
          "execution_count": 10
        }
      ]
    },
    {
      "cell_type": "code",
      "execution_count": null,
      "metadata": {
        "colab": {
          "base_uri": "https://localhost:8080/"
        },
        "id": "RX8XLdvnH-iG",
        "outputId": "3ee9b266-e705-4d91-9622-e28c0a18e3d3"
      },
      "outputs": [
        {
          "output_type": "execute_result",
          "data": {
            "text/plain": [
              "['Blip',\n",
              " 'Koi_Fish',\n",
              " 'Low_Frequency_Burst',\n",
              " 'Low_Frequency_Lines',\n",
              " 'Power_Line',\n",
              " 'Scattered_Light']"
            ]
          },
          "metadata": {},
          "execution_count": 11
        }
      ],
      "source": [
        "labels=get_labels(df_LIGO)\n",
        "labels"
      ]
    },
    {
      "cell_type": "code",
      "source": [
        "train_set, val_set, test_set = split_stratified_into_train_val_test(df_LIGO)"
      ],
      "metadata": {
        "id": "kcTHhk7Y180K"
      },
      "execution_count": null,
      "outputs": []
    },
    {
      "cell_type": "code",
      "source": [
        "train_set=pytorch_glitch(train_set)\n",
        "val_set=pytorch_glitch(val_set)\n",
        "#test_set=pytorch_glitch(test_set)"
      ],
      "metadata": {
        "id": "9cFbo0zjBK-K"
      },
      "execution_count": null,
      "outputs": []
    },
    {
      "cell_type": "code",
      "execution_count": null,
      "metadata": {
        "colab": {
          "base_uri": "https://localhost:8080/"
        },
        "id": "aD_aq_W3SlH5",
        "outputId": "74522702-4cbd-4037-9658-ca2b6222ce26"
      },
      "outputs": [
        {
          "output_type": "execute_result",
          "data": {
            "text/plain": [
              "3093"
            ]
          },
          "metadata": {},
          "execution_count": 14
        }
      ],
      "source": [
        "len(train_set)"
      ]
    },
    {
      "cell_type": "code",
      "execution_count": null,
      "metadata": {
        "colab": {
          "base_uri": "https://localhost:8080/"
        },
        "id": "HLZ8geGDSqd7",
        "outputId": "a3ef2742-15f5-4007-8922-8d9de9ac60d4"
      },
      "outputs": [
        {
          "output_type": "execute_result",
          "data": {
            "text/plain": [
              "619"
            ]
          },
          "metadata": {},
          "execution_count": 15
        }
      ],
      "source": [
        "len(val_set)"
      ]
    },
    {
      "cell_type": "code",
      "source": [
        "len(test_set)"
      ],
      "metadata": {
        "colab": {
          "base_uri": "https://localhost:8080/"
        },
        "id": "uQaGTp2tH2Uc",
        "outputId": "56f2dc1d-daad-40f5-9b44-3a1ba399c0f6"
      },
      "execution_count": null,
      "outputs": [
        {
          "output_type": "execute_result",
          "data": {
            "text/plain": [
              "413"
            ]
          },
          "metadata": {},
          "execution_count": 16
        }
      ]
    },
    {
      "cell_type": "code",
      "execution_count": null,
      "metadata": {
        "id": "da8wlIHDr7R1"
      },
      "outputs": [],
      "source": [
        "sample_rate=34864"
      ]
    },
    {
      "cell_type": "code",
      "execution_count": null,
      "metadata": {
        "id": "rX2RvYN4M3Td"
      },
      "outputs": [],
      "source": [
        "batch_size = 32\n",
        "\n",
        "if device == \"cuda\":\n",
        "    num_workers = 1\n",
        "    pin_memory = True\n",
        "else:\n",
        "    num_workers = 0\n",
        "    pin_memory = False\n",
        "\n",
        "train_loader = torch.utils.data.DataLoader(\n",
        "    train_set,\n",
        "    batch_size=batch_size,\n",
        "    shuffle=True,\n",
        "    num_workers=num_workers,\n",
        "    #collate_fn=collate_fn,\n",
        "    pin_memory=pin_memory,\n",
        ")\n",
        "test_loader = torch.utils.data.DataLoader(\n",
        "    val_set,\n",
        "    batch_size=batch_size,\n",
        "    shuffle=False,\n",
        "    drop_last=False,\n",
        "    num_workers=num_workers,\n",
        "    #collate_fn=collate_fn,\n",
        "    pin_memory=pin_memory,\n",
        ")"
      ]
    },
    {
      "cell_type": "markdown",
      "source": [
        "#Raw Data"
      ],
      "metadata": {
        "id": "MdanXnwdJOXZ"
      }
    },
    {
      "cell_type": "code",
      "execution_count": null,
      "metadata": {
        "id": "fAKYi6eQszp5"
      },
      "outputs": [],
      "source": [
        "T=sample_rate"
      ]
    },
    {
      "cell_type": "code",
      "execution_count": null,
      "metadata": {
        "id": "LWTL8m7ds9nD"
      },
      "outputs": [],
      "source": [
        "transform = torchaudio.transforms.Resample(orig_freq=sample_rate, new_freq=T).to(device)"
      ]
    },
    {
      "cell_type": "code",
      "execution_count": null,
      "metadata": {
        "colab": {
          "base_uri": "https://localhost:8080/"
        },
        "id": "-_0pe3G3xIm5",
        "outputId": "d08c9cb8-1bba-47ca-c974-ef0468834130"
      },
      "outputs": [
        {
          "data": {
            "text/plain": [
              "21"
            ]
          },
          "execution_count": 92,
          "metadata": {},
          "output_type": "execute_result"
        }
      ],
      "source": [
        "len(labels)"
      ]
    },
    {
      "cell_type": "code",
      "execution_count": null,
      "metadata": {
        "id": "Ec2qC4E6tBF1"
      },
      "outputs": [],
      "source": [
        "model = LogisticRegression(n_input=T, n_output=len(labels)).to(device)    "
      ]
    },
    {
      "cell_type": "code",
      "execution_count": null,
      "metadata": {
        "id": "G8_Jag0PwAz5"
      },
      "outputs": [],
      "source": [
        "model = M5( n_output=len(labels)).to(device)"
      ]
    },
    {
      "cell_type": "code",
      "execution_count": null,
      "metadata": {
        "id": "aGU0GorxtEn_"
      },
      "outputs": [],
      "source": [
        "criterion = nn.NLLLoss()"
      ]
    },
    {
      "cell_type": "code",
      "execution_count": null,
      "metadata": {
        "id": "BwPgMx4KtHBb"
      },
      "outputs": [],
      "source": [
        "optimizer = optim.SGD(model.parameters(), lr=0.01, weight_decay=0.01)"
      ]
    },
    {
      "cell_type": "code",
      "execution_count": null,
      "metadata": {
        "colab": {
          "base_uri": "https://localhost:8080/"
        },
        "id": "PIoX_RyHtJxF",
        "outputId": "d46938f6-8150-4db2-dd87-bbd3a659ddfc"
      },
      "outputs": [
        {
          "name": "stdout",
          "output_type": "stream",
          "text": [
            "----------------------------------------------------------------\n",
            "        Layer (type)               Output Shape         Param #\n",
            "================================================================\n",
            "            Linear-1                   [-1, 21]         732,165\n",
            "================================================================\n",
            "Total params: 732,165\n",
            "Trainable params: 732,165\n",
            "Non-trainable params: 0\n",
            "----------------------------------------------------------------\n",
            "Input size (MB): 0.13\n",
            "Forward/backward pass size (MB): 0.00\n",
            "Params size (MB): 2.79\n",
            "Estimated Total Size (MB): 2.93\n",
            "----------------------------------------------------------------\n"
          ]
        }
      ],
      "source": [
        "summary(model,(1,T))"
      ]
    },
    {
      "cell_type": "code",
      "execution_count": null,
      "metadata": {
        "id": "J2g5b4_MtMw5"
      },
      "outputs": [],
      "source": [
        "num_epochs=500"
      ]
    },
    {
      "cell_type": "code",
      "execution_count": null,
      "metadata": {
        "id": "kNY5CSgmtPM6"
      },
      "outputs": [],
      "source": [
        "history=training(model,transform,optimizer,criterion,train_loader,test_loader,num_epochs)"
      ]
    },
    {
      "cell_type": "code",
      "execution_count": null,
      "metadata": {
        "id": "Jf0uNzBn-gGO"
      },
      "outputs": [],
      "source": [
        "accuracy_classes(model,transform,train_loader,labels)"
      ]
    },
    {
      "cell_type": "code",
      "execution_count": null,
      "metadata": {
        "id": "yG2-hI7J-fr8"
      },
      "outputs": [],
      "source": [
        "accuracy_classes(model,transform,test_loader,labels)"
      ]
    },
    {
      "cell_type": "markdown",
      "source": [
        "# LOGSCATTERING"
      ],
      "metadata": {
        "id": "zHiFQLLaOUMt"
      }
    },
    {
      "cell_type": "code",
      "execution_count": null,
      "metadata": {
        "id": "-G5DzS0ulmFI"
      },
      "outputs": [],
      "source": [
        "T = sample_rate\n",
        "J = 8\n",
        "Q = 1"
      ]
    },
    {
      "cell_type": "code",
      "execution_count": null,
      "metadata": {
        "colab": {
          "base_uri": "https://localhost:8080/"
        },
        "id": "LiJAivB7lvb8",
        "outputId": "a3659e55-e478-445c-aa24-41880f4050c0"
      },
      "outputs": [
        {
          "data": {
            "text/plain": [
              "torch.Size([256, 42])"
            ]
          },
          "execution_count": 131,
          "metadata": {},
          "output_type": "execute_result"
        }
      ],
      "source": [
        "transform=LogScattering(J,T,Q,sample_rate=sample_rate) #TO do: preprocess the dataset and not the minibatch\n",
        "test=transform(torch.randn(256,1,sample_rate).to(device))\n",
        "test.shape"
      ]
    },
    {
      "cell_type": "code",
      "execution_count": null,
      "metadata": {
        "id": "2Hi55p4JlwQS"
      },
      "outputs": [],
      "source": [
        "net= LogisticRegression(n_input=test.shape[-1], n_output=len(labels)).to(device) "
      ]
    },
    {
      "cell_type": "code",
      "execution_count": null,
      "metadata": {
        "id": "At-rmnhBl9qA"
      },
      "outputs": [],
      "source": [
        "num_epochs = 100"
      ]
    },
    {
      "cell_type": "code",
      "execution_count": null,
      "metadata": {
        "colab": {
          "base_uri": "https://localhost:8080/"
        },
        "id": "R0eo12aumC8j",
        "outputId": "17225c11-7b6c-435f-a640-7d60a8d43abb"
      },
      "outputs": [
        {
          "name": "stdout",
          "output_type": "stream",
          "text": [
            "----------------------------------------------------------------\n",
            "        Layer (type)               Output Shape         Param #\n",
            "================================================================\n",
            "            Linear-1                [-1, 1, 18]             774\n",
            "================================================================\n",
            "Total params: 774\n",
            "Trainable params: 774\n",
            "Non-trainable params: 0\n",
            "----------------------------------------------------------------\n",
            "Input size (MB): 0.00\n",
            "Forward/backward pass size (MB): 0.00\n",
            "Params size (MB): 0.00\n",
            "Estimated Total Size (MB): 0.00\n",
            "----------------------------------------------------------------\n"
          ]
        }
      ],
      "source": [
        "summary(net,(1,test.shape[-1]))"
      ]
    },
    {
      "cell_type": "code",
      "execution_count": null,
      "metadata": {
        "colab": {
          "base_uri": "https://localhost:8080/"
        },
        "id": "kKbggXAmpyl3",
        "outputId": "dfa8fb3a-5a10-4aba-8b2d-6c8a88978be4"
      },
      "outputs": [
        {
          "data": {
            "text/plain": [
              "torch.Size([256, 18])"
            ]
          },
          "execution_count": 135,
          "metadata": {},
          "output_type": "execute_result"
        }
      ],
      "source": [
        "net(test).shape"
      ]
    },
    {
      "cell_type": "code",
      "execution_count": null,
      "metadata": {
        "id": "kizT79dLsxss"
      },
      "outputs": [],
      "source": [
        "criterion = nn.NLLLoss()\n",
        "optimizer = optim.Adam(net.parameters(), lr=0.005, weight_decay=0.0001)"
      ]
    },
    {
      "cell_type": "code",
      "execution_count": null,
      "metadata": {
        "id": "aqNRmfK9mCoZ"
      },
      "outputs": [],
      "source": [
        "history=training(net,transform,optimizer,criterion,train_loader,test_loader,num_epochs)"
      ]
    },
    {
      "cell_type": "markdown",
      "source": [
        "# Wavenet"
      ],
      "metadata": {
        "id": "BedU-nmeQIxZ"
      }
    },
    {
      "cell_type": "code",
      "execution_count": null,
      "metadata": {
        "colab": {
          "base_uri": "https://localhost:8080/"
        },
        "id": "QqTQdt49zCbX",
        "outputId": "c8dd6a70-f1e2-49e9-9f38-b7a8a9948caf"
      },
      "outputs": [
        {
          "output_type": "stream",
          "name": "stdout",
          "text": [
            "----------------------------------------------------------------\n",
            "        Layer (type)               Output Shape         Param #\n",
            "================================================================\n",
            "            Conv2d-1           [-1, 16, 64, 64]             160\n",
            "       BatchNorm2d-2           [-1, 16, 64, 64]              32\n",
            "              ReLU-3           [-1, 16, 64, 64]               0\n",
            "           Dropout-4           [-1, 16, 64, 64]               0\n",
            "         MaxPool2d-5           [-1, 16, 32, 32]               0\n",
            "           Flatten-6                [-1, 16384]               0\n",
            "            Linear-7                    [-1, 6]          98,310\n",
            "================================================================\n",
            "Total params: 98,502\n",
            "Trainable params: 98,502\n",
            "Non-trainable params: 0\n",
            "----------------------------------------------------------------\n",
            "Input size (MB): 0.02\n",
            "Forward/backward pass size (MB): 2.25\n",
            "Params size (MB): 0.38\n",
            "Estimated Total Size (MB): 2.64\n",
            "----------------------------------------------------------------\n"
          ]
        }
      ],
      "source": [
        "net=WaveletCNN(64,hidden_sizes=[16],n_classes=len(labels)).to(device)\n",
        "     \n",
        "T = 8000\n",
        "J = 4\n",
        "Q = 4\n",
        "\n",
        "wvlt=Wavelet(J,T,Q,64,sample_rate=sample_rate,device=device)\n",
        "     \n",
        "summary(net,(1,64,64))"
      ]
    },
    {
      "cell_type": "code",
      "execution_count": null,
      "metadata": {
        "id": "q-CRU39vzB6Z"
      },
      "outputs": [],
      "source": [
        "num_epochs = 100\n",
        "learning_rate = 0.01\n",
        "     \n",
        "\n",
        "criterion = nn.CrossEntropyLoss() #Another option is to use NegativeLog likelihood in combination with log-sofmatx applied to the NNs output\n",
        "optimizer = optim.Adam(net.parameters(), lr=learning_rate,weight_decay=1e-4)"
      ]
    },
    {
      "cell_type": "code",
      "execution_count": null,
      "metadata": {
        "colab": {
          "base_uri": "https://localhost:8080/",
          "height": 1000,
          "referenced_widgets": [
            "c0854d21d5d440a7aa4e46599211da2f",
            "6b1ba240b16e4cef849068eb62393007",
            "32fce05dc57d48c3919fc95bd6f16719",
            "41a9590ec96e444faa41059d7f254875",
            "db68b40f50504bc992783aac5fb6e4fd",
            "d1ac817aa94f43218cbb0e77d2348bd1",
            "4e56562b2a2f422d946234aa3b974e97",
            "f2fb8059fc6e44308ff07a1ae8b00720",
            "255fc9d107a24f30b95e85da3c49bf90",
            "244c27dc289c4ae78f03e3aa2253e5e6",
            "052c95f83fb6470dae48d3486d4cf9b2"
          ]
        },
        "id": "HhpmnFY9zSQ8",
        "outputId": "4737bcce-e20b-4109-9fdf-7477f7ac71e9"
      },
      "outputs": [
        {
          "output_type": "display_data",
          "data": {
            "text/plain": [
              "  0%|          | 0/100 [00:00<?, ?it/s]"
            ],
            "application/vnd.jupyter.widget-view+json": {
              "version_major": 2,
              "version_minor": 0,
              "model_id": "c0854d21d5d440a7aa4e46599211da2f"
            }
          },
          "metadata": {}
        },
        {
          "output_type": "stream",
          "name": "stderr",
          "text": [
            "/usr/local/lib/python3.10/dist-packages/torchvision/transforms/functional.py:1603: UserWarning: The default value of the antialias parameter of all the resizing transforms (Resize(), RandomResizedCrop(), etc.) will change from None to True in v0.17, in order to be consistent across the PIL and Tensor backends. To suppress this warning, directly pass antialias=True (recommended, future default), antialias=None (current default, which means False for Tensors and True for PIL), or antialias=False (only works on Tensors - PIL will still use antialiasing). This also applies if you are using the inference transforms from the models weights: update the call to weights.transforms(antialias=True).\n",
            "  warnings.warn(\n"
          ]
        },
        {
          "output_type": "stream",
          "name": "stdout",
          "text": [
            "Epoch 1 Loss: 10.5693 Acc: 33.3980% Val Acc: 39.5800%\n",
            "Epoch 2 Loss: 2.3134 Acc: 44.0026% Val Acc: 44.2649%\n",
            "Epoch 3 Loss: 1.7231 Acc: 48.5289% Val Acc: 46.2036%\n",
            "Epoch 4 Loss: 1.6107 Acc: 49.6929% Val Acc: 48.3037%\n",
            "Epoch 5 Loss: 1.4930 Acc: 51.1154% Val Acc: 48.7884%\n",
            "Epoch 6 Loss: 1.3366 Acc: 53.5403% Val Acc: 47.3344%\n",
            "Epoch 7 Loss: 1.3408 Acc: 55.0275% Val Acc: 50.5654%\n",
            "Epoch 8 Loss: 1.2988 Acc: 54.0252% Val Acc: 53.7964%\n",
            "Epoch 9 Loss: 1.2374 Acc: 57.6463% Val Acc: 53.4733%\n",
            "Epoch 10 Loss: 1.1978 Acc: 58.1636% Val Acc: 49.7577%\n",
            "Epoch 11 Loss: 1.1894 Acc: 57.4846% Val Acc: 54.4426%\n",
            "Epoch 12 Loss: 1.2043 Acc: 58.5839% Val Acc: 52.8271%\n",
            "Epoch 13 Loss: 1.1477 Acc: 60.6531% Val Acc: 50.5654%\n",
            "Epoch 14 Loss: 1.1341 Acc: 61.2350% Val Acc: 49.9192%\n",
            "Epoch 15 Loss: 1.1063 Acc: 60.7501% Val Acc: 55.4120%\n",
            "Epoch 16 Loss: 1.0477 Acc: 63.1102% Val Acc: 54.4426%\n",
            "Epoch 17 Loss: 1.0055 Acc: 65.1471% Val Acc: 55.5735%\n",
            "Epoch 18 Loss: 1.0396 Acc: 64.3388% Val Acc: 56.7044%\n",
            "Epoch 19 Loss: 1.0152 Acc: 63.5952% Val Acc: 55.2504%\n",
            "Epoch 20 Loss: 1.0223 Acc: 64.0802% Val Acc: 53.4733%\n",
            "Epoch 21 Loss: 1.0357 Acc: 65.1794% Val Acc: 52.5040%\n",
            "Epoch 22 Loss: 0.9331 Acc: 66.5050% Val Acc: 57.9968%\n",
            "Epoch 23 Loss: 0.8854 Acc: 69.6735% Val Acc: 58.4814%\n",
            "Epoch 24 Loss: 0.8397 Acc: 71.3547% Val Acc: 56.5428%\n",
            "Epoch 25 Loss: 0.9501 Acc: 68.0892% Val Acc: 52.6656%\n",
            "Epoch 26 Loss: 0.9025 Acc: 69.5765% Val Acc: 55.7351%\n",
            "Epoch 27 Loss: 0.8473 Acc: 70.2231% Val Acc: 59.6123%\n",
            "Epoch 28 Loss: 0.7621 Acc: 73.5209% Val Acc: 57.8352%\n",
            "Epoch 29 Loss: 0.7778 Acc: 72.3569% Val Acc: 57.1890%\n",
            "Epoch 30 Loss: 0.7515 Acc: 74.1028% Val Acc: 57.0275%\n",
            "Epoch 31 Loss: 0.8034 Acc: 73.1005% Val Acc: 54.9273%\n",
            "Epoch 32 Loss: 0.8243 Acc: 72.3246% Val Acc: 60.4200%\n",
            "Epoch 33 Loss: 0.9634 Acc: 68.9298% Val Acc: 48.7884%\n",
            "Epoch 34 Loss: 0.7674 Acc: 73.8442% Val Acc: 50.5654%\n",
            "Epoch 35 Loss: 0.7546 Acc: 74.8464% Val Acc: 58.4814%\n",
            "Epoch 36 Loss: 0.7901 Acc: 73.4239% Val Acc: 57.1890%\n",
            "Epoch 37 Loss: 0.6805 Acc: 76.0427% Val Acc: 57.5121%\n",
            "Epoch 38 Loss: 0.6238 Acc: 78.8231% Val Acc: 51.6963%\n",
            "Epoch 39 Loss: 0.8090 Acc: 74.3938% Val Acc: 54.2811%\n",
            "Epoch 40 Loss: 0.7776 Acc: 73.3592% Val Acc: 58.4814%\n",
            "Epoch 41 Loss: 0.6705 Acc: 78.0795% Val Acc: 58.8045%\n",
            "Epoch 42 Loss: 0.8048 Acc: 73.1652% Val Acc: 55.8966%\n",
            "Epoch 43 Loss: 0.7502 Acc: 74.4261% Val Acc: 53.7964%\n",
            "Epoch 44 Loss: 0.7285 Acc: 74.4585% Val Acc: 54.7658%\n",
            "Epoch 45 Loss: 0.6147 Acc: 78.3705% Val Acc: 55.8966%\n",
            "Epoch 46 Loss: 0.7413 Acc: 75.3314% Val Acc: 48.6268%\n",
            "Epoch 47 Loss: 0.6422 Acc: 78.3382% Val Acc: 57.0275%\n",
            "Epoch 48 Loss: 0.5750 Acc: 80.1164% Val Acc: 53.9580%\n",
            "Epoch 49 Loss: 0.6030 Acc: 79.4698% Val Acc: 56.7044%\n",
            "Epoch 50 Loss: 0.6268 Acc: 79.3728% Val Acc: 56.2197%\n",
            "Epoch 51 Loss: 0.5913 Acc: 80.8600% Val Acc: 59.4507%\n",
            "Epoch 52 Loss: 0.8188 Acc: 73.8118% Val Acc: 51.8578%\n",
            "Epoch 53 Loss: 0.5962 Acc: 80.2134% Val Acc: 56.7044%\n",
            "Epoch 54 Loss: 0.6469 Acc: 79.5668% Val Acc: 52.8271%\n",
            "Epoch 55 Loss: 0.5765 Acc: 79.8901% Val Acc: 51.8578%\n",
            "Epoch 56 Loss: 0.5855 Acc: 80.6984% Val Acc: 56.5428%\n",
            "Epoch 57 Loss: 0.5498 Acc: 81.0863% Val Acc: 58.8045%\n",
            "Epoch 58 Loss: 0.5010 Acc: 82.9939% Val Acc: 56.5428%\n",
            "Epoch 59 Loss: 0.5456 Acc: 81.6360% Val Acc: 52.0194%\n",
            "Epoch 60 Loss: 0.5988 Acc: 81.0863% Val Acc: 60.4200%\n",
            "Epoch 61 Loss: 0.5214 Acc: 82.4766% Val Acc: 52.3425%\n",
            "Epoch 62 Loss: 0.6520 Acc: 77.8532% Val Acc: 56.3813%\n",
            "Epoch 63 Loss: 0.6456 Acc: 79.8901% Val Acc: 59.6123%\n",
            "Epoch 64 Loss: 0.5979 Acc: 79.9547% Val Acc: 59.4507%\n",
            "Epoch 65 Loss: 0.5044 Acc: 83.1232% Val Acc: 55.2504%\n",
            "Epoch 66 Loss: 0.5194 Acc: 82.4442% Val Acc: 58.3199%\n",
            "Epoch 67 Loss: 0.6377 Acc: 79.5668% Val Acc: 57.5121%\n",
            "Epoch 68 Loss: 0.5558 Acc: 81.9593% Val Acc: 44.1034%\n",
            "Epoch 69 Loss: 0.6055 Acc: 79.9871% Val Acc: 57.3506%\n",
            "Epoch 70 Loss: 0.5307 Acc: 83.2202% Val Acc: 53.6349%\n",
            "Epoch 71 Loss: 0.6624 Acc: 79.7608% Val Acc: 56.0582%\n",
            "Epoch 72 Loss: 0.5926 Acc: 81.4743% Val Acc: 57.0275%\n",
            "Epoch 73 Loss: 0.4941 Acc: 83.5758% Val Acc: 57.6737%\n",
            "Epoch 74 Loss: 0.5601 Acc: 82.4119% Val Acc: 56.0582%\n",
            "Epoch 75 Loss: 0.5259 Acc: 83.0585% Val Acc: 53.1502%\n",
            "Epoch 76 Loss: 0.5135 Acc: 82.9292% Val Acc: 54.6042%\n",
            "Epoch 77 Loss: 0.4761 Acc: 85.2570% Val Acc: 59.2892%\n",
            "Epoch 78 Loss: 0.4568 Acc: 83.8668% Val Acc: 58.8045%\n",
            "Epoch 79 Loss: 0.5430 Acc: 82.7352% Val Acc: 59.9354%\n",
            "Epoch 80 Loss: 0.5114 Acc: 83.2848% Val Acc: 55.5735%\n",
            "Epoch 81 Loss: 0.6245 Acc: 79.5991% Val Acc: 54.9273%\n",
            "Epoch 82 Loss: 0.5109 Acc: 82.9939% Val Acc: 55.5735%\n",
            "Epoch 83 Loss: 0.5293 Acc: 82.0239% Val Acc: 53.6349%\n",
            "Epoch 84 Loss: 0.5450 Acc: 81.9269% Val Acc: 56.8659%\n",
            "Epoch 85 Loss: 0.5222 Acc: 83.5112% Val Acc: 55.7351%\n",
            "Epoch 86 Loss: 0.4268 Acc: 85.3540% Val Acc: 52.0194%\n",
            "Epoch 87 Loss: 0.5287 Acc: 81.9269% Val Acc: 59.2892%\n",
            "Epoch 88 Loss: 0.4265 Acc: 84.6427% Val Acc: 59.6123%\n",
            "Epoch 89 Loss: 0.5815 Acc: 81.7329% Val Acc: 59.2892%\n",
            "Epoch 90 Loss: 0.4591 Acc: 85.4833% Val Acc: 56.2197%\n",
            "Epoch 91 Loss: 0.6307 Acc: 81.1510% Val Acc: 55.7351%\n",
            "Epoch 92 Loss: 0.5699 Acc: 82.1209% Val Acc: 56.8659%\n",
            "Epoch 93 Loss: 0.4661 Acc: 84.6751% Val Acc: 57.6737%\n",
            "Epoch 94 Loss: 0.5056 Acc: 83.4465% Val Acc: 57.6737%\n",
            "Epoch 95 Loss: 0.4249 Acc: 86.5503% Val Acc: 55.7351%\n",
            "Epoch 96 Loss: 0.4012 Acc: 86.2593% Val Acc: 58.4814%\n",
            "Epoch 97 Loss: 0.4648 Acc: 84.5781% Val Acc: 54.6042%\n",
            "Epoch 98 Loss: 0.5634 Acc: 82.5736% Val Acc: 51.5347%\n",
            "Epoch 99 Loss: 0.5716 Acc: 82.9939% Val Acc: 56.2197%\n",
            "Epoch 100 Loss: 0.6381 Acc: 79.7284% Val Acc: 53.7964%\n"
          ]
        }
      ],
      "source": [
        "history=training(net,wvlt,optimizer,criterion,train_loader,test_loader,num_epochs)"
      ]
    },
    {
      "cell_type": "code",
      "execution_count": null,
      "metadata": {
        "id": "Ci3LTpimzqSr"
      },
      "outputs": [],
      "source": []
    },
    {
      "cell_type": "code",
      "execution_count": null,
      "metadata": {
        "colab": {
          "base_uri": "https://localhost:8080/"
        },
        "id": "NH31QNji1dEv",
        "outputId": "29f904ab-a0a1-4daa-c857-e4404b229016"
      },
      "outputs": [
        {
          "output_type": "stream",
          "name": "stdout",
          "text": [
            "Accuracy for class: Blip  is 90.2 %\n",
            "Accuracy for class: Koi_Fish is 81.0 %\n",
            "Accuracy for class: Low_Frequency_Burst is 83.7 %\n",
            "Accuracy for class: Low_Frequency_Lines is 92.3 %\n",
            "Accuracy for class: Power_Line is 83.0 %\n",
            "Accuracy for class: Scattered_Light is 92.6 %\n"
          ]
        }
      ],
      "source": [
        "accuracy_classes(net,wvlt,train_loader,labels)"
      ]
    },
    {
      "cell_type": "code",
      "execution_count": null,
      "metadata": {
        "colab": {
          "base_uri": "https://localhost:8080/"
        },
        "id": "RDKIU47t1dE6",
        "outputId": "9e1e3685-3797-4d75-8185-438c33e79c5e"
      },
      "outputs": [
        {
          "output_type": "stream",
          "name": "stdout",
          "text": [
            "Accuracy for class: Blip  is 66.0 %\n",
            "Accuracy for class: Koi_Fish is 54.4 %\n",
            "Accuracy for class: Low_Frequency_Burst is 39.8 %\n",
            "Accuracy for class: Low_Frequency_Lines is 35.5 %\n",
            "Accuracy for class: Power_Line is 30.8 %\n",
            "Accuracy for class: Scattered_Light is 63.5 %\n"
          ]
        }
      ],
      "source": [
        "accuracy_classes(net,wvlt,test_loader,labels)"
      ]
    },
    {
      "cell_type": "code",
      "execution_count": null,
      "metadata": {
        "id": "miLDR9p51jSc"
      },
      "outputs": [],
      "source": []
    }
  ],
  "metadata": {
    "accelerator": "GPU",
    "colab": {
      "provenance": [],
      "gpuType": "T4",
      "authorship_tag": "ABX9TyP4KxzpRu/B829H521QWTTR",
      "include_colab_link": true
    },
    "gpuClass": "standard",
    "kernelspec": {
      "display_name": "Python 3",
      "name": "python3"
    },
    "language_info": {
      "name": "python"
    },
    "widgets": {
      "application/vnd.jupyter.widget-state+json": {
        "c0854d21d5d440a7aa4e46599211da2f": {
          "model_module": "@jupyter-widgets/controls",
          "model_name": "HBoxModel",
          "model_module_version": "1.5.0",
          "state": {
            "_dom_classes": [],
            "_model_module": "@jupyter-widgets/controls",
            "_model_module_version": "1.5.0",
            "_model_name": "HBoxModel",
            "_view_count": null,
            "_view_module": "@jupyter-widgets/controls",
            "_view_module_version": "1.5.0",
            "_view_name": "HBoxView",
            "box_style": "",
            "children": [
              "IPY_MODEL_6b1ba240b16e4cef849068eb62393007",
              "IPY_MODEL_32fce05dc57d48c3919fc95bd6f16719",
              "IPY_MODEL_41a9590ec96e444faa41059d7f254875"
            ],
            "layout": "IPY_MODEL_db68b40f50504bc992783aac5fb6e4fd"
          }
        },
        "6b1ba240b16e4cef849068eb62393007": {
          "model_module": "@jupyter-widgets/controls",
          "model_name": "HTMLModel",
          "model_module_version": "1.5.0",
          "state": {
            "_dom_classes": [],
            "_model_module": "@jupyter-widgets/controls",
            "_model_module_version": "1.5.0",
            "_model_name": "HTMLModel",
            "_view_count": null,
            "_view_module": "@jupyter-widgets/controls",
            "_view_module_version": "1.5.0",
            "_view_name": "HTMLView",
            "description": "",
            "description_tooltip": null,
            "layout": "IPY_MODEL_d1ac817aa94f43218cbb0e77d2348bd1",
            "placeholder": "​",
            "style": "IPY_MODEL_4e56562b2a2f422d946234aa3b974e97",
            "value": "100%"
          }
        },
        "32fce05dc57d48c3919fc95bd6f16719": {
          "model_module": "@jupyter-widgets/controls",
          "model_name": "FloatProgressModel",
          "model_module_version": "1.5.0",
          "state": {
            "_dom_classes": [],
            "_model_module": "@jupyter-widgets/controls",
            "_model_module_version": "1.5.0",
            "_model_name": "FloatProgressModel",
            "_view_count": null,
            "_view_module": "@jupyter-widgets/controls",
            "_view_module_version": "1.5.0",
            "_view_name": "ProgressView",
            "bar_style": "success",
            "description": "",
            "description_tooltip": null,
            "layout": "IPY_MODEL_f2fb8059fc6e44308ff07a1ae8b00720",
            "max": 100,
            "min": 0,
            "orientation": "horizontal",
            "style": "IPY_MODEL_255fc9d107a24f30b95e85da3c49bf90",
            "value": 100
          }
        },
        "41a9590ec96e444faa41059d7f254875": {
          "model_module": "@jupyter-widgets/controls",
          "model_name": "HTMLModel",
          "model_module_version": "1.5.0",
          "state": {
            "_dom_classes": [],
            "_model_module": "@jupyter-widgets/controls",
            "_model_module_version": "1.5.0",
            "_model_name": "HTMLModel",
            "_view_count": null,
            "_view_module": "@jupyter-widgets/controls",
            "_view_module_version": "1.5.0",
            "_view_name": "HTMLView",
            "description": "",
            "description_tooltip": null,
            "layout": "IPY_MODEL_244c27dc289c4ae78f03e3aa2253e5e6",
            "placeholder": "​",
            "style": "IPY_MODEL_052c95f83fb6470dae48d3486d4cf9b2",
            "value": " 100/100 [03:50&lt;00:00,  2.30s/it]"
          }
        },
        "db68b40f50504bc992783aac5fb6e4fd": {
          "model_module": "@jupyter-widgets/base",
          "model_name": "LayoutModel",
          "model_module_version": "1.2.0",
          "state": {
            "_model_module": "@jupyter-widgets/base",
            "_model_module_version": "1.2.0",
            "_model_name": "LayoutModel",
            "_view_count": null,
            "_view_module": "@jupyter-widgets/base",
            "_view_module_version": "1.2.0",
            "_view_name": "LayoutView",
            "align_content": null,
            "align_items": null,
            "align_self": null,
            "border": null,
            "bottom": null,
            "display": null,
            "flex": null,
            "flex_flow": null,
            "grid_area": null,
            "grid_auto_columns": null,
            "grid_auto_flow": null,
            "grid_auto_rows": null,
            "grid_column": null,
            "grid_gap": null,
            "grid_row": null,
            "grid_template_areas": null,
            "grid_template_columns": null,
            "grid_template_rows": null,
            "height": null,
            "justify_content": null,
            "justify_items": null,
            "left": null,
            "margin": null,
            "max_height": null,
            "max_width": null,
            "min_height": null,
            "min_width": null,
            "object_fit": null,
            "object_position": null,
            "order": null,
            "overflow": null,
            "overflow_x": null,
            "overflow_y": null,
            "padding": null,
            "right": null,
            "top": null,
            "visibility": null,
            "width": null
          }
        },
        "d1ac817aa94f43218cbb0e77d2348bd1": {
          "model_module": "@jupyter-widgets/base",
          "model_name": "LayoutModel",
          "model_module_version": "1.2.0",
          "state": {
            "_model_module": "@jupyter-widgets/base",
            "_model_module_version": "1.2.0",
            "_model_name": "LayoutModel",
            "_view_count": null,
            "_view_module": "@jupyter-widgets/base",
            "_view_module_version": "1.2.0",
            "_view_name": "LayoutView",
            "align_content": null,
            "align_items": null,
            "align_self": null,
            "border": null,
            "bottom": null,
            "display": null,
            "flex": null,
            "flex_flow": null,
            "grid_area": null,
            "grid_auto_columns": null,
            "grid_auto_flow": null,
            "grid_auto_rows": null,
            "grid_column": null,
            "grid_gap": null,
            "grid_row": null,
            "grid_template_areas": null,
            "grid_template_columns": null,
            "grid_template_rows": null,
            "height": null,
            "justify_content": null,
            "justify_items": null,
            "left": null,
            "margin": null,
            "max_height": null,
            "max_width": null,
            "min_height": null,
            "min_width": null,
            "object_fit": null,
            "object_position": null,
            "order": null,
            "overflow": null,
            "overflow_x": null,
            "overflow_y": null,
            "padding": null,
            "right": null,
            "top": null,
            "visibility": null,
            "width": null
          }
        },
        "4e56562b2a2f422d946234aa3b974e97": {
          "model_module": "@jupyter-widgets/controls",
          "model_name": "DescriptionStyleModel",
          "model_module_version": "1.5.0",
          "state": {
            "_model_module": "@jupyter-widgets/controls",
            "_model_module_version": "1.5.0",
            "_model_name": "DescriptionStyleModel",
            "_view_count": null,
            "_view_module": "@jupyter-widgets/base",
            "_view_module_version": "1.2.0",
            "_view_name": "StyleView",
            "description_width": ""
          }
        },
        "f2fb8059fc6e44308ff07a1ae8b00720": {
          "model_module": "@jupyter-widgets/base",
          "model_name": "LayoutModel",
          "model_module_version": "1.2.0",
          "state": {
            "_model_module": "@jupyter-widgets/base",
            "_model_module_version": "1.2.0",
            "_model_name": "LayoutModel",
            "_view_count": null,
            "_view_module": "@jupyter-widgets/base",
            "_view_module_version": "1.2.0",
            "_view_name": "LayoutView",
            "align_content": null,
            "align_items": null,
            "align_self": null,
            "border": null,
            "bottom": null,
            "display": null,
            "flex": null,
            "flex_flow": null,
            "grid_area": null,
            "grid_auto_columns": null,
            "grid_auto_flow": null,
            "grid_auto_rows": null,
            "grid_column": null,
            "grid_gap": null,
            "grid_row": null,
            "grid_template_areas": null,
            "grid_template_columns": null,
            "grid_template_rows": null,
            "height": null,
            "justify_content": null,
            "justify_items": null,
            "left": null,
            "margin": null,
            "max_height": null,
            "max_width": null,
            "min_height": null,
            "min_width": null,
            "object_fit": null,
            "object_position": null,
            "order": null,
            "overflow": null,
            "overflow_x": null,
            "overflow_y": null,
            "padding": null,
            "right": null,
            "top": null,
            "visibility": null,
            "width": null
          }
        },
        "255fc9d107a24f30b95e85da3c49bf90": {
          "model_module": "@jupyter-widgets/controls",
          "model_name": "ProgressStyleModel",
          "model_module_version": "1.5.0",
          "state": {
            "_model_module": "@jupyter-widgets/controls",
            "_model_module_version": "1.5.0",
            "_model_name": "ProgressStyleModel",
            "_view_count": null,
            "_view_module": "@jupyter-widgets/base",
            "_view_module_version": "1.2.0",
            "_view_name": "StyleView",
            "bar_color": null,
            "description_width": ""
          }
        },
        "244c27dc289c4ae78f03e3aa2253e5e6": {
          "model_module": "@jupyter-widgets/base",
          "model_name": "LayoutModel",
          "model_module_version": "1.2.0",
          "state": {
            "_model_module": "@jupyter-widgets/base",
            "_model_module_version": "1.2.0",
            "_model_name": "LayoutModel",
            "_view_count": null,
            "_view_module": "@jupyter-widgets/base",
            "_view_module_version": "1.2.0",
            "_view_name": "LayoutView",
            "align_content": null,
            "align_items": null,
            "align_self": null,
            "border": null,
            "bottom": null,
            "display": null,
            "flex": null,
            "flex_flow": null,
            "grid_area": null,
            "grid_auto_columns": null,
            "grid_auto_flow": null,
            "grid_auto_rows": null,
            "grid_column": null,
            "grid_gap": null,
            "grid_row": null,
            "grid_template_areas": null,
            "grid_template_columns": null,
            "grid_template_rows": null,
            "height": null,
            "justify_content": null,
            "justify_items": null,
            "left": null,
            "margin": null,
            "max_height": null,
            "max_width": null,
            "min_height": null,
            "min_width": null,
            "object_fit": null,
            "object_position": null,
            "order": null,
            "overflow": null,
            "overflow_x": null,
            "overflow_y": null,
            "padding": null,
            "right": null,
            "top": null,
            "visibility": null,
            "width": null
          }
        },
        "052c95f83fb6470dae48d3486d4cf9b2": {
          "model_module": "@jupyter-widgets/controls",
          "model_name": "DescriptionStyleModel",
          "model_module_version": "1.5.0",
          "state": {
            "_model_module": "@jupyter-widgets/controls",
            "_model_module_version": "1.5.0",
            "_model_name": "DescriptionStyleModel",
            "_view_count": null,
            "_view_module": "@jupyter-widgets/base",
            "_view_module_version": "1.2.0",
            "_view_name": "StyleView",
            "description_width": ""
          }
        }
      }
    }
  },
  "nbformat": 4,
  "nbformat_minor": 0
}