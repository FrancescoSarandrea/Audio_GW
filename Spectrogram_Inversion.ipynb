{
 "cells": [
  {
   "cell_type": "code",
   "execution_count": null,
   "id": "7942364c-9c1a-41a1-afdf-11256d5122c1",
   "metadata": {},
   "outputs": [],
   "source": [
    "!pip install torchinfo"
   ]
  },
  {
   "cell_type": "code",
   "execution_count": 1,
   "id": "8a25abe3-e6ff-4b11-9c98-235121abbca1",
   "metadata": {},
   "outputs": [],
   "source": [
    "from torch.utils.data import DataLoader\n",
    "from torch.autograd import Variable\n",
    "import pandas as pd\n",
    "\n",
    "import torch.nn as nn\n",
    "import torch.nn.functional as F\n",
    "import torch\n",
    "import numpy as np\n",
    "import zipfile\n",
    "\n",
    "import math\n",
    "\n",
    "from tqdm.notebook import tqdm\n",
    "from sklearn.model_selection import train_test_split\n",
    "import matplotlib.pyplot as plt\n",
    "from os import listdir\n",
    "import h5py as h5\n",
    "import os\n",
    "import time\n",
    "import multiprocessing\n",
    "from tqdm import tqdm\n",
    "import time\n",
    "from PIL import Image\n",
    "from matplotlib import gridspec\n",
    "\n",
    "from torch import optim\n",
    "from scipy.stats import pearsonr\n",
    "import librosa"
   ]
  },
  {
   "cell_type": "code",
   "execution_count": 2,
   "id": "b086ecaf-e191-415e-8f7e-6c4960cfdb8b",
   "metadata": {},
   "outputs": [],
   "source": [
    "#from torch_smoothing_spline_interpolation import smoothing_spline_interpolate\n",
    "#from torch_smoothing_spline_interpolation import *\n",
    "from torch_spline_interpolation_beta import SplineInterpolate1D, SplineInterpolate2D\n",
    "from qtransform_beta import SingleQTransform\n",
    "from qtransform_beta import QScan\n",
    "#from ml4gw_qtransform import QScan, SingleQTransform"
   ]
  },
  {
   "cell_type": "code",
   "execution_count": 3,
   "id": "e35e73d7-991b-45cc-a465-a6a3efac52c2",
   "metadata": {},
   "outputs": [],
   "source": [
    "try:\n",
    "    import gwpy\n",
    "    from gwpy.timeseries import TimeSeries\n",
    "except ModuleNotFoundError:\n",
    "    !pip install --quiet gwpy\n",
    "    import gwpy\n",
    "    from gwpy.timeseries import TimeSeries\n",
    "    \n",
    "from gwpy.signal import filter_design"
   ]
  },
  {
   "cell_type": "code",
   "execution_count": 4,
   "id": "5411c7ed-08c6-49e6-8037-34d92239905b",
   "metadata": {},
   "outputs": [
    {
     "name": "stdout",
     "output_type": "stream",
     "text": [
      "Tesla T4\n"
     ]
    }
   ],
   "source": [
    "torch.cuda.empty_cache()\n",
    "if torch.cuda.is_available():\n",
    "    device = 'cuda'\n",
    "    print(torch.cuda.get_device_name(torch.cuda.current_device()))\n",
    "else:\n",
    "    device = 'cpu'"
   ]
  },
  {
   "cell_type": "code",
   "execution_count": 5,
   "id": "a5b6e31d-d25a-40b1-9a0c-ee0c3cc4ee3a",
   "metadata": {},
   "outputs": [],
   "source": [
    "def generate_dataset_timeseries(rows, columns, duration=10, sample_rate=500, num_waves_range=(10, 15), noise_amplitude=0.1):\n",
    "    \"\"\"\n",
    "    Generate a Pandas DataFrame with randomly generated smooth sine wave time series with added smooth random noise.\n",
    "    \n",
    "    Parameters:\n",
    "        - rows (int): Number of rows in the DataFrame.\n",
    "        - columns (int): Number of columns in the DataFrame.\n",
    "        - duration (float): Duration of the time series data in seconds (default is 6 seconds).\n",
    "        - sample_rate (int): Sampling rate of the time series data in samples per second (default is 500 samples per second).\n",
    "        - num_waves_range (tuple): Range for the random number of sine waves to be generated for each time series.\n",
    "                                   Format: (min_num_waves, max_num_waves) (default is (10, 15)).\n",
    "        - noise_amplitude (float): Amplitude of the smooth random noise added to the time series data (default is 0.1).\n",
    "    \n",
    "    Returns:\n",
    "        - DataFrame: Pandas DataFrame containing the generated time series data.\n",
    "    \"\"\"\n",
    "  \n",
    "   \n",
    "    \n",
    "    # Initialize an empty list to store individual DataFrames for each row\n",
    "    dfs = []\n",
    "    columns_list= [f'Channel_{i+1}' for i in range(columns)]\n",
    "    \n",
    "    # Generate time array\n",
    "    times = np.linspace(0, duration, duration * sample_rate)\n",
    "    \n",
    "    mu = duration /2\n",
    "    sigma = duration /4\n",
    "    \n",
    "    frequency0 = 20\n",
    "    \n",
    "    #*\n",
    "    \n",
    "    for index in range(rows):\n",
    "        df_dict={}\n",
    "        for col in range(columns):\n",
    "            # Initialize an array to store the generated wave data for this row\n",
    "            wave_data = np.zeros(len(times))\n",
    "            # Determine the number of sine waves to generate for this column randomly\n",
    "            num_waves = np.random.randint(*num_waves_range)\n",
    "            \n",
    "            # Generate each sine wave\n",
    "            for _ in range(num_waves):\n",
    "                           \n",
    "      \n",
    "    \n",
    "                #sigma = duration /np.random.uniform(1, 10)  # Standard deviation for the Gaussian\n",
    "                  # Standard deviation for the Gaussian\n",
    "\n",
    "                #mu = duration /np.random.uniform(0.1, 5)     # Mean (center) of the Gaussian\n",
    "                     # Mean (center) of the Gaussian\n",
    "\n",
    "                # Gaussian envelope\n",
    "                #envelope = np.exp(-0.5 * ((times - mu) / sigma) ** 2)\n",
    "                #frequency0 = np.random.uniform(1, 5)\n",
    "                envelope=np.sin(2 * np.pi * frequency0 * times)*np.exp(-0.5 * ((times - mu) / sigma) ** 2)\n",
    "                \n",
    "                \n",
    "                # Randomly generate parameters for the sine wave (amplitude, frequency, phase)\n",
    "                amplitude = np.random.uniform(0.5, 2.0)\n",
    "                #frequency = np.random.uniform(90, 130)\n",
    "                frequency = np.random.uniform(10, 30)\n",
    "                #frequency=0.2\n",
    "                #frequency0 = np.random.uniform(0.1, 2)\n",
    "                #frequency=frequency0*times**1.5\n",
    "                phase = np.random.uniform(0, 2*np.pi)\n",
    "                \n",
    "                # Generate the sine wave and add it to the wave_data\n",
    "                wave_data += envelope* np.sin(2 * np.pi * frequency * times + phase)\n",
    "                #wave_data += amplitude * np.sin(2 * np.pi * frequency * times + phase)\n",
    "\n",
    "                \n",
    "            \n",
    "            # Add smooth random noise to the wave data\n",
    "            smooth_noise = np.random.normal(0, noise_amplitude, len(times))\n",
    "            wave_data += smooth_noise\n",
    "            wave_data=wave_data/max(abs(wave_data))\n",
    "        \n",
    "            # Create a TimeSeries object from the wave data\n",
    "            ts = TimeSeries(wave_data, t0=0, dt=1/sample_rate)\n",
    "            df_dict[f'Channel_{col+1}']=[ts]\n",
    "            \n",
    "        #Create a DataFrame with the TimeSeries\n",
    "        df_row = pd.DataFrame(df_dict)\n",
    "        \n",
    "        # Append the DataFrame to the list\n",
    "        dfs.append(df_row)\n",
    "    \n",
    "    # Concatenate the list of DataFrames into a single DataFrame along rows axis\n",
    "    df = pd.concat(dfs, ignore_index=True, axis=0)\n",
    "    \n",
    "    return df"
   ]
  },
  {
   "cell_type": "markdown",
   "id": "e676f27b-d4ee-45dc-a023-84c4beb382f5",
   "metadata": {},
   "source": [
    "Function to construct the dataframe with real data"
   ]
  },
  {
   "cell_type": "code",
   "execution_count": 6,
   "id": "c0e20d48-67dd-4c51-9cf0-e7eb72b1b266",
   "metadata": {},
   "outputs": [],
   "source": [
    "def construct_dataframe(path,channel_list=None ,target_channel='V1:Hrec_hoft_16384Hz',n1_events=None, n2_events=None,n1_channels=None,n2_channels=None,print_=True,sr=False,low_freq=4,high_freq=50):\n",
    "    \n",
    "    if not n1_events:\n",
    "        n1_events=0\n",
    "    if not n2_events:\n",
    "        n2_events=len(listdir(path))\n",
    "        \n",
    "    if n2_events>len(listdir(path)):\n",
    "        n2_events=len(listdir(path))\n",
    "    \n",
    "    #print(f'PATH: {path}')    \n",
    "    lstdr=listdir(path)[n1_events:n2_events]\n",
    "    #print(f'LIST DIR: {lstdr}')\n",
    "    sample_file=listdir(path)[0]\n",
    "    \n",
    "    files = [f for f in lstdr]\n",
    "    # print(files)\n",
    "    df_list = []\n",
    "    event_data = []\n",
    "    \n",
    "    \n",
    "    if not channel_list:\n",
    "        n_all_channels=0\n",
    "        all_channels=[]\n",
    "        with h5.File(os.path.join(path, sample_file), 'r') as fout:\n",
    "            event_id = list(fout.keys())[0]\n",
    "            all_channels=list(fout[event_id])\n",
    "            n_all_channels=len(list(fout[event_id]))\n",
    "            #print(f'event id: {event_id}')\n",
    "\n",
    "\n",
    "        if not n1_channels:\n",
    "            n1_channels=0\n",
    "        if not n2_channels:\n",
    "            n2_channels=n_all_channels\n",
    "\n",
    "        if n2_channels>n_all_channels:\n",
    "            n2_channels=n_all_channels\n",
    "\n",
    "        channels=all_channels[n1_channels:n2_channels]\n",
    "    else:\n",
    "        channels=channel_list\n",
    "    try:\n",
    "        channels.remove(target_channel)\n",
    "    except:\n",
    "        pass\n",
    "    \n",
    "    \n",
    "    for i, file in enumerate(files):\n",
    "        if print_:\n",
    "            print(f\"Added {i + 1}/{n2_events - n1_events} files to dataframe\", end='\\r')\n",
    "       \n",
    "           \n",
    "        try:\n",
    "            \n",
    "            with h5.File(os.path.join(path, file), 'r') as fout:\n",
    "                #print('file successfully opened')\n",
    "                event_id = list(fout.keys())[0]\n",
    "                dictionary = {'Event ID': event_id}\n",
    "                #dictionary={}\n",
    "                event_data.append(event_id)\n",
    "                \n",
    "                \n",
    "                tmsrs = TimeSeries(fout[event_id][target_channel],dt=1.0/fout[event_id][target_channel].attrs['sample_rate']) #ToDo: add other attrs to the TimeSeries (seee h5_gwpy.ipynb for reference)\n",
    "                \n",
    "                bp = filter_design.bandpass(low_freq, high_freq, tmsrs.sample_rate)\n",
    "                tmsrs = tmsrs.filter(bp, filtfilt=True)\n",
    "                \n",
    "                tmsrs=tmsrs[int(5.5*4096):int(10.5*4096)]\n",
    "                if sr:\n",
    "                    tmsrs=tmsrs.resample(sr)\n",
    "                    tmsrs=TimeSeries(np.array(tmsrs)/max(np.array(tmsrs)), dt=1/sr)\n",
    "                dictionary[target_channel] = [tmsrs]\n",
    "                #print(f'DICT: {dictionary}')\n",
    "        \n",
    "                for i,channel in enumerate(channels):\n",
    "                    #print(f\"Added {i + 1}/{n2_channels - n1_channels} files to dataframe\", end='\\r')\n",
    "                    try:\n",
    "                        tmsrs = TimeSeries(fout[event_id][channel],dt=1.0/fout[event_id][channel].attrs['sample_rate'])\n",
    "                        tmsrs = tmsrs.filter(bp, filtfilt=True)\n",
    "                        tmsrs=tmsrs[int(5.5*4096):int(10.5*4096)]\n",
    "                        if sr:\n",
    "                            tmsrs=tmsrs.resample(sr)\n",
    "                            tmsrs=TimeSeries(np.array(tmsrs)/max(np.array(tmsrs)), dt=1/sr)\n",
    "                        dictionary[channel] = [tmsrs]\n",
    "                        \n",
    "                    except Exception as e:\n",
    "                        tmsrs=np.nan\n",
    "                        dictionary[channel] = [tmsrs]\n",
    "                        #print(f'error in making timeseries:')\n",
    "                        #print(e)\n",
    "                        \n",
    "                \n",
    "                df_list.append(pd.DataFrame(dictionary))\n",
    "                    \n",
    "\n",
    "                \n",
    "        except Exception as e:\n",
    "        \n",
    "            if print_:\n",
    "                print(f'COULD NOT OPEN {os.path.join(path, file)}')\n",
    "                print(e)\n",
    "            \n",
    "        \n",
    "        \n",
    "    #print(f'DF LIST: {df_list.shape}')\n",
    "    \n",
    "    df = pd.concat(df_list, ignore_index=True)\n",
    "    \n",
    "    #df_ids = pd.DataFrame({'Event ID': event_data})\n",
    "    #df = pd.concat([df_ids, df], axis=1)\n",
    "    \n",
    "    return df "
   ]
  },
  {
   "cell_type": "code",
   "execution_count": 7,
   "id": "c891c1b0-07d0-4c50-94a4-965e405c3d62",
   "metadata": {},
   "outputs": [],
   "source": [
    "# a function which transates the two curves to maximise their pearson correlation\n",
    "def maximise_pearson(curve1, curve2, trans_step=5):\n",
    "    max_corr=0\n",
    "    delta_max_corr=0\n",
    "    max_delta=int(len(curve1)/trans_step)\n",
    "    for delta in np.arange(0,max_delta, trans_step):\n",
    "        cv1=curve1[:len(curve1)-delta]\n",
    "        cv2=curve2[delta:]\n",
    "        pearson_corr, _ = pearsonr(cv1,cv2)\n",
    "        if np.abs(pearson_corr)>np.abs(max_corr):\n",
    "            max_corr=pearson_corr\n",
    "            delta_max_corr=delta\n",
    "    cv1=curve1[:len(curve1)-delta_max_corr]\n",
    "    if max_corr<0:\n",
    "        cv2=-curve2[delta_max_corr:]\n",
    "    else:\n",
    "        cv2=curve2[delta_max_corr:]\n",
    "    return cv1, cv2\n",
    "\n",
    "# functions to ensure the semi-positivity of tensors\n",
    "def eliminate_negatives(x):\n",
    "    if x<0:\n",
    "        return 0\n",
    "    else:\n",
    "        return x\n",
    "def make_semipositive(tens):\n",
    "    tens_list=[]\n",
    "    for l in tens:\n",
    "        bool_list=[eliminate_negatives(x) for x in list(l)]\n",
    "        bool_tens=torch.tensor(bool_list, dtype=torch.float64)\n",
    "        tens_list.append(bool_tens)\n",
    "    tens_semipositive=torch.stack(tens_list).to(device)\n",
    "    return tens_semipositive\n",
    "\n",
    "def process_in_batches(tensor, batch_size, transform_function):\n",
    "    # Determine the total number of batches\n",
    "    total_batches = tensor.size(0) // batch_size\n",
    "    if tensor.size(0) % batch_size != 0:\n",
    "        total_batches += 1\n",
    "\n",
    "    # Placeholder list for storing results\n",
    "    results = []\n",
    "\n",
    "    # Process each batch\n",
    "    for i in range(total_batches):\n",
    "        # Calculate the start and end index for the current batch\n",
    "        start_idx = i * batch_size\n",
    "        end_idx = min(start_idx + batch_size, tensor.size(0))\n",
    "\n",
    "        # Extract the batch\n",
    "        batch_tensor = tensor[start_idx:end_idx]\n",
    "\n",
    "        # Apply the transformation function (e.g., qtransform)\n",
    "        transformed_batch = transform_function(batch_tensor)\n",
    "        #.to(torch.float64)\n",
    "\n",
    "        # Append the result to the results list\n",
    "        results.append(transformed_batch)\n",
    "\n",
    "    # Concatenate all the results along the first dimension\n",
    "    return torch.cat(results, dim=0)\n",
    "\n",
    "def gradnorm_adjustment(model, losses, alphas, scaling_factor=1.0):\n",
    "    # Compute gradient norms for each loss component\n",
    "    grads = []\n",
    "    \n",
    "    for loss in losses:\n",
    "        # Make sure the loss is a scalar (in case it is a batch loss)\n",
    "        if loss.dim() > 0:\n",
    "            loss = loss.mean()  # or loss.sum()\n",
    "\n",
    "        # Compute gradients of the loss w.r.t model parameters\n",
    "        gradients = torch.autograd.grad(loss, model.parameters(), retain_graph=True, create_graph=True,allow_unused=True)\n",
    "\n",
    "        # Compute the gradient norm (L2 norm) across all parameters\n",
    "        grad_norm = torch.sqrt(sum(torch.norm(g)**2 for g in gradients if g is not None))\n",
    "        grads.append(grad_norm)\n",
    "\n",
    "    # Compute the target gradient norm (average of current norms)\n",
    "    avg_grad_norm = torch.mean(torch.stack(grads))\n",
    "\n",
    "    # Compute the scaling factor to match the gradient norms\n",
    "    scaling_factors = [scaling_factor * (avg_grad_norm / g) for g in grads]\n",
    "\n",
    "    # Adjust the alphas by the scaling factors\n",
    "    adjusted_alphas = [alpha * sf.item() for alpha, sf in zip(alphas, scaling_factors)]\n",
    "\n",
    "    return adjusted_alphas\n",
    "\n",
    "def pearson_corr_batch(x: torch.Tensor, y: torch.Tensor) -> torch.Tensor:\n",
    "    \"\"\"\n",
    "    Computes the pairwise Pearson correlation coefficient between two batches of 1D time series.\n",
    "    \n",
    "    Parameters:\n",
    "    - x: A tensor of shape (batch_size, seq_length) containing the first batch of time series.\n",
    "    - y: A tensor of shape (batch_size, seq_length) containing the second batch of time series.\n",
    "    \n",
    "    Returns:\n",
    "    - A tensor of shape (batch_size,) containing the Pearson correlation coefficient for each pair.\n",
    "    \"\"\"\n",
    "    # Ensure the input tensors have the same shape\n",
    "    assert x.shape == y.shape, \"The two input tensors must have the same shape.\"\n",
    "    \n",
    "    # Compute the mean of each batch along the time dimension\n",
    "    mean_x = torch.mean(x, dim=1, keepdim=True)\n",
    "    mean_y = torch.mean(y, dim=1, keepdim=True)\n",
    "    \n",
    "    # Center the data by subtracting the mean\n",
    "    x_centered = x - mean_x\n",
    "    y_centered = y - mean_y\n",
    "    \n",
    "    # Compute the numerator (covariance) for each pair\n",
    "    covariance = torch.sum(x_centered * y_centered, dim=1)\n",
    "    \n",
    "    # Compute the denominator (standard deviation of each batch)\n",
    "    std_x = torch.sqrt(torch.sum(x_centered ** 2, dim=1))\n",
    "    std_y = torch.sqrt(torch.sum(y_centered ** 2, dim=1))\n",
    "    \n",
    "    # Compute Pearson correlation for each pair\n",
    "    correlation = covariance / (std_x * std_y)\n",
    "    \n",
    "    return correlation"
   ]
  },
  {
   "cell_type": "markdown",
   "id": "31d98c2c-c7af-4081-944e-3fc52c0486e9",
   "metadata": {
    "tags": []
   },
   "source": [
    "Define the Single-Q Transform and extract only its Q-Tiles"
   ]
  },
  {
   "cell_type": "code",
   "execution_count": 104,
   "id": "72865d43-d627-4b72-bb69-e142ea4338f4",
   "metadata": {},
   "outputs": [],
   "source": [
    "qtransform = SingleQTransform(sample_rate=125, duration=5, q=5, frange=[5,40],spectrogram_shape=(70,250),qtiles_only=True).to(device)"
   ]
  },
  {
   "cell_type": "code",
   "execution_count": null,
   "id": "3c6e3c14-6386-4faf-b324-ebac523a897c",
   "metadata": {},
   "outputs": [],
   "source": [
    "#qtransform=QScan(sample_rate=500, duration=5, qrange=[5,30], frange=[5,40],spectrogram_shape=(70,250)).to(device)\n",
    "\n",
    "#qtransform = SingleQTransform(sample_rate=500, duration=5, q=5, frange=[5,40],spectrogram_shape=(70,250)).to(device)\n",
    "#qtransform = SingleQTransform(sample_rate=613, duration=10, q=5, frange=[5,40],spectrogram_shape=(250,48)).to(device)\n",
    "#qtransform = SingleQTransform(sample_rate=575, duration=10, q=5, frange=[5,40],spectrogram_shape=(1000,90)).to(device)\n",
    "\n",
    "#qtransform = SingleQTransform(duration=10, sample_rate=512, spectrogram_shape=(250,48), q=5, frange=[4,100]).to(device)\n",
    "#qtransform = SingleQTransform(duration=10, sample_rate=512, spectrogram_shape=(1000,190), q=5, frange=[5,50]).to(device)"
   ]
  },
  {
   "cell_type": "markdown",
   "id": "fe7a4cc4-9131-4f88-89c7-5b62b55b307c",
   "metadata": {},
   "source": [
    "Run this cell if you want to construct a dataset with real glitches"
   ]
  },
  {
   "cell_type": "code",
   "execution_count": 60,
   "id": "209c3634-10b4-4175-889f-dc75eb5ff663",
   "metadata": {},
   "outputs": [
    {
     "name": "stdout",
     "output_type": "stream",
     "text": [
      "COULD NOT OPEN /data/datasets/intertwin-dati-aux/gspy_O3a_Scattered_Light_V1/Shift_VS_Correlation.png\n",
      "Unable to synchronously open file (file signature not found)\n",
      "162.4858009815216iles to dataframe\n"
     ]
    }
   ],
   "source": [
    "path='/data/datasets/intertwin-dati-aux/gspy_O3a_Scattered_Light_V1'\n",
    "start_time=time.time()\n",
    "df_tms = construct_dataframe(path,target_channel='V1:Hrec_hoft_16384Hz', n1_events=0, n2_events=8000,channel_list=['V1:Hrec_hoft_16384Hz'],sr=125,low_freq=5,high_freq=40)\n",
    "print(time.time()-start_time)"
   ]
  },
  {
   "cell_type": "code",
   "execution_count": null,
   "id": "971c7cf1-dc63-489c-994b-f685e1c7fdfd",
   "metadata": {},
   "outputs": [],
   "source": [
    "df_tms=generate_dataset_timeseries(10, 1, duration=5, sample_rate=500, num_waves_range=(1,2), noise_amplitude=0.1)\n",
    "#df_qts=df_tms.apply(lambda x: x[0].q_transform(qrange=(5,5),frange=(5,50)), axis=1)"
   ]
  },
  {
   "cell_type": "code",
   "execution_count": null,
   "id": "ac63b972-3718-4f10-9c9f-f4c6336cc5be",
   "metadata": {},
   "outputs": [],
   "source": [
    "df_tms.to_pickle('DF_Training_SpecInv_SL_TimeSeries_8000.pkl')\n",
    "#df_qts.to_pickle('DF_Training_SpecInv_Spectrograms_10000.pkl')                 "
   ]
  },
  {
   "cell_type": "code",
   "execution_count": 9,
   "id": "a748bbde-0e56-4411-8efb-e929a72feb1a",
   "metadata": {},
   "outputs": [],
   "source": [
    "df_tms=pd.read_pickle('DF_Training_SpecInv_SL_TimeSeries_8000.pkl')\n",
    "#df_qts=pd.read_pickle('DF_Training_SpecInv_Spectrograms_10000.pkl') "
   ]
  },
  {
   "cell_type": "code",
   "execution_count": 105,
   "id": "bd10193b-9d2e-4e40-8983-7ecc5f3286b6",
   "metadata": {},
   "outputs": [],
   "source": [
    "tensor_list=[]\n",
    "for index, row in df_tms.iterrows():\n",
    "    # Extract the TimeSeries object\n",
    "    #timeseries = row['Channel_1']\n",
    "\n",
    "    timeseries = row['V1:Hrec_hoft_16384Hz']\n",
    "    \n",
    "    # Convert TimeSeries to numpy array\n",
    "    timeseries_array = timeseries.value  # .value gives the numpy array of TimeSeries data\n",
    "    \n",
    "    # Convert numpy array to PyTorch tensor\n",
    "    timeseries_tensor = torch.tensor(timeseries_array, dtype=torch.float64)\n",
    "    \n",
    "    # Append tensor to the list\n",
    "    tensor_list.append(timeseries_tensor)\n",
    "\n",
    "# If needed, you can stack these tensors into a single tensor\n",
    "# This will create a 2D tensor where each row corresponds to one TimeSeries\n",
    "y_train_tensor = torch.stack(tensor_list).to(device)"
   ]
  },
  {
   "cell_type": "code",
   "execution_count": 11,
   "id": "71a8fd1e-5c68-404d-93bb-6ea3634799f9",
   "metadata": {},
   "outputs": [
    {
     "data": {
      "text/plain": [
       "torch.Size([7999, 2500])"
      ]
     },
     "execution_count": 11,
     "metadata": {},
     "output_type": "execute_result"
    }
   ],
   "source": [
    "y_train_tensor.shape"
   ]
  },
  {
   "cell_type": "code",
   "execution_count": 106,
   "id": "287ca782-7aeb-4e17-8217-543fa9686fc9",
   "metadata": {},
   "outputs": [],
   "source": [
    "X_train_tensor=qtransform(y_train_tensor)"
   ]
  },
  {
   "cell_type": "code",
   "execution_count": 14,
   "id": "e641245e-777c-4d5b-8536-d73d00d4d228",
   "metadata": {},
   "outputs": [
    {
     "data": {
      "text/plain": [
       "torch.Size([7999, 11, 512])"
      ]
     },
     "execution_count": 14,
     "metadata": {},
     "output_type": "execute_result"
    }
   ],
   "source": [
    "X_train_tensor.shape"
   ]
  },
  {
   "cell_type": "code",
   "execution_count": null,
   "id": "63f69942-4739-4fdb-a769-beb5bfbc8154",
   "metadata": {},
   "outputs": [],
   "source": [
    "# tensor_list=[]\n",
    "# n_inputs=X_train_tensor[0].shape[1]\n",
    "# for i in range(n_inputs):\n",
    "#     unpadded=[qt[:,i,:].unsqueeze(0) for qt in X_train_tensor]\n",
    "#     max_size = max(tensor.size(-1) for tensor in unpadded)\n",
    "#     padded=[]\n",
    "#     for qt in unpadded:\n",
    "#         length=qt.shape[-1]\n",
    "#         repeat_factor=int(max_size/length)    \n",
    "#         qt_longer=qt.repeat_interleave(repeat_factor, dim=-1)\n",
    "#         padded.append(qt_longer)\n",
    "#     padded_tensor=torch.stack(padded).squeeze(1,2)\n",
    "#     tensor_list.append(padded_tensor)\n",
    "#     padded_tensor=torch.stack(tensor_list)"
   ]
  },
  {
   "cell_type": "code",
   "execution_count": null,
   "id": "9c5be13e-7ed2-4bca-b077-50cf0033a2f7",
   "metadata": {},
   "outputs": [],
   "source": [
    "# # Step 1: Define the function to repeat elements in the last dimension\n",
    "# def repeat_elements(tensor, repeat_factor):\n",
    "#     # Repeat elements in the last dimension consecutively\n",
    "#     repeated_tensor = tensor.repeat_interleave(repeat_factor, dim=-1)\n",
    "#     return repeated_tensor\n",
    "\n",
    "# # Step 2: Create padded tensors by repeating elements\n",
    "# repeated_tensors = []\n",
    "\n",
    "# for tensor in X_train_tensor:\n",
    "#     if tensor.size(-1) == 128:\n",
    "#         repeated_tensors.append(repeat_elements(tensor, 4))  # 128 -> 512 by repeating each element 4 times\n",
    "#     elif tensor.size(-1) == 256:\n",
    "#         repeated_tensors.append(repeat_elements(tensor, 2))  # 256 -> 512 by repeating each element 2 times\n",
    "#     else:\n",
    "#         repeated_tensors.append(tensor)  # 512 -> 512 (no change)\n",
    "\n",
    "# # Step 3: Concatenate along the first dimension\n",
    "# # Resulting shape: (11, batch_size, 512)\n",
    "# final_tensor = torch.cat(repeated_tensors, dim=0)\n"
   ]
  },
  {
   "cell_type": "code",
   "execution_count": null,
   "id": "9ef27a28-0e60-4069-a34f-73274be3fdb9",
   "metadata": {},
   "outputs": [],
   "source": [
    "qtiles=qtransform(y_train_tensor)\n",
    "n_inputs=qtiles[0].shape[1]\n",
    "padded_list=[]\n",
    "for i in range(n_inputs):\n",
    "    unpadded=[qt[:,i,:].unsqueeze(0)for qt in qtiles]\n",
    "    # Find the maximum size along the last dimension\n",
    "    max_size = max(tensor.size(-1) for tensor in unpadded)\n",
    "\n",
    "    # Pad tensors to the max_size along the last dimension and concatenate\n",
    "    padded_qtiles = [torch.nn.functional.pad(tensor, (0, max_size - tensor.size(-1))) for tensor in unpadded]\n",
    "    padded_list.append(torch.cat(padded_qtiles, dim=0).squeeze(1))\n",
    "X_train_tensor=torch.stack(padded_list)"
   ]
  },
  {
   "cell_type": "code",
   "execution_count": null,
   "id": "cc55dec4-151d-4546-96f9-c49853795825",
   "metadata": {},
   "outputs": [],
   "source": [
    "batch_size = 100  # Adjust this based on your GPU memory limits\n",
    "\n",
    "# Apply the function to tensor\n",
    "X_train_tensor = process_in_batches(y_train_tensor, batch_size, qtransform).to(torch.float64)"
   ]
  },
  {
   "cell_type": "code",
   "execution_count": null,
   "id": "b096e613-7855-473a-a04c-add19b42d50d",
   "metadata": {},
   "outputs": [],
   "source": [
    "#X_train_tensor=df_qts.apply(lambda x: torch.tensor(x,dtype=torch.float64))\n",
    "#y_train_tensor = torch.tensor(df_tms.apply(lambda x: np.array(x[0]), axis=1),dtype=torch.float32)"
   ]
  },
  {
   "cell_type": "code",
   "execution_count": null,
   "id": "882d90dd-428f-4f14-9a8b-a6a91d9fe65f",
   "metadata": {},
   "outputs": [],
   "source": [
    "X_train_tensor=torch.stack(list(X_train_tensor))"
   ]
  },
  {
   "cell_type": "markdown",
   "id": "171af275-755b-4ee1-ba5e-4b638ab17873",
   "metadata": {},
   "source": [
    "Normalise the spectrograms"
   ]
  },
  {
   "cell_type": "code",
   "execution_count": null,
   "id": "3c7cdbb0-ea38-4a68-b151-c47ed387bb56",
   "metadata": {},
   "outputs": [],
   "source": [
    "n_specs=X_train_tensor.shape[0]\n",
    "# Find the maximum value for each spectrogram (along the last two dimensions)\n",
    "max_vals = X_train_tensor.view(n_specs, -1).max(dim=1, keepdim=True)[0].view(-1, 1, 1)\n",
    "# Avoid division by zero by setting any 0 max values to 1\n",
    "max_vals[max_vals == 0] = 1\n",
    "\n",
    "# Normalize each spectrogram by its own maximum value\n",
    "X_train_tensor= X_train_tensor / max_vals"
   ]
  },
  {
   "cell_type": "markdown",
   "id": "e8fe6a79-e609-4ecc-bd2b-919b5f0e4507",
   "metadata": {},
   "source": [
    "Cutting the beginning and the end of the glitches, delta_cut is a quantity in seconds"
   ]
  },
  {
   "cell_type": "code",
   "execution_count": null,
   "id": "aef727b7-80b1-4a8f-bc34-67b5cac6b5ce",
   "metadata": {},
   "outputs": [],
   "source": [
    "delta_cut=1\n",
    "sampling_rate=500\n",
    "duration=5"
   ]
  },
  {
   "cell_type": "code",
   "execution_count": null,
   "id": "200fcc2a-2c3a-4b3f-a11e-069126955154",
   "metadata": {},
   "outputs": [],
   "source": [
    "X_train_tensor=X_train_tensor[:,:,delta_cut*50:250-delta_cut*50]\n",
    "y_train_tensor=y_train_tensor[:, delta_cut*sampling_rate:(duration-delta_cut)*sampling_rate]"
   ]
  },
  {
   "cell_type": "markdown",
   "id": "a712f1eb-f07e-4b18-824a-5140152deff7",
   "metadata": {},
   "source": [
    "Only run this cell if you are using the CNN or the ResNet"
   ]
  },
  {
   "cell_type": "code",
   "execution_count": null,
   "id": "dbd7d8cd-5c90-4cd2-a69d-5864245adfc9",
   "metadata": {},
   "outputs": [],
   "source": [
    "N, H, W= X_train_tensor.shape\n",
    "X_train_tensor = X_train_tensor.view(N, 1, H, W)"
   ]
  },
  {
   "cell_type": "code",
   "execution_count": null,
   "id": "63d0d458-94e4-444c-b407-dc4e6f856387",
   "metadata": {},
   "outputs": [],
   "source": [
    "df_test_tms=generate_dataset_timeseries(2000, 1, duration=5, sample_rate=500, num_waves_range=(1,2), noise_amplitude=0.1)\n",
    "#df_test_tms=generate_dataset_timeseries(1600, 1, duration=10, sample_rate=575, num_waves_range=(1,2), noise_amplitude=0.1)\n",
    "#df_test_qts=df_test_tms.apply(lambda x: x[0].q_transform(qrange=(5,5),frange=(5,50)), axis=1)"
   ]
  },
  {
   "cell_type": "code",
   "execution_count": 63,
   "id": "0b7d9088-703b-40c9-bab1-2d20f5662886",
   "metadata": {},
   "outputs": [
    {
     "name": "stdout",
     "output_type": "stream",
     "text": [
      "Added 1600/1600 files to dataframe\r"
     ]
    }
   ],
   "source": [
    "df_test_tms = construct_dataframe(path,target_channel='V1:Hrec_hoft_16384Hz', n1_events=8000, n2_events=9600,channel_list=['V1:Hrec_hoft_16384Hz'],sr=125, low_freq=4,high_freq=50)"
   ]
  },
  {
   "cell_type": "code",
   "execution_count": null,
   "id": "e1de916c-f9a3-41ab-bb7c-f31839009ec4",
   "metadata": {},
   "outputs": [],
   "source": [
    "df_test_tms.to_pickle('DF_Test_SpecInv_SL_TimeSeries_1600.pkl')\n",
    "#df_test_qts.to_pickle('DF_Test_SpecInv_Spectrograms_1000.pkl')      "
   ]
  },
  {
   "cell_type": "code",
   "execution_count": 12,
   "id": "146bbf2a-9995-4cd5-81db-090f5a3dc726",
   "metadata": {},
   "outputs": [],
   "source": [
    "df_test_tms=pd.read_pickle('DF_Test_SpecInv_SL_TimeSeries_1600.pkl')\n",
    "#df_test_qts=pd.read_pickle('DF_Test_SpecInv_Spectrograms_1000.pkl') "
   ]
  },
  {
   "cell_type": "markdown",
   "id": "4f83a84c-d934-4520-acef-0e36efb0ea10",
   "metadata": {},
   "source": [
    "Print some test timeseries"
   ]
  },
  {
   "cell_type": "code",
   "execution_count": null,
   "id": "b47802e2-0952-4fb9-8ad4-5a851eac98ce",
   "metadata": {
    "tags": []
   },
   "outputs": [],
   "source": [
    "for i in range(5):\n",
    "    plt.plot(df_tms.iloc[i][0])\n",
    "    plt.show()"
   ]
  },
  {
   "cell_type": "code",
   "execution_count": null,
   "id": "01872193-ae07-45be-ae93-95b98068becc",
   "metadata": {
    "tags": []
   },
   "outputs": [],
   "source": [
    "for i in range(13):\n",
    "    plt.plot(df_test_tms.iloc[i][0])\n",
    "    plt.show()"
   ]
  },
  {
   "cell_type": "code",
   "execution_count": 107,
   "id": "75ca4546-23ba-4082-9ed6-e1e19e1c68e9",
   "metadata": {},
   "outputs": [],
   "source": [
    "tensor_test_list=[]\n",
    "for index, row in df_test_tms.iterrows():\n",
    "    # Extract the TimeSeries object\n",
    "    #timeseries = row['Channel_1']\n",
    "    timeseries = row['V1:Hrec_hoft_16384Hz']\n",
    "    \n",
    "    # Convert TimeSeries to numpy array\n",
    "    timeseries_array = timeseries.value  # .value gives the numpy array of TimeSeries data\n",
    "    \n",
    "    # Convert numpy array to PyTorch tensor\n",
    "    timeseries_tensor = torch.tensor(timeseries_array, dtype=torch.float64)\n",
    "    \n",
    "    # Append tensor to the list\n",
    "    tensor_test_list.append(timeseries_tensor)\n",
    "\n",
    "# If needed, you can stack these tensors into a single tensor\n",
    "# This will create a 2D tensor where each row corresponds to one TimeSeries\n",
    "y_test_tensor = torch.stack(tensor_test_list).to(device)"
   ]
  },
  {
   "cell_type": "code",
   "execution_count": 108,
   "id": "5a09ef3a-8444-4e9e-a656-127b72744f00",
   "metadata": {},
   "outputs": [],
   "source": [
    "X_test_tensor=qtransform(y_test_tensor)"
   ]
  },
  {
   "cell_type": "code",
   "execution_count": null,
   "id": "1de0b6e6-ee1f-4c83-95b7-958d1db68daf",
   "metadata": {},
   "outputs": [],
   "source": [
    "qtiles=qtransform(y_test_tensor)\n",
    "n_inputs=qtiles[0].shape[1]\n",
    "padded_list=[]\n",
    "for i in range(n_inputs):\n",
    "    unpadded=[qt[:,i,:].unsqueeze(0)for qt in qtiles]\n",
    "    # Find the maximum size along the last dimension\n",
    "    max_size = max(tensor.size(-1) for tensor in unpadded)\n",
    "\n",
    "    # Pad tensors to the max_size along the last dimension and concatenate\n",
    "    padded_qtiles = [torch.nn.functional.pad(tensor, (0, max_size - tensor.size(-1))) for tensor in unpadded]\n",
    "    padded_list.append(torch.cat(padded_qtiles, dim=0).squeeze(1))\n",
    "X_test_tensor=torch.stack(padded_list)"
   ]
  },
  {
   "cell_type": "code",
   "execution_count": null,
   "id": "a554dacd-1b89-4c0a-9567-472f880d6967",
   "metadata": {},
   "outputs": [],
   "source": [
    "#batch_size = 100  # Adjust this based on your GPU memory limits\n",
    "#X_test_tensor = process_in_batches(y_test_tensor, batch_size, qtransform).to(torch.float64)\n",
    "\n",
    "\n",
    "#X_test_tensor=torch.stack(list(X_test_tensor))"
   ]
  },
  {
   "cell_type": "markdown",
   "id": "5d76809e-4147-4ca9-91fa-6e97a0a85c3d",
   "metadata": {},
   "source": [
    "Normalise the spectrograms"
   ]
  },
  {
   "cell_type": "code",
   "execution_count": null,
   "id": "249deeca-447b-4fe8-8033-bd336731fd6e",
   "metadata": {},
   "outputs": [],
   "source": [
    "n_specs=X_test_tensor.shape[0]\n",
    "# Find the maximum value for each spectrogram (along the last two dimensions)\n",
    "max_vals = X_test_tensor.view(n_specs, -1).max(dim=1, keepdim=True)[0].view(-1, 1, 1)\n",
    "# Avoid division by zero by setting any 0 max values to 1\n",
    "max_vals[max_vals == 0] = 1\n",
    "\n",
    "# Normalize each spectrogram by its own maximum value\n",
    "X_test_tensor= X_test_tensor / max_vals"
   ]
  },
  {
   "cell_type": "code",
   "execution_count": null,
   "id": "92468096-bbb7-4d7f-be52-ef6730af23ce",
   "metadata": {},
   "outputs": [],
   "source": [
    "X_test_tensor=X_test_tensor[:,:,delta_cut*50:250-delta_cut*50]\n",
    "y_test_tensor=y_test_tensor[:, delta_cut*sampling_rate:(duration-delta_cut)*sampling_rate]"
   ]
  },
  {
   "cell_type": "markdown",
   "id": "c2be11ad-536f-4681-9dcb-83ebf5a4653b",
   "metadata": {},
   "source": [
    "Only run the cell below if you are using the CNN or the ResNet"
   ]
  },
  {
   "cell_type": "code",
   "execution_count": null,
   "id": "555a7b4e-a8a1-469e-95bf-d1c7754aee91",
   "metadata": {},
   "outputs": [],
   "source": [
    "N, H, W=X_test_tensor.shape\n",
    "X_test_tensor = X_test_tensor.view(N, 1, H, W)"
   ]
  },
  {
   "cell_type": "code",
   "execution_count": null,
   "id": "2322d383-d97d-480b-b942-12dac6941d8f",
   "metadata": {},
   "outputs": [],
   "source": [
    "spectrogram_train=X_test_tensor[0,0].detach().cpu().numpy().T\n",
    "plt.figure(figsize=(10, 6))\n",
    "plt.imshow(spectrogram_train.T, aspect='auto', origin='lower', cmap='viridis', vmin=0, vmax=10)\n",
    "#plt.colorbar(format='%+2.0f dB')\n",
    "plt.colorbar()\n",
    "plt.title('Spectrogram')\n",
    "plt.xlabel('Time bins')\n",
    "plt.ylabel('Frequency bins')\n",
    "plt.show()"
   ]
  },
  {
   "cell_type": "markdown",
   "id": "790c4b6d-310e-4650-a220-9b579933fe28",
   "metadata": {
    "tags": []
   },
   "source": [
    "# Models"
   ]
  },
  {
   "cell_type": "markdown",
   "id": "43b8b703-a7ab-4f76-9b4e-119087cfba6c",
   "metadata": {
    "jp-MarkdownHeadingCollapsed": true,
    "tags": []
   },
   "source": [
    "## ResNet"
   ]
  },
  {
   "cell_type": "code",
   "execution_count": null,
   "id": "2eed8643-d2f9-4666-8972-7fa0b64969b0",
   "metadata": {},
   "outputs": [],
   "source": [
    "import torch\n",
    "import torch.nn as nn\n",
    "\n",
    "class ResidualBlock(nn.Module):\n",
    "    def __init__(self, in_channels, out_channels, stride=1):\n",
    "        super(ResidualBlock, self).__init__()\n",
    "        self.conv1 = nn.Conv2d(in_channels, out_channels, kernel_size=3, stride=stride, padding=1, bias=False)\n",
    "        self.bn1 = nn.BatchNorm2d(out_channels)\n",
    "        self.relu = nn.ReLU(inplace=True)\n",
    "        self.conv2 = nn.Conv2d(out_channels, out_channels, kernel_size=3, stride=1, padding=1, bias=False)\n",
    "        self.bn2 = nn.BatchNorm2d(out_channels)\n",
    "        self.downsample = nn.Sequential()\n",
    "        if stride != 1 or in_channels != out_channels:\n",
    "            self.downsample = nn.Sequential(\n",
    "                nn.Conv2d(in_channels, out_channels, kernel_size=1, stride=stride, bias=False),\n",
    "                nn.BatchNorm2d(out_channels)\n",
    "            )\n",
    "\n",
    "    def forward(self, x):\n",
    "        identity = x\n",
    "        out = self.conv1(x)\n",
    "        out = self.bn1(out)\n",
    "        out = self.relu(out)\n",
    "        out = self.conv2(out)\n",
    "        out = self.bn2(out)\n",
    "        out += self.downsample(identity)\n",
    "        out = self.relu(out)\n",
    "        return out\n",
    "\n",
    "class ResNet(nn.Module):\n",
    "    def __init__(self, block, layers, num_classes=5120):\n",
    "        super(ResNet, self).__init__()\n",
    "        self.in_channels = 64\n",
    "        self.conv1 = nn.Conv2d(1, 64, kernel_size=7, stride=2, padding=3, bias=False)\n",
    "        self.bn1 = nn.BatchNorm2d(64)\n",
    "        self.relu = nn.ReLU(inplace=True)\n",
    "        self.maxpool = nn.MaxPool2d(kernel_size=3, stride=2, padding=1)\n",
    "        self.layer1 = self.make_layer(block, 64, layers[0])\n",
    "        self.layer2 = self.make_layer(block, 128, layers[1], stride=2)\n",
    "        self.layer3 = self.make_layer(block, 256, layers[2], stride=2)\n",
    "        self.layer4 = self.make_layer(block, 512, layers[3], stride=2)\n",
    "        self.avgpool = nn.AdaptiveAvgPool2d((1, 1))\n",
    "        self.fc = nn.Linear(512, num_classes)\n",
    "\n",
    "    def make_layer(self, block, out_channels, blocks, stride=1):\n",
    "        layers = []\n",
    "        layers.append(block(self.in_channels, out_channels, stride))\n",
    "        self.in_channels = out_channels\n",
    "        for _ in range(1, blocks):\n",
    "            layers.append(block(out_channels, out_channels))\n",
    "        return nn.Sequential(*layers)\n",
    "\n",
    "    def forward(self, x):\n",
    "        x = self.conv1(x)\n",
    "        x = self.bn1(x)\n",
    "        x = self.relu(x)\n",
    "        x = self.maxpool(x)\n",
    "        x = self.layer1(x)\n",
    "        x = self.layer2(x)\n",
    "        x = self.layer3(x)\n",
    "        x = self.layer4(x)\n",
    "        x = self.avgpool(x)\n",
    "        x = torch.flatten(x, 1)\n",
    "        x = self.fc(x)\n",
    "        return x\n",
    "\n",
    "def ResNet18():\n",
    "    return ResNet(ResidualBlock, [2, 2, 2, 2])\n",
    "\n",
    "# Example usage\n",
    "# Assuming you have your spectrogram data stored in X_train and time series data stored in y_train\n",
    "\n",
    "# Preprocess spectrogram data if needed\n",
    "# Preprocess time series data if needed\n",
    "\n",
    "# Convert data to PyTorch tensors\n",
    "# X_train_tensor = torch.tensor(X_train, dtype=torch.float32)\n",
    "# y_train_tensor = torch.tensor(y_train, dtype=torch.float32)\n",
    "\n",
    "# Create ResNet model\n",
    "model = ResNet18()\n",
    "\n",
    "# Define loss function and optimizer\n",
    "criterion = nn.MSELoss()\n",
    "optimizer = torch.optim.Adam(model.parameters(), lr=0.001)"
   ]
  },
  {
   "cell_type": "markdown",
   "id": "5977e2cc-fe37-42db-a432-5b672e9c5181",
   "metadata": {
    "jp-MarkdownHeadingCollapsed": true,
    "tags": []
   },
   "source": [
    "## CNN"
   ]
  },
  {
   "cell_type": "code",
   "execution_count": null,
   "id": "4bf03ab6-070d-45cc-ba08-950410a5d9f5",
   "metadata": {},
   "outputs": [],
   "source": [
    "import torch\n",
    "import torch.nn as nn\n",
    "\n",
    "class Conv2DTo1D(nn.Module):\n",
    "    def __init__(self):\n",
    "        super(Conv2DTo1D, self).__init__()\n",
    "        \n",
    "        # Reduced number of filters\n",
    "        self.conv1 = nn.Conv2d(in_channels=1, out_channels=8, kernel_size=(3, 3), padding=1)\n",
    "        self.conv2 = nn.Conv2d(in_channels=8, out_channels=16, kernel_size=(3, 3), padding=1)\n",
    "        self.conv3 = nn.Conv2d(in_channels=16, out_channels=32, kernel_size=(3, 3), padding=1)\n",
    "        \n",
    "        # Fully connected layers with reduced size\n",
    "        self.fc1 = nn.Linear(32 * 31 * 6, 5000)\n",
    "        \n",
    "        self.relu = nn.ReLU()\n",
    "        self.pool = nn.MaxPool2d(kernel_size=(2, 2), stride=(2, 2))\n",
    "\n",
    "    def forward(self, x):\n",
    "        x = self.relu(self.conv1(x))\n",
    "        x = self.pool(x)\n",
    "        \n",
    "        x = self.relu(self.conv2(x))\n",
    "        x = self.pool(x)\n",
    "        \n",
    "        x = self.relu(self.conv3(x))\n",
    "        x = self.pool(x)\n",
    "        \n",
    "        x = x.view(x.size(0), -1)\n",
    "        x = self.fc1(x)\n",
    "        return x\n",
    "    \n",
    "def weights_init(m):\n",
    "    if isinstance(m, nn.Conv2d):\n",
    "        nn.init.xavier_uniform_(m.weight.data)\n",
    "        if m.bias is not None:\n",
    "            nn.init.constant_(m.bias.data, 0)\n",
    "    elif isinstance(m, nn.Linear):\n",
    "        nn.init.xavier_uniform_(m.weight.data)\n",
    "        if m.bias is not None:\n",
    "            nn.init.constant_(m.bias.data, 0)\n",
    "    elif isinstance(m, nn.BatchNorm2d):\n",
    "        nn.init.constant_(m.weight.data, 1)\n",
    "        nn.init.constant_(m.bias.data, 0)"
   ]
  },
  {
   "cell_type": "code",
   "execution_count": null,
   "id": "007bdb41-861e-4e4d-bf65-eefdf49cfa99",
   "metadata": {},
   "outputs": [],
   "source": [
    "model = Conv2DTo1D().cuda()\n",
    "model.apply(weights_init)\n",
    "model = model.double()  # Convert model parameters to float64"
   ]
  },
  {
   "cell_type": "markdown",
   "id": "e0f8e1cf-9df5-4bc3-83d5-3d993804800e",
   "metadata": {
    "jp-MarkdownHeadingCollapsed": true,
    "tags": []
   },
   "source": [
    "## CNNLSTM"
   ]
  },
  {
   "cell_type": "code",
   "execution_count": null,
   "id": "9b044c2f-4ad4-47cb-9f72-425315b2dca7",
   "metadata": {},
   "outputs": [],
   "source": [
    "import torch\n",
    "import torch.nn as nn\n",
    "import torch.optim as optim\n",
    "import torch.nn.functional as F\n",
    "import numpy as np\n",
    "import os\n",
    "import pickle\n",
    "\n",
    "class CNNLSTM(nn.Module):\n",
    "    def __init__(self, input_channels=1, num_classes=5000, lstm_hidden_size=613):\n",
    "        super(CNNLSTM, self).__init__()\n",
    "        self.conv1 = nn.Conv2d(input_channels, 64, kernel_size=3, stride=1, padding=1)\n",
    "        self.bn1 = nn.BatchNorm2d(64)\n",
    "        self.pool = nn.MaxPool2d(2, 2)\n",
    "        self.conv2 = nn.Conv2d(64, 128, kernel_size=3, stride=1, padding=1)\n",
    "        self.bn2 = nn.BatchNorm2d(128)\n",
    "        \n",
    "        #the number which is divided twice needs to be the time-size of the spectrogram\n",
    "        #self.lstm_input_size = 128 * (1000 // 2 // 2)  # Considering the pooling layers\n",
    "        self.lstm_input_size = 128 * (250 // 2 // 2)  # Considering the pooling layers\n",
    "\n",
    "        \n",
    "        self.lstm_hidden_size = lstm_hidden_size  # Set the hidden layer size\n",
    "        self.lstm = nn.LSTM(self.lstm_input_size, self.lstm_hidden_size, batch_first=True)\n",
    "        self.fc = nn.Linear(self.lstm_hidden_size, num_classes)\n",
    "        \n",
    "        # Final tanh activation to constrain output to [-1, 1]\n",
    "        self.final_activation = nn.Tanh()\n",
    "        \n",
    "    \n",
    "        \n",
    "    def forward(self, x):\n",
    "        x = self.pool(F.relu(self.bn1(self.conv1(x))))\n",
    "        \n",
    "        \n",
    "        x = self.pool(F.relu(self.bn2(self.conv2(x))))\n",
    "        \n",
    "        \n",
    "        batch_size, _, _, _ = x.size()\n",
    "        x = x.view(batch_size, -1, self.lstm_input_size)\n",
    "        \n",
    "        x, _ = self.lstm(x)\n",
    "        \n",
    "        x = self.fc(x[:, -1, :])\n",
    "        \n",
    "        # Apply final tanh activation to constrain output between -1 and 1\n",
    "        x = self.final_activation(x)\n",
    "        \n",
    "        \n",
    "        return x\n",
    "\n",
    "def weights_init(m):\n",
    "    if isinstance(m, nn.Conv2d):\n",
    "        nn.init.xavier_uniform_(m.weight.data)\n",
    "        if m.bias is not None:\n",
    "            nn.init.constant_(m.bias.data, 0)\n",
    "    elif isinstance(m, nn.Linear):\n",
    "        nn.init.xavier_uniform_(m.weight.data)\n",
    "        if m.bias is not None:\n",
    "            nn.init.constant_(m.bias.data, 0)\n",
    "    elif isinstance(m, nn.BatchNorm2d):\n",
    "        nn.init.constant_(m.weight.data, 1)\n",
    "        nn.init.constant_(m.bias.data, 0)\n",
    "\n",
    "model = CNNLSTM(input_channels=1, num_classes=2500, lstm_hidden_size=1024).to(device)\n",
    "model=model.cuda()\n",
    "model.apply(weights_init)\n",
    "model = model.double()  # Convert model parameters to float64"
   ]
  },
  {
   "cell_type": "code",
   "execution_count": null,
   "id": "a70ffa70-78e4-43b9-ba4c-b814eda6f549",
   "metadata": {},
   "outputs": [],
   "source": [
    "def train_CNNLSTM(model, data_train_loader, data_val_loader, loss_name, num_epochs=20):\n",
    "    \n",
    "    # Define optimizer and scheduler\n",
    "    optimizer = optim.AdamW(model.parameters(), lr=1e-3, weight_decay=1e-5)\n",
    "    scheduler = optim.lr_scheduler.ReduceLROnPlateau(optimizer, 'min', patience=5, factor=0.5, verbose=True)\n",
    "\n",
    "    patience = 5\n",
    "    best_val_loss = float('inf')\n",
    "    patience_counter = 0\n",
    "    train_l1_losses = []\n",
    "    train_sc_losses = []\n",
    "    val_l1_losses = []\n",
    "    val_sc_losses = []\n",
    "    alphas = [1.0, 1.0] \n",
    "    best_val_loss = float('inf')\n",
    "    \n",
    "    model_name='model_CCNLSTM'+'_'+str(loss_name)\n",
    "\n",
    "    checkpoint_path=os.getcwd()+'/'+model_name+'.pth'\n",
    "    \n",
    "    \n",
    "    for epoch in range(num_epochs):\n",
    "        \n",
    "        start_time=time.time()\n",
    "        total_train_loss = 0.0\n",
    "        train_l1_loss = 0.0\n",
    "        train_sc_loss = 0.0\n",
    "        \n",
    "        for spectrograms, target_timeseries in data_train_loader:\n",
    "            \n",
    "            model.train()\n",
    "            spectrograms = spectrograms.to('cuda' if torch.cuda.is_available() else 'cpu')\n",
    "            target_timeseries = target_timeseries.to('cuda' if torch.cuda.is_available() else 'cpu')\n",
    "            \n",
    "            # Zero the gradients\n",
    "            optimizer.zero_grad() \n",
    "            \n",
    "            # Forward pass\n",
    "            reconstructed_timeseries= model(spectrograms)\n",
    "            \n",
    "            # Compute loss\n",
    "            l1_loss, sc_loss = compute_loss(reconstructed_timeseries, target_timeseries)\n",
    "            \n",
    "            losses = [l1_loss, sc_loss]\n",
    "\n",
    "            # Compute the total loss with current alphas\n",
    "            loss = sum(alpha * loss for alpha, loss in zip(alphas, losses))\n",
    "\n",
    "            # Adjust alphas using GradNorm (with respect to model output)\n",
    "            adjusted_alphas = gradnorm_adjustment(model, losses, alphas)\n",
    "\n",
    "            # Recompute the total loss with adjusted alphas\n",
    "            loss = sum(alpha * loss for alpha, loss in zip(adjusted_alphas, losses))\n",
    "            \n",
    "            # Compute gradients for each loss component independently\n",
    "#            recon_loss.backward(retain_graph=True)\n",
    "#            recon_grad_norm = sum(p.grad.norm() for p in model.parameters() if p.grad is not None)\n",
    "#            model.zero_grad()\n",
    "\n",
    "#            latent_loss.backward(retain_graph=True)\n",
    "#            latent_grad_norm = sum(p.grad.norm() for p in model.parameters() if p.grad is not None)\n",
    "#            model.zero_grad()\n",
    "            \n",
    "            # Dynamically adjust alpha based on gradient norms\n",
    "#            alpha = recon_grad_norm / (latent_grad_norm + 1e-8)\n",
    "\n",
    "            # Compute the total loss and update the model\n",
    "#            loss = recon_loss + alpha * latent_loss    \n",
    "            \n",
    "            \n",
    "            # Backpropagation and optimization\n",
    "#            optimizer.zero_grad()\n",
    "            loss.backward()\n",
    "            optimizer.step()\n",
    "            \n",
    "            train_l1_loss+= l1_loss.item()\n",
    "            train_sc_loss+= sc_loss.item()\n",
    "            total_train_loss += loss.item()\n",
    "        avg_train_l1_loss = train_l1_loss / len(train_loader)\n",
    "        avg_train_sc_loss = train_sc_loss / len(train_loader)\n",
    "        avg_train_loss = total_train_loss / len(train_loader)\n",
    "        \n",
    "        train_l1_losses.append(avg_train_l1_loss)\n",
    "        train_sc_losses.append(avg_train_sc_loss)\n",
    "        \n",
    "        # Validation phase\n",
    "        model.eval()\n",
    "        total_val_loss = 0.0\n",
    "        val_l1_loss = 0.0\n",
    "        val_sc_loss = 0.0\n",
    "        with torch.no_grad():\n",
    "            for spectrograms, target_timeseries in data_val_loader:\n",
    "                model.train()\n",
    "                spectrograms = spectrograms.to('cuda' if torch.cuda.is_available() else 'cpu')\n",
    "                target_timeseries = target_timeseries.to('cuda' if torch.cuda.is_available() else 'cpu')\n",
    "\n",
    "                # Forward pass\n",
    "                reconstructed_timeseries= model(spectrograms)\n",
    "\n",
    "                # Compute loss\n",
    "                l1_loss, sc_loss = compute_loss(reconstructed_timeseries, target_timeseries)\n",
    "\n",
    "                loss = sum(alpha * loss for alpha, loss in zip(adjusted_alphas, [l1_loss, sc_loss]))\n",
    "                \n",
    "                \n",
    "                # Compute the total loss and update the model\n",
    "                #loss = recon_loss + alpha * latent_loss    \n",
    "                             \n",
    "                \n",
    "                val_l1_loss+= l1_loss.item()\n",
    "                val_sc_loss+= sc_loss.item()\n",
    "                total_val_loss += loss.item()\n",
    "            avg_val_l1_loss = val_l1_loss / len(val_loader)\n",
    "            avg_val_sc_loss = val_sc_loss / len(val_loader)\n",
    "            avg_val_loss = total_val_loss / len(val_loader)\n",
    "\n",
    "            val_l1_losses.append(avg_val_l1_loss)\n",
    "            val_sc_losses.append(avg_val_sc_loss)\n",
    "\n",
    "        \n",
    "        scheduler.step(avg_val_loss)\n",
    "        \n",
    "        print(f'Epoch [{epoch + 1}/{num_epochs}],Total Training Loss={avg_train_loss:.4f}, L2 Training Loss={avg_train_l1_loss:.4f}, SC Training Loss={avg_train_sc_loss:.4f}, Total Validation Loss={avg_val_loss:.4f}, L2 Validation Loss={avg_val_l1_loss:.4f}, SC Validation Loss={avg_val_sc_loss:.4f}, Time: {time.time()-start_time:.4f}')\n",
    "        \n",
    "#        if avg_val_latent_loss < best_val_loss:\n",
    "#            best_val_loss = avg_val_latent_loss\n",
    "#            patience_counter = 0\n",
    "#        else:\n",
    "#            patience_counter += 1\n",
    "#            if patience_counter >= patience:\n",
    "#                print(\"Early stopping\")\n",
    "#                break\n",
    "\n",
    "    \n",
    "        # Save checkpoint if validation loss improves\n",
    "    if avg_val_loss < best_val_loss:\n",
    "        checkpoint = {\n",
    "            'epoch': epoch,\n",
    "            'model_state_dict': model.state_dict(),\n",
    "            'optimizer_state_dict': optimizer.state_dict(),\n",
    "            'loss': loss_name,\n",
    "            'val_loss': avg_val_loss,\n",
    "        }\n",
    "        \n",
    "        best_checkpoint_filename = checkpoint_path.format('best')\n",
    "        torch.save(checkpoint, best_checkpoint_filename)\n",
    "        best_val_loss = avg_val_loss\n",
    "\n",
    "\n",
    "    gs=gridspec.GridSpec(2,1)\n",
    "    ax1 = plt.subplot(gs[0,0])\n",
    "\n",
    "    # Plot the training and validation metrics\n",
    "    ax1.plot(train_l1_losses, label='Train L2 Loss')\n",
    "    ax1.plot(val_l1_losses, label='Validation L2 Loss')\n",
    "    ax1.legend()\n",
    "    \n",
    "    \n",
    "    ax2 = plt.subplot(gs[1,0])\n",
    "    \n",
    "    ax2.plot(train_sc_losses, label='Train SC Loss')\n",
    "    ax2.plot(val_sc_losses, label='Validation SC Loss')\n",
    "    ax2.legend()\n",
    "\n",
    "    #\n",
    "    #ax2.plot(val_pearson_correlations, label='Validation Pearson')\n",
    "    plt.title(model_name)\n",
    "    plt.savefig(model_name+'.png', format='png')\n",
    "    plt.show()        "
   ]
  },
  {
   "cell_type": "markdown",
   "id": "eac9a73e-043f-4c57-99ea-bcef952ecd58",
   "metadata": {},
   "source": [
    "Testing the generation with random initialisation"
   ]
  },
  {
   "cell_type": "code",
   "execution_count": null,
   "id": "83eadf29-ab06-4b93-ab8c-d0cd07c47159",
   "metadata": {
    "tags": []
   },
   "outputs": [],
   "source": [
    "for i in range(3):\n",
    "    tms_real=TimeSeries(df_tms.iloc[i][0], dt=1/512)\n",
    "    #qplot_test=tms_real.q_transform(qrange=(12,12),frange=(5,15))\n",
    "    spectrogram_test=torch.tensor(df_qts.iloc[i], dtype=torch.float64)\n",
    "    H, W= spectrogram_test.shape\n",
    "    spectrogram_test = spectrogram_test.view(1, 1, H, W)\n",
    "    model.eval()\n",
    "    with torch.no_grad():\n",
    "        output = model(spectrogram_test)\n",
    "    tms_generated=TimeSeries(output[0], dt=1/500)\n",
    "\n",
    "    plt.figure(figsize=(14, 7))\n",
    "    plt.plot(tms_real, label='Original TimeSeries')\n",
    "    plt.plot(tms_generated, label='Generated Output', linestyle='--')\n",
    "    plt.title(\"Comparison of Original TimeSeries and Model Generated Output\")\n",
    "    plt.xlabel(\"Time\")\n",
    "    plt.ylabel(\"Amplitude\")\n",
    "    plt.legend()\n",
    "    plt.show()"
   ]
  },
  {
   "cell_type": "code",
   "execution_count": null,
   "id": "4e7fffd3-a137-43b8-ab7a-5b4e1a0f5202",
   "metadata": {},
   "outputs": [],
   "source": [
    "mock_input=torch.randn(100,1,250,70).to(torch.float64).to(device)\n",
    "model(mock_input)"
   ]
  },
  {
   "cell_type": "markdown",
   "id": "acb7f259-7268-41cc-a6d3-8620c4ae6af1",
   "metadata": {
    "jp-MarkdownHeadingCollapsed": true,
    "tags": []
   },
   "source": [
    "## CNN Autoencoder"
   ]
  },
  {
   "cell_type": "code",
   "execution_count": null,
   "id": "27fcf51e-ea64-4e7f-9f91-3adfc9a6ecfc",
   "metadata": {},
   "outputs": [],
   "source": [
    "class Autoencoder(nn.Module):\n",
    "    def __init__(self, input_shape, latent_dim):\n",
    "        super(Autoencoder, self).__init__()\n",
    "        \n",
    "        # Encoder: from 2D spectrogram to 1D latent space\n",
    "        self.encoder_conv = nn.Sequential(\n",
    "            nn.Conv2d(in_channels=1, out_channels=16, kernel_size=3, stride=2, padding=1),\n",
    "            nn.ReLU(),\n",
    "            nn.Conv2d(in_channels=16, out_channels=32, kernel_size=3, stride=2, padding=1),\n",
    "            nn.ReLU(),\n",
    "            nn.Conv2d(in_channels=32, out_channels=64, kernel_size=3, stride=2, padding=1),\n",
    "            nn.ReLU()\n",
    "        )\n",
    "        \n",
    "        # Dynamically calculate the flattened size after convolution\n",
    "        self.conv_output_shape, self.flattened_size = self._get_conv_output_shape(input_shape)\n",
    "        \n",
    "        # Linear layer to latent space\n",
    "        self.encoder_linear = nn.Linear(in_features=self.flattened_size, out_features=latent_dim)\n",
    "        \n",
    "        # Decoder: from 1D latent space back to 2D spectrogram\n",
    "        self.decoder_linear = nn.Linear(in_features=latent_dim, out_features=self.flattened_size)\n",
    "        self.decoder = nn.Sequential(\n",
    "            nn.Unflatten(1, self.conv_output_shape),  # Unflatten to match encoder output shape\n",
    "            nn.ConvTranspose2d(in_channels=64, out_channels=32, kernel_size=3, stride=2, padding=1, output_padding=1),\n",
    "            nn.ReLU(),\n",
    "            nn.ConvTranspose2d(in_channels=32, out_channels=16, kernel_size=3, stride=2, padding=1, output_padding=(1, 0)),  # Adjusted output_padding\n",
    "            nn.ReLU(),\n",
    "            nn.ConvTranspose2d(in_channels=16, out_channels=1, kernel_size=3, stride=2, padding=1, output_padding=(1, 0)),  # Adjusted output_padding\n",
    "            nn.Sigmoid()  # Assuming input spectrogram is normalized between [0, 1]\n",
    "        )\n",
    "\n",
    "    def _get_conv_output_shape(self, input_shape):\n",
    "        # Create a mock input to calculate the shape and size after convolutional layers\n",
    "        mock_input = torch.zeros(1, 1, input_shape[0], input_shape[1])\n",
    "        conv_out = self.encoder_conv(mock_input)\n",
    "        conv_output_shape = conv_out.shape[1:]  # Shape after conv layers (channels, height, width)\n",
    "        flattened_size = int(torch.prod(torch.tensor(conv_output_shape)))  # Total flattened size\n",
    "        return conv_output_shape, flattened_size\n",
    "\n",
    "    def forward(self, x):\n",
    "        x = x.unsqueeze(1)  # Add channel dimension (batch, 1, height, width)\n",
    "        conv_out = self.encoder_conv(x)\n",
    "        flattened = torch.flatten(conv_out, start_dim=1)  # Flatten before the linear layer\n",
    "        latent = self.encoder_linear(flattened)  # 1D latent space\n",
    "        \n",
    "        # Apply tanh to restrict the latent space between -1 and 1\n",
    "        latent = torch.tanh(latent)\n",
    "\n",
    "        decoded = self.decoder_linear(latent)  # Map latent vector back to flattened conv size\n",
    "        reconstructed = self.decoder(decoded)  # Reconstruct the spectrogram\n",
    "        \n",
    "        # Optionally crop the output to ensure exact size\n",
    "        reconstructed = reconstructed[:, :, :input_shape[0], :input_shape[1]]  # Cropping to the desired size\n",
    "        \n",
    "        return reconstructed, latent\n",
    "       \n",
    "\n",
    "# Hyperparameters\n",
    "input_shape = (70, 250)  # Example shape for a 2D spectrogram (channels, frequency, time)\n",
    "latent_dim = 2500  # Fixed size of 1D latent space (you can adjust this)\n",
    "learning_rate = 1e-4\n",
    "\n",
    "# Initialize the model, optimizer, and loss function\n",
    "model = Autoencoder(input_shape=input_shape, latent_dim=latent_dim).to(device)\n",
    "\n",
    "# Apply weight initialization\n",
    "model.apply(initialize_weights)\n",
    "\n",
    "optimizer = optim.Adam(model.parameters(), lr=learning_rate)\n",
    "model = model.double()  # Convert model parameters to float64"
   ]
  },
  {
   "cell_type": "code",
   "execution_count": null,
   "id": "412ccffc-1c8f-442b-8ea6-29ceae19846a",
   "metadata": {},
   "outputs": [],
   "source": [
    "def train_autoencoder(model, data_train_loader, data_val_loader, loss_name, num_epochs=20):\n",
    "    \n",
    "    scheduler = optim.lr_scheduler.ReduceLROnPlateau(optimizer, 'min', patience=2, factor=0.5, verbose=True)\n",
    "\n",
    "    patience = 5\n",
    "    best_val_loss = float('inf')\n",
    "    patience_counter = 0\n",
    "    train_recon_losses = []\n",
    "    train_latent_losses = []\n",
    "    val_recon_losses = []\n",
    "    val_latent_losses = []\n",
    "    alphas = [1.0, 1.0] \n",
    "    \n",
    "    \n",
    "    model_name='model_CNN_AE'+'_'+str(loss_name)\n",
    "    checkpoint_path=os.getcwd()+'/'+model_name+'.pth'\n",
    "    \n",
    "    \n",
    "    for epoch in range(num_epochs):\n",
    "        \n",
    "        start_time=time.time()\n",
    "        total_train_loss = 0.0\n",
    "        train_recon_loss = 0.0\n",
    "        train_latent_loss = 0.0\n",
    "        \n",
    "        for spectrograms, target_timeseries in data_train_loader:\n",
    "            \n",
    "            model.train()\n",
    "            spectrograms = spectrograms.to('cuda' if torch.cuda.is_available() else 'cpu')\n",
    "            target_timeseries = target_timeseries.to('cuda' if torch.cuda.is_available() else 'cpu')\n",
    "            \n",
    "            # Zero the gradients\n",
    "            optimizer.zero_grad() \n",
    "            \n",
    "            # Forward pass\n",
    "            reconstructed_spectrograms, latent_rep = model(spectrograms)\n",
    "            \n",
    "            # Compute loss\n",
    "            recon_loss, latent_loss = loss_function_autoencoder(reconstructed_spectrograms, spectrograms, latent_rep, target_timeseries)\n",
    "            \n",
    "            losses = [recon_loss, latent_loss]\n",
    "\n",
    "            # Compute the total loss with current alphas\n",
    "            loss = sum(alpha * loss for alpha, loss in zip(alphas, losses))\n",
    "\n",
    "            # Adjust alphas using GradNorm (with respect to model output)\n",
    "            adjusted_alphas = gradnorm_adjustment(model, losses, alphas)\n",
    "\n",
    "            # Recompute the total loss with adjusted alphas\n",
    "            loss = sum(alpha * loss for alpha, loss in zip(adjusted_alphas, losses))\n",
    "            \n",
    "            # Compute gradients for each loss component independently\n",
    "#            recon_loss.backward(retain_graph=True)\n",
    "#            recon_grad_norm = sum(p.grad.norm() for p in model.parameters() if p.grad is not None)\n",
    "#            model.zero_grad()\n",
    "\n",
    "#            latent_loss.backward(retain_graph=True)\n",
    "#            latent_grad_norm = sum(p.grad.norm() for p in model.parameters() if p.grad is not None)\n",
    "#            model.zero_grad()\n",
    "            \n",
    "            # Dynamically adjust alpha based on gradient norms\n",
    "#            alpha = recon_grad_norm / (latent_grad_norm + 1e-8)\n",
    "\n",
    "            # Compute the total loss and update the model\n",
    "#            loss = recon_loss + alpha * latent_loss    \n",
    "            \n",
    "            \n",
    "            # Backpropagation and optimization\n",
    "#            optimizer.zero_grad()\n",
    "            loss.backward()\n",
    "            optimizer.step()\n",
    "            \n",
    "            train_recon_loss+= recon_loss.item()\n",
    "            train_latent_loss+= latent_loss.item()\n",
    "            total_train_loss += loss.item()\n",
    "        avg_train_recon_loss = train_recon_loss / len(train_loader)\n",
    "        avg_train_latent_loss = train_latent_loss / len(train_loader)\n",
    "        avg_train_loss = total_train_loss / len(train_loader)\n",
    "        \n",
    "        train_recon_losses.append(avg_train_recon_loss)\n",
    "        train_latent_losses.append(avg_train_latent_loss)\n",
    "        \n",
    "        # Validation phase\n",
    "        model.eval()\n",
    "        total_val_loss = 0.0\n",
    "        val_recon_loss = 0.0\n",
    "        val_latent_loss = 0.0\n",
    "        with torch.no_grad():\n",
    "            for spectrograms, target_timeseries in data_val_loader:\n",
    "                model.train()\n",
    "                spectrograms = spectrograms.to('cuda' if torch.cuda.is_available() else 'cpu')\n",
    "                target_timeseries = target_timeseries.to('cuda' if torch.cuda.is_available() else 'cpu')\n",
    "\n",
    "                # Forward pass\n",
    "                reconstructed_spectrograms, latent_rep = model(spectrograms)\n",
    "\n",
    "                # Compute loss\n",
    "                recon_loss, latent_loss = loss_function_autoencoder(reconstructed_spectrograms, spectrograms, latent_rep, target_timeseries)\n",
    "\n",
    "                loss = sum(alpha * loss for alpha, loss in zip(adjusted_alphas, [recon_loss, latent_loss]))\n",
    "                \n",
    "                \n",
    "                # Compute the total loss and update the model\n",
    "                #loss = recon_loss + alpha * latent_loss    \n",
    "                             \n",
    "                \n",
    "                val_recon_loss+= recon_loss.item()\n",
    "                val_latent_loss+= latent_loss.item()\n",
    "                total_val_loss += loss.item()\n",
    "            avg_val_recon_loss = val_recon_loss / len(val_loader)\n",
    "            avg_val_latent_loss = val_latent_loss / len(val_loader)\n",
    "            avg_val_loss = total_val_loss / len(val_loader)\n",
    "\n",
    "            val_recon_losses.append(avg_val_recon_loss)\n",
    "            val_latent_losses.append(avg_val_latent_loss)\n",
    "\n",
    "        \n",
    "        scheduler.step(avg_val_latent_loss)\n",
    "        \n",
    "        print(f'Epoch [{epoch + 1}/{num_epochs}],Total Training Loss={avg_train_loss:.4f},Recon Training Loss={avg_train_recon_loss:.4f},Latent Training Loss={avg_train_latent_loss:.4f},Total Validation Loss={avg_val_loss:.4f},Recon Validation Loss={avg_val_recon_loss:.4f},Latent Validation Loss={avg_val_latent_loss:.4f}, Time: {time.time()-start_time:.4f}')\n",
    "        \n",
    "#        if avg_val_latent_loss < best_val_loss:\n",
    "#            best_val_loss = avg_val_latent_loss\n",
    "#            patience_counter = 0\n",
    "#        else:\n",
    "#            patience_counter += 1\n",
    "#            if patience_counter >= patience:\n",
    "#                print(\"Early stopping\")\n",
    "#                break\n",
    "\n",
    "    # Save checkpoint if validation loss improves\n",
    "    if avg_val_loss < best_val_loss:\n",
    "        checkpoint = {\n",
    "            'epoch': epoch,\n",
    "            'model_state_dict': model.state_dict(),\n",
    "            'optimizer_state_dict': optimizer.state_dict(),\n",
    "            'loss': loss_name,\n",
    "            'val_loss': avg_val_loss,\n",
    "        }\n",
    "        \n",
    "        best_checkpoint_filename = checkpoint_path.format('best')\n",
    "        torch.save(checkpoint, best_checkpoint_filename)\n",
    "        best_val_loss = avg_val_loss\n",
    "\n",
    "\n",
    "\n",
    "    #save the model and the graph of the losses\n",
    "#    model_name='model_CNN_AE_'+str(epoch+1)+'e'\n",
    "#    torch.save(model.state_dict(), model_name+'.pth')\n",
    "\n",
    "\n",
    "    gs=gridspec.GridSpec(2,1)\n",
    "    ax1 = plt.subplot(gs[0,0])\n",
    "\n",
    "    # Plot the training and validation metrics\n",
    "    ax1.plot(train_recon_losses, label='Train Recon Loss')\n",
    "    ax1.plot(val_recon_losses, label='Validation Recon Loss')\n",
    "    ax1.legend()\n",
    "    \n",
    "    \n",
    "    ax2 = plt.subplot(gs[1,0])\n",
    "    \n",
    "    ax2.plot(train_latent_losses, label='Train Latent Loss')\n",
    "    ax2.plot(val_latent_losses, label='Validation Latent Loss')\n",
    "    ax2.legend()\n",
    "\n",
    "    #\n",
    "    #ax2.plot(val_pearson_correlations, label='Validation Pearson')\n",
    "    #plt.title(model_name)\n",
    "    plt.savefig(model_name+'.png', format='png')\n",
    "    plt.show()        "
   ]
  },
  {
   "cell_type": "markdown",
   "id": "da481dc8-96b1-4af4-bf40-facfbff31969",
   "metadata": {
    "tags": []
   },
   "source": [
    "## Transformer"
   ]
  },
  {
   "cell_type": "code",
   "execution_count": 59,
   "id": "f2f60f88-8875-4b80-803f-84f995524952",
   "metadata": {},
   "outputs": [
    {
     "name": "stdout",
     "output_type": "stream",
     "text": [
      "torch.Size([1, 2500])\n"
     ]
    }
   ],
   "source": [
    "# Patch Embedder with unified embedding for all patches\n",
    "class PatchEmbedder(nn.Module):\n",
    "    def __init__(self):\n",
    "        super(PatchEmbedder, self).__init__()\n",
    "        # Define a single linear layer to embed all patches of size 512 into latent space\n",
    "        self.embed = nn.Linear(512, 128)  # Project 512-dim patch to 128-dim latent space\n",
    "    \n",
    "    def forward(self, x):\n",
    "        # Split the input tensor into predefined patches, each of size 512\n",
    "        patches = [\n",
    "            x[:, :1, :512],  # First patch of size 512\n",
    "            x[:, 1:2, :512],  # Second patch of size 512\n",
    "            x[:, 2:3, :512],  # Third patch of size 512\n",
    "            x[:, 3:4, :512],  # Fourth patch of size 512\n",
    "            x[:, 4:5, :512],  # Fifth patch of size 512\n",
    "            x[:, 5:6, :512],  # Sixth patch of size 512\n",
    "            x[:, 6:7, :512],  # Seventh patch of size 512\n",
    "            x[:, 7:8, :512],  # Eighth patch of size 512\n",
    "            x[:, 8:9, :512],  # Ninth patch of size 512\n",
    "            x[:, 9:10, :512],  # Tenth patch of size 512\n",
    "            x[:, 10:, :512],  # Eleventh patch of size 512\n",
    "        ]\n",
    "        \n",
    "        # Embed each patch into the latent space (128-dim)\n",
    "        embedded_patches = [self.embed(patch) for patch in patches]\n",
    "        \n",
    "        # Concatenate the embedded patches\n",
    "        embeddings = torch.cat(embedded_patches, dim=1)  # Shape: (batch_size, num_patches, latent_dim)\n",
    "        return embeddings\n",
    "\n",
    "\n",
    "# Transformer Model\n",
    "class TransformerModel(nn.Module):\n",
    "    def __init__(self, num_patches=11, latent_dim=128, output_size=2500, num_heads=4, num_layers=6):\n",
    "        super(TransformerModel, self).__init__()\n",
    "        \n",
    "        # Patch embedder\n",
    "        self.patch_embedder = PatchEmbedder()\n",
    "        \n",
    "        # Transformer\n",
    "        self.transformer = nn.Transformer(\n",
    "            d_model=latent_dim,\n",
    "            nhead=num_heads,\n",
    "            num_encoder_layers=num_layers\n",
    "        )\n",
    "        \n",
    "        # Linear layer to project to output size\n",
    "        self.fc = nn.Linear(num_patches * latent_dim, output_size)\n",
    "        # Final tanh activation to constrain output to [-1, 1]\n",
    "        self.final_activation = nn.Tanh()\n",
    "    \n",
    "    def forward(self, x):\n",
    "        # Step 1: Embed the input patches into the latent space\n",
    "        embeddings = self.patch_embedder(x)\n",
    "        \n",
    "        # Step 2: Pass through Transformer\n",
    "        # Embeddings shape: (batch_size, num_patches, latent_dim)\n",
    "        transformer_output = self.transformer(embeddings, embeddings)\n",
    "        \n",
    "        # Step 3: Flatten the output and project to the target output size\n",
    "        flat_output = transformer_output.view(transformer_output.size(0), -1)  # Flatten\n",
    "        output = self.fc(flat_output)  # Project to 1D tensor of length 2500\n",
    "        \n",
    "        # Apply final tanh activation to constrain output between -1 and 1\n",
    "        output = self.final_activation(output)\n",
    "        \n",
    "        return output\n",
    "\n",
    "# Example usage\n",
    "batch_size = 1\n",
    "input_tensor = torch.randn(batch_size, 11, 512).to('cuda').double()  # Input of shape (1, 11, 512)\n",
    "\n",
    "model = TransformerModel(num_heads=4).to('cuda')\n",
    "initialize_weights(model)\n",
    "model=model.double()\n",
    "output_tensor = model(input_tensor)\n",
    "\n",
    "print(output_tensor.shape)  # Expected shape: (1, 2500)"
   ]
  },
  {
   "cell_type": "code",
   "execution_count": 110,
   "id": "0ad03630-447f-4c92-bc1f-63e7ca707c26",
   "metadata": {},
   "outputs": [
    {
     "name": "stdout",
     "output_type": "stream",
     "text": [
      "torch.Size([1, 625])\n"
     ]
    }
   ],
   "source": [
    "class PatchEmbedder(nn.Module):\n",
    "    def __init__(self):\n",
    "        super(PatchEmbedder, self).__init__()\n",
    "        # Define linear layers to embed patches into latent space\n",
    "        self.embed_128 = nn.Linear(128, 128)  # Project 128-dim patch to 128-dim latent space\n",
    "        self.embed_256 = nn.Linear(256, 128)  # Project 256-dim patch to 128-dim latent space\n",
    "        self.embed_512 = nn.Linear(512, 128)  # Project 512-dim patch to 128-dim latent space\n",
    "    \n",
    "    def forward(self, x):\n",
    "        # Split the input tensor into predefined patches\n",
    "        patches = [\n",
    "            x[:, :1, :128], x[:, 1:2, :128], x[:, 2:3, :128], x[:, 3:4, :128],\n",
    "            x[:, 4:5, :256], x[:, 5:6, :256], x[:, 6:7, :256], x[:, 7:8, :256],\n",
    "            x[:, 8:9, :512], x[:, 9:10, :512], x[:, 10:, :512]\n",
    "        ]\n",
    "        \n",
    "        # Embed each patch into the latent space\n",
    "        embedded_patches = [\n",
    "            self.embed_128(patches[i]) for i in range(4)\n",
    "        ] + [\n",
    "            self.embed_256(patches[i]) for i in range(4, 8)\n",
    "        ] + [\n",
    "            self.embed_512(patches[i]) for i in range(8, 11)\n",
    "        ]\n",
    "        \n",
    "        # Concatenate the embedded patches\n",
    "        embeddings = torch.cat(embedded_patches, dim=1)  # Resulting shape: (batch_size, num_patches, latent_dim)\n",
    "        return embeddings\n",
    "\n",
    "\n",
    "class TransformerModel(nn.Module):\n",
    "    def __init__(self, num_patches=11, latent_dim=128, output_size=2500, num_heads=4, num_layers=6):\n",
    "        super(TransformerModel, self).__init__()\n",
    "        \n",
    "        # Patch embedder\n",
    "        self.patch_embedder = PatchEmbedder()\n",
    "        \n",
    "        # Transformer\n",
    "        self.transformer = nn.Transformer(\n",
    "            d_model=latent_dim,\n",
    "            nhead=num_heads,\n",
    "            num_encoder_layers=num_layers\n",
    "        )\n",
    "        \n",
    "        # Linear layer to project to output size\n",
    "        self.fc = nn.Linear(num_patches * latent_dim, output_size)\n",
    "        # Final tanh activation to constrain output to [-1, 1]\n",
    "        self.final_activation = nn.Tanh()\n",
    "    \n",
    "    def forward(self, x):\n",
    "        # Step 1: Embed the input patches into the latent space\n",
    "        embeddings = self.patch_embedder(x)\n",
    "        \n",
    "        # Step 2: Pass through Transformer\n",
    "        # Embeddings shape: (batch_size, num_patches, latent_dim)\n",
    "        transformer_output = self.transformer(embeddings, embeddings)\n",
    "        \n",
    "        # Step 3: Flatten the output and project to the target output size\n",
    "        flat_output = transformer_output.view(transformer_output.size(0), -1)  # Flatten\n",
    "        output = self.fc(flat_output)  # Project to 1D tensor of length 2500\n",
    "        # Apply final tanh activation to constrain output between -1 and 1\n",
    "        output = self.final_activation(output)\n",
    "        \n",
    "        return output\n",
    "\n",
    "    \n",
    "import torch.nn.init as init\n",
    "\n",
    "def initialize_weights(model):\n",
    "    \"\"\"\n",
    "    Initialize the weights of the model with appropriate schemes.\n",
    "    \"\"\"\n",
    "    for m in model.modules():\n",
    "        if isinstance(m, nn.Linear):\n",
    "            # Xavier initialization for fully connected layers\n",
    "            init.xavier_normal_(m.weight)\n",
    "            if m.bias is not None:\n",
    "                init.constant_(m.bias, 0)\n",
    "        elif isinstance(m, nn.Embedding):\n",
    "            # Normal initialization for embedding layers (if you use any)\n",
    "            init.normal_(m.weight, mean=0, std=1)\n",
    "        elif isinstance(m, nn.Transformer):\n",
    "            # Default PyTorch initialization is typically sufficient for Transformer layers\n",
    "            for p in m.parameters():\n",
    "                if p.dim() > 1:\n",
    "                    init.xavier_uniform_(p)\n",
    "        elif isinstance(m, nn.LayerNorm):\n",
    "            # Initialize LayerNorm layers to have weights of 1 and biases of 0\n",
    "            init.constant_(m.bias, 0)\n",
    "            init.constant_(m.weight, 1.0)    \n",
    "    \n",
    "    \n",
    "# Example usage\n",
    "batch_size = 1\n",
    "output_size=125*5\n",
    "input_tensor = torch.randn(batch_size, 11, 512).to('cuda').double()  # Input of shape (1, 11, 512)\n",
    "\n",
    "model = TransformerModel(num_heads=4, output_size=output_size).to('cuda')\n",
    "initialize_weights(model)\n",
    "model=model.double()\n",
    "output_tensor = model(input_tensor)\n",
    "\n",
    "print(output_tensor.shape)  # Expected shape: (1, 2500)"
   ]
  },
  {
   "cell_type": "code",
   "execution_count": null,
   "id": "5f54b02c-462f-4100-ae91-32482ec48e7e",
   "metadata": {},
   "outputs": [],
   "source": [
    "# class Transformer2Dto1D(nn.Module):\n",
    "#     def __init__(self, input_dim, latent_dim, output_size=2500, num_heads=4, num_layers=2):\n",
    "#         super(Transformer2Dto1D, self).__init__()\n",
    "\n",
    "#         # Linear projection from 2D input (e.g., spectrogram) to a sequence of embeddings\n",
    "#         self.embedding = nn.Linear(input_dim, latent_dim)\n",
    "\n",
    "#         # Positional encoding is dynamically created for each input length\n",
    "#         self.positional_encoding = nn.Parameter(torch.zeros(1, 1000, latent_dim))  # Large enough max length\n",
    "\n",
    "#         # Transformer encoder layers\n",
    "#         encoder_layer = nn.TransformerEncoderLayer(\n",
    "#             d_model=latent_dim, nhead=num_heads, dim_feedforward=512\n",
    "#         )\n",
    "#         self.transformer_encoder = nn.TransformerEncoder(encoder_layer, num_layers=num_layers)\n",
    "\n",
    "#         # Project to the desired output size directly (2500 timesteps)\n",
    "#         self.project_to_output = nn.Linear(latent_dim, output_size)\n",
    "        \n",
    "#         # Final tanh activation to constrain output to [-1, 1]\n",
    "#         self.final_activation = nn.Tanh()\n",
    "        \n",
    "        \n",
    "\n",
    "#     def forward(self, x):\n",
    "#         # Input x: 2D tensor of shape (batch_size, num_features, num_timesteps)\n",
    "#         batch_size, num_features, num_timesteps = x.size()\n",
    "\n",
    "#         # Reshape input to (batch_size, num_timesteps, num_features)\n",
    "#         x = x.transpose(1, 2)\n",
    "\n",
    "#         # Project input features to latent_dim space\n",
    "#         x = self.embedding(x)\n",
    "\n",
    "#         # Generate positional encodings dynamically based on the input length\n",
    "#         pos_enc = self.positional_encoding[:, :num_timesteps, :]\n",
    "#         x = x + pos_enc\n",
    "\n",
    "#         # Pass through transformer encoder layers\n",
    "#         x = self.transformer_encoder(x)\n",
    "\n",
    "#         # Pooling layer: Global average pooling to reduce sequence length\n",
    "#         x = x.mean(dim=1)  # Pool across the sequence dimension\n",
    "\n",
    "#         # Project to 1D time series with 2500 steps\n",
    "#         x = self.project_to_output(x)\n",
    "        \n",
    "#         # Apply final tanh activation to constrain output between -1 and 1\n",
    "#         x = self.final_activation(x)\n",
    "\n",
    "#         return x\n",
    "\n",
    "# # Example usage:\n",
    "# batch_size = 16\n",
    "# num_features = 70  # Number of frequency bins (e.g., spectrogram height)\n",
    "# num_timesteps = 250  # Example size (variable)\n",
    "\n",
    "# latent_dim = 128  # Latent space size\n",
    "# output_size = 2500  # Target time series length\n",
    "# learning_rate=1e-4\n",
    "\n",
    "# # Initialize model\n",
    "# model = Transformer2Dto1D(input_dim=num_features, latent_dim=latent_dim, output_size=output_size,num_heads=16, num_layers=8).to('cuda')\n",
    "\n",
    "# optimizer = optim.Adam(model.parameters(), lr=learning_rate)\n",
    "# model = model.double()\n",
    "# # Example variable-size input\n",
    "# input_data = torch.randn(batch_size, num_features, num_timesteps).to('cuda').double()\n",
    "\n",
    "# # Forward pass\n",
    "# output = model(input_data)\n",
    "# print(output.shape)  # Output shape: (batch_size, 2500)"
   ]
  },
  {
   "cell_type": "code",
   "execution_count": null,
   "id": "b3d1445a-8f37-482b-9beb-91a7a1b3f10d",
   "metadata": {},
   "outputs": [],
   "source": [
    "def train_transformer(model, data_train_loader, data_val_loader, loss_name, num_epochs=20):\n",
    "    \n",
    "    scheduler = optim.lr_scheduler.ReduceLROnPlateau(optimizer, 'min', patience=5, factor=0.5, verbose=True)\n",
    "\n",
    "    patience = 5\n",
    "    best_val_loss = float('inf')\n",
    "    patience_counter = 0\n",
    "    train_l1_losses = []\n",
    "    train_sc_losses = []\n",
    "    val_l1_losses = []\n",
    "    val_sc_losses = []\n",
    "    alphas = [1.0, 1.0] \n",
    "    best_val_loss = float('inf')\n",
    "    \n",
    "    model_name='model_Transformer'+'_'+str(loss_name)\n",
    "\n",
    "    checkpoint_path=os.getcwd()+'/'+model_name+'.pth'\n",
    "    \n",
    "    \n",
    "    for epoch in range(num_epochs):\n",
    "        \n",
    "        start_time=time.time()\n",
    "        total_train_loss = 0.0\n",
    "        train_l1_loss = 0.0\n",
    "        train_sc_loss = 0.0\n",
    "        \n",
    "        for spectrograms, target_timeseries in data_train_loader:\n",
    "            \n",
    "            model.train()\n",
    "            spectrograms = spectrograms.to('cuda' if torch.cuda.is_available() else 'cpu')\n",
    "            target_timeseries = target_timeseries.to('cuda' if torch.cuda.is_available() else 'cpu')\n",
    "            \n",
    "            # Zero the gradients\n",
    "            optimizer.zero_grad() \n",
    "            \n",
    "            # Forward pass\n",
    "            reconstructed_timeseries= model(spectrograms)\n",
    "            \n",
    "            # Compute loss\n",
    "            l1_loss, sc_loss = compute_loss(reconstructed_timeseries, target_timeseries)\n",
    "            \n",
    "            losses = [l1_loss, sc_loss]\n",
    "\n",
    "            # Compute the total loss with current alphas\n",
    "            loss = sum(alpha * loss for alpha, loss in zip(alphas, losses))\n",
    "\n",
    "            # Adjust alphas using GradNorm (with respect to model output)\n",
    "            adjusted_alphas = gradnorm_adjustment(model, losses, alphas)\n",
    "\n",
    "            # Recompute the total loss with adjusted alphas\n",
    "            loss = sum(alpha * loss for alpha, loss in zip(adjusted_alphas, losses))\n",
    "            \n",
    "            # Compute gradients for each loss component independently\n",
    "#            recon_loss.backward(retain_graph=True)\n",
    "#            recon_grad_norm = sum(p.grad.norm() for p in model.parameters() if p.grad is not None)\n",
    "#            model.zero_grad()\n",
    "\n",
    "#            latent_loss.backward(retain_graph=True)\n",
    "#            latent_grad_norm = sum(p.grad.norm() for p in model.parameters() if p.grad is not None)\n",
    "#            model.zero_grad()\n",
    "            \n",
    "            # Dynamically adjust alpha based on gradient norms\n",
    "#            alpha = recon_grad_norm / (latent_grad_norm + 1e-8)\n",
    "\n",
    "            # Compute the total loss and update the model\n",
    "#            loss = recon_loss + alpha * latent_loss    \n",
    "            \n",
    "            \n",
    "            # Backpropagation and optimization\n",
    "#            optimizer.zero_grad()\n",
    "            loss.backward()\n",
    "            optimizer.step()\n",
    "            \n",
    "            train_l1_loss+= l1_loss.item()\n",
    "            train_sc_loss+= sc_loss.item()\n",
    "            total_train_loss += loss.item()\n",
    "        avg_train_l1_loss = train_l1_loss / len(train_loader)\n",
    "        avg_train_sc_loss = train_sc_loss / len(train_loader)\n",
    "        avg_train_loss = total_train_loss / len(train_loader)\n",
    "        \n",
    "        train_l1_losses.append(avg_train_l1_loss)\n",
    "        train_sc_losses.append(avg_train_sc_loss)\n",
    "        \n",
    "        # Validation phase\n",
    "        model.eval()\n",
    "        total_val_loss = 0.0\n",
    "        val_l1_loss = 0.0\n",
    "        val_sc_loss = 0.0\n",
    "        with torch.no_grad():\n",
    "            for spectrograms, target_timeseries in data_val_loader:\n",
    "                model.train()\n",
    "                spectrograms = spectrograms.to('cuda' if torch.cuda.is_available() else 'cpu')\n",
    "                target_timeseries = target_timeseries.to('cuda' if torch.cuda.is_available() else 'cpu')\n",
    "\n",
    "                # Forward pass\n",
    "                reconstructed_timeseries= model(spectrograms)\n",
    "\n",
    "                # Compute loss\n",
    "                l1_loss, sc_loss = compute_loss(reconstructed_timeseries, target_timeseries)\n",
    "\n",
    "                loss = sum(alpha * loss for alpha, loss in zip(adjusted_alphas, [l1_loss, sc_loss]))\n",
    "                \n",
    "                \n",
    "                # Compute the total loss and update the model\n",
    "                #loss = recon_loss + alpha * latent_loss    \n",
    "                             \n",
    "                \n",
    "                val_l1_loss+= l1_loss.item()\n",
    "                val_sc_loss+= sc_loss.item()\n",
    "                total_val_loss += loss.item()\n",
    "            avg_val_l1_loss = val_l1_loss / len(val_loader)\n",
    "            avg_val_sc_loss = val_sc_loss / len(val_loader)\n",
    "            avg_val_loss = total_val_loss / len(val_loader)\n",
    "\n",
    "            val_l1_losses.append(avg_val_l1_loss)\n",
    "            val_sc_losses.append(avg_val_sc_loss)\n",
    "\n",
    "        \n",
    "        scheduler.step(avg_val_loss)\n",
    "        \n",
    "        print(f'Epoch [{epoch + 1}/{num_epochs}],Total Training Loss={avg_train_loss:.4f},L2 Training Loss={avg_train_l1_loss:.4f},SC Training Loss={avg_train_sc_loss:.4f},Total Validation Loss={avg_val_loss:.4f},L2 Validation Loss={avg_val_l1_loss:.4f},SC Validation Loss={avg_val_sc_loss:.4f}, Time: {time.time()-start_time:.4f}')\n",
    "        \n",
    "#        if avg_val_latent_loss < best_val_loss:\n",
    "#            best_val_loss = avg_val_latent_loss\n",
    "#            patience_counter = 0\n",
    "#        else:\n",
    "#            patience_counter += 1\n",
    "#            if patience_counter >= patience:\n",
    "#                print(\"Early stopping\")\n",
    "#                break\n",
    "\n",
    "    \n",
    "        # Save checkpoint if validation loss improves\n",
    "    if avg_val_loss < best_val_loss:\n",
    "        checkpoint = {\n",
    "            'epoch': epoch,\n",
    "            'model_state_dict': model.state_dict(),\n",
    "            'optimizer_state_dict': optimizer.state_dict(),\n",
    "            'loss': loss_name,\n",
    "            'val_loss': avg_val_loss,\n",
    "        }\n",
    "        \n",
    "        best_checkpoint_filename = checkpoint_path.format('best')\n",
    "        torch.save(checkpoint, best_checkpoint_filename)\n",
    "        best_val_loss = avg_val_loss\n",
    "\n",
    "\n",
    "    gs=gridspec.GridSpec(2,1)\n",
    "    ax1 = plt.subplot(gs[0,0])\n",
    "\n",
    "    # Plot the training and validation metrics\n",
    "    ax1.plot(train_l1_losses, label='Train L2 Loss')\n",
    "    ax1.plot(val_l1_losses, label='Validation L2 Loss')\n",
    "    ax1.legend()\n",
    "    \n",
    "    \n",
    "    ax2 = plt.subplot(gs[1,0])\n",
    "    \n",
    "    ax2.plot(train_sc_losses, label='Train SC Loss')\n",
    "    ax2.plot(val_sc_losses, label='Validation SC Loss')\n",
    "    ax2.legend()\n",
    "\n",
    "    #\n",
    "    #ax2.plot(val_pearson_correlations, label='Validation Pearson')\n",
    "    plt.title(model_name)\n",
    "    plt.savefig(model_name+'.png', format='png')\n",
    "    plt.show()        "
   ]
  },
  {
   "cell_type": "markdown",
   "id": "0e7a042d-8991-4202-9149-84b3f6969dae",
   "metadata": {
    "tags": []
   },
   "source": [
    "# Loss Functions"
   ]
  },
  {
   "cell_type": "code",
   "execution_count": 67,
   "id": "1120536c-2182-4460-963c-e0a9d3a801d1",
   "metadata": {},
   "outputs": [],
   "source": [
    "def get_magnitude(stft_res):\n",
    "    real = stft_res[:, :, :, 0]\n",
    "    im = stft_res[:, :, :, 1]\n",
    "    return torch.sqrt(torch.pow(real, 2) + torch.pow(im, 2))\n",
    "def compute_stft(x):\n",
    "    _window = torch.hann_window(1024).to(device)\n",
    "    stft = torch.stft(x, 1024, win_length=1024, hop_length=64, window=_window, center=False, normalized=True,return_complex=False).to(device).transpose(1,2)\n",
    "    stft /= _window.pow(2).sum().sqrt()\n",
    "    return get_magnitude(stft)"
   ]
  },
  {
   "cell_type": "code",
   "execution_count": null,
   "id": "604a9c8b-ed24-4ef8-aade-818ce3d87bbb",
   "metadata": {},
   "outputs": [],
   "source": [
    "def oneD_L1_loss(y, target):\n",
    "    # Normalize the time series\n",
    "    y_mean = y.mean(dim=1, keepdim=True)\n",
    "    target_mean = target.mean(dim=1, keepdim=True)\n",
    "\n",
    "    y_std = y.std(dim=1, keepdim=True)\n",
    "    target_std = target.std(dim=1, keepdim=True)\n",
    "\n",
    "    y_norm = (y - y_mean) / (y_std + 1e-19)\n",
    "    target_norm = (target - target_mean) / (target_std + 1e-19)\n",
    "\n",
    "    l1_loss=torch.sum(torch.abs(y_norm-target_norm))\n",
    "    return l1_loss"
   ]
  },
  {
   "cell_type": "code",
   "execution_count": null,
   "id": "405b02c5-c8b4-48e8-9061-a880bb118bdd",
   "metadata": {},
   "outputs": [],
   "source": [
    "def correlation_loss(y, target):\n",
    "    # Normalize the time series\n",
    "    y_mean = y.mean(dim=1, keepdim=True)\n",
    "    target_mean = target.mean(dim=1, keepdim=True)\n",
    "\n",
    "    y_std = y.std(dim=1, keepdim=True)\n",
    "    target_std = target.std(dim=1, keepdim=True)\n",
    "\n",
    "    y_norm = (y - y_mean) / (y_std + 1e-19)\n",
    "    target_norm = (target - target_mean) / (target_std + 1e-19)\n",
    "\n",
    "    # Compute the correlation\n",
    "    correlation_matrix = torch.mm(y_norm, target_norm.T) / y.size(1)\n",
    "    diag_elements = correlation_matrix.diag()\n",
    "    correlation_loss = 1 - diag_elements.mean()\n",
    "    return correlation_loss"
   ]
  },
  {
   "cell_type": "code",
   "execution_count": 45,
   "id": "dd79830f-a216-42b3-8ac7-3096597b7615",
   "metadata": {},
   "outputs": [
    {
     "data": {
      "text/plain": [
       "tensor(1532.1269, device='cuda:0', dtype=torch.float64)"
      ]
     },
     "execution_count": 45,
     "metadata": {},
     "output_type": "execute_result"
    }
   ],
   "source": [
    "mock_y=torch.randn(100,2500).to(torch.float64).to(device)\n",
    "mock_target=torch.randn(100,2500).to(torch.float64).to(device)\n",
    "\n",
    "qt_y=qtransform(mock_y)\n",
    "qt_target=qtransform(mock_target)\n",
    "torch.norm(qt_y-qt_target)\n",
    "#qt_diff=torch.abs(qt_y-qt_targets)\n",
    "#torch.mean(qt_diff/(qt_y+1e-19))\n",
    "#compute_loss_stft(mock_y, mock_target, qtransform)"
   ]
  },
  {
   "cell_type": "code",
   "execution_count": 52,
   "id": "a05d7be7-70a6-451a-83f3-6bbe5bdb985a",
   "metadata": {},
   "outputs": [
    {
     "name": "stdout",
     "output_type": "stream",
     "text": [
      "tensor([[[-0.5249, -0.8531,  0.0596],\n",
      "         [ 1.5927, -0.7633, -1.9240]]])\n",
      "tensor([[-0.5249, -0.8531,  0.0596,  1.5927, -0.7633, -1.9240]])\n",
      "tensor(-0.4022)\n"
     ]
    }
   ],
   "source": [
    "mock_data=torch.randn([100,11,512])\n",
    "print(mock_data)\n",
    "print(mock_data.reshape(1,-1))\n",
    "print(torch.mean(mock_data.reshape(1,-1)))"
   ]
  },
  {
   "cell_type": "code",
   "execution_count": 90,
   "id": "88c3c7d3-b2ea-49c0-a766-97e9393546cd",
   "metadata": {},
   "outputs": [],
   "source": [
    " #forza roma\n",
    "def compute_loss_stft(y, target, qtransform):\n",
    "        b = y.shape[0]\n",
    "        \n",
    "#        stft_y = compute_stft(y).reshape(b,-1)\n",
    "\n",
    "#        stft_target = compute_stft(target).reshape(b,-1)\n",
    "\n",
    "#        p1 = torch.norm(stft_target - stft_y, p=2, dim=1)\n",
    "\n",
    "#        p2 = torch.norm(stft_target, p=2, dim=1)\n",
    "\n",
    "#        stft_loss = torch.mean(p1/(p2+1e-19))\n",
    "        \n",
    "\n",
    "        qt_y = qtransform(y)\n",
    "        #.reshape(b,-1)\n",
    "        #p1=torch.norm(qt_y, dim=2)\n",
    "       \n",
    "        qt_target = qtransform(target)\n",
    "        #.reshape(b,-1)\n",
    "        #p2=torch.norm(qt_target, dim=2)\n",
    "        weights=torch.tensor([128,128,128,128,256,256,256,256,512,512,512])\n",
    "        weights=weights.reshape(1,11,1).to(device)\n",
    "        \n",
    "        qt_abs_diff=torch.abs(qt_y-qt_target)/weights\n",
    "        \n",
    "        \n",
    "        qt_loss=torch.mean(torch.sum(qt_abs_diff/(qt_target+1e-10), dim=2))\n",
    "        \n",
    "\n",
    "#        p1= torch.norm(qt_target - qt_y, p=2, dim=1)\n",
    "\n",
    "#        p2 = torch.norm(qt_target, p=2, dim=1)\n",
    "\n",
    "#        qt_loss = torch.mean(p1/(p2+1e-19))\n",
    "        \n",
    "        #qt_loss=torch.mean(torch.abs(qt_y-qt_target)/(qt_target+1e-19))\n",
    "#        qt_loss=torch.norm(qt_y-qt_target, p='fro')/torch.norm(qt_y, p='fro')\n",
    "        #qt_loss=torch.mean(torch.abs(qt_y-qt_target)/qt_target)\n",
    "        #qt_loss=nn.MSELoss()(qt_y, qt_target)/torch.mean(qt_target)\n",
    "        \n",
    "        # Pearson Correlation Loss\n",
    "        #correlation= pearson_corr_batch(y, target)\n",
    "        #correlation_loss =torch.mean(1-correlation)\n",
    "        \n",
    "        #L2 loss\n",
    "        # Compute the squared differences\n",
    "        #squared_diff = (y - target) ** 2\n",
    "        \n",
    "        # Sum the squared differences along the data dimension and take the square root to get the L2 distance\n",
    "        #l2_dist = torch.mean(torch.sqrt(squared_diff.sum(dim=1)))\n",
    "        \n",
    "        #l1_dist = torch.mean(torch.abs(y - target))\n",
    "        #l1_dist=torch.tensor(0)\n",
    "        \n",
    "        #l_tot=50*l1_dist+stft_loss\n",
    "        \n",
    "        #qt_loss=torch.tensor(0)\n",
    "        \n",
    "        #tot_loss=qt_loss+8*correlation_loss\n",
    "\n",
    "        return qt_loss"
   ]
  },
  {
   "cell_type": "code",
   "execution_count": null,
   "id": "d0174427-6df7-4a75-8093-b204d8205abe",
   "metadata": {},
   "outputs": [],
   "source": [
    "def compute_loss(y, target):\n",
    "    b = y.shape[0]\n",
    "    \n",
    "    stft_y = compute_stft(y).reshape(b, -1)\n",
    "        \n",
    "    stft_target = compute_stft(target).reshape(b, -1)\n",
    "\n",
    "    p1 = torch.norm(stft_target - stft_y, p=2, dim=1)\n",
    "\n",
    "    p2 = torch.norm(stft_target, p=2, dim=1)\n",
    "\n",
    "    sc_loss = torch.mean(p1/(p2+1e-19))\n",
    "    \n",
    "    l2_loss=nn.MSELoss()(y, target)\n",
    "    \n",
    "    #tot_loss= l1_loss+sc_loss\n",
    "    \n",
    "    # Pearson Correlation Loss\n",
    "    #correlation= pearson_corr_batch(y, target)\n",
    "    #correlation_loss =torch.mean(1-correlation)\n",
    "    \n",
    "    \n",
    "    \n",
    "    #log_loss=torch.sum(torch.abs(torch.log(p1+1e-19)-torch.log(p2+1e-19)))\n",
    "    \n",
    "    \n",
    "    #tot_loss= 55.94481680006932*sc_loss+0.5045089877544637*log_loss\n",
    "\n",
    "    return l2_loss,sc_loss"
   ]
  },
  {
   "cell_type": "code",
   "execution_count": null,
   "id": "0ff4f356-d4e5-44fd-b608-f4e13f261305",
   "metadata": {},
   "outputs": [],
   "source": [
    "class LogCoshLoss(nn.Module):\n",
    "    def __init__(self):\n",
    "        super(LogCoshLoss, self).__init__()\n",
    "\n",
    "    def forward(self, predicted, target):\n",
    "        # Compute the difference between predicted and target\n",
    "        diff = predicted - target\n",
    "        # Compute the log-cosh of the difference\n",
    "        loss = torch.log(torch.cosh(diff))\n",
    "        # Return the mean loss\n",
    "        return loss.mean()"
   ]
  },
  {
   "cell_type": "code",
   "execution_count": null,
   "id": "43be237f-5cc5-4f6b-80c2-da246db83a56",
   "metadata": {},
   "outputs": [],
   "source": [
    "def loss_function_autoencoder(reconstructed_spectrogram, original_spectrogram, latent_representation, target_timeseries):\n",
    "    # Reconstruction loss (2D spectrogram)\n",
    "    recon_loss = nn.MSELoss()(reconstructed_spectrogram, original_spectrogram)\n",
    "    \n",
    "    b = latent_representation.shape[0]\n",
    "        \n",
    "    stft_latent = compute_stft(latent_representation).reshape(b,-1)\n",
    "\n",
    "    stft_target = compute_stft(target_timeseries).reshape(b,-1)\n",
    "\n",
    "    p1 = torch.norm(stft_target - stft_latent, p=2, dim=1)\n",
    "\n",
    "    p2 = torch.norm(stft_target, p=2, dim=1)\n",
    "\n",
    "    latent_loss = torch.mean(p1/(p2+1e-19))\n",
    "\n",
    "    \n",
    "    # Latent space loss (1D time series)\n",
    "    #latent_loss = nn.MSELoss()(latent_representation, target_timeseries)\n",
    "    \n",
    "    \n",
    "    # Combine the losses\n",
    "    #total_loss = recon_loss + 4*latent_loss\n",
    "    \n",
    "    return recon_loss, latent_loss"
   ]
  },
  {
   "cell_type": "markdown",
   "id": "9ace294f-e64d-4c23-973c-8683f6067f91",
   "metadata": {
    "jp-MarkdownHeadingCollapsed": true,
    "tags": []
   },
   "source": [
    "# Check initial gradients to adjust the relative weights in the loss"
   ]
  },
  {
   "cell_type": "code",
   "execution_count": null,
   "id": "aee7c7da-459a-4040-bc7f-6cc4d8aea63a",
   "metadata": {},
   "outputs": [],
   "source": [
    "mock_input=torch.randn(100,1,250,70).to(torch.float64).to(device)\n",
    "mock_targets=torch.randn(100,5000).to(torch.float64).to(device)\n",
    "\n",
    "model.train()\n",
    "# Forward pass\n",
    "output = model(mock_input)\n",
    "\n",
    "# Compute both losses\n",
    "#total_loss,L1,L2 = compute_loss(output, mock_targets)\n",
    "total_loss,L1,L2 = loss_function_autoencoder(output, mock_targets)\n",
    "\n",
    "model.train()\n",
    "# Zero gradients before backprop\n",
    "#model.zero_grad()\n",
    "\n",
    "# Backpropagation\n",
    "#total_loss.backward()\n",
    "\n",
    "# Get gradients of the first layer (fc1) weights\n",
    "#c_gradients = model.fc.weight.grad\n",
    "\n",
    "# Print the gradients of the first layer\n",
    "#print gradients of the first layer (fc):\", fc_gradients)\n",
    "\n",
    "# Optionally: inspect the gradients of L1 and L2 separately\n",
    "\n",
    "\n",
    "#print(\"Gradients of L2:\", fc_gradients_L2)"
   ]
  },
  {
   "cell_type": "code",
   "execution_count": null,
   "id": "e0a017c0-0fe0-4143-ace6-fde5efde109b",
   "metadata": {},
   "outputs": [],
   "source": [
    "model.zero_grad()  # Reset gradients\n",
    "L1.backward()  # Retain graph for the second backward pass\n",
    "fc_gradients_L1 = model.fc.weight.grad.clone()\n",
    "\n",
    "\n",
    "\n",
    "print(\"Gradients of L1:\", fc_gradients_L1)\n",
    "\n",
    "grad_L1_magnitude = torch.norm(fc_gradients_L1)\n",
    "print(grad_L1_magnitude)"
   ]
  },
  {
   "cell_type": "code",
   "execution_count": null,
   "id": "03294a37-d18c-4d86-a280-98cbc011c5d3",
   "metadata": {},
   "outputs": [],
   "source": [
    "# Forward pass\n",
    "output = model(mock_input)\n",
    "\n",
    "# Compute both losses\n",
    "total_loss,L1,L2 = compute_loss(output, mock_targets)\n",
    "\n",
    "model.train()\n",
    "model.zero_grad()\n",
    "L2.backward() \n",
    "fc_gradients_L2 = model.fc.weight.grad.clone()\n",
    "\n",
    "print(\"Gradients of L2:\", fc_gradients_L2)\n",
    "\n",
    "grad_L2_magnitude = torch.norm(fc_gradients_L2)\n",
    "print(grad_L2_magnitude)"
   ]
  },
  {
   "cell_type": "code",
   "execution_count": null,
   "id": "0ec6a545-a730-4b23-bd61-309b14d13c26",
   "metadata": {},
   "outputs": [],
   "source": [
    "grad_L2_magnitude/grad_L1_magnitude"
   ]
  },
  {
   "cell_type": "code",
   "execution_count": null,
   "id": "e6acb0f7-40ab-44e5-a828-4642db909297",
   "metadata": {},
   "outputs": [],
   "source": [
    "# GradNorm function for adjusting loss weights based on gradient norms\n",
    "def gradnorm_adjustment(model, losses, alphas, total_loss, layer_name='fc1'):\n",
    "    # Zero gradients before computing them\n",
    "    model.zero_grad()\n",
    "    total_loss.backward(retain_graph=True)\n",
    "\n",
    "    # Compute gradient norms for each loss component\n",
    "    grads = []\n",
    "    for i, loss in enumerate(losses):\n",
    "        model.zero_grad()  # Clear previous grads\n",
    "        loss.backward(retain_graph=True)  # Compute gradient for this loss\n",
    "        grad_norm = torch.norm(getattr(model, layer_name).weight.grad, p=2)  # Norm of the first layer gradients\n",
    "        grads.append(grad_norm.item())  # Store the grad norm\n",
    "\n",
    "    # Compute the target gradient norm (average of current norms)\n",
    "    target_grad_norm = sum(grads) / len(grads)\n",
    "\n",
    "    # Calculate scale factors to balance gradients\n",
    "    scale_factors = [target_grad_norm / grad for grad in grads]\n",
    "\n",
    "    # Adjust alphas using scale factors\n",
    "    adjusted_alphas = [alpha * scale for alpha, scale in zip(alphas, scale_factors)]\n",
    "\n",
    "    return adjusted_alphas"
   ]
  },
  {
   "cell_type": "code",
   "execution_count": null,
   "id": "74f9ff37-3e74-4305-a3cb-8790c1159b6b",
   "metadata": {},
   "outputs": [],
   "source": [
    "mock_input=torch.randn(100,1,250,70).to(torch.float64).to(device)\n",
    "mock_targets=torch.randn(100,5000).to(torch.float64).to(device)\n",
    "\n",
    "# Forward pass\n",
    "mock_output = model(mock_input)\n",
    "\n",
    "# Compute both losses\n",
    "sc_loss = compute_loss_stft(mock_output, mock_targets,qtransform)\n",
    "log_loss = compute_loss(mock_output, mock_targets)\n",
    "\n",
    "model.train()\n",
    "# Initialize loss weights (alphas)\n",
    "alphas = [1.0, 1.0]  # Starting with equal weighting for L1 and L2\n",
    "\n",
    "# Total loss\n",
    "losses = [sc_loss, log_loss]\n",
    "total_loss = sum(alpha * loss for alpha, loss in zip(alphas, losses))\n",
    "\n",
    "# Apply GradNorm to adjust the alphas (scaling factors for L1 and L2)\n",
    "adjusted_alphas = gradnorm_adjustment(model, losses, alphas, total_loss, layer_name='fc')\n",
    "print(\"Scaling Factor= \",adjusted_alphas[0]/adjusted_alphas[1]) \n",
    "# Recompute the total loss with adjusted alphas\n",
    "#total_loss = sum(alpha * loss for alpha, loss in zip(adjusted_alphas, losses))\n",
    "\n",
    "# Zero gradients and backward pass with the adjusted loss\n",
    "#model.zero_grad()\n",
    "#total_loss.backward()\n",
    "\n",
    "# Get gradients of the first layer (fc1) weights after adjustment\n",
    "#fc_gradients = model.fc.weight.grad"
   ]
  },
  {
   "cell_type": "code",
   "execution_count": null,
   "id": "a000527a-0cb4-481d-bea2-f00f6ced48cd",
   "metadata": {},
   "outputs": [],
   "source": [
    "print(\"Adjusted alphas (weights for L1 and L2):\", adjusted_alphas)\n",
    "print(\"Scaling Factor= \",adjusted_alphas[0]/adjusted_alphas[1]) \n",
    "print(\"Gradients of the first layer (fc1):\", fc_gradients)"
   ]
  },
  {
   "cell_type": "code",
   "execution_count": null,
   "id": "56cd3600-cac9-4f5d-a287-444be8226169",
   "metadata": {},
   "outputs": [],
   "source": [
    "mock_input=torch.randn(100,70,250).to(torch.float64).to(device)\n",
    "mock_targets=torch.randn(100,2500).to(torch.float64).to(device)\n",
    "\n",
    "# Forward pass\n",
    "mock_output = model(mock_input)\n",
    "\n",
    "# Compute both losses\n",
    "l1_loss, sc_loss = compute_loss(mock_output, mock_targets)\n",
    "\n",
    "model.train()\n",
    "# Initialize loss weights (alphas)\n",
    "alphas = [1.0, 1.0]  # Starting with equal weighting for L1 and L2\n",
    "\n",
    "# Total loss\n",
    "losses = [l1_loss, sc_loss]\n",
    "total_loss = sum(alpha * loss for alpha, loss in zip(alphas, losses))\n",
    "\n",
    "# Apply GradNorm to adjust the alphas (scaling factors for L1 and L2)\n",
    "adjusted_alphas = gradnorm_adjustment(model, losses, alphas, total_loss, layer_name='fc')\n",
    "print(\"Scaling Factor= \",adjusted_alphas[0]/adjusted_alphas[1]) "
   ]
  },
  {
   "cell_type": "markdown",
   "id": "0797f679-775e-44e9-abcf-9c6962b641ca",
   "metadata": {
    "tags": []
   },
   "source": [
    "# Training"
   ]
  },
  {
   "cell_type": "code",
   "execution_count": 112,
   "id": "4c86baa0-d757-4eda-bb36-6462c3a752e6",
   "metadata": {},
   "outputs": [],
   "source": [
    "from torch.utils.data import DataLoader, TensorDataset\n",
    "\n",
    "# Prepare DataLoader for training and validation data\n",
    "train_dataset = TensorDataset(X_train_tensor, y_train_tensor)\n",
    "train_loader = DataLoader(train_dataset, batch_size=100, shuffle=True)\n",
    "\n",
    "val_dataset = TensorDataset(X_test_tensor, y_test_tensor)\n",
    "val_loader = DataLoader(val_dataset, batch_size=100, shuffle=False)"
   ]
  },
  {
   "cell_type": "code",
   "execution_count": 113,
   "id": "ab678dc1-ebb4-4ca3-84a1-d97c906f31a3",
   "metadata": {},
   "outputs": [],
   "source": [
    "loss_name='SL_QTnormalised__zeroes_padding'"
   ]
  },
  {
   "cell_type": "code",
   "execution_count": 114,
   "id": "cd18a620-0a83-4f6b-a5e4-ac547f5814fb",
   "metadata": {
    "tags": []
   },
   "outputs": [
    {
     "name": "stdout",
     "output_type": "stream",
     "text": [
      "Epoch [1/30], Train Loss: 0.1143, Validation Loss: 0.0779 , Time: 28.0337\n",
      "Epoch [2/30], Train Loss: 0.0893, Validation Loss: 0.0770 , Time: 28.1338\n",
      "Epoch [3/30], Train Loss: 0.0837, Validation Loss: 0.0775 , Time: 28.4754\n",
      "Epoch [4/30], Train Loss: 0.0807, Validation Loss: 0.0768 , Time: 28.4999\n",
      "Epoch [5/30], Train Loss: 0.0788, Validation Loss: 0.0767 , Time: 28.6169\n",
      "Epoch [6/30], Train Loss: 0.0779, Validation Loss: 0.0759 , Time: 28.5377\n",
      "Epoch [7/30], Train Loss: 0.0773, Validation Loss: 0.0760 , Time: 28.4163\n",
      "Epoch [8/30], Train Loss: 0.0770, Validation Loss: 0.0754 , Time: 28.2126\n",
      "Epoch [9/30], Train Loss: 0.0767, Validation Loss: 0.0754 , Time: 28.2744\n",
      "Epoch [10/30], Train Loss: 0.0765, Validation Loss: 0.0757 , Time: 28.0897\n",
      "Epoch [11/30], Train Loss: 0.0764, Validation Loss: 0.0755 , Time: 28.0749\n",
      "Epoch [12/30], Train Loss: 0.0761, Validation Loss: 0.0756 , Time: 28.0582\n",
      "Epoch [13/30], Train Loss: 0.0761, Validation Loss: 0.0756 , Time: 28.0465\n",
      "Epoch [14/30], Train Loss: 0.0761, Validation Loss: 0.0753 , Time: 28.0557\n",
      "Epoch [15/30], Train Loss: 0.0758, Validation Loss: 0.0755 , Time: 28.1648\n",
      "Epoch [16/30], Train Loss: 0.0758, Validation Loss: 0.0754 , Time: 28.0203\n",
      "Epoch [17/30], Train Loss: 0.0757, Validation Loss: 0.0754 , Time: 28.0432\n",
      "Epoch [18/30], Train Loss: 0.0757, Validation Loss: 0.0756 , Time: 28.0267\n",
      "Epoch [19/30], Train Loss: 0.0757, Validation Loss: 0.0758 , Time: 28.0344\n",
      "Epoch 00020: reducing learning rate of group 0 to 1.2500e-04.\n",
      "Epoch [20/30], Train Loss: 0.0757, Validation Loss: 0.0753 , Time: 28.0280\n",
      "Epoch [21/30], Train Loss: 0.0753, Validation Loss: 0.0752 , Time: 28.0339\n"
     ]
    },
    {
     "name": "stderr",
     "output_type": "stream",
     "text": [
      "/tmp/ipykernel_123/3187287081.py:188: RuntimeWarning: More than 20 figures have been opened. Figures created through the pyplot interface (`matplotlib.pyplot.figure`) are retained until explicitly closed and may consume too much memory. (To control this warning, see the rcParam `figure.max_open_warning`). Consider using `matplotlib.pyplot.close()`.\n",
      "  fig=plt.figure(figsize=(14, 7))\n"
     ]
    },
    {
     "name": "stdout",
     "output_type": "stream",
     "text": [
      "Epoch [22/30], Train Loss: 0.0753, Validation Loss: 0.0752 , Time: 28.1836\n",
      "Epoch [23/30], Train Loss: 0.0753, Validation Loss: 0.0751 , Time: 28.0178\n",
      "Epoch [24/30], Train Loss: 0.0753, Validation Loss: 0.0751 , Time: 28.1859\n",
      "Epoch [25/30], Train Loss: 0.0753, Validation Loss: 0.0751 , Time: 27.9890\n",
      "Epoch [26/30], Train Loss: 0.0753, Validation Loss: 0.0751 , Time: 28.1655\n",
      "Epoch [27/30], Train Loss: 0.0752, Validation Loss: 0.0749 , Time: 28.1136\n",
      "Epoch [28/30], Train Loss: 0.0753, Validation Loss: 0.0751 , Time: 28.1408\n",
      "Epoch [29/30], Train Loss: 0.0752, Validation Loss: 0.0749 , Time: 27.9860\n",
      "Epoch [30/30], Train Loss: 0.0752, Validation Loss: 0.0750 , Time: 27.9970\n"
     ]
    },
    {
     "data": {
      "text/plain": [
       "<Figure size 1400x700 with 0 Axes>"
      ]
     },
     "metadata": {},
     "output_type": "display_data"
    },
    {
     "data": {
      "text/plain": [
       "<Figure size 1400x700 with 0 Axes>"
      ]
     },
     "metadata": {},
     "output_type": "display_data"
    },
    {
     "data": {
      "text/plain": [
       "<Figure size 1400x700 with 0 Axes>"
      ]
     },
     "metadata": {},
     "output_type": "display_data"
    },
    {
     "data": {
      "text/plain": [
       "<Figure size 1400x700 with 0 Axes>"
      ]
     },
     "metadata": {},
     "output_type": "display_data"
    },
    {
     "data": {
      "text/plain": [
       "<Figure size 1400x700 with 0 Axes>"
      ]
     },
     "metadata": {},
     "output_type": "display_data"
    },
    {
     "data": {
      "text/plain": [
       "<Figure size 1400x700 with 0 Axes>"
      ]
     },
     "metadata": {},
     "output_type": "display_data"
    },
    {
     "data": {
      "text/plain": [
       "<Figure size 1400x700 with 0 Axes>"
      ]
     },
     "metadata": {},
     "output_type": "display_data"
    },
    {
     "data": {
      "text/plain": [
       "<Figure size 1400x700 with 0 Axes>"
      ]
     },
     "metadata": {},
     "output_type": "display_data"
    },
    {
     "data": {
      "text/plain": [
       "<Figure size 1400x700 with 0 Axes>"
      ]
     },
     "metadata": {},
     "output_type": "display_data"
    },
    {
     "data": {
      "text/plain": [
       "<Figure size 1400x700 with 0 Axes>"
      ]
     },
     "metadata": {},
     "output_type": "display_data"
    },
    {
     "data": {
      "text/plain": [
       "<Figure size 1400x700 with 0 Axes>"
      ]
     },
     "metadata": {},
     "output_type": "display_data"
    },
    {
     "data": {
      "text/plain": [
       "<Figure size 1400x700 with 0 Axes>"
      ]
     },
     "metadata": {},
     "output_type": "display_data"
    },
    {
     "data": {
      "text/plain": [
       "<Figure size 1400x700 with 0 Axes>"
      ]
     },
     "metadata": {},
     "output_type": "display_data"
    },
    {
     "data": {
      "text/plain": [
       "<Figure size 1400x700 with 0 Axes>"
      ]
     },
     "metadata": {},
     "output_type": "display_data"
    },
    {
     "data": {
      "text/plain": [
       "<Figure size 1400x700 with 0 Axes>"
      ]
     },
     "metadata": {},
     "output_type": "display_data"
    },
    {
     "data": {
      "text/plain": [
       "<Figure size 1400x700 with 0 Axes>"
      ]
     },
     "metadata": {},
     "output_type": "display_data"
    },
    {
     "data": {
      "text/plain": [
       "<Figure size 1400x700 with 0 Axes>"
      ]
     },
     "metadata": {},
     "output_type": "display_data"
    },
    {
     "data": {
      "text/plain": [
       "<Figure size 1400x700 with 0 Axes>"
      ]
     },
     "metadata": {},
     "output_type": "display_data"
    },
    {
     "data": {
      "text/plain": [
       "<Figure size 1400x700 with 0 Axes>"
      ]
     },
     "metadata": {},
     "output_type": "display_data"
    },
    {
     "data": {
      "text/plain": [
       "<Figure size 1400x700 with 0 Axes>"
      ]
     },
     "metadata": {},
     "output_type": "display_data"
    },
    {
     "data": {
      "text/plain": [
       "<Figure size 1400x700 with 0 Axes>"
      ]
     },
     "metadata": {},
     "output_type": "display_data"
    },
    {
     "data": {
      "text/plain": [
       "<Figure size 1400x700 with 0 Axes>"
      ]
     },
     "metadata": {},
     "output_type": "display_data"
    },
    {
     "data": {
      "text/plain": [
       "<Figure size 1400x700 with 0 Axes>"
      ]
     },
     "metadata": {},
     "output_type": "display_data"
    },
    {
     "data": {
      "text/plain": [
       "<Figure size 1400x700 with 0 Axes>"
      ]
     },
     "metadata": {},
     "output_type": "display_data"
    },
    {
     "data": {
      "text/plain": [
       "<Figure size 1400x700 with 0 Axes>"
      ]
     },
     "metadata": {},
     "output_type": "display_data"
    },
    {
     "data": {
      "text/plain": [
       "<Figure size 1400x700 with 0 Axes>"
      ]
     },
     "metadata": {},
     "output_type": "display_data"
    },
    {
     "data": {
      "text/plain": [
       "<Figure size 1400x700 with 0 Axes>"
      ]
     },
     "metadata": {},
     "output_type": "display_data"
    },
    {
     "data": {
      "text/plain": [
       "<Figure size 1400x700 with 0 Axes>"
      ]
     },
     "metadata": {},
     "output_type": "display_data"
    },
    {
     "data": {
      "text/plain": [
       "<Figure size 1400x700 with 0 Axes>"
      ]
     },
     "metadata": {},
     "output_type": "display_data"
    },
    {
     "data": {
      "image/png": "[encoded data removed]",
      "text/plain": [
       "<Figure size 1400x700 with 1 Axes>"
      ]
     },
     "metadata": {},
     "output_type": "display_data"
    }
   ],
   "source": [
    "from scipy.stats import pearsonr\n",
    "\n",
    "# Move the model to the device\n",
    "model = model.to(device)\n",
    "\n",
    "# Define optimizer and scheduler\n",
    "optimizer = optim.AdamW(model.parameters(), lr=2.5e-4, weight_decay=1e-5)\n",
    "scheduler = optim.lr_scheduler.ReduceLROnPlateau(optimizer, 'min', patience=5, factor=0.5, verbose=True)\n",
    "\n",
    "train_losses = []\n",
    "val_losses = []\n",
    "val_pearson_correlations = []\n",
    "\n",
    "patience = 5\n",
    "best_val_loss = float('inf')\n",
    "patience_counter = 0\n",
    "num_epochs = 30\n",
    "\n",
    " # Initialize the Log-Cosh Loss\n",
    "#log_cosh_loss = LogCoshLoss()\n",
    "NN_name='Transformer'\n",
    "\n",
    "\n",
    "model_name='model_'+str(NN_name)+'_'+str(loss_name)\n",
    "\n",
    "checkpoint_path=os.getcwd()+'/'+model_name+'.pth'\n",
    "\n",
    "alternate_freq = 10\n",
    "\n",
    "for epoch in range(num_epochs):\n",
    "    \n",
    "    start_time=time.time()\n",
    "    model.train()\n",
    "    running_train_loss = 0.0\n",
    "    running_train_stft_loss = 0.0\n",
    "    running_train_log_loss = 0.0\n",
    "    running_val_pearson = 0.0\n",
    "    num_val_samples = 0\n",
    "\n",
    "    for inputs, targets in train_loader:\n",
    "        time0=time.time()\n",
    "        optimizer.zero_grad()\n",
    "\n",
    "        # Move inputs and targets to the device\n",
    "        inputs, targets = inputs.to(device), targets.to(device)\n",
    "\n",
    "        \n",
    "        outputs = model(inputs)\n",
    "      \n",
    "        \n",
    "        if (epoch // alternate_freq) % 2 == 0:\n",
    "            huber_loss = nn.SmoothL1Loss()\n",
    "            loss = huber_loss(outputs, targets)\n",
    "            # Use L2 loss \n",
    "#            loss = torch.nn.functional.l1_loss(outputs, targets)\n",
    "#            l2_loss=nn.MSELoss()\n",
    "#            loss=l2_loss(outputs, targets)\n",
    "#            loss=compute_loss_stft(outputs, targets, qtransform)\n",
    "#            loss= compute_loss(outputs,targets)\n",
    "        else:\n",
    "            huber_loss = nn.SmoothL1Loss()\n",
    "            loss = huber_loss(outputs, targets)\n",
    "#            loss= compute_loss(outputs,targets)\n",
    "#            loss = torch.nn.functional.l1_loss(outputs, targets)\n",
    "#            l2_loss=nn.MSELoss()\n",
    "#            loss=l2_loss(outputs, targets)\n",
    "            # Use STFT loss \n",
    "#            loss = compute_loss_stft(outputs, targets,qtransform)\n",
    "#            loss=compute_loss_stft(outputs, targets, qtransform)\n",
    "        #loss = compute_loss(outputs, targets)\n",
    "        #loss=oneD_L1_loss(outputs, targets)\n",
    "        #loss, stft_loss, log_loss=compute_loss(outputs, targets)\n",
    "        \n",
    "\n",
    "        loss.backward()\n",
    "        # Gradient clipping\n",
    "        torch.nn.utils.clip_grad_norm_(model.parameters(), max_norm=1.0)\n",
    "        optimizer.step()\n",
    "\n",
    "        running_train_loss += loss.item()\n",
    "        #running_train_stft_loss+= stft_loss.item()\n",
    "        #running_train_log_loss+= log_loss.item()\n",
    "    \n",
    "    \n",
    "    avg_train_loss = running_train_loss / len(train_loader)\n",
    "    #avg_train_stft_loss = running_train_stft_loss / len(train_loader)\n",
    "    #avg_train_log_loss = running_train_log_loss / len(train_loader)\n",
    "\n",
    "    train_losses.append(avg_train_loss)\n",
    "\n",
    "    # Validation phase\n",
    "    model.eval()\n",
    "    running_val_loss = 0.0\n",
    "    running_val_stft_loss = 0.0\n",
    "    running_val_log_loss = 0.0\n",
    "    with torch.no_grad():\n",
    "        for inputs, targets in val_loader:\n",
    "            # Move inputs and targets to the device\n",
    "            inputs, targets = inputs.to(device), targets.to(device)\n",
    "            \n",
    "            outputs = model(inputs)\n",
    "\n",
    "            \n",
    "            if (epoch // alternate_freq) % 2 == 0:\n",
    "                huber_loss = nn.SmoothL1Loss()\n",
    "                loss = huber_loss(outputs, targets)\n",
    "#                l2_loss=nn.MSELoss()\n",
    "#                loss=l2_loss(outputs, targets)\n",
    "#                loss=compute_loss_stft(outputs, targets, qtransform)\n",
    "                # Use L1 loss \n",
    "#                loss = torch.nn.functional.l1_loss(outputs, targets)\n",
    "#                loss= compute_loss(outputs,targets)\n",
    "            else:\n",
    "                huber_loss = nn.SmoothL1Loss()\n",
    "                loss = huber_loss(outputs, targets)\n",
    "#                loss= compute_loss(outputs,targets)\n",
    "#                l2_loss=nn.MSELoss()\n",
    "#                loss=l2_loss(outputs, targets)\n",
    "#                loss = torch.nn.functional.l1_loss(outputs, targets)\n",
    "#                loss=compute_loss_stft(outputs, targets, qtransform)\n",
    "                # Use STFT loss \n",
    "#                loss = compute_loss_stft(outputs, targets,qtransform)\n",
    "            \n",
    "            #loss = compute_loss(outputs, targets)\n",
    "            #loss=oneD_L1_loss(outputs, targets)\n",
    "            #oss, stft_loss, log_loss=compute_loss(outputs, targets)\n",
    "\n",
    "            \n",
    "            running_val_loss += loss.item()\n",
    "            #running_val_stft_loss += stft_loss.item()\n",
    "            #running_val_log_loss += log_loss.item()\n",
    "\n",
    "\n",
    "    avg_val_loss = running_val_loss / len(val_loader)\n",
    "    #avg_val_stft_loss= running_val_stft_loss / len(val_loader)\n",
    "    #avg_val_log_loss= running_val_log_loss / len(val_loader)\n",
    "    \n",
    "    val_losses.append(avg_val_loss)\n",
    "\n",
    "    scheduler.step(avg_val_loss)\n",
    "\n",
    "    # Convert outputs and targets to numpy arrays for Pearson correlation calculation\n",
    "#     outputs_np = outputs.detach().cpu().numpy()\n",
    "#     targets_np = targets.detach().cpu().numpy()\n",
    "#     for out, target in zip(outputs_np, targets_np):\n",
    "        \n",
    "        \n",
    "        \n",
    "        \n",
    "#         pearson_corr, _ = pearsonr(out, target)\n",
    "#         time8=time.time()\n",
    "#         print('Elapsed7 '+str(time8-time7))\n",
    "#         running_val_pearson += pearson_corr\n",
    "#         num_val_samples += 1\n",
    "\n",
    "#     val_pearson_correlations.append(abs(running_val_pearson) / num_val_samples)\n",
    "\n",
    "\n",
    "\n",
    "    #pint(f'Epoch [{epoch + 1}/{num_epochs}], Train Loss: {avg_train_loss:.4f},STFT Train Loss: {avg_train_stft_loss:.4f},LOG Train Loss: {avg_train_log_loss:.4f}, Validation Loss: {avg_val_loss:.4f},STFT Validation Loss: {avg_val_stft_loss:.4f},LOG Validation Loss: {avg_val_log_loss:.4f}, Time: {time.time()-start_time:.4f}')\n",
    "    print(f'Epoch [{epoch + 1}/{num_epochs}], Train Loss: {avg_train_loss:.4f}, Validation Loss: {avg_val_loss:.4f} , Time: {time.time()-start_time:.4f}')\n",
    "\n",
    "#    if avg_val_loss < best_val_loss:\n",
    "#        best_val_loss = avg_val_loss\n",
    "#        patience_counter = 0\n",
    "#    else:\n",
    "#        patience_counter += 1\n",
    "#        if patience_counter >= patience:\n",
    "#            print(\"Early stopping\")\n",
    "#            break\n",
    "            \n",
    "    \n",
    "    \n",
    "    # Save checkpoint if validation loss improves\n",
    "    if avg_val_loss < best_val_loss:\n",
    "        checkpoint = {\n",
    "            'epoch': epoch,\n",
    "            'model_state_dict': model.state_dict(),\n",
    "            'optimizer_state_dict': optimizer.state_dict(),\n",
    "            'loss': loss_name,\n",
    "            'val_loss': avg_val_loss,\n",
    "        }\n",
    "        \n",
    "        best_checkpoint_filename = checkpoint_path.format('best')\n",
    "        torch.save(checkpoint, best_checkpoint_filename)\n",
    "        best_val_loss = avg_val_loss\n",
    "\n",
    "    fig=plt.figure(figsize=(14, 7))\n",
    "    #print('Total time: '+str(time.time()-start_time))\n",
    "\n",
    "#model_name='model_'+str(NN_name)+'_'+str(loss_name)\n",
    "#torch.save(model.state_dict(), model_name+'.pth')\n",
    "    \n",
    "    \n",
    "gs=gridspec.GridSpec(2,1)\n",
    "ax1 = plt.subplot(gs[0,0])\n",
    "\n",
    "# Plot the training and validation metrics\n",
    "ax1.plot(train_losses, label='Train Loss')\n",
    "ax1.plot(val_losses, label='Validation Loss')\n",
    "ax1.legend()\n",
    "\n",
    "#ax2 = plt.subplot(gs[1,0])\n",
    "#ax2.plot(val_pearson_correlations, label='Validation Pearson')\n",
    "plt.title(model_name)\n",
    "plt.savefig(model_name+'.png', format='png')\n",
    "plt.show()"
   ]
  },
  {
   "cell_type": "code",
   "execution_count": null,
   "id": "79edc396-91e9-46f0-b121-dda9ab6cb166",
   "metadata": {},
   "outputs": [],
   "source": [
    "train_autoencoder(model, train_loader, val_loader, loss_name='MSE&STFT',num_epochs=500)"
   ]
  },
  {
   "cell_type": "code",
   "execution_count": null,
   "id": "b15b8425-d675-43c1-8aef-9ded387eb71e",
   "metadata": {},
   "outputs": [],
   "source": [
    "train_CNNLSTM(model, train_loader, val_loader, loss_name='SL_L2&STFT', num_epochs=50)"
   ]
  },
  {
   "cell_type": "code",
   "execution_count": null,
   "id": "a41ac069-2c4a-4114-851a-759539030f99",
   "metadata": {},
   "outputs": [],
   "source": [
    "train_transformer(model, train_loader, val_loader, loss_name='SL_L2&STFT', num_epochs=50)"
   ]
  },
  {
   "cell_type": "code",
   "execution_count": 57,
   "id": "0007f3e4-ceb8-48b9-8856-d77b689b198c",
   "metadata": {},
   "outputs": [
    {
     "data": {
      "text/plain": [
       "torch.Size([1600, 24, 513])"
      ]
     },
     "execution_count": 57,
     "metadata": {},
     "output_type": "execute_result"
    }
   ],
   "source": [
    "compute_stft(y_test_tensor).shape"
   ]
  },
  {
   "cell_type": "markdown",
   "id": "67453198-b86a-4f60-b1da-956c46519e5a",
   "metadata": {
    "jp-MarkdownHeadingCollapsed": true,
    "tags": []
   },
   "source": [
    "# MCNN"
   ]
  },
  {
   "cell_type": "code",
   "execution_count": null,
   "id": "246a2110-f381-42ed-becd-2e3bbf2f9f7f",
   "metadata": {},
   "outputs": [],
   "source": [
    "import matplotlib\n",
    "matplotlib.use(\"Agg\")\n",
    "import matplotlib.pylab as plt\n",
    "import IPython.display as ipd\n",
    "\n",
    "import numpy as np\n",
    "import torch\n",
    "#from utils import *\n",
    "%matplotlib inline"
   ]
  },
  {
   "cell_type": "code",
   "execution_count": null,
   "id": "19742c71-e5cd-4a6c-bb67-1ada4e57db11",
   "metadata": {},
   "outputs": [],
   "source": [
    "import torch.nn as nn\n",
    "import torch.nn.functional as F"
   ]
  },
  {
   "cell_type": "code",
   "execution_count": null,
   "id": "9de9f299-53e0-4d18-a231-0803d22d3d44",
   "metadata": {},
   "outputs": [],
   "source": [
    "from torch.utils.data import DataLoader, TensorDataset\n",
    "\n",
    "# Prepare DataLoader for training and validation data\n",
    "train_dataset = TensorDataset(X_train_tensor, y_train_tensor)\n",
    "train_loader = DataLoader(train_dataset, batch_size=32, shuffle=True)\n",
    "\n",
    "val_dataset = TensorDataset(X_test_tensor, y_test_tensor)\n",
    "val_loader = DataLoader(val_dataset, batch_size=32, shuffle=False)"
   ]
  },
  {
   "cell_type": "code",
   "execution_count": null,
   "id": "42b26e9c-289a-4e40-a1a3-ac3803890d71",
   "metadata": {},
   "outputs": [],
   "source": [
    "# this choice of layers' parameters is consistent with the sampling rate of 613, need to change it if the sampling rate is changed\n",
    "DEFAULT_LAYERS_PARAMS = [\n",
    " (2, 16, 64, 0),\n",
    " (2, 16, 32, 0),\n",
    " (2, 16, 16, 0),\n",
    " (2, 16, 8, 0),\n",
    " (2, 16, 4, 0),\n",
    " (2, 16, 2, 0),\n",
    " (2, 16, 1, -14)]\n",
    "\n",
    "for i, p in enumerate(DEFAULT_LAYERS_PARAMS):\n",
    "            stride, kernel_size, out_channels, add = p\n",
    "            if i == 0:\n",
    "                l_out = 48\n",
    "            #else:\n",
    "            #    in_channels = DEFAULT_LAYERS_PARAMS[i-1][2]\n",
    "            padding = (kernel_size - stride)//2\n",
    "            l_out=l_out*stride+add\n",
    "            print(l_out)"
   ]
  },
  {
   "cell_type": "code",
   "execution_count": null,
   "id": "9208b269-1985-466b-8569-640f8408a103",
   "metadata": {},
   "outputs": [],
   "source": [
    "# this choice of layers' parameters is consistent with the sampling rate of 613, need to change it if the sampling rate is changed\n",
    "DEFAULT_LAYERS_PARAMS = [\n",
    " (2, 16, 64, 0),\n",
    " (2, 16, 32, 0),\n",
    " (2, 16, 16, 0),\n",
    " (2, 16, 8, 0),\n",
    " (2, 16, 4, 0),\n",
    " (2, 16, 2, 0),\n",
    " (1, 16, 1,-11)]\n",
    "\n",
    "for i, p in enumerate(DEFAULT_LAYERS_PARAMS):\n",
    "            stride, kernel_size, out_channels, add = p\n",
    "            if i == 0:\n",
    "                l_out = 90\n",
    "            #else:\n",
    "            #    in_channels = DEFAULT_LAYERS_PARAMS[i-1][2]\n",
    "            padding = (kernel_size - stride)//2\n",
    "            l_out=l_out*stride+add\n",
    "            print(l_out)"
   ]
  },
  {
   "cell_type": "code",
   "execution_count": null,
   "id": "e89c6381-3d0b-483e-ac0e-0bdc52fc2dcd",
   "metadata": {},
   "outputs": [],
   "source": [
    "class MCNN(nn.Module):\n",
    "    def __init__(self, n_heads=3, layer_params=DEFAULT_LAYERS_PARAMS):\n",
    "        super(MCNN, self).__init__()\n",
    "        self._heads = nn.ModuleList()\n",
    "        for i in range(n_heads):\n",
    "            h = self._create_head(layer_params)\n",
    "            self._heads.append(h)\n",
    "        self.linear = nn.Linear(n_heads, 1)\n",
    "        # Adjust linear layer output dimensions\n",
    "        #self.linear = nn.Linear(4, 1)  \n",
    "        self.act_fn = nn.Softsign()\n",
    "    \n",
    "    def forward(self, x):\n",
    "#         import pdb; pdb.set_trace();\n",
    "        b = x.shape[0]\n",
    "        out = [head(x).reshape(-1, 1) for head in self._heads]\n",
    "        out = torch.cat(out, dim=1)\n",
    "        out = self.linear(out)\n",
    "        out = self.act_fn(out).reshape(b, -1)\n",
    "        return out\n",
    "        \n",
    "    def _create_head(self, layer_params):\n",
    "        layers = []\n",
    "        for i, p in enumerate(layer_params):\n",
    "            stride, kernel_size, out_channels, add = p\n",
    "            if i == 0:\n",
    "                in_channels = 250\n",
    "            else:\n",
    "                in_channels = layer_params[i-1][2]\n",
    "            padding = (kernel_size - stride)//2\n",
    "            m = torch.nn.ConvTranspose1d(in_channels, out_channels, kernel_size + add, stride=stride, padding=padding)\n",
    "            layers.append(m)\n",
    "            layers.append(nn.ELU())\n",
    "            \n",
    "        return nn.Sequential(*layers).cuda()"
   ]
  },
  {
   "cell_type": "code",
   "execution_count": null,
   "id": "1437e962-3353-4cb2-90dd-e53d7ebbb58a",
   "metadata": {},
   "outputs": [],
   "source": [
    "def get_magnitude(stft_res):\n",
    "    real = stft_res[:, :, :, 0]\n",
    "    im = stft_res[:, :, :, 1]\n",
    "    return torch.sqrt(torch.pow(real, 2) + torch.pow(im, 2))\n",
    "def compute_stft(x):\n",
    "    _window = torch.hann_window(1024).cuda()\n",
    "    stft = torch.stft(x, 1024, win_length=1024, hop_length=64, window=_window, center=False, normalized=True,return_complex=False).cuda().transpose(1,2)\n",
    "    stft /= _window.pow(2).sum().sqrt()\n",
    "    return get_magnitude(stft)"
   ]
  },
  {
   "cell_type": "code",
   "execution_count": null,
   "id": "1e651865-5e7b-499f-81ff-b4caacfe8c9d",
   "metadata": {},
   "outputs": [],
   "source": [
    "def compute_loss_stft(y, target):\n",
    "    b = y.shape[0]\n",
    "    \n",
    "    stft_y = compute_stft(y).reshape(b, -1)\n",
    "        \n",
    "    stft_target = compute_stft(target).reshape(b, -1)\n",
    "\n",
    "    p1 = torch.norm(stft_target - stft_y, p=2, dim=1)\n",
    "\n",
    "    p2 = torch.norm(stft_target, p=2, dim=1)\n",
    "\n",
    "    sc_loss = torch.mean(p1/(p2+1e-19))\n",
    "    \n",
    "    #log_loss=torch.mean(torch.abs(torch.log(p1+1e-19)-torch.log(p2+1e-19)))\n",
    "    \n",
    "    #tot_loss= 0.5*sc_loss+0.5*log_loss\n",
    "\n",
    "    return sc_loss"
   ]
  },
  {
   "cell_type": "code",
   "execution_count": null,
   "id": "1a628655-21fb-4a34-bede-67ac8042597e",
   "metadata": {},
   "outputs": [],
   "source": [
    "def compute_loss_qt(y, target):\n",
    "    b = y.shape[0]\n",
    "    \n",
    "    qt_y=qtransform(y).reshape(b, -1).to(torch.float64)\n",
    "        \n",
    "    qt_target = qtransform(target).reshape(b, -1).to(torch.float64)\n",
    "\n",
    "    p1 = torch.norm(qt_target - qt_y, p=2, dim=1)\n",
    "\n",
    "    p2 = torch.norm(qt_target, p=2, dim=1)\n",
    "\n",
    "    sc_loss = torch.mean(p1/(p2+1e-19))\n",
    "\n",
    "    return sc_loss"
   ]
  },
  {
   "cell_type": "code",
   "execution_count": null,
   "id": "739913f4-3f5c-4ff4-9fa8-0aa386c03186",
   "metadata": {},
   "outputs": [],
   "source": [
    "def plot_grad_histograms(model):\n",
    "    for name, param in model.named_parameters():\n",
    "        if param.grad is not None:\n",
    "            plt.figure()\n",
    "            plt.hist(param.grad.cpu().numpy().flatten(), bins=100)\n",
    "            plt.title(f\"Gradient Histogram for {name}\")\n",
    "            plt.xlabel(\"Gradient value\")\n",
    "            plt.ylabel(\"Frequency\")\n",
    "            plt.show()\n",
    "\n",
    "def print_grad_stats(model):\n",
    "    for name, param in model.named_parameters():\n",
    "        if param.grad is not None:\n",
    "            grad = param.grad\n",
    "            print(f\"Layer: {name}\")\n",
    "            print(f\"  Mean: {grad.mean().item()}\")\n",
    "            print(f\"  Max: {grad.max().item()}\")\n",
    "            print(f\"  Min: {grad.min().item()}\")\n",
    "            print(f\"  Std: {grad.std().item()}\\n\")\n",
    "        else:\n",
    "            print(f\"Layer: {name} has no gradients\")\n",
    "            \n",
    "\n",
    "def pearson_correlation(x, y):\n",
    "    # Function to compute Pearson correlation coefficient\n",
    "    return np.corrcoef(x, y)[0, 1]"
   ]
  },
  {
   "cell_type": "code",
   "execution_count": null,
   "id": "1875a8aa-81f1-4871-a46d-0e42e098b15a",
   "metadata": {},
   "outputs": [],
   "source": [
    "def train(model, optimizer, lr, steps, batch_size=48,patience=5, min_delta=0.001) :\n",
    "    \n",
    "    # Early stopping parameters\n",
    "    best_val_loss = float('inf')\n",
    "    current_patience = 0\n",
    "    best_model_state = None\n",
    "    \n",
    "    scheduler = optim.lr_scheduler.ReduceLROnPlateau(optimizer, 'min', patience=2, factor=0.5, verbose=True)\n",
    "\n",
    "    \n",
    "    train_loss_list=[]\n",
    "    val_loss_list=[]\n",
    "    pearson_valid_list = []\n",
    "    \n",
    "    for p in optimizer.param_groups : p['lr'] = lr\n",
    "    start = time.time()\n",
    "    nan_encountered=False\n",
    "    \n",
    "    \n",
    "    for i in range(steps) :\n",
    "        \n",
    "        start_time=time.time()\n",
    "        \n",
    "        model.train()\n",
    "        t_l = 0\n",
    "        for inputs, targets in train_loader:\n",
    "            \n",
    "            inputs=inputs.cuda()\n",
    "            targets=targets.cuda()\n",
    "            optimizer.zero_grad()\n",
    "            predict = model(inputs)\n",
    "            train_loss = compute_loss_stft(predict, targets)\n",
    "\n",
    "            train_loss.backward()\n",
    "            \n",
    "            nn.utils.clip_grad_norm_(model.parameters(), max_norm=1.0)  # Gradient clipping\n",
    "            optimizer.step()\n",
    "            speed = (i + 1) / (time.time() - start)\n",
    "            now=time.time()\n",
    "            t=now-start\n",
    "            #t = time_since(start)\n",
    "            t_l += train_loss.item()\n",
    "        avg_train_loss=t_l/len(train_loader)\n",
    "        train_loss_list.append(avg_train_loss)\n",
    "        \n",
    "        model.eval()\n",
    "        v_l = 0\n",
    "        for inputs, targets in val_loader:\n",
    "            inputs=inputs.cuda()\n",
    "            targets=targets.cuda()\n",
    "            optimizer.zero_grad()\n",
    "            validate = model(inputs)\n",
    "            val_loss = compute_loss_stft(validate, targets)\n",
    "                \n",
    "            v_l += val_loss.item()\n",
    "            \n",
    "        avg_val_loss=v_l/len(val_loader)\n",
    "        val_loss_list.append(avg_val_loss)\n",
    "        \n",
    "        scheduler.step(avg_val_loss)\n",
    "\n",
    "        \n",
    "        #real_vals = targets.detach().cpu().numpy()\n",
    "        #generated_vals = validate.detach().cpu().numpy()\n",
    "        #pearson_corr_valid = pearson_correlation(real_vals.flatten(), generated_vals.flatten())\n",
    "        #pearson_valid_list.append(pearson_corr_valid)\n",
    "        \n",
    "        print(f'Step [{i + 1}/{steps}], Train Loss: {avg_train_loss:.4f}, Validation Loss: {avg_val_loss:.4f}, Time: {time.time()-start_time:.4f}')\n",
    "            \n",
    "        \n",
    "        if avg_val_loss < best_val_loss:\n",
    "            best_val_loss = avg_val_loss\n",
    "            patience_counter = 0\n",
    "            torch.save(model.state_dict(), 'model_MCNN_stft_1000x90_200.pth')\n",
    "        else:\n",
    "            patience_counter += 1\n",
    "            if patience_counter >= patience:\n",
    "                print(\"Early stopping\")\n",
    "                break\n",
    "\n",
    "    # Restore the best model state\n",
    "    if best_model_state is not None:\n",
    "        model.load_state_dict(best_model_state)\n",
    "        \n",
    "    # Plotting results\n",
    "    plt.figure(figsize=(12, 6))\n",
    "    #plt.subplot(1, 2, 1)\n",
    "    plt.plot(train_loss_list, label='Train Loss')\n",
    "    plt.plot(val_loss_list, label='Valid Loss')\n",
    "    plt.xlabel('Epoch')\n",
    "    plt.ylabel('Loss')\n",
    "    plt.legend()\n",
    "\n",
    "    #plt.subplot(1, 2, 2)\n",
    "    #plt.plot(pearson_valid_list, label='Pearson Valid')\n",
    "    #plt.xlabel('Epoch')\n",
    "    #plt.ylabel('Pearson Correlation')\n",
    "    #plt.legend()\n",
    "\n",
    "    plt.tight_layout()\n",
    "    plt.show()\n",
    "\n",
    "    return model, train_loss_list, val_loss_list, pearson_valid_list"
   ]
  },
  {
   "cell_type": "code",
   "execution_count": null,
   "id": "0469497a-2a0b-4266-a50f-517eb54448bc",
   "metadata": {
    "tags": []
   },
   "outputs": [],
   "source": [
    "model = MCNN(4)\n",
    "model = model.cuda()\n",
    "inputs = torch.randn(1, 1000, 90).cuda()\n",
    "target= torch.randn(1, 5000).cuda()\n",
    "output = model(inputs)\n",
    "output.shape"
   ]
  },
  {
   "cell_type": "code",
   "execution_count": null,
   "id": "dbb56ebc-cf06-42b9-aea6-9c3db49757bc",
   "metadata": {},
   "outputs": [],
   "source": [
    "from torch import optim\n",
    "model = MCNN(4)\n",
    "model = model.cuda()\n",
    "model = model.double() \n",
    "optimizer = optim.Adam(model.parameters())\n",
    "\n",
    "for inputs, targets in train_loader:\n",
    "            inputs=inputs.cuda()\n",
    "outputs=model(inputs)"
   ]
  },
  {
   "cell_type": "code",
   "execution_count": null,
   "id": "cac86369-0436-411e-bc9b-83b3ad25ebdf",
   "metadata": {
    "tags": []
   },
   "outputs": [],
   "source": [
    "def initialize_weights(m):\n",
    "    if isinstance(m, nn.Conv1d) or isinstance(m, nn.ConvTranspose1d) or isinstance(m, nn.Linear):\n",
    "        nn.init.kaiming_normal_(m.weight, nonlinearity='relu')\n",
    "        if m.bias is not None:\n",
    "            nn.init.constant_(m.bias, 0)\n",
    "\n",
    "            \n",
    "from torch import optim\n",
    "model = MCNN(4)\n",
    "model = model.cuda()\n",
    "model=model.double()\n",
    "            \n",
    "model.apply(initialize_weights)\n",
    "#model(X_train_tensor.cuda())"
   ]
  },
  {
   "cell_type": "code",
   "execution_count": null,
   "id": "6561fc8f-82e7-42f2-9c73-3284e5b387c6",
   "metadata": {
    "tags": []
   },
   "outputs": [],
   "source": [
    "optimizer = optim.Adam(model.parameters())\n",
    "train(model, optimizer, lr=1e-4, steps=200, batch_size=32)"
   ]
  },
  {
   "cell_type": "markdown",
   "id": "c449d9f9-915f-4c41-a195-47c599bad545",
   "metadata": {},
   "source": [
    "Saving the model"
   ]
  },
  {
   "cell_type": "code",
   "execution_count": null,
   "id": "b7b4836b-00cc-4b00-b326-4fe7d41266ce",
   "metadata": {},
   "outputs": [],
   "source": [
    "plt.hist(correlation_list, bins=30)\n",
    "plt.title(f'Pearson Coefficients-MCNN-STFT 150 epochs. Mean={np.mean(correlation_list):.2f}, STD={np.std(correlation_list):.2f}')\n",
    "plt.savefig('Pearson_Coefficients-MCNN-STFT_150_epochs.png', format='png')\n",
    "plt.show()"
   ]
  },
  {
   "cell_type": "code",
   "execution_count": null,
   "id": "62fdef40-1856-4b39-9f6f-f9ef022acc3b",
   "metadata": {},
   "outputs": [],
   "source": [
    "saved_model_path='model_MCNN_stft_250x48_300.pth'\n",
    "model.load_state_dict(torch.load(saved_model_path))\n",
    "model.eval()"
   ]
  },
  {
   "cell_type": "code",
   "execution_count": null,
   "id": "f1e09029-f890-4728-8650-cc92382de32c",
   "metadata": {},
   "outputs": [],
   "source": [
    "out=model(X_test_tensor.cuda())\n",
    "pearson_tot=0.0\n",
    "num_tests=500\n",
    "sampling_rate=613\n",
    "for i in range(num_tests):\n",
    "    generated=out[i].data.cpu().numpy()\n",
    "    real=y_test_tensor[i].data.cpu().numpy()\n",
    "    \n",
    "    real=real[sampling_rate*4:6*sampling_rate]\n",
    "    generated=generated[sampling_rate*4:6*sampling_rate]\n",
    "    \n",
    "    real, generated= maximise_pearson(real, generated)\n",
    "    #fig=plt.figure(figsize=(14, 7))\n",
    "    #gs=gridspec.GridSpec(2,1)\n",
    "    \n",
    "    #ax1 = plt.subplot(gs[0,0])\n",
    "    #ax1.plot(np.array(real), label='Original TimeSeries')\n",
    "    #ax1.plot(np.array(generated), label='Generated Output')\n",
    "    \n",
    "    #plt.show()\n",
    "    \n",
    "    pearson_corr, _ = pearsonr(generated, real)\n",
    "    pearson_tot+=pearson_corr\n",
    "avg_pearson=pearson_tot/num_tests\n",
    "print(avg_pearson)"
   ]
  },
  {
   "cell_type": "markdown",
   "id": "94b2512e-c4b2-44c5-97a4-6ab5d64c394c",
   "metadata": {},
   "source": [
    "Print sample graphs"
   ]
  },
  {
   "cell_type": "code",
   "execution_count": null,
   "id": "d17c89b1-2384-49ff-aa12-7d4ffc662e87",
   "metadata": {},
   "outputs": [],
   "source": [
    "import scipy\n",
    "\n",
    "correlation_list=[]\n",
    "sampling_rate=613\n",
    "for i in range(5):\n",
    "    tms_real=TimeSeries(y_test_tensor[i].detach().cpu().numpy(), dt=1/sampling_rate)\n",
    "    q_real=X_test_tensor[i]\n",
    "            \n",
    "    output=model(q_real.reshape(1,250,48))\n",
    "    #output=model(X_test_tensor[i])\n",
    "\n",
    "    tms_generated=TimeSeries(output[0].detach().cpu().numpy(), dt=1/sampling_rate)\n",
    "    q_generated=qtransform(output[0])\n",
    "    \n",
    "    tms_real=tms_real[sampling_rate*4:6*sampling_rate]\n",
    "    tms_generated=tms_generated[sampling_rate*4:6*sampling_rate]\n",
    "    \n",
    "    tms_real, tms_generated= maximise_pearson(tms_real, tms_generated)\n",
    "\n",
    "    correlation, _ = scipy.stats.pearsonr(tms_real, tms_generated)\n",
    "    correlation_list.append(abs(correlation)) \n",
    "\n",
    "    print('Correlation= '+str(correlation))    \n",
    "    fig=plt.figure(figsize=(14, 7))\n",
    "    gs=gridspec.GridSpec(1,1)\n",
    "    \n",
    "    ax1 = plt.subplot(gs[0,0])\n",
    "    ax1.plot(np.array(tms_real), label='Original TimeSeries')\n",
    "    ax1.plot(np.array(tms_generated), label='Generated Output')\n",
    "    ax1.set_title(f'Graph {i+1} - Correlation= {correlation:.2f}')\n",
    "    ax1.legend()\n",
    "    plt.show()"
   ]
  },
  {
   "cell_type": "markdown",
   "id": "9a8afc40-b96e-4884-be6e-8b86acef241c",
   "metadata": {},
   "source": [
    "Save sample graphs"
   ]
  },
  {
   "cell_type": "code",
   "execution_count": null,
   "id": "199b381b-2ec4-4f5b-99b8-fd2813852cb7",
   "metadata": {},
   "outputs": [],
   "source": [
    "correlation_list = []\n",
    "sampling_rate = 613\n",
    "num_graphs = 8  # Number of graphs\n",
    "ncols = 4  # Number of columns (two subplots per row: one for the graph, one for the image)\n",
    "nrows = int(np.ceil(num_graphs))  # Number of rows, as we will use two subplots per graph\n",
    "\n",
    "# Adjust figure size to accommodate both time-series and 2D images\n",
    "fig, axs = plt.subplots(nrows, ncols * 2, figsize=(20, 6 * nrows))  # Wider figure to fit both plots and images\n",
    "\n",
    "# Create dummy lines for the single shared legend\n",
    "line_real, = plt.plot([], [], label='Original TimeSeries', color='blue')  # Empty line for the real time series\n",
    "line_generated, = plt.plot([], [], label='Generated Output', color='orange')  # Empty line for the generated time series\n",
    "\n",
    "for i in range(num_graphs):\n",
    "    tms_real = TimeSeries(y_test_tensor[i].detach().cpu().numpy(), dt=1/sampling_rate)\n",
    "    q_real = X_test_tensor[i]\n",
    "\n",
    "    output = model(X_test_tensor[i].reshape(1, 250, 48))\n",
    "    tms_generated = TimeSeries(output[0].detach().cpu().numpy(), dt=1/sampling_rate)\n",
    "    q_generated = qtransform(output[0])\n",
    "\n",
    "    # Truncate time series\n",
    "    tms_real = tms_real[sampling_rate*4:5*sampling_rate]\n",
    "    tms_generated = tms_generated[sampling_rate*4:5*sampling_rate]\n",
    "\n",
    "    # Maximise Pearson correlation\n",
    "    tms_real, tms_generated = maximise_pearson(tms_real, tms_generated)\n",
    "\n",
    "    # Calculate Pearson correlation\n",
    "    correlation, _ = scipy.stats.pearsonr(tms_real, tms_generated)\n",
    "    correlation_list.append(abs(correlation))\n",
    "\n",
    "    # Plot the time-series in the left subplot\n",
    "    row = i  # We only need to calculate the row since `ncols` is 2x the number of graphs\n",
    "    ax_graph = axs[row, 0]  # Left subplot for the time-series graph\n",
    "\n",
    "    ax_graph.plot(np.array(tms_real), color='blue')  # Real time-series\n",
    "    ax_graph.plot(np.array(tms_generated), color='orange')  # Generated time-series\n",
    "    ax_graph.set_title(f'Graph {i+1} - Correlation= {correlation:.2f}')\n",
    "\n",
    "    # Plot the 2D images in the right subplot\n",
    "    ax_image = axs[row, 1]  # Right subplot for the 2D image\n",
    "\n",
    "    ax_image.imshow(np.abs(q_real - q_generated), cmap='inferno')  # Difference between q_real and q_generated\n",
    "    ax_image.set_title(f'2D Image Difference {i+1}')\n",
    "\n",
    "# Remove any extra subplots if num_graphs < nrows * ncols * 2\n",
    "for j in range(num_graphs * 2, nrows * ncols * 2):\n",
    "    fig.delaxes(axs.flatten()[j])\n",
    "\n",
    "# Add a single legend for the entire figure\n",
    "fig.legend(handles=[line_real, line_generated], loc='upper center', ncol=2, bbox_to_anchor=(0.5, 1.05), frameon=False)\n",
    "\n",
    "# Adjust layout to minimize overlap and improve spacing\n",
    "plt.tight_layout(rect=[0, 0, 1, 0.95])  # Adjust to make space for the legend\n",
    "\n",
    "# Save the entire figure with all subplots (both time-series and 2D images)\n",
    "plt.savefig('MCNN_STFT+log_250x48_300e.png', dpi=300, bbox_inches='tight')  # Save figure\n",
    "plt.close(fig)"
   ]
  },
  {
   "cell_type": "code",
   "execution_count": null,
   "id": "e5ccba4c-4100-41cc-8d57-41e69e2d0123",
   "metadata": {},
   "outputs": [],
   "source": [
    "correlation_list = []\n",
    "sampling_rate = 613\n",
    "num_graphs = 8  # Set number of graphs\n",
    "ncols = 4  # Set 4 columns for better width utilization\n",
    "nrows = int(np.ceil(num_graphs / ncols))  # Automatically adjust number of rows\n",
    "\n",
    "# Adjust the figure size to be wider and less tall\n",
    "fig, axs = plt.subplots(nrows, ncols, figsize=(16, 6))  # Set a more balanced figsize\n",
    "\n",
    "# Create dummy lines for the single shared legend\n",
    "line_real, = plt.plot([], [], label='Original TimeSeries', color='blue')  # Empty line for the real time series\n",
    "line_generated, = plt.plot([], [], label='Generated Output', color='orange')  # Empty line for the generated time series\n",
    "\n",
    "for i in range(num_graphs):\n",
    "    tms_real = TimeSeries(y_test_tensor[i].detach().cpu().numpy(), dt=1/sampling_rate)\n",
    "    q_real = X_test_tensor[i]\n",
    "\n",
    "    output = model(X_test_tensor[i].reshape(1, 250, 48))\n",
    "    tms_generated = TimeSeries(output[0].detach().cpu().numpy(), dt=1/sampling_rate)\n",
    "    q_generated = qtransform(output[0])\n",
    "\n",
    "    # Truncate time series\n",
    "    tms_real = tms_real[sampling_rate*4:6*sampling_rate]\n",
    "    tms_generated = tms_generated[sampling_rate*4:6*sampling_rate]\n",
    "\n",
    "    # Maximise Pearson correlation\n",
    "    tms_real, tms_generated = maximise_pearson(tms_real, tms_generated)\n",
    "\n",
    "    # Calculate Pearson correlation\n",
    "    correlation, _ = scipy.stats.pearsonr(tms_real, tms_generated)\n",
    "    correlation_list.append(abs(correlation))\n",
    "\n",
    "    # Plot in the appropriate subplot\n",
    "    row, col = divmod(i, ncols)  # Calculate row and column index\n",
    "    ax = axs[row, col]  # Select subplot\n",
    "\n",
    "    ax.plot(np.array(tms_real), color='blue')  # Use the same color as in the dummy legend\n",
    "    ax.plot(np.array(tms_generated), color='orange')  # Use the same color as in the dummy legend\n",
    "    ax.set_title(f'Graph {i+1} - Correlation= {correlation:.2f}')\n",
    "\n",
    "# Remove any empty axes if num_graphs is less than nrows * ncols\n",
    "for j in range(num_graphs, nrows * ncols):\n",
    "    fig.delaxes(axs.flatten()[j])\n",
    "\n",
    "# Add a single legend for the entire figure\n",
    "fig.legend(handles=[line_real, line_generated], loc='upper center', ncol=2, bbox_to_anchor=(0.5, 1.05), frameon=False)\n",
    "\n",
    "# Adjust layout to minimize overlap and improve spacing\n",
    "plt.tight_layout(rect=[0, 0, 1, 0.95])  # Adjust to make space for the legend\n",
    "\n",
    "# Save the entire figure with all subplots\n",
    "plt.savefig('MCNN_STFT+log_250x48_300e.png', dpi=300, bbox_inches='tight')  # Save figure\n",
    "plt.close(fig)"
   ]
  },
  {
   "cell_type": "markdown",
   "id": "d9d8fb49-ef54-45dd-82e1-a2fb01a24983",
   "metadata": {
    "tags": []
   },
   "source": [
    "# Validation"
   ]
  },
  {
   "cell_type": "code",
   "execution_count": null,
   "id": "505780b5-a868-48ba-96f2-4c08ea2d6429",
   "metadata": {},
   "outputs": [],
   "source": [
    "tms_generated_torch=torch.tensor(tms_generated, dtype=torch.float64).to(device)\n",
    "#qplot_test=tms_real.q_transform(qrange=(5,5),frange=(5,15))\n",
    "spectrogram_generated=qtransform(tms_generated_torch)\n",
    "plt.figure(figsize=(10, 6))\n",
    "plt.imshow(spectrogram_generated.detach().cpu().numpy().T, aspect='auto', origin='lower', cmap='viridis')\n",
    "plt.colorbar(format='%+2.0f dB')\n",
    "plt.title('Spectrogram')\n",
    "plt.xlabel('Time bins')\n",
    "plt.ylabel('Frequency bins')\n",
    "plt.show()"
   ]
  },
  {
   "cell_type": "code",
   "execution_count": null,
   "id": "aacdf73b-e7b6-4212-a730-e4f627662028",
   "metadata": {},
   "outputs": [],
   "source": [
    "best_checkpoint_filename"
   ]
  },
  {
   "cell_type": "code",
   "execution_count": null,
   "id": "692931c1-89f7-4483-b6c0-890006e853d0",
   "metadata": {},
   "outputs": [],
   "source": [
    "saved_model_path='model_Transformer_SL_QT_TorchNorm.pth'\n",
    "#checkpoint=torch.load(best_checkpoint_filename)\n",
    "checkpoint=torch.load(saved_model_path)\n",
    "model.load_state_dict(checkpoint['model_state_dict'])\n",
    "model.eval()"
   ]
  },
  {
   "cell_type": "code",
   "execution_count": null,
   "id": "ed5126af-302d-4813-a14b-2f8aa5462d25",
   "metadata": {},
   "outputs": [],
   "source": [
    "#saved_model_path='model_CNNLSTM_STFT_best.pth'\n",
    "#model.load_state_dict(torch.load(saved_model_path))\n",
    "#model.eval()"
   ]
  },
  {
   "cell_type": "markdown",
   "id": "ce674866-705e-42ae-9609-b37cbdc6b78d",
   "metadata": {},
   "source": [
    "Computing the average Pearson correlation"
   ]
  },
  {
   "cell_type": "code",
   "execution_count": 116,
   "id": "7e3238b5-d879-44ff-9614-47a297a166d9",
   "metadata": {},
   "outputs": [
    {
     "data": {
      "text/plain": [
       "0.49142014892558183"
      ]
     },
     "execution_count": 116,
     "metadata": {},
     "output_type": "execute_result"
    }
   ],
   "source": [
    "import scipy\n",
    "correlation_list=[]\n",
    "sampling_rate=125\n",
    "for i in range(300):\n",
    "    tms_real=TimeSeries(y_test_tensor[i].detach().cpu().numpy(), dt=1/sampling_rate)\n",
    "    q_real=X_test_tensor[i]\n",
    "            \n",
    "    output=model(X_test_tensor[i].reshape(1,11,512))\n",
    "\n",
    "    tms_generated=TimeSeries(output[0].detach().cpu().numpy(), dt=1/sampling_rate)\n",
    "    #q_generated=qtransform(output[0])\n",
    "    \n",
    "    tms_real=tms_real[int(sampling_rate*1.5):int(3.5*sampling_rate)]\n",
    "    tms_generated=tms_generated[int(sampling_rate*1.5):int(3.5*sampling_rate)]\n",
    "    \n",
    "    tms_real, tms_generated= maximise_pearson(tms_real, tms_generated)\n",
    "\n",
    "    correlation, _ = scipy.stats.pearsonr(tms_real, tms_generated)\n",
    "    correlation_list.append(abs(correlation)) \n",
    "np.mean(correlation_list)"
   ]
  },
  {
   "cell_type": "markdown",
   "id": "b88a67e1-037d-4e2c-b5ec-b562ca986575",
   "metadata": {},
   "source": [
    "Plotting the best and worst generated signal"
   ]
  },
  {
   "cell_type": "code",
   "execution_count": 118,
   "id": "f1ab52c1-1241-4959-b637-5ca6c0a8f38e",
   "metadata": {
    "tags": []
   },
   "outputs": [
    {
     "name": "stdout",
     "output_type": "stream",
     "text": [
      "0.1401273879902128\n",
      "0.7734907297457483\n",
      "0.12415951405429991\n",
      "Correlation= 0.12415951405429991\n"
     ]
    },
    {
     "data": {
      "image/png": "[encoded data removed]",
      "text/plain": [
       "<Figure size 1400x700 with 2 Axes>"
      ]
     },
     "metadata": {},
     "output_type": "display_data"
    }
   ],
   "source": [
    "print(np.std(correlation_list))\n",
    "print(np.max(correlation_list))\n",
    "print(np.min(correlation_list))\n",
    "max_idx=correlation_list.index(np.max(correlation_list))\n",
    "min_idx=correlation_list.index(np.min(correlation_list))\n",
    "\n",
    "sampling_rate=125\n",
    "\n",
    "p=min_idx\n",
    "\n",
    "tms_real=TimeSeries(y_test_tensor[p].detach().cpu().numpy(), dt=1/sampling_rate)\n",
    "q_real=X_test_tensor[p]\n",
    "\n",
    "output=model(X_test_tensor[p].reshape(1,11,512))\n",
    "np_generated=output[0].detach().cpu().numpy()\n",
    "\n",
    "tms_generated=TimeSeries(np_generated, dt=1/sampling_rate)\n",
    "q_generated=qtransform(output[0])\n",
    "\n",
    "tms_real=tms_real[int(sampling_rate*1.5):int(3.5*sampling_rate)]\n",
    "tms_generated=tms_generated[int(sampling_rate*1.5):int(3.5*sampling_rate)]\n",
    "\n",
    "tms_real, tms_generated= maximise_pearson(tms_real, tms_generated)\n",
    "\n",
    "correlation, _ = scipy.stats.pearsonr(tms_real, tms_generated)\n",
    "correlation_list.append(abs(correlation)) \n",
    "\n",
    "print('Correlation= '+str(correlation))    \n",
    "fig=plt.figure(figsize=(14, 7))\n",
    "gs=gridspec.GridSpec(2,1)\n",
    "\n",
    "ax1 = plt.subplot(gs[0,0])\n",
    "ax1.plot(np.array(tms_real), label='Original TimeSeries')\n",
    "ax1.plot(np.array(tms_generated), label='Generated Output')\n",
    "ax1.set_title(f'Correlation= {correlation:.2f}')\n",
    "\n",
    "ax2 = plt.subplot(gs[1,0])\n",
    "ax2.imshow(X_test_tensor[p].detach().cpu().numpy(), vmin=0, vmax=15)\n",
    "\n",
    "ax1.legend()\n",
    "plt.show()"
   ]
  },
  {
   "cell_type": "markdown",
   "id": "40741983-78fa-4c02-9078-dc572cc15b8b",
   "metadata": {},
   "source": [
    "Save plots of real and generated timeseries together with real and generated CQTs"
   ]
  },
  {
   "cell_type": "code",
   "execution_count": null,
   "id": "aca24c1c-33f7-42c2-9285-7f28b13fcd2e",
   "metadata": {
    "tags": []
   },
   "outputs": [],
   "source": [
    "correlation_list = []\n",
    "sampling_rate = 500\n",
    "num_graphs = 10  # Number of graphs to generate\n",
    "\n",
    "# Adjust figure size to accommodate both the time-series and the spectrograms\n",
    "fig = plt.figure(figsize=(16, 8 * num_graphs))  # Larger figure size to fit everything\n",
    "\n",
    "# Create the outer GridSpec with as many rows as num_graphs, each row will have 2 columns\n",
    "outer_gs = gridspec.GridSpec(num_graphs, 2, width_ratios=[2, 1])\n",
    "\n",
    "for i in range(num_graphs):\n",
    "    tms_real = TimeSeries(y_test_tensor[i].detach().cpu().numpy(), dt=1/sampling_rate)\n",
    "    q_real = X_test_tensor[i].squeeze(0)\n",
    "    #q_real=compute_stft(y_test_tensor[i].reshape(1,1500))\n",
    "    #[:,75:175]\n",
    "    #q_real=qtransform(y_test_tensor[i].unsqueeze(0))[:,:,delta_cut*50:250-delta_cut*50]\n",
    "\n",
    "    output = model(X_test_tensor[i].reshape(1,70, 250))\n",
    "    \n",
    "    np_generated=output[0].detach().cpu().numpy()\n",
    "    \n",
    "    \n",
    "    tms_generated = TimeSeries(np_generated, dt=1/sampling_rate)\n",
    "    q_generated = qtransform(output[0]).squeeze(0)\n",
    "    #[:,:,delta_cut*50:250-delta_cut*50]\n",
    "    #[:,75:175]\n",
    "    #q_generated=compute_stft(output[0].reshape(1,1500))\n",
    "\n",
    "    # Truncate time series\n",
    "    tms_real = tms_real[int(sampling_rate*1.5):int(3.5*sampling_rate)]\n",
    "    tms_generated = tms_generated[int(sampling_rate*1.5):int(3.5*sampling_rate)]\n",
    "\n",
    "    # Maximise Pearson correlation\n",
    "    tms_real, tms_generated = maximise_pearson(tms_real, tms_generated)\n",
    "\n",
    "    # Calculate Pearson correlation\n",
    "    correlation, _ = scipy.stats.pearsonr(tms_real, tms_generated)\n",
    "    correlation_list.append(abs(correlation))\n",
    "\n",
    "    # Create subplots for this row\n",
    "    # Left: Time-series plot\n",
    "    ax1 = fig.add_subplot(outer_gs[i, 0])\n",
    "    ax1.plot(np.array(tms_real), color='blue', label='Original TimeSeries')\n",
    "    ax1.plot(np.array(tms_generated), color='orange', label='Generated Output')\n",
    "    \n",
    "   # Set the custom tick positions and labels on the x-axis\n",
    "    tick_positions = np.linspace(0, len(tms_real)-1, 5)  # 5 evenly spaced positions\n",
    "    tick_labels = ['3', '4', '5', '6', '7']  # Desired labels\n",
    "    \n",
    "    # Set the ticks and labels\n",
    "    ax1.set_xticks(tick_positions)\n",
    "    ax1.set_xticklabels(tick_labels)\n",
    "\n",
    "    ax1.set_title(f'Graph {i+1} - Correlation= {correlation:.2f}')\n",
    "    ax1.legend(loc='upper right')\n",
    "\n",
    "    # Right: Create a nested GridSpec for stacked spectrograms\n",
    "    gs_right = gridspec.GridSpecFromSubplotSpec(2, 1, subplot_spec=outer_gs[i, 1], hspace=0.4)\n",
    "\n",
    "    # Right (top): Spectrogram of q_real\n",
    "    ax2 = fig.add_subplot(gs_right[0])\n",
    "    q_real_numpy=q_real.detach().cpu().numpy().reshape(70,250)\n",
    "    #q_real_numpy=q_real.detach().cpu().numpy().reshape(8,513)\n",
    "    im1 = ax2.imshow(q_real_numpy, aspect='auto', vmin=0, vmax=15)\n",
    "    \n",
    "    # Set the custom tick positions and labels on the x-axis\n",
    "    tick_positions = np.linspace(0, q_real_numpy.shape[1]-1, 5)  # 5 evenly spaced positions\n",
    "\n",
    "    # Set the ticks and labels\n",
    "    ax2.set_xticks(tick_positions)\n",
    "    ax2.set_xticklabels(tick_labels)\n",
    "    ax2.set_title(f'CQT Real {i+1}')\n",
    "\n",
    "    plt.colorbar(im1, ax=ax2)\n",
    "\n",
    "    # Right (bottom): Spectrogram of q_generated\n",
    "    ax3 = fig.add_subplot(gs_right[1])\n",
    "    q_generated_numpy=q_generated.detach().cpu().numpy()\n",
    "    q_generated_numpy=q_generated_numpy.reshape(70,250)\n",
    "    im2 = ax3.imshow(q_generated_numpy, aspect='auto', vmin=0, vmax=15)\n",
    "    \n",
    "     # Set the custom tick positions and labels on the x-axis\n",
    "    tick_positions = np.linspace(0, q_generated_numpy.shape[1]-1, 5)  # 5 evenly spaced positions\n",
    "\n",
    "    # Set the ticks and labels\n",
    "    ax3.set_xticks(tick_positions)\n",
    "    ax3.set_xticklabels(tick_labels)\n",
    "    \n",
    "    ax3.set_title(f'CQT Generated {i+1}')\n",
    "    plt.colorbar(im2, ax=ax3)\n",
    "\n",
    "# Adjust layout to minimize overlap and improve spacing\n",
    "plt.tight_layout()\n",
    "\n",
    "# Save the entire figure with all subplots\n",
    "plt.savefig('Transformer_QTiles_SL_STFT.png', dpi=300, bbox_inches='tight')  # Save figure\n",
    "plt.close(fig)"
   ]
  },
  {
   "cell_type": "code",
   "execution_count": null,
   "id": "00dedc99-dfb6-4069-b555-8548f8707bef",
   "metadata": {},
   "outputs": [],
   "source": [
    "compute_stft(y_test_tensor[0].reshape(1,1500)).shape"
   ]
  },
  {
   "cell_type": "code",
   "execution_count": null,
   "id": "76ed59ea-e00f-4a56-96fa-b4f4cd6338be",
   "metadata": {},
   "outputs": [],
   "source": [
    "qtransform = SingleQTransform(sample_rate=500, duration=5, q=10, frange=[5,40],spectrogram_shape=(70,250)).to(device)\n",
    "qplt=qtransform(y_test_tensor[1]).detach().cpu().numpy().reshape(70,250)\n",
    "qplt=qplt[:,50:200]\n",
    "plt.figure(figsize=(6, 6))\n",
    "plt.imshow(qplt, aspect='auto', vmin=0,vmax=15)\n",
    "plt.title('Real')\n",
    "plt.xlabel('Time [pixel]')\n",
    "plt.ylabel('Frequency [pixel]')\n",
    "plt.colorbar()\n",
    "plt.show()"
   ]
  },
  {
   "cell_type": "markdown",
   "id": "4bcfe14e-95da-4748-91a0-a281ec3d41e9",
   "metadata": {},
   "source": [
    "Compare the real CQTs with the ones of the generated timeseries"
   ]
  },
  {
   "cell_type": "code",
   "execution_count": null,
   "id": "34e02e39-0625-429d-a9fb-6d601fa1147a",
   "metadata": {},
   "outputs": [],
   "source": [
    "sampling_rate = 500\n",
    "num_graphs = 10  \n",
    "\n",
    "\n",
    "for i in range(num_graphs): \n",
    "    \n",
    "    q_real = X_test_tensor[i].reshape(1000,90).T\n",
    "    output = model(X_test_tensor[i].reshape(1,1, 1000, 90))\n",
    "        \n",
    "    q_generated = qtransform(output[0]).reshape(1000,90).T\n",
    "    \n",
    "    fig, axes = plt.subplots(1, 3, figsize=(20, 7))\n",
    "    im0 = axes[0].imshow(q_real.detach().cpu().numpy(), aspect=\"auto\", origin=\"lower\", vmin=0, vmax=10)\n",
    "    axes[0].set_title(\"Real CQT\")\n",
    "    fig.colorbar(im0, ax=axes[0])\n",
    "\n",
    "    im1 = axes[1].imshow(q_generated.detach().cpu().numpy(), aspect=\"auto\", origin=\"lower\", vmin=0, vmax=10)\n",
    "    axes[1].set_title(\"Generated CQT\")\n",
    "    fig.colorbar(im1, ax=axes[1])\n",
    "    \n",
    "    abs_diff=q_real.detach().cpu().numpy()-q_generated.detach().cpu().numpy()\n",
    "\n",
    "    im2 = axes[2].imshow(abs_diff, aspect=\"auto\", origin=\"lower\", vmin=0, vmax=10)\n",
    "    axes[2].set_title(\"Abs Difference\")\n",
    "    fig.colorbar(im2, ax=axes[2])"
   ]
  },
  {
   "cell_type": "code",
   "execution_count": null,
   "id": "9bfaee90-dc5c-45ed-9635-66a98deb3f23",
   "metadata": {},
   "outputs": [],
   "source": [
    "output = model(X_test_tensor[0].reshape(1,1, 1000, 90))\n",
    "compute_stft(output).shape"
   ]
  },
  {
   "cell_type": "code",
   "execution_count": null,
   "id": "a1ce7438-e8d9-43d0-916f-7df6abb01b89",
   "metadata": {},
   "outputs": [],
   "source": [
    "output[0].shape"
   ]
  },
  {
   "cell_type": "code",
   "execution_count": null,
   "id": "164533e5-11b6-4dd5-bca5-3ef0ef74c6f1",
   "metadata": {},
   "outputs": [],
   "source": [
    "sampling_rate = 500\n",
    "num_graphs = 5\n",
    "\n",
    "\n",
    "for i in range(num_graphs): \n",
    "    \n",
    "    stft_real=compute_stft(y_test_tensor[i].reshape(1,5000)).reshape(63,513)\n",
    "    output = model(X_test_tensor[i].reshape(1,1, 1000, 90))\n",
    "        \n",
    "    stft_generated = compute_stft(output[0].reshape(1,5000)).reshape(63,513)\n",
    "    \n",
    "    fig, axes = plt.subplots(1, 3, figsize=(20, 7))\n",
    "    im0 = axes[0].imshow(stft_real.detach().cpu().numpy().T, aspect=\"auto\", origin=\"lower\")\n",
    "    axes[0].set_title(\"Real STFT\")\n",
    "    fig.colorbar(im0, ax=axes[0])\n",
    "\n",
    "    im1 = axes[1].imshow(stft_generated.detach().cpu().numpy().T, aspect=\"auto\", origin=\"lower\")\n",
    "    axes[1].set_title(\"Generated STFT\")\n",
    "    fig.colorbar(im1, ax=axes[1])\n",
    "    \n",
    "    abs_diff=np.abs(stft_real.detach().cpu().numpy()-stft_generated.detach().cpu().numpy())\n",
    "\n",
    "    im2 = axes[2].imshow(abs_diff.T, aspect=\"auto\", origin=\"lower\")\n",
    "    axes[2].set_title(\"Abs Difference\")\n",
    "    fig.colorbar(im2, ax=axes[2])"
   ]
  },
  {
   "cell_type": "markdown",
   "id": "b57aa3b0-ec38-454c-afb7-3371b853cdde",
   "metadata": {},
   "source": [
    "Plotting the STFT and Q transforms to compare them "
   ]
  },
  {
   "cell_type": "code",
   "execution_count": null,
   "id": "06cc4aba-71ff-4acd-bfb7-a8b02ac02d82",
   "metadata": {},
   "outputs": [],
   "source": [
    "correlation_list = []\n",
    "sampling_rate = 500\n",
    "duration=10\n",
    "num_graphs = 10  # Number of graphs to generate\n",
    "\n",
    "# Adjust figure size to accommodate both the time-series and the spectrograms\n",
    "fig = plt.figure(figsize=(16, 8 * num_graphs))  # Larger figure size to fit everything\n",
    "\n",
    "# Create the outer GridSpec with as many rows as num_graphs, each row will have 2 columns\n",
    "outer_gs = gridspec.GridSpec(num_graphs, 2, width_ratios=[2, 1])\n",
    "\n",
    "for i in range(num_graphs):\n",
    "    tms_real = TimeSeries(y_test_tensor[i].detach().cpu().numpy(), dt=1/sampling_rate)\n",
    "    q_real = X_test_tensor[i]\n",
    "    stft_real=compute_stft(y_test_tensor[i].reshape(1,sampling_rate*duration))\n",
    "\n",
    "    output = model(X_test_tensor[i].reshape(1,1, 250, 48))\n",
    "    tms_generated = TimeSeries(output[0].detach().cpu().numpy(), dt=1/sampling_rate)\n",
    "    q_generated = qtransform(output[0])\n",
    "    stft_generated=compute_stft(output[0].reshape(1,sampling_rate*duration))\n",
    "\n",
    "    gs_left = gridspec.GridSpecFromSubplotSpec(2, 1, subplot_spec=outer_gs[i, 0], hspace=0.4)\n",
    "    \n",
    "    ax0 = fig.add_subplot(gs_left[0])\n",
    "    im0=ax1.imshow(stft_real.detach().cpu().numpy().T, aspect='auto')\n",
    "    ax0.set_title(f'STFT real {i+1}')\n",
    "    plt.colorbar(im0, ax=ax0)\n",
    "    \n",
    "    \n",
    "    ax1 = fig.add_subplot(gs_left[1])\n",
    "    im1=ax1.imshow(stft_generated.detach().cpu().numpy().T, aspect='auto')\n",
    "    ax1.set_title(f'STFT generated {i+1}')\n",
    "    plt.colorbar(im1, ax=ax1)\n",
    "    \n",
    "\n",
    "    # Right: Create a nested GridSpec for stacked spectrograms\n",
    "    gs_right = gridspec.GridSpecFromSubplotSpec(2, 1, subplot_spec=outer_gs[i, 1], hspace=0.4)\n",
    "\n",
    "    # Right (top): Spectrogram of q_real\n",
    "    ax2 = fig.add_subplot(gs_right[0])\n",
    "    im2 = ax2.imshow(q_real.detach().cpu().numpy().T, aspect='auto', vmin=0, vmax=20)\n",
    "    ax2.set_title(f'q_real Spectrogram {i+1}')\n",
    "    plt.colorbar(im2, ax=ax2)\n",
    "\n",
    "    # Right (bottom): Spectrogram of q_generated\n",
    "    ax3 = fig.add_subplot(gs_right[1])\n",
    "    im3 = ax3.imshow(q_generated.detach().cpu().numpy().T, aspect='auto', vmin=0, vmax=20)\n",
    "    ax3.set_title(f'q_generated Spectrogram {i+1}')\n",
    "    plt.colorbar(im3, ax=ax3)\n",
    "\n",
    "# Adjust layout to minimize overlap and improve spacing\n",
    "plt.tight_layout()\n",
    "\n",
    "# Save the entire figure with all subplots\n",
    "plt.savefig('STFT_VS_QT_STFTloss_250x48_29e.png', dpi=300, bbox_inches='tight')  # Save figure\n",
    "plt.close(fig)"
   ]
  },
  {
   "cell_type": "markdown",
   "id": "66845a27-ccb9-4c87-bb84-4edfaba8f464",
   "metadata": {},
   "source": [
    "Plotting the real and generated timeseries "
   ]
  },
  {
   "cell_type": "code",
   "execution_count": null,
   "id": "161788f0-f927-4870-8690-fb2cd067c533",
   "metadata": {
    "tags": []
   },
   "outputs": [],
   "source": [
    "sampling_rate=500\n",
    "for i in range(10):\n",
    "    tms_real=TimeSeries(y_test_tensor[i].detach().cpu().numpy(), dt=1/613)\n",
    "    q_real=X_test_tensor[i]\n",
    "            \n",
    "    output=model(X_test_tensor[i].reshape(1,70,250))\n",
    "    tms_generated=TimeSeries(output[0].detach().cpu().numpy(), dt=1/613)\n",
    "    q_generated=qtransform(output[0])\n",
    "    \n",
    "    tms_real=tms_real[sampling_rate*1:4*sampling_rate]\n",
    "    tms_generated=tms_generated[sampling_rate*1:4*sampling_rate]\n",
    "    \n",
    "    tms_real, tms_generated= maximise_pearson(tms_real, tms_generated)\n",
    "\n",
    "    correlation, _ = scipy.stats.pearsonr(tms_real, tms_generated)\n",
    "    correlation_list.append(abs(correlation)) \n",
    "\n",
    "    print('Correlation= '+str(correlation))    \n",
    "    fig=plt.figure(figsize=(14, 7))\n",
    "    gs=gridspec.GridSpec(1,1)\n",
    "    \n",
    "    ax1 = plt.subplot(gs[0,0])\n",
    "    ax1.plot(np.array(tms_real), label='Original TimeSeries')\n",
    "    ax1.plot(np.array(tms_generated), label='Generated Output')\n",
    "    ax1.set_title(f'Graph {i+1} - Correlation= {correlation:.2f}')\n",
    "    ax1.legend()\n",
    "    \n",
    "    #vmin = min(np.min(qplot_test), np.min(q_generated))\n",
    "    #vmax = max(np.max(qplot_test), np.max(q_generated))\n",
    "    \n",
    "    #ax2=plt.subplot(gs[1,0],sharex=ax1)\n",
    "    #im2=ax2.imshow(q_real[0].detach().cpu().numpy(), aspect='auto', origin='lower', extent=[tms_real.times.value.min(), tms_real.times.value.max(),low_freq,high_freq], cmap='viridis', vmin=0, vmax=15)\n",
    "\n",
    "    #im2=ax2.imshow(np.transpose(q_real[0].detach().cpu().numpy()), aspect='auto', origin='lower', cmap='viridis')\n",
    "\n",
    "    #ax3 = plt.subplot(gs[2,0], sharex=ax1)\n",
    "    #im3=ax3.imshow(q_generated.detach().cpu().numpy(), aspect='auto', origin='lower', extent=[tms_generated.times.value.min(), tms_generated.times.value.max(),low_freq,high_freq], cmap='viridis', vmin=0, vmax=15)\n",
    "    #im3=ax3.imshow(abs(np.transpose(q_real[0].detach().cpu().numpy())-np.transpose(q_generated.detach().cpu().numpy())), aspect='auto', origin='lower', cmap='viridis')\n",
    "\n",
    "    #ax3.set_xlabel('Time (s)')\n",
    "    \n",
    "    #fig.savefig(f'subfigure_{i+1}.png')\n",
    "    #plt.close(fig)\n",
    "    \n",
    "    plt.show()"
   ]
  },
  {
   "cell_type": "code",
   "execution_count": null,
   "id": "423565f1-7994-4169-a4fd-bd5442536902",
   "metadata": {},
   "outputs": [],
   "source": [
    "gw_spectrogram=qtransform(torch.tensor(event)).to(torch.float64)\n",
    "gw_spectrogram=gw_spectrogram.to(device)"
   ]
  },
  {
   "cell_type": "code",
   "execution_count": null,
   "id": "27c112dd-3817-48b5-a3d9-d16db9ec6be7",
   "metadata": {},
   "outputs": [],
   "source": [
    "sl_path='/data/datasets/intertwin-dati-aux/gspy_O3a_Scattered_Light_V1'\n",
    "filename=listdir(sl_path)[2]\n",
    "fout=h5.File(sl_path+'/'+filename)\n",
    "event_id=list(fout.keys())[0]\n",
    "signal=fout[event_id]['V1:Hrec_hoft_16384Hz']\n",
    "\n",
    "gps=signal.attrs['t0']\n",
    "tms=TimeSeries(signal, dt=1/signal.attrs['sample_rate'],t0=gps).whiten()\n",
    "event= tms.crop(gps+3, gps+13).resample(500)\n",
    "\n",
    "\n",
    "\n",
    "gw_generated=model(gw_spectrogram.reshape(1,1,70,250)).detach().cpu().numpy().reshape(5000)\n",
    "gw_generated, event=maximise_pearson(gw_generated, event)\n",
    "\n",
    "np_event=np.array(event)\n",
    "np_event=np_event/max(np_event)\n",
    "\n",
    "correlation, _ = scipy.stats.pearsonr(np_event, gw_generated)\n",
    "correlation=np.abs(correlation)\n",
    "fig=plt.figure(figsize=(14, 7))\n",
    "gs=gridspec.GridSpec(1,1)\n",
    "\n",
    "ax1 = plt.subplot(gs[0,0])\n",
    "ax1.plot(np_event, label='Original TimeSeries')\n",
    "ax1.plot(gw_generated, label='Generated Output')\n",
    "ax1.set_title(f'Correlation= {correlation:.2f}')\n",
    "ax1.legend()  "
   ]
  },
  {
   "cell_type": "code",
   "execution_count": null,
   "id": "108c17c5-005b-41f9-99ba-f3fac1d2f026",
   "metadata": {},
   "outputs": [],
   "source": [
    "qscan=QScan(sample_rate=500, duration=5, qrange=[5,30], frange=[5,40],spectrogram_shape=(70,250)).to(device)\n",
    "qs=qscan.get_qs()"
   ]
  },
  {
   "cell_type": "code",
   "execution_count": null,
   "id": "de5564d6-1beb-4fe6-a4e6-40008136ff85",
   "metadata": {},
   "outputs": [],
   "source": [
    "#qplt=X_test_tensor[0].detach().cpu().numpy()\n",
    "\n",
    "qtransform2 = SingleQTransform(sample_rate=500, duration=5, q=22, frange=[5,40],spectrogram_shape=(70,250)).to(device)\n",
    "glitch=torch.tensor(df_tms.iloc[0]['V1:Hrec_hoft_16384Hz'])\n",
    "qplt_1=qtransform(glitch).reshape(70,250)\n",
    "qplt_2=qtransform2(glitch).reshape(70,250)\n",
    "\n",
    "fig=plt.figure(figsize=(14, 7))\n",
    "gs=gridspec.GridSpec(1,1)\n",
    "\n",
    "#plt.figure(figsize=(6, 6))\n",
    "ax1 = plt.subplot(gs[0,0])\n",
    "ax1.imshow(qplt_1, aspect='auto', vmin=0, vmax=10)\n",
    "#plt.title('Real')\n",
    "#plt.xlabel('Time [pixel]')\n",
    "#plt.ylabel('Frequency [pixel]')\n",
    "ax1.colorbar()\n",
    "\n",
    "ax2 = plt.subplot(gs[1,0])\n",
    "ax2 = plt.subplot(gs[0,0])\n",
    "ax2.imshow(qplt_2, aspect='auto', vmin=0, vmax=10)\n",
    "ax2.colorbar()\n",
    "\n",
    "plt.show()"
   ]
  },
  {
   "cell_type": "markdown",
   "id": "452c9141-e1a3-4e30-a76f-3fca321769b5",
   "metadata": {
    "tags": []
   },
   "source": [
    "## Comparing STFT and Q Transform"
   ]
  },
  {
   "cell_type": "code",
   "execution_count": null,
   "id": "92d77075-9daf-4415-a982-9ca731f7e247",
   "metadata": {},
   "outputs": [],
   "source": [
    "qt.shape"
   ]
  },
  {
   "cell_type": "code",
   "execution_count": null,
   "id": "6ab502cb-6135-400e-8fca-3a45926816f2",
   "metadata": {},
   "outputs": [],
   "source": [
    "qt=padded_tensor[0].detach().cpu().numpy().reshape(11,512)\n",
    "fig, axes=plt.subplots(1,1, figsize=(20,7))\n",
    "im0=axes.imshow(qt, aspect='auto', vmin=0, vmax=5)\n",
    "fig.colorbar(im0, ax=axes)\n",
    "plt.show()"
   ]
  },
  {
   "cell_type": "code",
   "execution_count": null,
   "id": "a1da4dca-2bec-42fc-b171-3128b404e92f",
   "metadata": {},
   "outputs": [],
   "source": [
    "qt=X_test_tensor[0].detach().cpu().numpy()\n",
    "#stft=compute_stft(y_test_tensor[0].reshape(1,2500)).reshape(24,513).detach().cpu().numpy()\n",
    "qt_g=qtransform(model(X_test_tensor[0].reshape(1,11,512))).reshape(11,512).detach().cpu().numpy()\n",
    "fig, axes = plt.subplots(1, 3, figsize=(20, 7))\n",
    "\n",
    "#plt.figure(figsize=(6, 6))\n",
    "#axes[0] = plt.subplot(gs[0,0])\n",
    "im0=axes[0].imshow(qt, aspect='auto', vmin=0, vmax=5)\n",
    "fig.colorbar(im0, ax=axes[0])\n",
    "#plt.title('Real')\n",
    "#plt.xlabel('Time [pixel]')\n",
    "#plt.ylabel('Frequency [pixel]')\n",
    "#axes[0].colorbar()\n",
    "\n",
    "#ax2 = plt.subplot(gs[1,1])\n",
    "#axes[1] = plt.subplot(gs[0,0])\n",
    "im1=axes[1].imshow(qt_g, aspect='auto', vmin=0, vmax=5)\n",
    "fig.colorbar(im1, ax=axes[1])\n",
    "\n",
    "im2=axes[2].imshow(qt-qt_g, aspect='auto', vmin=0, vmax=5)\n",
    "fig.colorbar(im2, ax=axes[2])\n",
    "\n",
    "\n",
    "plt.show()"
   ]
  },
  {
   "cell_type": "code",
   "execution_count": null,
   "id": "321d7963-01b2-417b-a280-2112ad575a9b",
   "metadata": {},
   "outputs": [],
   "source": [
    "qt1=X_test_tensor[0].reshape(1,11,512)\n",
    "qt2=qtransform(model(X_test_tensor[0].reshape(1,11,512)))\n",
    "((qt1-qt2)/(qt1+1e-19)).shape"
   ]
  },
  {
   "cell_type": "code",
   "execution_count": null,
   "id": "75fca25f-4d4a-40ad-977d-8e8575faefd4",
   "metadata": {},
   "outputs": [],
   "source": [
    "torch.norm(a1, dim=2)"
   ]
  },
  {
   "cell_type": "code",
   "execution_count": null,
   "id": "1536e03f-29b7-4f9d-9cc7-1cae338f7dc5",
   "metadata": {},
   "outputs": [],
   "source": [
    "torch.norm(a1)"
   ]
  },
  {
   "cell_type": "code",
   "execution_count": 61,
   "id": "ebec355c-4044-497c-899b-f5356cd2c76e",
   "metadata": {},
   "outputs": [
    {
     "data": {
      "text/plain": [
       "tensor([[[2.0000, 0.0000, 0.0000],\n",
       "         [1.0000, 1.5000, 0.0000],\n",
       "         [3.0000, 3.0000, 1.6667]]])"
      ]
     },
     "execution_count": 61,
     "metadata": {},
     "output_type": "execute_result"
    }
   ],
   "source": [
    "weighted/(a1+1e-19)"
   ]
  },
  {
   "cell_type": "code",
   "execution_count": 62,
   "id": "91d5950d-1085-4685-b52c-1c1d68a5c60d",
   "metadata": {},
   "outputs": [
    {
     "data": {
      "text/plain": [
       "tensor([[1., 0., 0., 1., 1., 0., 1., 1., 1.]])"
      ]
     },
     "execution_count": 62,
     "metadata": {},
     "output_type": "execute_result"
    }
   ],
   "source": [
    "a1.reshape(1,-1)"
   ]
  },
  {
   "cell_type": "code",
   "execution_count": 60,
   "id": "9ed8ed12-6173-493f-801d-5a0057bd0f4a",
   "metadata": {},
   "outputs": [
    {
     "name": "stdout",
     "output_type": "stream",
     "text": [
      "tensor([[[2.0000, 0.0000, 0.0000],\n",
      "         [1.0000, 1.5000, 0.0000],\n",
      "         [3.0000, 3.0000, 1.6667]]])\n"
     ]
    },
    {
     "data": {
      "text/plain": [
       "tensor(4.0556)"
      ]
     },
     "execution_count": 60,
     "metadata": {},
     "output_type": "execute_result"
    }
   ],
   "source": [
    "a1=torch.tensor([[[1,0,0],[1,1,0],[1,1,1]]], dtype=torch.float32)\n",
    "a2=torch.tensor([[[3,0,0],[2,4,0],[4,7,6]]], dtype=torch.float32)\n",
    "weights=torch.tensor([1,2,3])\n",
    "weighted=torch.abs(a1-a2)/weights\n",
    "print(weighted)\n",
    "torch.mean(torch.sum(weighted/(a1+1e-19), dim=2))\n",
    "\n",
    "\n",
    "\n",
    "\n",
    "#p1=torch.norm(a1,p=2, dim=1)\n",
    "\n",
    "#p2=torch.norm(a2,p=2, dim=1)\n",
    "\n",
    "#torch.mean(p1/(p2+1e-19))"
   ]
  },
  {
   "cell_type": "markdown",
   "id": "ccc5cf1c-f505-4d7a-9959-d5fe31f96d4b",
   "metadata": {
    "jp-MarkdownHeadingCollapsed": true,
    "tags": []
   },
   "source": [
    "# Autoencoder Validation"
   ]
  },
  {
   "cell_type": "code",
   "execution_count": null,
   "id": "09ea7a2b-a593-42b5-91be-ea995ac58ace",
   "metadata": {},
   "outputs": [],
   "source": [
    "saved_model_path='model_CNN_AE_MSE&STFT.pth'\n",
    "checkpoint=torch.load(saved_model_path)\n",
    "model.load_state_dict(checkpoint['model_state_dict'])\n",
    "model.eval()"
   ]
  },
  {
   "cell_type": "code",
   "execution_count": null,
   "id": "c1df26de-d28e-471f-b286-f5aa1588f1b0",
   "metadata": {},
   "outputs": [],
   "source": [
    "saved_model_path='model_CNN_AE_MSE&STFT.pth'\n",
    "model.load_state_dict(torch.load(saved_model_path))\n",
    "model.eval()"
   ]
  },
  {
   "cell_type": "markdown",
   "id": "8e147e70-16e0-406a-acef-cad927df88ef",
   "metadata": {},
   "source": [
    "Define the encoder to generate timeseries from spectrograms"
   ]
  },
  {
   "cell_type": "code",
   "execution_count": null,
   "id": "dc353c57-6a4a-4368-a6b2-694596b4f23b",
   "metadata": {},
   "outputs": [],
   "source": [
    "class Encoder(nn.Module):\n",
    "    def __init__(self, autoencoder):\n",
    "        super(Encoder, self).__init__()\n",
    "        # Copy the encoder layers from the autoencoder\n",
    "        self.encoder_conv = autoencoder.encoder_conv\n",
    "        self.encoder_linear = autoencoder.encoder_linear\n",
    "\n",
    "    def forward(self, x):\n",
    "        # Apply the encoder convolutional layers\n",
    "        x = x.unsqueeze(1)  # Add the channel dimension (batch, 1, height, width)\n",
    "        conv_out = self.encoder_conv(x)\n",
    "        flattened = torch.flatten(conv_out, start_dim=1)\n",
    "        # Get the 1D latent space (the time series)\n",
    "        latent = self.encoder_linear(flattened)\n",
    "        \n",
    "        # Apply tanh to restrict the latent space between -1 and 1\n",
    "        latent = torch.tanh(latent)\n",
    "        return latent"
   ]
  },
  {
   "cell_type": "code",
   "execution_count": null,
   "id": "f8f7adb5-45d8-423b-8994-3b12649c9f9e",
   "metadata": {},
   "outputs": [],
   "source": [
    "encoder = Encoder(model).to(device)\n",
    "\n",
    "# Set the encoder in evaluation mode\n",
    "encoder.eval()\n",
    "\n",
    "# Use a 2D spectrogram input (shape: [batch_size, height, width])\n",
    "spectrogram_input = torch.randn(1, 70, 250).double().to(device)  # Example input\n",
    "\n",
    "# Get the 1D latent time series from the encoder\n",
    "with torch.no_grad():  # Disable gradients for inference\n",
    "    time_series_output = encoder(spectrogram_input)\n",
    "\n",
    "print(time_series_output.shape) "
   ]
  },
  {
   "cell_type": "markdown",
   "id": "33196bc1-f6d9-40d2-abd5-08e946c1bc88",
   "metadata": {},
   "source": [
    "Average pearson correlation"
   ]
  },
  {
   "cell_type": "code",
   "execution_count": null,
   "id": "29c2274d-3f77-49ba-9c9a-917b0ed080d2",
   "metadata": {},
   "outputs": [],
   "source": [
    "import scipy\n",
    "correlation_list=[]\n",
    "sampling_rate=500\n",
    "for i in range(200):\n",
    "    tms_real=TimeSeries(y_test_tensor[i].detach().cpu().numpy(), dt=1/sampling_rate)\n",
    "    q_real=X_test_tensor[i]\n",
    "            \n",
    "\n",
    "    output=encoder(X_test_tensor[i].reshape(1,70,250))\n",
    "\n",
    "    tms_generated=TimeSeries(output[0].detach().cpu().numpy(), dt=1/sampling_rate)\n",
    "    #q_generated=qtransform(output[0])\n",
    "    \n",
    "    tms_real=tms_real[sampling_rate:4*sampling_rate]\n",
    "    tms_generated=tms_generated[sampling_rate:4*sampling_rate]\n",
    "    \n",
    "    tms_real, tms_generated= maximise_pearson(tms_real, tms_generated)\n",
    "\n",
    "    correlation, _ = scipy.stats.pearsonr(tms_real, tms_generated)\n",
    "    correlation_list.append(abs(correlation)) \n",
    "np.mean(correlation_list)"
   ]
  },
  {
   "cell_type": "markdown",
   "id": "6b213d5b-c7e6-4dfe-a065-b66b18c28727",
   "metadata": {},
   "source": [
    "Print the best/worst generated signal"
   ]
  },
  {
   "cell_type": "code",
   "execution_count": null,
   "id": "6f572b38-a8c8-47e9-b303-9551b6792738",
   "metadata": {},
   "outputs": [],
   "source": [
    "print(np.std(correlation_list))\n",
    "print(np.max(correlation_list))\n",
    "print(np.min(correlation_list))\n",
    "max_idx=correlation_list.index(np.max(correlation_list))\n",
    "min_idx=correlation_list.index(np.min(correlation_list))\n",
    "\n",
    "sampling_rate=500\n",
    "\n",
    "p=min_idx\n",
    "\n",
    "tms_real=TimeSeries(y_test_tensor[p].detach().cpu().numpy(), dt=1/sampling_rate)\n",
    "q_real=X_test_tensor[p]\n",
    "\n",
    "output=encoder(X_test_tensor[p].reshape(1,250,70))\n",
    "np_generated=output[0].detach().cpu().numpy()\n",
    "\n",
    "tms_generated=TimeSeries(np_generated, dt=1/sampling_rate)\n",
    "q_generated=qtransform(output[0])\n",
    "\n",
    "tms_real=tms_real[sampling_rate*1:4*sampling_rate]\n",
    "tms_generated=tms_generated[sampling_rate*1:4*sampling_rate]\n",
    "\n",
    "tms_real, tms_generated= maximise_pearson(tms_real, tms_generated)\n",
    "\n",
    "correlation, _ = scipy.stats.pearsonr(tms_real, tms_generated)\n",
    "correlation_list.append(abs(correlation)) \n",
    "\n",
    "print('Correlation= '+str(correlation))    \n",
    "fig=plt.figure(figsize=(14, 7))\n",
    "gs=gridspec.GridSpec(1,1)\n",
    "\n",
    "ax1 = plt.subplot(gs[0,0])\n",
    "ax1.plot(np.array(tms_real), label='Original TimeSeries')\n",
    "ax1.plot(np.array(tms_generated), label='Generated Output')\n",
    "ax1.set_title(f'Correlation= {correlation:.2f}')\n",
    "ax1.legend()"
   ]
  },
  {
   "cell_type": "code",
   "execution_count": null,
   "id": "1c9fcc90-ddf8-4436-8ce0-09c6b99ef140",
   "metadata": {},
   "outputs": [],
   "source": [
    "for spectrograms, target_timeseries in train_loader:\n",
    "    model.train()\n",
    "    spectrograms = spectrograms.to('cuda' if torch.cuda.is_available() else 'cpu')\n",
    "    target_timeseries = target_timeseries.to('cuda' if torch.cuda.is_available() else 'cpu')\n",
    "            \n",
    "    # Forward pass\n",
    "    reconstructed_spectrograms, latent_rep = model(spectrograms)\n",
    "    # Compute loss\n",
    "    recon_loss, latent_loss = loss_function_autoencoder(reconstructed_spectrograms, spectrograms, latent_rep, target_timeseries)\n",
    "\n",
    "\n",
    "    # Compute gradients for each loss component independently\n",
    "    recon_loss.backward(retain_graph=True)\n",
    "    recon_grad_norm = sum(p.grad.norm() for p in model.parameters() if p.grad is not None)\n",
    "    model.zero_grad()\n",
    "\n",
    "    latent_loss.backward(retain_graph=True)\n",
    "    latent_grad_norm = sum(p.grad.norm() for p in model.parameters() if p.grad is not None)\n",
    "    model.zero_grad()\n",
    "\n",
    "    # Dynamically adjust alpha based on gradient norms\n",
    "    alpha = recon_grad_norm / (latent_grad_norm + 1e-8)\n",
    "\n",
    "    # Compute the total loss and update the model\n",
    "    loss = recon_loss + alpha * latent_loss\n",
    "    \n",
    "    # Backpropagation and optimization\n",
    "    optimizer.zero_grad()\n",
    "    loss.backward()\n",
    "    optimizer.step()"
   ]
  },
  {
   "cell_type": "code",
   "execution_count": null,
   "id": "11a65e77-7edc-436c-8603-5be77b31bc25",
   "metadata": {},
   "outputs": [],
   "source": [
    "class Decoder(nn.Module):\n",
    "    def __init__(self, conv_output_shape, flattened_size, latent_dim, output_shape=(70, 250)):\n",
    "        super(Decoder, self).__init__()\n",
    "        \n",
    "        # Linear layer to map latent space back to flattened convolution output\n",
    "        self.decoder_linear = nn.Linear(in_features=latent_dim, out_features=flattened_size)\n",
    "        \n",
    "        # Decoder from flattened 2D shape back to the full spectrogram\n",
    "        self.decoder = nn.Sequential(\n",
    "            nn.Unflatten(1, conv_output_shape),  # Unflatten to match encoder output shape\n",
    "            nn.ConvTranspose2d(in_channels=64, out_channels=32, kernel_size=3, stride=2, padding=1, output_padding=1),\n",
    "            nn.ReLU(),\n",
    "            nn.ConvTranspose2d(in_channels=32, out_channels=16, kernel_size=3, stride=2, padding=1, output_padding=(1, 1)),\n",
    "            nn.ReLU(),\n",
    "            nn.ConvTranspose2d(in_channels=16, out_channels=1, kernel_size=3, stride=2, padding=1, output_padding=(1, 1)),\n",
    "            nn.Sigmoid()  # Assuming input spectrogram is normalized between [0, 1]\n",
    "        )\n",
    "        \n",
    "        self.output_shape = output_shape  # Store the target output shape for cropping\n",
    "    \n",
    "    def forward(self, latent):\n",
    "        # Map latent space back to the flattened 2D shape\n",
    "        decoded = self.decoder_linear(latent)\n",
    "        \n",
    "        # Unflatten and decode the feature map into a spectrogram\n",
    "        reconstructed = self.decoder(decoded)\n",
    "        \n",
    "        # Optionally crop the output to ensure exact shape (70, 250)\n",
    "        reconstructed = reconstructed[:, :, :self.output_shape[0], :self.output_shape[1]]\n",
    "        \n",
    "        return reconstructed"
   ]
  },
  {
   "cell_type": "code",
   "execution_count": null,
   "id": "2f8cae71-c811-4b5c-babb-3f97275b1d65",
   "metadata": {},
   "outputs": [],
   "source": [
    "input_shape = (70, 250)  # The height and width of your input spectrograms\n",
    "latent_dim = 2500  # Or whatever latent dimension you used\n",
    "\n",
    "conv_output_shape, flattened_size = model.conv_output_shape, model.flattened_size\n",
    "\n",
    "# Instantiate the decoder with the necessary parameters\n",
    "decoder = Decoder(conv_output_shape=conv_output_shape, flattened_size=flattened_size, latent_dim=latent_dim).to(device).double()\n",
    "\n",
    "\n",
    "qplt_g=decoder(y_test_tensor[0].reshape(1,2500))\n",
    "qplt_g.shape\n",
    "\n",
    "# Test the decoder by passing a 1D latent tensor\n",
    "#latent_tensor = torch.randn(1, latent_dim)  # A random latent vector\n",
    "#output_spectrogram = decoder(latent_tensor)\n",
    "\n",
    "# Check the shape of the output (should be 2D spectrogram shape)\n",
    "#print(output_spectrogram.shape)  # Expected shape: (1, 1, 70, 250)"
   ]
  },
  {
   "cell_type": "code",
   "execution_count": null,
   "id": "6ae3a76e-feb6-40da-af15-d59a1b80a9c0",
   "metadata": {},
   "outputs": [],
   "source": [
    "qplt_g.shape"
   ]
  },
  {
   "cell_type": "code",
   "execution_count": null,
   "id": "01c4230c-8ffd-4a39-8561-0f52588e0d7b",
   "metadata": {},
   "outputs": [],
   "source": [
    "i=37\n",
    "qplt=X_test_tensor[i].detach().cpu().numpy()\n",
    "\n",
    "output=encoder(X_test_tensor[i].reshape(1,70,250))\n",
    "\n",
    "tms_generated=output[0]\n",
    "\n",
    "\n",
    "qplt_g=qtransform(tms_generated).detach().cpu().numpy()[0]\n",
    "fig, axes = plt.subplots(1, 3, figsize=(20, 7))\n",
    "im0 = axes[0].imshow(qplt, aspect=\"auto\", origin=\"lower\", vmin=0, vmax=0.001)\n",
    "axes[0].set_title(\"Real CQT\")\n",
    "fig.colorbar(im0, ax=axes[0])\n",
    "\n",
    "im1 = axes[1].imshow(qplt_g, aspect=\"auto\", origin=\"lower\", vmin=0, vmax=25)\n",
    "axes[1].set_title(\"Generated CQT\")\n",
    "fig.colorbar(im1, ax=axes[1])\n",
    "\n",
    "abs_diff=qplt-qplt_g\n",
    "\n",
    "im2 = axes[2].imshow(abs_diff, aspect=\"auto\", origin=\"lower\", vmin=0, vmax=25)\n",
    "axes[2].set_title(\"Abs Difference\")\n",
    "fig.colorbar(im2, ax=axes[2])"
   ]
  },
  {
   "cell_type": "code",
   "execution_count": null,
   "id": "401f0a04-e0a6-4b5b-866d-c9ecf80ef8cf",
   "metadata": {
    "tags": []
   },
   "outputs": [],
   "source": [
    "tms_generated=TimeSeries(output[0].detach().cpu().numpy(), dt=1/sampling_rate)\n",
    "\n",
    "for q in range(1,30):\n",
    "    print(q)\n",
    "    qplt_g=tms_generated.q_transform(qrange=[q,q], logf=True, whiten=False, frange=[5,40])\n",
    "\n",
    "    plt.figure(figsize=(6, 6))\n",
    "    plt.imshow(qplt_g, aspect='auto', vmin=0,vmax=25)\n",
    "    plt.title('Real')\n",
    "    plt.xlabel('Time [pixel]')\n",
    "    plt.ylabel('Frequency [pixel]')\n",
    "    plt.colorbar()\n",
    "    plt.show()"
   ]
  },
  {
   "cell_type": "code",
   "execution_count": null,
   "id": "9bfe4bee-1184-483c-b96d-354235e78f68",
   "metadata": {},
   "outputs": [],
   "source": [
    "X_train_tensor[5].max()"
   ]
  },
  {
   "cell_type": "code",
   "execution_count": null,
   "id": "11cd8030-da54-4238-8fa1-287b168d19e8",
   "metadata": {},
   "outputs": [],
   "source": [
    "qplt=X_train_tensor[0].detach().cpu().numpy()\n",
    "plt.figure(figsize=(6, 6))\n",
    "plt.imshow(qplt, aspect='auto', vmin=0,vmax=15)\n",
    "plt.title('Real')\n",
    "plt.xlabel('Time [pixel]')\n",
    "plt.ylabel('Frequency [pixel]')\n",
    "plt.colorbar()\n",
    "plt.show()"
   ]
  },
  {
   "cell_type": "code",
   "execution_count": null,
   "id": "f0fd7dc9-d774-4943-aaae-4185df62f58a",
   "metadata": {},
   "outputs": [],
   "source": [
    "print(qplt.max())\n",
    "qplt_g.max()"
   ]
  },
  {
   "cell_type": "code",
   "execution_count": null,
   "id": "d8b214bd-0f28-4336-9327-3d6c8023d3c4",
   "metadata": {},
   "outputs": [],
   "source": [
    "#qplt_g=qtransform(y_train_tensor[12])\n",
    "plt.figure(figsize=(6, 6))\n",
    "plt.imshow(qplt_g.detach().cpu().numpy()[0][0], aspect='auto', vmin=0,vmax=0.58)\n",
    "plt.title('Generated')\n",
    "plt.xlabel('Time [pixel]')\n",
    "plt.ylabel('Frequency [pixel]')\n",
    "plt.colorbar()\n",
    "plt.show()"
   ]
  },
  {
   "cell_type": "code",
   "execution_count": null,
   "id": "c207716a-5fa6-4c72-915a-e4c0370e4696",
   "metadata": {},
   "outputs": [],
   "source": [
    "qplt"
   ]
  },
  {
   "cell_type": "code",
   "execution_count": null,
   "id": "8f540d1c-ec2a-4a05-87a5-7f605dd33d4b",
   "metadata": {},
   "outputs": [],
   "source": [
    "tms=TimeSeries(y_train_tensor[12].detach().cpu().numpy(), dt=1/500)"
   ]
  },
  {
   "cell_type": "code",
   "execution_count": null,
   "id": "9c724e65-76da-40b9-93a7-88e9c05fd876",
   "metadata": {},
   "outputs": [],
   "source": [
    "qplt_gwpy=tms.q_transform(qrange=[30,30])\n",
    "qplt_gwpy.plot()"
   ]
  },
  {
   "cell_type": "code",
   "execution_count": null,
   "id": "a3462ad2-0776-4756-993b-4fc21573b4c5",
   "metadata": {},
   "outputs": [],
   "source": []
  }
 ],
 "metadata": {
  "kernelspec": {
   "display_name": "pytorch-intertwin",
   "language": "python",
   "name": "pytorch-intertwin"
  },
  "language_info": {
   "codemirror_mode": {
    "name": "ipython",
    "version": 3
   },
   "file_extension": ".py",
   "mimetype": "text/x-python",
   "name": "python",
   "nbconvert_exporter": "python",
   "pygments_lexer": "ipython3",
   "version": "3.10.10"
  }
 },
 "nbformat": 4,
 "nbformat_minor": 5
}
