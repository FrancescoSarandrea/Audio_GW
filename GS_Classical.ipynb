{
 "cells": [
  {
   "cell_type": "code",
   "execution_count": 1,
   "metadata": {
    "id": "zZ5Bs9__7HPV"
   },
   "outputs": [],
   "source": [
    "try:\n",
    "    from gwpy.timeseries import TimeSeries\n",
    "except ModuleNotFoundError: \n",
    "    !pip install --quiet gwpy\n",
    "    from gwpy.timeseries import TimeSeries"
   ]
  },
  {
   "cell_type": "code",
   "execution_count": 2,
   "metadata": {
    "id": "IzvdRngD6zhB"
   },
   "outputs": [],
   "source": [
    "import os\n",
    "import h5py as h5\n",
    "import pandas as pd\n",
    "import matplotlib.pyplot as plt\n",
    "from os import listdir\n",
    "import numpy as np\n",
    "import pandas as pd\n",
    "\n",
    "import sys\n",
    "import matplotlib.pyplot as plt\n",
    "from tqdm.notebook import tqdm\n",
    "from sklearn.model_selection import train_test_split"
   ]
  },
  {
   "cell_type": "code",
   "execution_count": 44,
   "metadata": {},
   "outputs": [],
   "source": [
    "from sklearn.metrics import roc_auc_score,classification_report\n",
    "from sklearn.preprocessing import label_binarize"
   ]
  },
  {
   "cell_type": "markdown",
   "metadata": {
    "id": "aLV6peNzImAN"
   },
   "source": [
    "Dataset Utility"
   ]
  },
  {
   "cell_type": "code",
   "execution_count": 36,
   "metadata": {
    "id": "-g0o8aEh1NCg"
   },
   "outputs": [],
   "source": [
    "def construct_dataframe(path,t_delta=None):\n",
    "  name_data=[]\n",
    "  starting_times_data=[]\n",
    "  timeseries_data=[]\n",
    "  type_data=[]\n",
    "  for file in listdir(path):\n",
    "    if file != '.ipynb_checkpoints':\n",
    "        fout=h5.File(path+file,'r') \n",
    "    type_of_glitch=list(fout.keys())[0]\n",
    "    dataset=fout[type_of_glitch]\n",
    "    t = TimeSeries(dataset[()])\n",
    "    ln=len(t)/2\n",
    "    #if no t_delta is provided, the whole the timeseries are not cut \n",
    "    if t_delta==None:\n",
    "      t_delta=ln\n",
    "    name_data.append(file.split('.')[0].split('_')[0])\n",
    "    type_data.append(type_of_glitch)\n",
    "    starting_times_data.append(dataset.attrs['t0'])\n",
    "    dataset_cut=dataset[()][int(ln-t_delta):int(ln+t_delta)]\n",
    "    timeseries_data.append(dataset_cut)\n",
    "    # intialise data of lists.\n",
    "\n",
    "  data_Virgo = {'ID':name_data,\n",
    "        'Type_Of_Glitch':type_data,\n",
    "        'Starting_Times':starting_times_data,\n",
    "        'TimeSeries':timeseries_data}\n",
    "    # Create DataFrame\n",
    "  df= pd.DataFrame(data_Virgo)\n",
    "  return df\n",
    "\n",
    "def check_remove_nanDF(dataframe, col='TimeSeries'):\n",
    "    val=dataframe[col].values\n",
    "    idx=[]\n",
    "    for i in range(len(val)):\n",
    "        if np.isnan(val[i])[0]==True:\n",
    "            idx+=[i]\n",
    "    print(\"removed timeseries:\", len(idx))\n",
    "    print(idx)\n",
    "    return dataframe.drop(labels=idx,axis=0)\n",
    "\n",
    "\n",
    "\n",
    "\n",
    "def build_dataset(path='content/sample_data/', idx=['_2', '_3', '_4', '_5', '_6', '_7']):\n",
    "    df_LIGO=construct_dataframe(path+'Gravity_Spy/')\n",
    "    df_LIGO=check_remove_nanDF(df_LIGO)\n",
    "    for i in idx:\n",
    "        df_tmp=construct_dataframe(path+'Gravity_Spy'+i+'/')\n",
    "        df_tmp=check_remove_nanDF(df_tmp)\n",
    "        df_LIGO=pd.concat([df_LIGO,df_tmp],axis=0)\n",
    "    return df_LIGO\n",
    "\n",
    "def build_npDataset(Dataset, norm=True):\n",
    "    X,y=Dataset.T\n",
    "    data=[]\n",
    "    label=[]\n",
    "    for element in X:\n",
    "        data+= [element]\n",
    "    for i in y:\n",
    "        label+=[i]\n",
    "    X_t=np.asarray(data)\n",
    "    y_t=np.asarray(label)\n",
    "    if norm:\n",
    "        X_t=(X_t-X_t.mean(0))/X_t.std(0)\n",
    "    return X_t,y_t\n",
    "\n",
    "def numpy_glitch(df,norm=True):\n",
    "    df.Type_Of_Glitch = pd.Categorical(df.Type_Of_Glitch)\n",
    "    df['code']=df.Type_Of_Glitch.cat.codes\n",
    "    return build_npDataset(df.drop(columns=['ID', 'Type_Of_Glitch', 'Starting_Times']).values)\n",
    "\n",
    "def get_labels(df):\n",
    "    return  sorted(list(set(datapoint[1] for datapoint in df.to_numpy())))\n",
    "\n",
    "def remove_row_by_freq(df, col='Type_Of_Glitch', freq=50):\n",
    "    return df[df.groupby(col)[col].transform('count').ge(freq)]\n",
    "\n",
    "\n",
    "def split_stratified_into_train_val_test(df_input, stratify_colname='Type_Of_Glitch',\n",
    "                                         frac_train=0.75, frac_val=0.15, frac_test=0.10,\n",
    "                                         random_state=137):\n",
    "    '''\n",
    "    Splits a Pandas dataframe into three subsets (train, val, and test)\n",
    "    following fractional ratios provided by the user, where each subset is\n",
    "    stratified by the values in a specific column (that is, each subset has\n",
    "    the same relative frequency of the values in the column). It performs this\n",
    "    splitting by running train_test_split() twice.\n",
    "\n",
    "    Parameters\n",
    "    ----------\n",
    "    df_input : Pandas dataframe\n",
    "        Input dataframe to be split.\n",
    "    stratify_colname : str\n",
    "        The name of the column that will be used for stratification. Usually\n",
    "        this column would be for the label.\n",
    "    frac_train : float\n",
    "    frac_val   : float\n",
    "    frac_test  : float\n",
    "        The ratios with which the dataframe will be split into train, val, and\n",
    "        test data. The values should be expressed as float fractions and should\n",
    "        sum to 1.0.\n",
    "    random_state : int, None, or RandomStateInstance\n",
    "        Value to be passed to train_test_split().\n",
    "\n",
    "    Returns\n",
    "    -------\n",
    "    df_train, df_val, df_test :\n",
    "        Dataframes containing the three splits.\n",
    "    '''\n",
    "\n",
    "    if frac_train + frac_val + frac_test != 1.0:\n",
    "        raise ValueError('fractions %f, %f, %f do not add up to 1.0' % \\\n",
    "                         (frac_train, frac_val, frac_test))\n",
    "\n",
    "    if stratify_colname not in df_input.columns:\n",
    "        raise ValueError('%s is not a column in the dataframe' % (stratify_colname))\n",
    "\n",
    "    X = df_input # Contains all columns.\n",
    "    y = df_input[[stratify_colname]] # Dataframe of just the column on which to stratify.\n",
    "\n",
    "    # Split original dataframe into train and temp dataframes.\n",
    "    df_train, df_temp, y_train, y_temp = train_test_split(X,\n",
    "                                                          y,\n",
    "                                                          stratify=y,\n",
    "                                                          test_size=(1.0 - frac_train),\n",
    "                                                          random_state=random_state)\n",
    "\n",
    "    # Split the temp dataframe into val and test dataframes.\n",
    "    relative_frac_test = frac_test / (frac_val + frac_test)\n",
    "    df_val, df_test, y_val, y_test = train_test_split(df_temp,\n",
    "                                                      y_temp,\n",
    "                                                      stratify=y_temp,\n",
    "                                                      test_size=relative_frac_test,\n",
    "                                                      random_state=random_state)\n",
    "\n",
    "    assert len(df_input) == len(df_train) + len(df_val) + len(df_test)\n",
    "    return df_train, df_val, df_test"
   ]
  },
  {
   "cell_type": "code",
   "execution_count": 9,
   "metadata": {
    "colab": {
     "base_uri": "https://localhost:8080/"
    },
    "id": "h0Z6FsgtS5Mm",
    "outputId": "550571e2-f2cb-40f5-e81f-6848efe77356"
   },
   "outputs": [
    {
     "name": "stdout",
     "output_type": "stream",
     "text": [
      "removed timeseries: 4\n",
      "[546, 635, 912, 1029]\n",
      "removed timeseries: 31\n",
      "[0, 30, 37, 99, 180, 186, 214, 217, 226, 238, 247, 256, 265, 275, 297, 304, 338, 387, 433, 447, 463, 506, 521, 567, 665, 695, 728, 776, 807, 814, 815]\n",
      "removed timeseries: 24\n",
      "[6, 27, 65, 79, 137, 144, 147, 184, 192, 204, 324, 361, 403, 408, 409, 411, 509, 575, 602, 606, 651, 697, 727, 742]\n",
      "removed timeseries: 12\n",
      "[20, 46, 47, 51, 120, 314, 353, 378, 412, 444, 456, 660]\n",
      "removed timeseries: 21\n",
      "[5, 18, 38, 100, 110, 169, 213, 239, 252, 263, 292, 313, 437, 455, 501, 573, 641, 657, 661, 672, 708]\n",
      "removed timeseries: 17\n",
      "[120, 142, 151, 179, 200, 279, 325, 338, 415, 446, 504, 508, 511, 552, 671, 687, 792]\n",
      "removed timeseries: 27\n",
      "[41, 48, 55, 59, 82, 93, 138, 179, 218, 260, 280, 294, 303, 369, 387, 416, 509, 598, 611, 635, 679, 683, 705, 718, 722, 828, 836]\n"
     ]
    }
   ],
   "source": [
    "df_LIGO=build_dataset()"
   ]
  },
  {
   "cell_type": "code",
   "execution_count": 10,
   "metadata": {
    "colab": {
     "base_uri": "https://localhost:8080/"
    },
    "id": "UCk4ihzs9AJe",
    "outputId": "00acfef8-1412-4c5e-b59e-6c5c5b0c91e9"
   },
   "outputs": [
    {
     "data": {
      "text/plain": [
       "Blip                   1707\n",
       "Koi_Fish                598\n",
       "Low_Frequency_Burst     557\n",
       "Power_Line              432\n",
       "Low_Frequency_Lines     416\n",
       "Scattered_Light         415\n",
       "Extremely_Loud          287\n",
       "Scratchy                247\n",
       "Light_Modulation        221\n",
       "Whistle                 144\n",
       "1080Lines               140\n",
       "No_Glitch               137\n",
       "Tomte                   100\n",
       "Repeating_Blips          79\n",
       "1400Ripples              75\n",
       "Chirp                    53\n",
       "Air_Compressor           51\n",
       "None_of_the_Above        40\n",
       "Paired_Doves             15\n",
       "Wandering_Line            6\n",
       "Violin_Mode               2\n",
       "Name: Type_Of_Glitch, dtype: int64"
      ]
     },
     "execution_count": 10,
     "metadata": {},
     "output_type": "execute_result"
    }
   ],
   "source": [
    "df_LIGO['Type_Of_Glitch'].value_counts()"
   ]
  },
  {
   "cell_type": "code",
   "execution_count": 11,
   "metadata": {
    "id": "gMzOgct04wdZ"
   },
   "outputs": [],
   "source": [
    "rem=True\n",
    "if rem:\n",
    "  df_LIGO=remove_row_by_freq(df_LIGO,freq=400)"
   ]
  },
  {
   "cell_type": "code",
   "execution_count": 12,
   "metadata": {
    "colab": {
     "base_uri": "https://localhost:8080/"
    },
    "id": "qu1c04_79GdZ",
    "outputId": "602d8817-2dca-41d4-b443-e0ef83a09132"
   },
   "outputs": [
    {
     "data": {
      "text/plain": [
       "Blip                   1707\n",
       "Koi_Fish                598\n",
       "Low_Frequency_Burst     557\n",
       "Power_Line              432\n",
       "Low_Frequency_Lines     416\n",
       "Scattered_Light         415\n",
       "Name: Type_Of_Glitch, dtype: int64"
      ]
     },
     "execution_count": 12,
     "metadata": {},
     "output_type": "execute_result"
    }
   ],
   "source": [
    "df_LIGO['Type_Of_Glitch'].value_counts()"
   ]
  },
  {
   "cell_type": "code",
   "execution_count": 13,
   "metadata": {
    "colab": {
     "base_uri": "https://localhost:8080/"
    },
    "id": "RX8XLdvnH-iG",
    "outputId": "3ee9b266-e705-4d91-9622-e28c0a18e3d3"
   },
   "outputs": [
    {
     "data": {
      "text/plain": [
       "['Blip',\n",
       " 'Koi_Fish',\n",
       " 'Low_Frequency_Burst',\n",
       " 'Low_Frequency_Lines',\n",
       " 'Power_Line',\n",
       " 'Scattered_Light']"
      ]
     },
     "execution_count": 13,
     "metadata": {},
     "output_type": "execute_result"
    }
   ],
   "source": [
    "labels=get_labels(df_LIGO)\n",
    "labels"
   ]
  },
  {
   "cell_type": "code",
   "execution_count": 47,
   "metadata": {},
   "outputs": [
    {
     "data": {
      "text/plain": [
       "array([0, 1, 2, 3, 4, 5])"
      ]
     },
     "execution_count": 47,
     "metadata": {},
     "output_type": "execute_result"
    }
   ],
   "source": [
    "labels_cod=np.arange(0,len(labels),1)\n",
    "labels_cod"
   ]
  },
  {
   "cell_type": "code",
   "execution_count": 34,
   "metadata": {
    "id": "kcTHhk7Y180K"
   },
   "outputs": [],
   "source": [
    "train_set, val_set, test_set = split_stratified_into_train_val_test(df_LIGO)"
   ]
  },
  {
   "cell_type": "code",
   "execution_count": 54,
   "metadata": {
    "id": "9cFbo0zjBK-K"
   },
   "outputs": [],
   "source": [
    "X,y=numpy_glitch(train_set)\n",
    "X_val, y_val=numpy_glitch(val_set)\n",
    "#test_set=pytorch_glitch(test_set)"
   ]
  },
  {
   "cell_type": "code",
   "execution_count": 55,
   "metadata": {},
   "outputs": [],
   "source": [
    "y_val_bin=label_binarize(y_val, classes=labels_cod)"
   ]
  },
  {
   "cell_type": "code",
   "execution_count": 26,
   "metadata": {
    "id": "da8wlIHDr7R1"
   },
   "outputs": [],
   "source": [
    "sample_rate=34864"
   ]
  },
  {
   "cell_type": "code",
   "execution_count": 39,
   "metadata": {},
   "outputs": [
    {
     "data": {
      "text/plain": [
       "(3093,)"
      ]
     },
     "execution_count": 39,
     "metadata": {},
     "output_type": "execute_result"
    }
   ],
   "source": [
    "y.shape"
   ]
  },
  {
   "cell_type": "code",
   "execution_count": 40,
   "metadata": {
    "collapsed": true,
    "id": "miLDR9p51jSc"
   },
   "outputs": [
    {
     "ename": "NameError",
     "evalue": "name 'y_test' is not defined",
     "output_type": "error",
     "traceback": [
      "\u001b[0;31m---------------------------------------------------------------------------\u001b[0m",
      "\u001b[0;31mNameError\u001b[0m                                 Traceback (most recent call last)",
      "Cell \u001b[0;32mIn[40], line 4\u001b[0m\n\u001b[1;32m      2\u001b[0m svc \u001b[38;5;241m=\u001b[39m SVC()\n\u001b[1;32m      3\u001b[0m svc\u001b[38;5;241m.\u001b[39mfit(X,y)\n\u001b[0;32m----> 4\u001b[0m \u001b[38;5;28mprint\u001b[39m(\u001b[38;5;124m\"\u001b[39m\u001b[38;5;124mROC AUC Score:\u001b[39m\u001b[38;5;124m\"\u001b[39m,roc_auc_score(\u001b[43my_test\u001b[49m,svc\u001b[38;5;241m.\u001b[39mpredict(X_test)))\n\u001b[1;32m      5\u001b[0m \u001b[38;5;28mprint\u001b[39m(classification_report(y_test,svc\u001b[38;5;241m.\u001b[39mpredict(X_test)))\n",
      "\u001b[0;31mNameError\u001b[0m: name 'y_test' is not defined"
     ]
    }
   ],
   "source": [
    "from sklearn.svm import SVC\n",
    "svc = SVC(verbose=True)\n",
    "svc.fit(X,y)"
   ]
  },
  {
   "cell_type": "code",
   "execution_count": 51,
   "metadata": {},
   "outputs": [],
   "source": [
    "y_hat=svc.predict(X_val)"
   ]
  },
  {
   "cell_type": "code",
   "execution_count": 52,
   "metadata": {},
   "outputs": [],
   "source": [
    "y_hat_bin=label_binarize(y_hat, classes=labels_cod)"
   ]
  },
  {
   "cell_type": "code",
   "execution_count": 56,
   "metadata": {},
   "outputs": [
    {
     "name": "stdout",
     "output_type": "stream",
     "text": [
      "ROC AUC Score: 0.5\n",
      "              precision    recall  f1-score   support\n",
      "\n",
      "           0       0.41      1.00      0.59       256\n",
      "           1       0.00      0.00      0.00        90\n",
      "           2       0.00      0.00      0.00        83\n",
      "           3       0.00      0.00      0.00        62\n",
      "           4       0.00      0.00      0.00        65\n",
      "           5       0.00      0.00      0.00        63\n",
      "\n",
      "    accuracy                           0.41       619\n",
      "   macro avg       0.07      0.17      0.10       619\n",
      "weighted avg       0.17      0.41      0.24       619\n",
      "\n"
     ]
    },
    {
     "name": "stderr",
     "output_type": "stream",
     "text": [
      "/home/ecellini/miniconda3/lib/python3.10/site-packages/sklearn/metrics/_classification.py:1344: UndefinedMetricWarning: Precision and F-score are ill-defined and being set to 0.0 in labels with no predicted samples. Use `zero_division` parameter to control this behavior.\n",
      "  _warn_prf(average, modifier, msg_start, len(result))\n",
      "/home/ecellini/miniconda3/lib/python3.10/site-packages/sklearn/metrics/_classification.py:1344: UndefinedMetricWarning: Precision and F-score are ill-defined and being set to 0.0 in labels with no predicted samples. Use `zero_division` parameter to control this behavior.\n",
      "  _warn_prf(average, modifier, msg_start, len(result))\n",
      "/home/ecellini/miniconda3/lib/python3.10/site-packages/sklearn/metrics/_classification.py:1344: UndefinedMetricWarning: Precision and F-score are ill-defined and being set to 0.0 in labels with no predicted samples. Use `zero_division` parameter to control this behavior.\n",
      "  _warn_prf(average, modifier, msg_start, len(result))\n"
     ]
    }
   ],
   "source": [
    "print(\"ROC AUC Score:\",roc_auc_score(y_val_bin,y_hat_bin, multi_class='ovr'))\n",
    "print(classification_report(y_val,y_hat))"
   ]
  },
  {
   "cell_type": "code",
   "execution_count": 57,
   "metadata": {},
   "outputs": [],
   "source": [
    "from sklearn.ensemble import GradientBoostingClassifier"
   ]
  },
  {
   "cell_type": "code",
   "execution_count": 58,
   "metadata": {},
   "outputs": [],
   "source": [
    "GBC=GradientBoostingClassifier()"
   ]
  },
  {
   "cell_type": "code",
   "execution_count": null,
   "metadata": {},
   "outputs": [],
   "source": [
    "GBC.fit(X,y)\n"
   ]
  },
  {
   "cell_type": "code",
   "execution_count": null,
   "metadata": {},
   "outputs": [],
   "source": [
    "y_hat=svc.predict(X_val)\n",
    "y_hat_bin=label_binarize(y_hat, classes=labels_cod)"
   ]
  },
  {
   "cell_type": "code",
   "execution_count": null,
   "metadata": {},
   "outputs": [],
   "source": [
    "print(\"ROC AUC Score:\",roc_auc_score(y_val_bin,y_hat_bin, multi_class='ovr'))\n",
    "print(classification_report(y_val,y_hat))"
   ]
  },
  {
   "cell_type": "code",
   "execution_count": null,
   "metadata": {},
   "outputs": [],
   "source": []
  }
 ],
 "metadata": {
  "accelerator": "GPU",
  "colab": {
   "authorship_tag": "ABX9TyP4KxzpRu/B829H521QWTTR",
   "gpuType": "T4",
   "include_colab_link": true,
   "provenance": []
  },
  "gpuClass": "standard",
  "kernelspec": {
   "display_name": "Python 3 (ipykernel)",
   "language": "python",
   "name": "python3"
  },
  "language_info": {
   "codemirror_mode": {
    "name": "ipython",
    "version": 3
   },
   "file_extension": ".py",
   "mimetype": "text/x-python",
   "name": "python",
   "nbconvert_exporter": "python",
   "pygments_lexer": "ipython3",
   "version": "3.10.10"
  },
  "widgets": {
   "application/vnd.jupyter.widget-state+json": {
    "052c95f83fb6470dae48d3486d4cf9b2": {
     "model_module": "@jupyter-widgets/controls",
     "model_module_version": "1.5.0",
     "model_name": "DescriptionStyleModel",
     "state": {
      "_model_module": "@jupyter-widgets/controls",
      "_model_module_version": "1.5.0",
      "_model_name": "DescriptionStyleModel",
      "_view_count": null,
      "_view_module": "@jupyter-widgets/base",
      "_view_module_version": "1.2.0",
      "_view_name": "StyleView",
      "description_width": ""
     }
    },
    "244c27dc289c4ae78f03e3aa2253e5e6": {
     "model_module": "@jupyter-widgets/base",
     "model_module_version": "1.2.0",
     "model_name": "LayoutModel",
     "state": {
      "_model_module": "@jupyter-widgets/base",
      "_model_module_version": "1.2.0",
      "_model_name": "LayoutModel",
      "_view_count": null,
      "_view_module": "@jupyter-widgets/base",
      "_view_module_version": "1.2.0",
      "_view_name": "LayoutView",
      "align_content": null,
      "align_items": null,
      "align_self": null,
      "border": null,
      "bottom": null,
      "display": null,
      "flex": null,
      "flex_flow": null,
      "grid_area": null,
      "grid_auto_columns": null,
      "grid_auto_flow": null,
      "grid_auto_rows": null,
      "grid_column": null,
      "grid_gap": null,
      "grid_row": null,
      "grid_template_areas": null,
      "grid_template_columns": null,
      "grid_template_rows": null,
      "height": null,
      "justify_content": null,
      "justify_items": null,
      "left": null,
      "margin": null,
      "max_height": null,
      "max_width": null,
      "min_height": null,
      "min_width": null,
      "object_fit": null,
      "object_position": null,
      "order": null,
      "overflow": null,
      "overflow_x": null,
      "overflow_y": null,
      "padding": null,
      "right": null,
      "top": null,
      "visibility": null,
      "width": null
     }
    },
    "255fc9d107a24f30b95e85da3c49bf90": {
     "model_module": "@jupyter-widgets/controls",
     "model_module_version": "1.5.0",
     "model_name": "ProgressStyleModel",
     "state": {
      "_model_module": "@jupyter-widgets/controls",
      "_model_module_version": "1.5.0",
      "_model_name": "ProgressStyleModel",
      "_view_count": null,
      "_view_module": "@jupyter-widgets/base",
      "_view_module_version": "1.2.0",
      "_view_name": "StyleView",
      "bar_color": null,
      "description_width": ""
     }
    },
    "32fce05dc57d48c3919fc95bd6f16719": {
     "model_module": "@jupyter-widgets/controls",
     "model_module_version": "1.5.0",
     "model_name": "FloatProgressModel",
     "state": {
      "_dom_classes": [],
      "_model_module": "@jupyter-widgets/controls",
      "_model_module_version": "1.5.0",
      "_model_name": "FloatProgressModel",
      "_view_count": null,
      "_view_module": "@jupyter-widgets/controls",
      "_view_module_version": "1.5.0",
      "_view_name": "ProgressView",
      "bar_style": "success",
      "description": "",
      "description_tooltip": null,
      "layout": "IPY_MODEL_f2fb8059fc6e44308ff07a1ae8b00720",
      "max": 100,
      "min": 0,
      "orientation": "horizontal",
      "style": "IPY_MODEL_255fc9d107a24f30b95e85da3c49bf90",
      "value": 100
     }
    },
    "41a9590ec96e444faa41059d7f254875": {
     "model_module": "@jupyter-widgets/controls",
     "model_module_version": "1.5.0",
     "model_name": "HTMLModel",
     "state": {
      "_dom_classes": [],
      "_model_module": "@jupyter-widgets/controls",
      "_model_module_version": "1.5.0",
      "_model_name": "HTMLModel",
      "_view_count": null,
      "_view_module": "@jupyter-widgets/controls",
      "_view_module_version": "1.5.0",
      "_view_name": "HTMLView",
      "description": "",
      "description_tooltip": null,
      "layout": "IPY_MODEL_244c27dc289c4ae78f03e3aa2253e5e6",
      "placeholder": "​",
      "style": "IPY_MODEL_052c95f83fb6470dae48d3486d4cf9b2",
      "value": " 100/100 [03:50&lt;00:00,  2.30s/it]"
     }
    },
    "4e56562b2a2f422d946234aa3b974e97": {
     "model_module": "@jupyter-widgets/controls",
     "model_module_version": "1.5.0",
     "model_name": "DescriptionStyleModel",
     "state": {
      "_model_module": "@jupyter-widgets/controls",
      "_model_module_version": "1.5.0",
      "_model_name": "DescriptionStyleModel",
      "_view_count": null,
      "_view_module": "@jupyter-widgets/base",
      "_view_module_version": "1.2.0",
      "_view_name": "StyleView",
      "description_width": ""
     }
    },
    "6b1ba240b16e4cef849068eb62393007": {
     "model_module": "@jupyter-widgets/controls",
     "model_module_version": "1.5.0",
     "model_name": "HTMLModel",
     "state": {
      "_dom_classes": [],
      "_model_module": "@jupyter-widgets/controls",
      "_model_module_version": "1.5.0",
      "_model_name": "HTMLModel",
      "_view_count": null,
      "_view_module": "@jupyter-widgets/controls",
      "_view_module_version": "1.5.0",
      "_view_name": "HTMLView",
      "description": "",
      "description_tooltip": null,
      "layout": "IPY_MODEL_d1ac817aa94f43218cbb0e77d2348bd1",
      "placeholder": "​",
      "style": "IPY_MODEL_4e56562b2a2f422d946234aa3b974e97",
      "value": "100%"
     }
    },
    "c0854d21d5d440a7aa4e46599211da2f": {
     "model_module": "@jupyter-widgets/controls",
     "model_module_version": "1.5.0",
     "model_name": "HBoxModel",
     "state": {
      "_dom_classes": [],
      "_model_module": "@jupyter-widgets/controls",
      "_model_module_version": "1.5.0",
      "_model_name": "HBoxModel",
      "_view_count": null,
      "_view_module": "@jupyter-widgets/controls",
      "_view_module_version": "1.5.0",
      "_view_name": "HBoxView",
      "box_style": "",
      "children": [
       "IPY_MODEL_6b1ba240b16e4cef849068eb62393007",
       "IPY_MODEL_32fce05dc57d48c3919fc95bd6f16719",
       "IPY_MODEL_41a9590ec96e444faa41059d7f254875"
      ],
      "layout": "IPY_MODEL_db68b40f50504bc992783aac5fb6e4fd"
     }
    },
    "d1ac817aa94f43218cbb0e77d2348bd1": {
     "model_module": "@jupyter-widgets/base",
     "model_module_version": "1.2.0",
     "model_name": "LayoutModel",
     "state": {
      "_model_module": "@jupyter-widgets/base",
      "_model_module_version": "1.2.0",
      "_model_name": "LayoutModel",
      "_view_count": null,
      "_view_module": "@jupyter-widgets/base",
      "_view_module_version": "1.2.0",
      "_view_name": "LayoutView",
      "align_content": null,
      "align_items": null,
      "align_self": null,
      "border": null,
      "bottom": null,
      "display": null,
      "flex": null,
      "flex_flow": null,
      "grid_area": null,
      "grid_auto_columns": null,
      "grid_auto_flow": null,
      "grid_auto_rows": null,
      "grid_column": null,
      "grid_gap": null,
      "grid_row": null,
      "grid_template_areas": null,
      "grid_template_columns": null,
      "grid_template_rows": null,
      "height": null,
      "justify_content": null,
      "justify_items": null,
      "left": null,
      "margin": null,
      "max_height": null,
      "max_width": null,
      "min_height": null,
      "min_width": null,
      "object_fit": null,
      "object_position": null,
      "order": null,
      "overflow": null,
      "overflow_x": null,
      "overflow_y": null,
      "padding": null,
      "right": null,
      "top": null,
      "visibility": null,
      "width": null
     }
    },
    "db68b40f50504bc992783aac5fb6e4fd": {
     "model_module": "@jupyter-widgets/base",
     "model_module_version": "1.2.0",
     "model_name": "LayoutModel",
     "state": {
      "_model_module": "@jupyter-widgets/base",
      "_model_module_version": "1.2.0",
      "_model_name": "LayoutModel",
      "_view_count": null,
      "_view_module": "@jupyter-widgets/base",
      "_view_module_version": "1.2.0",
      "_view_name": "LayoutView",
      "align_content": null,
      "align_items": null,
      "align_self": null,
      "border": null,
      "bottom": null,
      "display": null,
      "flex": null,
      "flex_flow": null,
      "grid_area": null,
      "grid_auto_columns": null,
      "grid_auto_flow": null,
      "grid_auto_rows": null,
      "grid_column": null,
      "grid_gap": null,
      "grid_row": null,
      "grid_template_areas": null,
      "grid_template_columns": null,
      "grid_template_rows": null,
      "height": null,
      "justify_content": null,
      "justify_items": null,
      "left": null,
      "margin": null,
      "max_height": null,
      "max_width": null,
      "min_height": null,
      "min_width": null,
      "object_fit": null,
      "object_position": null,
      "order": null,
      "overflow": null,
      "overflow_x": null,
      "overflow_y": null,
      "padding": null,
      "right": null,
      "top": null,
      "visibility": null,
      "width": null
     }
    },
    "f2fb8059fc6e44308ff07a1ae8b00720": {
     "model_module": "@jupyter-widgets/base",
     "model_module_version": "1.2.0",
     "model_name": "LayoutModel",
     "state": {
      "_model_module": "@jupyter-widgets/base",
      "_model_module_version": "1.2.0",
      "_model_name": "LayoutModel",
      "_view_count": null,
      "_view_module": "@jupyter-widgets/base",
      "_view_module_version": "1.2.0",
      "_view_name": "LayoutView",
      "align_content": null,
      "align_items": null,
      "align_self": null,
      "border": null,
      "bottom": null,
      "display": null,
      "flex": null,
      "flex_flow": null,
      "grid_area": null,
      "grid_auto_columns": null,
      "grid_auto_flow": null,
      "grid_auto_rows": null,
      "grid_column": null,
      "grid_gap": null,
      "grid_row": null,
      "grid_template_areas": null,
      "grid_template_columns": null,
      "grid_template_rows": null,
      "height": null,
      "justify_content": null,
      "justify_items": null,
      "left": null,
      "margin": null,
      "max_height": null,
      "max_width": null,
      "min_height": null,
      "min_width": null,
      "object_fit": null,
      "object_position": null,
      "order": null,
      "overflow": null,
      "overflow_x": null,
      "overflow_y": null,
      "padding": null,
      "right": null,
      "top": null,
      "visibility": null,
      "width": null
     }
    }
   }
  }
 },
 "nbformat": 4,
 "nbformat_minor": 1
}
