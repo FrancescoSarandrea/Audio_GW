{
  "nbformat": 4,
  "nbformat_minor": 0,
  "metadata": {
    "colab": {
      "provenance": [],
      "gpuType": "T4",
      "authorship_tag": "ABX9TyPXGQVMRRY98AnMDbsG5RiX",
      "include_colab_link": true
    },
    "kernelspec": {
      "name": "python3",
      "display_name": "Python 3"
    },
    "language_info": {
      "name": "python"
    },
    "accelerator": "GPU",
    "gpuClass": "standard",
    "widgets": {
      "application/vnd.jupyter.widget-state+json": {
        "66fcff0f7fb444ed9a6e10a04c40276e": {
          "model_module": "@jupyter-widgets/controls",
          "model_name": "HBoxModel",
          "model_module_version": "1.5.0",
          "state": {
            "_dom_classes": [],
            "_model_module": "@jupyter-widgets/controls",
            "_model_module_version": "1.5.0",
            "_model_name": "HBoxModel",
            "_view_count": null,
            "_view_module": "@jupyter-widgets/controls",
            "_view_module_version": "1.5.0",
            "_view_name": "HBoxView",
            "box_style": "",
            "children": [
              "IPY_MODEL_82a0110eb22341cbad13aa2c0bfe5638",
              "IPY_MODEL_da2621ce23614c6285ad1f5d367189be",
              "IPY_MODEL_71b68553c5524b988565578ff27af0b9"
            ],
            "layout": "IPY_MODEL_ce68605f5e5e45458309d8af1a6a3bda"
          }
        },
        "82a0110eb22341cbad13aa2c0bfe5638": {
          "model_module": "@jupyter-widgets/controls",
          "model_name": "HTMLModel",
          "model_module_version": "1.5.0",
          "state": {
            "_dom_classes": [],
            "_model_module": "@jupyter-widgets/controls",
            "_model_module_version": "1.5.0",
            "_model_name": "HTMLModel",
            "_view_count": null,
            "_view_module": "@jupyter-widgets/controls",
            "_view_module_version": "1.5.0",
            "_view_name": "HTMLView",
            "description": "",
            "description_tooltip": null,
            "layout": "IPY_MODEL_63ccdf01236e406b9306850dfbd1d329",
            "placeholder": "​",
            "style": "IPY_MODEL_d321780a6a9e47749748289437225783",
            "value": "100%"
          }
        },
        "da2621ce23614c6285ad1f5d367189be": {
          "model_module": "@jupyter-widgets/controls",
          "model_name": "FloatProgressModel",
          "model_module_version": "1.5.0",
          "state": {
            "_dom_classes": [],
            "_model_module": "@jupyter-widgets/controls",
            "_model_module_version": "1.5.0",
            "_model_name": "FloatProgressModel",
            "_view_count": null,
            "_view_module": "@jupyter-widgets/controls",
            "_view_module_version": "1.5.0",
            "_view_name": "ProgressView",
            "bar_style": "success",
            "description": "",
            "description_tooltip": null,
            "layout": "IPY_MODEL_efb18eb3940a4316ab86323d1c3be925",
            "max": 100,
            "min": 0,
            "orientation": "horizontal",
            "style": "IPY_MODEL_c80e5b0cf8084d23827d6207a9d4f9d0",
            "value": 100
          }
        },
        "71b68553c5524b988565578ff27af0b9": {
          "model_module": "@jupyter-widgets/controls",
          "model_name": "HTMLModel",
          "model_module_version": "1.5.0",
          "state": {
            "_dom_classes": [],
            "_model_module": "@jupyter-widgets/controls",
            "_model_module_version": "1.5.0",
            "_model_name": "HTMLModel",
            "_view_count": null,
            "_view_module": "@jupyter-widgets/controls",
            "_view_module_version": "1.5.0",
            "_view_name": "HTMLView",
            "description": "",
            "description_tooltip": null,
            "layout": "IPY_MODEL_54713dadc2014d9ab1a7554bbe2288ad",
            "placeholder": "​",
            "style": "IPY_MODEL_5750d163df034c40a77607d058017596",
            "value": " 100/100 [00:18&lt;00:00,  7.29it/s]"
          }
        },
        "ce68605f5e5e45458309d8af1a6a3bda": {
          "model_module": "@jupyter-widgets/base",
          "model_name": "LayoutModel",
          "model_module_version": "1.2.0",
          "state": {
            "_model_module": "@jupyter-widgets/base",
            "_model_module_version": "1.2.0",
            "_model_name": "LayoutModel",
            "_view_count": null,
            "_view_module": "@jupyter-widgets/base",
            "_view_module_version": "1.2.0",
            "_view_name": "LayoutView",
            "align_content": null,
            "align_items": null,
            "align_self": null,
            "border": null,
            "bottom": null,
            "display": null,
            "flex": null,
            "flex_flow": null,
            "grid_area": null,
            "grid_auto_columns": null,
            "grid_auto_flow": null,
            "grid_auto_rows": null,
            "grid_column": null,
            "grid_gap": null,
            "grid_row": null,
            "grid_template_areas": null,
            "grid_template_columns": null,
            "grid_template_rows": null,
            "height": null,
            "justify_content": null,
            "justify_items": null,
            "left": null,
            "margin": null,
            "max_height": null,
            "max_width": null,
            "min_height": null,
            "min_width": null,
            "object_fit": null,
            "object_position": null,
            "order": null,
            "overflow": null,
            "overflow_x": null,
            "overflow_y": null,
            "padding": null,
            "right": null,
            "top": null,
            "visibility": null,
            "width": null
          }
        },
        "63ccdf01236e406b9306850dfbd1d329": {
          "model_module": "@jupyter-widgets/base",
          "model_name": "LayoutModel",
          "model_module_version": "1.2.0",
          "state": {
            "_model_module": "@jupyter-widgets/base",
            "_model_module_version": "1.2.0",
            "_model_name": "LayoutModel",
            "_view_count": null,
            "_view_module": "@jupyter-widgets/base",
            "_view_module_version": "1.2.0",
            "_view_name": "LayoutView",
            "align_content": null,
            "align_items": null,
            "align_self": null,
            "border": null,
            "bottom": null,
            "display": null,
            "flex": null,
            "flex_flow": null,
            "grid_area": null,
            "grid_auto_columns": null,
            "grid_auto_flow": null,
            "grid_auto_rows": null,
            "grid_column": null,
            "grid_gap": null,
            "grid_row": null,
            "grid_template_areas": null,
            "grid_template_columns": null,
            "grid_template_rows": null,
            "height": null,
            "justify_content": null,
            "justify_items": null,
            "left": null,
            "margin": null,
            "max_height": null,
            "max_width": null,
            "min_height": null,
            "min_width": null,
            "object_fit": null,
            "object_position": null,
            "order": null,
            "overflow": null,
            "overflow_x": null,
            "overflow_y": null,
            "padding": null,
            "right": null,
            "top": null,
            "visibility": null,
            "width": null
          }
        },
        "d321780a6a9e47749748289437225783": {
          "model_module": "@jupyter-widgets/controls",
          "model_name": "DescriptionStyleModel",
          "model_module_version": "1.5.0",
          "state": {
            "_model_module": "@jupyter-widgets/controls",
            "_model_module_version": "1.5.0",
            "_model_name": "DescriptionStyleModel",
            "_view_count": null,
            "_view_module": "@jupyter-widgets/base",
            "_view_module_version": "1.2.0",
            "_view_name": "StyleView",
            "description_width": ""
          }
        },
        "efb18eb3940a4316ab86323d1c3be925": {
          "model_module": "@jupyter-widgets/base",
          "model_name": "LayoutModel",
          "model_module_version": "1.2.0",
          "state": {
            "_model_module": "@jupyter-widgets/base",
            "_model_module_version": "1.2.0",
            "_model_name": "LayoutModel",
            "_view_count": null,
            "_view_module": "@jupyter-widgets/base",
            "_view_module_version": "1.2.0",
            "_view_name": "LayoutView",
            "align_content": null,
            "align_items": null,
            "align_self": null,
            "border": null,
            "bottom": null,
            "display": null,
            "flex": null,
            "flex_flow": null,
            "grid_area": null,
            "grid_auto_columns": null,
            "grid_auto_flow": null,
            "grid_auto_rows": null,
            "grid_column": null,
            "grid_gap": null,
            "grid_row": null,
            "grid_template_areas": null,
            "grid_template_columns": null,
            "grid_template_rows": null,
            "height": null,
            "justify_content": null,
            "justify_items": null,
            "left": null,
            "margin": null,
            "max_height": null,
            "max_width": null,
            "min_height": null,
            "min_width": null,
            "object_fit": null,
            "object_position": null,
            "order": null,
            "overflow": null,
            "overflow_x": null,
            "overflow_y": null,
            "padding": null,
            "right": null,
            "top": null,
            "visibility": null,
            "width": null
          }
        },
        "c80e5b0cf8084d23827d6207a9d4f9d0": {
          "model_module": "@jupyter-widgets/controls",
          "model_name": "ProgressStyleModel",
          "model_module_version": "1.5.0",
          "state": {
            "_model_module": "@jupyter-widgets/controls",
            "_model_module_version": "1.5.0",
            "_model_name": "ProgressStyleModel",
            "_view_count": null,
            "_view_module": "@jupyter-widgets/base",
            "_view_module_version": "1.2.0",
            "_view_name": "StyleView",
            "bar_color": null,
            "description_width": ""
          }
        },
        "54713dadc2014d9ab1a7554bbe2288ad": {
          "model_module": "@jupyter-widgets/base",
          "model_name": "LayoutModel",
          "model_module_version": "1.2.0",
          "state": {
            "_model_module": "@jupyter-widgets/base",
            "_model_module_version": "1.2.0",
            "_model_name": "LayoutModel",
            "_view_count": null,
            "_view_module": "@jupyter-widgets/base",
            "_view_module_version": "1.2.0",
            "_view_name": "LayoutView",
            "align_content": null,
            "align_items": null,
            "align_self": null,
            "border": null,
            "bottom": null,
            "display": null,
            "flex": null,
            "flex_flow": null,
            "grid_area": null,
            "grid_auto_columns": null,
            "grid_auto_flow": null,
            "grid_auto_rows": null,
            "grid_column": null,
            "grid_gap": null,
            "grid_row": null,
            "grid_template_areas": null,
            "grid_template_columns": null,
            "grid_template_rows": null,
            "height": null,
            "justify_content": null,
            "justify_items": null,
            "left": null,
            "margin": null,
            "max_height": null,
            "max_width": null,
            "min_height": null,
            "min_width": null,
            "object_fit": null,
            "object_position": null,
            "order": null,
            "overflow": null,
            "overflow_x": null,
            "overflow_y": null,
            "padding": null,
            "right": null,
            "top": null,
            "visibility": null,
            "width": null
          }
        },
        "5750d163df034c40a77607d058017596": {
          "model_module": "@jupyter-widgets/controls",
          "model_name": "DescriptionStyleModel",
          "model_module_version": "1.5.0",
          "state": {
            "_model_module": "@jupyter-widgets/controls",
            "_model_module_version": "1.5.0",
            "_model_name": "DescriptionStyleModel",
            "_view_count": null,
            "_view_module": "@jupyter-widgets/base",
            "_view_module_version": "1.2.0",
            "_view_name": "StyleView",
            "description_width": ""
          }
        }
      }
    }
  },
  "cells": [
    {
      "cell_type": "markdown",
      "metadata": {
        "id": "view-in-github",
        "colab_type": "text"
      },
      "source": [
        "<a href=\"https://colab.research.google.com/github/FrancescoSarandrea/Audio_GW/blob/main/GS_TorchLR.ipynb\" target=\"_parent\"><img src=\"https://colab.research.google.com/assets/colab-badge.svg\" alt=\"Open In Colab\"/></a>"
      ]
    },
    {
      "cell_type": "markdown",
      "source": [
        "Simple notebook to convert gravity spy samples to pytorch datasets, an implementation of a logistic regression is also provided."
      ],
      "metadata": {
        "id": "-HokMp0jROML"
      }
    },
    {
      "cell_type": "code",
      "source": [
        "from google.colab import drive\n",
        "drive.mount('/content/drive')  "
      ],
      "metadata": {
        "colab": {
          "base_uri": "https://localhost:8080/"
        },
        "id": "Mt3clcKKfqGY",
        "outputId": "e9d9bb30-b345-46a9-d402-c4a3d546157c"
      },
      "execution_count": 1,
      "outputs": [
        {
          "output_type": "stream",
          "name": "stdout",
          "text": [
            "Mounted at /content/drive\n"
          ]
        }
      ]
    },
    {
      "cell_type": "code",
      "source": [
        "try:\n",
        "    from gwpy.timeseries import TimeSeries\n",
        "except ModuleNotFoundError: \n",
        "    !pip install --quiet gwpy\n",
        "    from gwpy.timeseries import TimeSeries"
      ],
      "metadata": {
        "id": "zZ5Bs9__7HPV",
        "colab": {
          "base_uri": "https://localhost:8080/"
        },
        "outputId": "9117a9ca-3d75-4616-e6e2-ba09dfdd1cb8"
      },
      "execution_count": 2,
      "outputs": [
        {
          "output_type": "stream",
          "name": "stdout",
          "text": [
            "\u001b[2K     \u001b[90m━━━━━━━━━━━━━━━━━━━━━━━━━━━━━━━━━━━━━━━━\u001b[0m \u001b[32m1.4/1.4 MB\u001b[0m \u001b[31m62.8 MB/s\u001b[0m eta \u001b[36m0:00:00\u001b[0m\n",
            "\u001b[2K     \u001b[90m━━━━━━━━━━━━━━━━━━━━━━━━━━━━━━━━━━━━━━━━\u001b[0m \u001b[32m45.4/45.4 kB\u001b[0m \u001b[31m6.1 MB/s\u001b[0m eta \u001b[36m0:00:00\u001b[0m\n",
            "\u001b[2K     \u001b[90m━━━━━━━━━━━━━━━━━━━━━━━━━━━━━━━━━━━━━━━━\u001b[0m \u001b[32m51.0/51.0 kB\u001b[0m \u001b[31m3.0 MB/s\u001b[0m eta \u001b[36m0:00:00\u001b[0m\n",
            "\u001b[?25h  Preparing metadata (setup.py) ... \u001b[?25l\u001b[?25hdone\n",
            "  Building wheel for ligo-segments (setup.py) ... \u001b[?25l\u001b[?25hdone\n"
          ]
        }
      ]
    },
    {
      "cell_type": "code",
      "execution_count": 3,
      "metadata": {
        "id": "IzvdRngD6zhB"
      },
      "outputs": [],
      "source": [
        "import os\n",
        "import h5py as h5\n",
        "import pandas as pd\n",
        "import matplotlib.pyplot as plt\n",
        "from os import listdir\n",
        "import numpy as np\n",
        "import pandas as pd\n",
        "\n",
        "import torch\n",
        "import torch.nn as nn\n",
        "import torch.nn.functional as F\n",
        "import torch.optim as optim\n",
        "import torchaudio\n",
        "import sys\n",
        "from torch.utils.data import DataLoader, TensorDataset\n",
        "import matplotlib.pyplot as plt\n",
        "from tqdm.notebook import tqdm\n",
        "from torchsummary import summary"
      ]
    },
    {
      "cell_type": "code",
      "source": [
        "device = torch.device(\"cuda\" if torch.cuda.is_available() else \"cpu\")\n",
        "print(device)"
      ],
      "metadata": {
        "colab": {
          "base_uri": "https://localhost:8080/"
        },
        "id": "FFg88ZNqqpyL",
        "outputId": "d46ad920-4117-4b56-eba5-6927062d35d2"
      },
      "execution_count": 4,
      "outputs": [
        {
          "output_type": "stream",
          "name": "stdout",
          "text": [
            "cuda\n"
          ]
        }
      ]
    },
    {
      "cell_type": "code",
      "source": [
        "def construct_dataframe(path,t_delta=None):\n",
        "  name_data=[]\n",
        "  starting_times_data=[]\n",
        "  timeseries_data=[]\n",
        "  type_data=[]\n",
        "  for file in listdir(path):\n",
        "    if file != '.ipynb_checkpoints':\n",
        "        fout=h5.File(path+file,'r') \n",
        "    type_of_glitch=list(fout.keys())[0]\n",
        "    dataset=fout[type_of_glitch]\n",
        "    t = TimeSeries(dataset[()])\n",
        "    ln=len(t)/2\n",
        "    #if no t_delta is provided, the whole the timeseries are not cut \n",
        "    if t_delta==None:\n",
        "      t_delta=ln\n",
        "    name_data.append(file.split('.')[0].split('_')[0])\n",
        "    type_data.append(type_of_glitch)\n",
        "    starting_times_data.append(dataset.attrs['t0'])\n",
        "    dataset_cut=dataset[()][int(ln-t_delta):int(ln+t_delta)]\n",
        "    timeseries_data.append(dataset_cut)\n",
        "    # intialise data of lists.\n",
        "\n",
        "  data_Virgo = {'ID':name_data,\n",
        "        'Type_Of_Glitch':type_data,\n",
        "        'Starting_Times':starting_times_data,\n",
        "        'TimeSeries':timeseries_data}\n",
        "    # Create DataFrame\n",
        "  df= pd.DataFrame(data_Virgo)\n",
        "  return df\n",
        "\n",
        "def check_remove_nanDF(dataframe, col='TimeSeries'):\n",
        "    val=dataframe[col].values\n",
        "    idx=[]\n",
        "    for i in range(len(val)):\n",
        "        if np.isnan(val[i])[0]==True:\n",
        "            idx+=[i]\n",
        "    print(\"removed timeseries:\", len(idx))\n",
        "    return dataframe.drop(labels=idx,axis=0)\n",
        "\n",
        "\n",
        "def build_torchDataset(Dataset, val_shape=200, norm=True):\n",
        "    X,y=Dataset.T\n",
        "    data=[]\n",
        "    label=[]\n",
        "    for element in X:\n",
        "        data+= [element]\n",
        "    for i in y:\n",
        "        label+=[i]\n",
        "    X_t=torch.tensor(np.asarray(data)).unsqueeze(1)\n",
        "    y_t=torch.tensor(label).long()\n",
        "    if norm:\n",
        "        X_t=(X_t-X_t.mean(0))/X_t.std(0)\n",
        "    X_train, X_val=X_t[:-val_shape], X_t[-val_shape:]\n",
        "    y_train, y_val=y_t[:-val_shape], y_t[-val_shape:]\n",
        "    return TensorDataset(X_train,y_train), TensorDataset(X_val,y_val)\n",
        "\n",
        "def count_classes(dataset):\n",
        "    classes=torch.empty(1)\n",
        "    for _, label in dataset:\n",
        "        classes=torch.cat((classes,label.view(1)))\n",
        "    #print(classes)\n",
        "    label=torch.arange(0,classes.max()+1,1)\n",
        "    freq=torch.bincount(classes.long())\n",
        "    counts=torch.vstack((label,freq))\n",
        "    return pd.DataFrame(freq)\n",
        "\n",
        "def check_classes(train,val,labels):\n",
        "    df1=count_classes(train)\n",
        "    df1.rename(columns = {0:'Train set'},inplace=True)\n",
        "    df2=count_classes(val)\n",
        "    df2.rename(columns = {0:'Test set'},inplace=True)\n",
        "    df3=pd.concat([df1,df2],axis=1)\n",
        "    df3.index = labels\n",
        "    return df3"
      ],
      "metadata": {
        "id": "myaLcJx67FKy"
      },
      "execution_count": 5,
      "outputs": []
    },
    {
      "cell_type": "code",
      "source": [
        "!unzip -q /content/drive/MyDrive/GW_ML/Gravity_Spy_Glitches_whitened_1.zip \n",
        "!unzip -q /content/drive/MyDrive/GW_ML/Gravity_Spy_Glitches_whitened_2.zip\n",
        "!unzip -q /content/drive/MyDrive/GW_ML/Gravity_Spy_Glitches_whitened_3.zip \n",
        "!unzip -q /content/drive/MyDrive/GW_ML/Gravity_Spy_Glitches_whitened_4.zip  "
      ],
      "metadata": {
        "id": "1Af0hXsJ5Xph"
      },
      "execution_count": 6,
      "outputs": []
    },
    {
      "cell_type": "code",
      "source": [
        "df_LIGO=construct_dataframe('/content/content/sample_data/Gravity_Spy/')"
      ],
      "metadata": {
        "id": "U_fCqZ3i9uwF"
      },
      "execution_count": 7,
      "outputs": []
    },
    {
      "cell_type": "code",
      "source": [
        "df_LIGO.head()"
      ],
      "metadata": {
        "colab": {
          "base_uri": "https://localhost:8080/",
          "height": 206
        },
        "id": "RX8XLdvnH-iG",
        "outputId": "c2cdc202-2798-4472-df91-a7b354dabd94"
      },
      "execution_count": 8,
      "outputs": [
        {
          "output_type": "execute_result",
          "data": {
            "text/plain": [
              "           ID       Type_Of_Glitch  Starting_Times  \\\n",
              "0  NyRT1i4JUz             Scratchy    1.129836e+09   \n",
              "1  1pWDp3xjUi  Low_Frequency_Burst    1.135530e+09   \n",
              "2  vDeLwvZOYx     Light_Modulation    1.127317e+09   \n",
              "3  zXWepZZaGx  Low_Frequency_Lines    1.135680e+09   \n",
              "4  rJIoh2dpVs                 Blip    1.132807e+09   \n",
              "\n",
              "                                          TimeSeries  \n",
              "0  [-36.20354, 26.148184, -25.498957, 22.738546, ...  \n",
              "1  [-28.990265, 2.939058, -34.67333, -3.4040651, ...  \n",
              "2  [-3.5203443, 19.16648, -6.5227933, 15.003055, ...  \n",
              "3  [16.132532, 4.529822, -0.5751773, -4.243759, 0...  \n",
              "4  [15.367173, -12.814704, 7.7153554, -14.192832,...  "
            ],
            "text/html": [
              "\n",
              "  <div id=\"df-a23cc76f-9069-4db2-aa6a-b5febaca9b30\">\n",
              "    <div class=\"colab-df-container\">\n",
              "      <div>\n",
              "<style scoped>\n",
              "    .dataframe tbody tr th:only-of-type {\n",
              "        vertical-align: middle;\n",
              "    }\n",
              "\n",
              "    .dataframe tbody tr th {\n",
              "        vertical-align: top;\n",
              "    }\n",
              "\n",
              "    .dataframe thead th {\n",
              "        text-align: right;\n",
              "    }\n",
              "</style>\n",
              "<table border=\"1\" class=\"dataframe\">\n",
              "  <thead>\n",
              "    <tr style=\"text-align: right;\">\n",
              "      <th></th>\n",
              "      <th>ID</th>\n",
              "      <th>Type_Of_Glitch</th>\n",
              "      <th>Starting_Times</th>\n",
              "      <th>TimeSeries</th>\n",
              "    </tr>\n",
              "  </thead>\n",
              "  <tbody>\n",
              "    <tr>\n",
              "      <th>0</th>\n",
              "      <td>NyRT1i4JUz</td>\n",
              "      <td>Scratchy</td>\n",
              "      <td>1.129836e+09</td>\n",
              "      <td>[-36.20354, 26.148184, -25.498957, 22.738546, ...</td>\n",
              "    </tr>\n",
              "    <tr>\n",
              "      <th>1</th>\n",
              "      <td>1pWDp3xjUi</td>\n",
              "      <td>Low_Frequency_Burst</td>\n",
              "      <td>1.135530e+09</td>\n",
              "      <td>[-28.990265, 2.939058, -34.67333, -3.4040651, ...</td>\n",
              "    </tr>\n",
              "    <tr>\n",
              "      <th>2</th>\n",
              "      <td>vDeLwvZOYx</td>\n",
              "      <td>Light_Modulation</td>\n",
              "      <td>1.127317e+09</td>\n",
              "      <td>[-3.5203443, 19.16648, -6.5227933, 15.003055, ...</td>\n",
              "    </tr>\n",
              "    <tr>\n",
              "      <th>3</th>\n",
              "      <td>zXWepZZaGx</td>\n",
              "      <td>Low_Frequency_Lines</td>\n",
              "      <td>1.135680e+09</td>\n",
              "      <td>[16.132532, 4.529822, -0.5751773, -4.243759, 0...</td>\n",
              "    </tr>\n",
              "    <tr>\n",
              "      <th>4</th>\n",
              "      <td>rJIoh2dpVs</td>\n",
              "      <td>Blip</td>\n",
              "      <td>1.132807e+09</td>\n",
              "      <td>[15.367173, -12.814704, 7.7153554, -14.192832,...</td>\n",
              "    </tr>\n",
              "  </tbody>\n",
              "</table>\n",
              "</div>\n",
              "      <button class=\"colab-df-convert\" onclick=\"convertToInteractive('df-a23cc76f-9069-4db2-aa6a-b5febaca9b30')\"\n",
              "              title=\"Convert this dataframe to an interactive table.\"\n",
              "              style=\"display:none;\">\n",
              "        \n",
              "  <svg xmlns=\"http://www.w3.org/2000/svg\" height=\"24px\"viewBox=\"0 0 24 24\"\n",
              "       width=\"24px\">\n",
              "    <path d=\"M0 0h24v24H0V0z\" fill=\"none\"/>\n",
              "    <path d=\"M18.56 5.44l.94 2.06.94-2.06 2.06-.94-2.06-.94-.94-2.06-.94 2.06-2.06.94zm-11 1L8.5 8.5l.94-2.06 2.06-.94-2.06-.94L8.5 2.5l-.94 2.06-2.06.94zm10 10l.94 2.06.94-2.06 2.06-.94-2.06-.94-.94-2.06-.94 2.06-2.06.94z\"/><path d=\"M17.41 7.96l-1.37-1.37c-.4-.4-.92-.59-1.43-.59-.52 0-1.04.2-1.43.59L10.3 9.45l-7.72 7.72c-.78.78-.78 2.05 0 2.83L4 21.41c.39.39.9.59 1.41.59.51 0 1.02-.2 1.41-.59l7.78-7.78 2.81-2.81c.8-.78.8-2.07 0-2.86zM5.41 20L4 18.59l7.72-7.72 1.47 1.35L5.41 20z\"/>\n",
              "  </svg>\n",
              "      </button>\n",
              "      \n",
              "  <style>\n",
              "    .colab-df-container {\n",
              "      display:flex;\n",
              "      flex-wrap:wrap;\n",
              "      gap: 12px;\n",
              "    }\n",
              "\n",
              "    .colab-df-convert {\n",
              "      background-color: #E8F0FE;\n",
              "      border: none;\n",
              "      border-radius: 50%;\n",
              "      cursor: pointer;\n",
              "      display: none;\n",
              "      fill: #1967D2;\n",
              "      height: 32px;\n",
              "      padding: 0 0 0 0;\n",
              "      width: 32px;\n",
              "    }\n",
              "\n",
              "    .colab-df-convert:hover {\n",
              "      background-color: #E2EBFA;\n",
              "      box-shadow: 0px 1px 2px rgba(60, 64, 67, 0.3), 0px 1px 3px 1px rgba(60, 64, 67, 0.15);\n",
              "      fill: #174EA6;\n",
              "    }\n",
              "\n",
              "    [theme=dark] .colab-df-convert {\n",
              "      background-color: #3B4455;\n",
              "      fill: #D2E3FC;\n",
              "    }\n",
              "\n",
              "    [theme=dark] .colab-df-convert:hover {\n",
              "      background-color: #434B5C;\n",
              "      box-shadow: 0px 1px 3px 1px rgba(0, 0, 0, 0.15);\n",
              "      filter: drop-shadow(0px 1px 2px rgba(0, 0, 0, 0.3));\n",
              "      fill: #FFFFFF;\n",
              "    }\n",
              "  </style>\n",
              "\n",
              "      <script>\n",
              "        const buttonEl =\n",
              "          document.querySelector('#df-a23cc76f-9069-4db2-aa6a-b5febaca9b30 button.colab-df-convert');\n",
              "        buttonEl.style.display =\n",
              "          google.colab.kernel.accessAllowed ? 'block' : 'none';\n",
              "\n",
              "        async function convertToInteractive(key) {\n",
              "          const element = document.querySelector('#df-a23cc76f-9069-4db2-aa6a-b5febaca9b30');\n",
              "          const dataTable =\n",
              "            await google.colab.kernel.invokeFunction('convertToInteractive',\n",
              "                                                     [key], {});\n",
              "          if (!dataTable) return;\n",
              "\n",
              "          const docLinkHtml = 'Like what you see? Visit the ' +\n",
              "            '<a target=\"_blank\" href=https://colab.research.google.com/notebooks/data_table.ipynb>data table notebook</a>'\n",
              "            + ' to learn more about interactive tables.';\n",
              "          element.innerHTML = '';\n",
              "          dataTable['output_type'] = 'display_data';\n",
              "          await google.colab.output.renderOutput(dataTable, element);\n",
              "          const docLink = document.createElement('div');\n",
              "          docLink.innerHTML = docLinkHtml;\n",
              "          element.appendChild(docLink);\n",
              "        }\n",
              "      </script>\n",
              "    </div>\n",
              "  </div>\n",
              "  "
            ]
          },
          "metadata": {},
          "execution_count": 8
        }
      ]
    },
    {
      "cell_type": "code",
      "source": [
        "df_LIGO=check_remove_nanDF(df_LIGO)"
      ],
      "metadata": {
        "id": "BpWICOooAKAO",
        "colab": {
          "base_uri": "https://localhost:8080/"
        },
        "outputId": "dd531b7c-c67d-4779-fe0e-adece14b45bf"
      },
      "execution_count": 9,
      "outputs": [
        {
          "output_type": "stream",
          "name": "stdout",
          "text": [
            "removed timeseries: 4\n"
          ]
        }
      ]
    },
    {
      "cell_type": "code",
      "source": [
        "df_LIGO.Type_Of_Glitch = pd.Categorical(df_LIGO.Type_Of_Glitch)"
      ],
      "metadata": {
        "id": "Uw2WB7yIIDE6"
      },
      "execution_count": 10,
      "outputs": []
    },
    {
      "cell_type": "code",
      "source": [
        "df_LIGO['code']=df_LIGO.Type_Of_Glitch.cat.codes"
      ],
      "metadata": {
        "id": "UgbGVNduIa8c"
      },
      "execution_count": 11,
      "outputs": []
    },
    {
      "cell_type": "code",
      "source": [
        "df_LIGO.head()"
      ],
      "metadata": {
        "colab": {
          "base_uri": "https://localhost:8080/",
          "height": 206
        },
        "id": "aFAyBfqSIzKv",
        "outputId": "f47d4707-abb4-44fb-ce1b-1bbda84086ec"
      },
      "execution_count": 12,
      "outputs": [
        {
          "output_type": "execute_result",
          "data": {
            "text/plain": [
              "           ID       Type_Of_Glitch  Starting_Times  \\\n",
              "0  NyRT1i4JUz             Scratchy    1.129836e+09   \n",
              "1  1pWDp3xjUi  Low_Frequency_Burst    1.135530e+09   \n",
              "2  vDeLwvZOYx     Light_Modulation    1.127317e+09   \n",
              "3  zXWepZZaGx  Low_Frequency_Lines    1.135680e+09   \n",
              "4  rJIoh2dpVs                 Blip    1.132807e+09   \n",
              "\n",
              "                                          TimeSeries  code  \n",
              "0  [-36.20354, 26.148184, -25.498957, 22.738546, ...    13  \n",
              "1  [-28.990265, 2.939058, -34.67333, -3.4040651, ...     5  \n",
              "2  [-3.5203443, 19.16648, -6.5227933, 15.003055, ...     4  \n",
              "3  [16.132532, 4.529822, -0.5751773, -4.243759, 0...     6  \n",
              "4  [15.367173, -12.814704, 7.7153554, -14.192832,...     0  "
            ],
            "text/html": [
              "\n",
              "  <div id=\"df-aa7aee6c-083d-4a99-bec9-c9d4cd17245c\">\n",
              "    <div class=\"colab-df-container\">\n",
              "      <div>\n",
              "<style scoped>\n",
              "    .dataframe tbody tr th:only-of-type {\n",
              "        vertical-align: middle;\n",
              "    }\n",
              "\n",
              "    .dataframe tbody tr th {\n",
              "        vertical-align: top;\n",
              "    }\n",
              "\n",
              "    .dataframe thead th {\n",
              "        text-align: right;\n",
              "    }\n",
              "</style>\n",
              "<table border=\"1\" class=\"dataframe\">\n",
              "  <thead>\n",
              "    <tr style=\"text-align: right;\">\n",
              "      <th></th>\n",
              "      <th>ID</th>\n",
              "      <th>Type_Of_Glitch</th>\n",
              "      <th>Starting_Times</th>\n",
              "      <th>TimeSeries</th>\n",
              "      <th>code</th>\n",
              "    </tr>\n",
              "  </thead>\n",
              "  <tbody>\n",
              "    <tr>\n",
              "      <th>0</th>\n",
              "      <td>NyRT1i4JUz</td>\n",
              "      <td>Scratchy</td>\n",
              "      <td>1.129836e+09</td>\n",
              "      <td>[-36.20354, 26.148184, -25.498957, 22.738546, ...</td>\n",
              "      <td>13</td>\n",
              "    </tr>\n",
              "    <tr>\n",
              "      <th>1</th>\n",
              "      <td>1pWDp3xjUi</td>\n",
              "      <td>Low_Frequency_Burst</td>\n",
              "      <td>1.135530e+09</td>\n",
              "      <td>[-28.990265, 2.939058, -34.67333, -3.4040651, ...</td>\n",
              "      <td>5</td>\n",
              "    </tr>\n",
              "    <tr>\n",
              "      <th>2</th>\n",
              "      <td>vDeLwvZOYx</td>\n",
              "      <td>Light_Modulation</td>\n",
              "      <td>1.127317e+09</td>\n",
              "      <td>[-3.5203443, 19.16648, -6.5227933, 15.003055, ...</td>\n",
              "      <td>4</td>\n",
              "    </tr>\n",
              "    <tr>\n",
              "      <th>3</th>\n",
              "      <td>zXWepZZaGx</td>\n",
              "      <td>Low_Frequency_Lines</td>\n",
              "      <td>1.135680e+09</td>\n",
              "      <td>[16.132532, 4.529822, -0.5751773, -4.243759, 0...</td>\n",
              "      <td>6</td>\n",
              "    </tr>\n",
              "    <tr>\n",
              "      <th>4</th>\n",
              "      <td>rJIoh2dpVs</td>\n",
              "      <td>Blip</td>\n",
              "      <td>1.132807e+09</td>\n",
              "      <td>[15.367173, -12.814704, 7.7153554, -14.192832,...</td>\n",
              "      <td>0</td>\n",
              "    </tr>\n",
              "  </tbody>\n",
              "</table>\n",
              "</div>\n",
              "      <button class=\"colab-df-convert\" onclick=\"convertToInteractive('df-aa7aee6c-083d-4a99-bec9-c9d4cd17245c')\"\n",
              "              title=\"Convert this dataframe to an interactive table.\"\n",
              "              style=\"display:none;\">\n",
              "        \n",
              "  <svg xmlns=\"http://www.w3.org/2000/svg\" height=\"24px\"viewBox=\"0 0 24 24\"\n",
              "       width=\"24px\">\n",
              "    <path d=\"M0 0h24v24H0V0z\" fill=\"none\"/>\n",
              "    <path d=\"M18.56 5.44l.94 2.06.94-2.06 2.06-.94-2.06-.94-.94-2.06-.94 2.06-2.06.94zm-11 1L8.5 8.5l.94-2.06 2.06-.94-2.06-.94L8.5 2.5l-.94 2.06-2.06.94zm10 10l.94 2.06.94-2.06 2.06-.94-2.06-.94-.94-2.06-.94 2.06-2.06.94z\"/><path d=\"M17.41 7.96l-1.37-1.37c-.4-.4-.92-.59-1.43-.59-.52 0-1.04.2-1.43.59L10.3 9.45l-7.72 7.72c-.78.78-.78 2.05 0 2.83L4 21.41c.39.39.9.59 1.41.59.51 0 1.02-.2 1.41-.59l7.78-7.78 2.81-2.81c.8-.78.8-2.07 0-2.86zM5.41 20L4 18.59l7.72-7.72 1.47 1.35L5.41 20z\"/>\n",
              "  </svg>\n",
              "      </button>\n",
              "      \n",
              "  <style>\n",
              "    .colab-df-container {\n",
              "      display:flex;\n",
              "      flex-wrap:wrap;\n",
              "      gap: 12px;\n",
              "    }\n",
              "\n",
              "    .colab-df-convert {\n",
              "      background-color: #E8F0FE;\n",
              "      border: none;\n",
              "      border-radius: 50%;\n",
              "      cursor: pointer;\n",
              "      display: none;\n",
              "      fill: #1967D2;\n",
              "      height: 32px;\n",
              "      padding: 0 0 0 0;\n",
              "      width: 32px;\n",
              "    }\n",
              "\n",
              "    .colab-df-convert:hover {\n",
              "      background-color: #E2EBFA;\n",
              "      box-shadow: 0px 1px 2px rgba(60, 64, 67, 0.3), 0px 1px 3px 1px rgba(60, 64, 67, 0.15);\n",
              "      fill: #174EA6;\n",
              "    }\n",
              "\n",
              "    [theme=dark] .colab-df-convert {\n",
              "      background-color: #3B4455;\n",
              "      fill: #D2E3FC;\n",
              "    }\n",
              "\n",
              "    [theme=dark] .colab-df-convert:hover {\n",
              "      background-color: #434B5C;\n",
              "      box-shadow: 0px 1px 3px 1px rgba(0, 0, 0, 0.15);\n",
              "      filter: drop-shadow(0px 1px 2px rgba(0, 0, 0, 0.3));\n",
              "      fill: #FFFFFF;\n",
              "    }\n",
              "  </style>\n",
              "\n",
              "      <script>\n",
              "        const buttonEl =\n",
              "          document.querySelector('#df-aa7aee6c-083d-4a99-bec9-c9d4cd17245c button.colab-df-convert');\n",
              "        buttonEl.style.display =\n",
              "          google.colab.kernel.accessAllowed ? 'block' : 'none';\n",
              "\n",
              "        async function convertToInteractive(key) {\n",
              "          const element = document.querySelector('#df-aa7aee6c-083d-4a99-bec9-c9d4cd17245c');\n",
              "          const dataTable =\n",
              "            await google.colab.kernel.invokeFunction('convertToInteractive',\n",
              "                                                     [key], {});\n",
              "          if (!dataTable) return;\n",
              "\n",
              "          const docLinkHtml = 'Like what you see? Visit the ' +\n",
              "            '<a target=\"_blank\" href=https://colab.research.google.com/notebooks/data_table.ipynb>data table notebook</a>'\n",
              "            + ' to learn more about interactive tables.';\n",
              "          element.innerHTML = '';\n",
              "          dataTable['output_type'] = 'display_data';\n",
              "          await google.colab.output.renderOutput(dataTable, element);\n",
              "          const docLink = document.createElement('div');\n",
              "          docLink.innerHTML = docLinkHtml;\n",
              "          element.appendChild(docLink);\n",
              "        }\n",
              "      </script>\n",
              "    </div>\n",
              "  </div>\n",
              "  "
            ]
          },
          "metadata": {},
          "execution_count": 12
        }
      ]
    },
    {
      "cell_type": "code",
      "source": [
        "labels = sorted(list(set(datapoint[1] for datapoint in df_LIGO.to_numpy())))"
      ],
      "metadata": {
        "id": "bgHV3mQRZ59v"
      },
      "execution_count": 13,
      "outputs": []
    },
    {
      "cell_type": "code",
      "source": [
        "labels"
      ],
      "metadata": {
        "colab": {
          "base_uri": "https://localhost:8080/"
        },
        "id": "5T21A6vnZ7AJ",
        "outputId": "1f2d6bcf-183a-4918-869b-e3677cfd0028"
      },
      "execution_count": 14,
      "outputs": [
        {
          "output_type": "execute_result",
          "data": {
            "text/plain": [
              "['Blip',\n",
              " 'Chirp',\n",
              " 'Extremely_Loud',\n",
              " 'Koi_Fish',\n",
              " 'Light_Modulation',\n",
              " 'Low_Frequency_Burst',\n",
              " 'Low_Frequency_Lines',\n",
              " 'No_Glitch',\n",
              " 'None_of_the_Above',\n",
              " 'Paired_Doves',\n",
              " 'Power_Line',\n",
              " 'Repeating_Blips',\n",
              " 'Scattered_Light',\n",
              " 'Scratchy',\n",
              " 'Tomte',\n",
              " 'Violin_Mode',\n",
              " 'Wandering_Line',\n",
              " 'Whistle']"
            ]
          },
          "metadata": {},
          "execution_count": 14
        }
      ]
    },
    {
      "cell_type": "code",
      "source": [
        "#Count of classes:\n",
        "df1 = df_LIGO['Type_Of_Glitch'].value_counts()\n",
        "print(df1)\n",
        "del df1"
      ],
      "metadata": {
        "colab": {
          "base_uri": "https://localhost:8080/"
        },
        "id": "QA4552QMQ48k",
        "outputId": "1386e39d-b5a6-4702-ffd7-22a7cebfcd04"
      },
      "execution_count": 15,
      "outputs": [
        {
          "output_type": "stream",
          "name": "stdout",
          "text": [
            "Low_Frequency_Burst    193\n",
            "Scattered_Light        177\n",
            "Low_Frequency_Lines    155\n",
            "Power_Line             117\n",
            "Blip                   104\n",
            "Scratchy                85\n",
            "Whistle                 80\n",
            "Tomte                   74\n",
            "No_Glitch               44\n",
            "Repeating_Blips         26\n",
            "Light_Modulation        23\n",
            "None_of_the_Above        5\n",
            "Wandering_Line           3\n",
            "Chirp                    1\n",
            "Koi_Fish                 1\n",
            "Extremely_Loud           1\n",
            "Violin_Mode              1\n",
            "Paired_Doves             1\n",
            "Name: Type_Of_Glitch, dtype: int64\n"
          ]
        }
      ]
    },
    {
      "cell_type": "code",
      "source": [
        "train_set, test_set = build_torchDataset(df_LIGO.drop(columns=['ID', 'Type_Of_Glitch', 'Starting_Times']).values)"
      ],
      "metadata": {
        "id": "ZI4GCZ6hr7tX"
      },
      "execution_count": 16,
      "outputs": []
    },
    {
      "cell_type": "code",
      "source": [
        "check_classes(train_set, test_set,labels) #If this cell give an overflow error, run it again untill it works, idk why"
      ],
      "metadata": {
        "colab": {
          "base_uri": "https://localhost:8080/",
          "height": 614
        },
        "id": "kii64wEoYZEY",
        "outputId": "abf74e2a-5f39-4400-fa44-4e3087edf607"
      },
      "execution_count": 18,
      "outputs": [
        {
          "output_type": "execute_result",
          "data": {
            "text/plain": [
              "                     Train set  Test set\n",
              "Blip                        88        18\n",
              "Chirp                        1         0\n",
              "Extremely_Loud               1         0\n",
              "Koi_Fish                     1         0\n",
              "Light_Modulation            16         7\n",
              "Low_Frequency_Burst        150        43\n",
              "Low_Frequency_Lines        129        26\n",
              "No_Glitch                   37         7\n",
              "None_of_the_Above            4         1\n",
              "Paired_Doves                 1         0\n",
              "Power_Line                  99        18\n",
              "Repeating_Blips             23         3\n",
              "Scattered_Light            144        33\n",
              "Scratchy                    70        15\n",
              "Tomte                       62        12\n",
              "Violin_Mode                  1         0\n",
              "Wandering_Line               1         2\n",
              "Whistle                     64        16"
            ],
            "text/html": [
              "\n",
              "  <div id=\"df-903cfecf-aeef-4dd3-9b32-30d6745f1f89\">\n",
              "    <div class=\"colab-df-container\">\n",
              "      <div>\n",
              "<style scoped>\n",
              "    .dataframe tbody tr th:only-of-type {\n",
              "        vertical-align: middle;\n",
              "    }\n",
              "\n",
              "    .dataframe tbody tr th {\n",
              "        vertical-align: top;\n",
              "    }\n",
              "\n",
              "    .dataframe thead th {\n",
              "        text-align: right;\n",
              "    }\n",
              "</style>\n",
              "<table border=\"1\" class=\"dataframe\">\n",
              "  <thead>\n",
              "    <tr style=\"text-align: right;\">\n",
              "      <th></th>\n",
              "      <th>Train set</th>\n",
              "      <th>Test set</th>\n",
              "    </tr>\n",
              "  </thead>\n",
              "  <tbody>\n",
              "    <tr>\n",
              "      <th>Blip</th>\n",
              "      <td>88</td>\n",
              "      <td>18</td>\n",
              "    </tr>\n",
              "    <tr>\n",
              "      <th>Chirp</th>\n",
              "      <td>1</td>\n",
              "      <td>0</td>\n",
              "    </tr>\n",
              "    <tr>\n",
              "      <th>Extremely_Loud</th>\n",
              "      <td>1</td>\n",
              "      <td>0</td>\n",
              "    </tr>\n",
              "    <tr>\n",
              "      <th>Koi_Fish</th>\n",
              "      <td>1</td>\n",
              "      <td>0</td>\n",
              "    </tr>\n",
              "    <tr>\n",
              "      <th>Light_Modulation</th>\n",
              "      <td>16</td>\n",
              "      <td>7</td>\n",
              "    </tr>\n",
              "    <tr>\n",
              "      <th>Low_Frequency_Burst</th>\n",
              "      <td>150</td>\n",
              "      <td>43</td>\n",
              "    </tr>\n",
              "    <tr>\n",
              "      <th>Low_Frequency_Lines</th>\n",
              "      <td>129</td>\n",
              "      <td>26</td>\n",
              "    </tr>\n",
              "    <tr>\n",
              "      <th>No_Glitch</th>\n",
              "      <td>37</td>\n",
              "      <td>7</td>\n",
              "    </tr>\n",
              "    <tr>\n",
              "      <th>None_of_the_Above</th>\n",
              "      <td>4</td>\n",
              "      <td>1</td>\n",
              "    </tr>\n",
              "    <tr>\n",
              "      <th>Paired_Doves</th>\n",
              "      <td>1</td>\n",
              "      <td>0</td>\n",
              "    </tr>\n",
              "    <tr>\n",
              "      <th>Power_Line</th>\n",
              "      <td>99</td>\n",
              "      <td>18</td>\n",
              "    </tr>\n",
              "    <tr>\n",
              "      <th>Repeating_Blips</th>\n",
              "      <td>23</td>\n",
              "      <td>3</td>\n",
              "    </tr>\n",
              "    <tr>\n",
              "      <th>Scattered_Light</th>\n",
              "      <td>144</td>\n",
              "      <td>33</td>\n",
              "    </tr>\n",
              "    <tr>\n",
              "      <th>Scratchy</th>\n",
              "      <td>70</td>\n",
              "      <td>15</td>\n",
              "    </tr>\n",
              "    <tr>\n",
              "      <th>Tomte</th>\n",
              "      <td>62</td>\n",
              "      <td>12</td>\n",
              "    </tr>\n",
              "    <tr>\n",
              "      <th>Violin_Mode</th>\n",
              "      <td>1</td>\n",
              "      <td>0</td>\n",
              "    </tr>\n",
              "    <tr>\n",
              "      <th>Wandering_Line</th>\n",
              "      <td>1</td>\n",
              "      <td>2</td>\n",
              "    </tr>\n",
              "    <tr>\n",
              "      <th>Whistle</th>\n",
              "      <td>64</td>\n",
              "      <td>16</td>\n",
              "    </tr>\n",
              "  </tbody>\n",
              "</table>\n",
              "</div>\n",
              "      <button class=\"colab-df-convert\" onclick=\"convertToInteractive('df-903cfecf-aeef-4dd3-9b32-30d6745f1f89')\"\n",
              "              title=\"Convert this dataframe to an interactive table.\"\n",
              "              style=\"display:none;\">\n",
              "        \n",
              "  <svg xmlns=\"http://www.w3.org/2000/svg\" height=\"24px\"viewBox=\"0 0 24 24\"\n",
              "       width=\"24px\">\n",
              "    <path d=\"M0 0h24v24H0V0z\" fill=\"none\"/>\n",
              "    <path d=\"M18.56 5.44l.94 2.06.94-2.06 2.06-.94-2.06-.94-.94-2.06-.94 2.06-2.06.94zm-11 1L8.5 8.5l.94-2.06 2.06-.94-2.06-.94L8.5 2.5l-.94 2.06-2.06.94zm10 10l.94 2.06.94-2.06 2.06-.94-2.06-.94-.94-2.06-.94 2.06-2.06.94z\"/><path d=\"M17.41 7.96l-1.37-1.37c-.4-.4-.92-.59-1.43-.59-.52 0-1.04.2-1.43.59L10.3 9.45l-7.72 7.72c-.78.78-.78 2.05 0 2.83L4 21.41c.39.39.9.59 1.41.59.51 0 1.02-.2 1.41-.59l7.78-7.78 2.81-2.81c.8-.78.8-2.07 0-2.86zM5.41 20L4 18.59l7.72-7.72 1.47 1.35L5.41 20z\"/>\n",
              "  </svg>\n",
              "      </button>\n",
              "      \n",
              "  <style>\n",
              "    .colab-df-container {\n",
              "      display:flex;\n",
              "      flex-wrap:wrap;\n",
              "      gap: 12px;\n",
              "    }\n",
              "\n",
              "    .colab-df-convert {\n",
              "      background-color: #E8F0FE;\n",
              "      border: none;\n",
              "      border-radius: 50%;\n",
              "      cursor: pointer;\n",
              "      display: none;\n",
              "      fill: #1967D2;\n",
              "      height: 32px;\n",
              "      padding: 0 0 0 0;\n",
              "      width: 32px;\n",
              "    }\n",
              "\n",
              "    .colab-df-convert:hover {\n",
              "      background-color: #E2EBFA;\n",
              "      box-shadow: 0px 1px 2px rgba(60, 64, 67, 0.3), 0px 1px 3px 1px rgba(60, 64, 67, 0.15);\n",
              "      fill: #174EA6;\n",
              "    }\n",
              "\n",
              "    [theme=dark] .colab-df-convert {\n",
              "      background-color: #3B4455;\n",
              "      fill: #D2E3FC;\n",
              "    }\n",
              "\n",
              "    [theme=dark] .colab-df-convert:hover {\n",
              "      background-color: #434B5C;\n",
              "      box-shadow: 0px 1px 3px 1px rgba(0, 0, 0, 0.15);\n",
              "      filter: drop-shadow(0px 1px 2px rgba(0, 0, 0, 0.3));\n",
              "      fill: #FFFFFF;\n",
              "    }\n",
              "  </style>\n",
              "\n",
              "      <script>\n",
              "        const buttonEl =\n",
              "          document.querySelector('#df-903cfecf-aeef-4dd3-9b32-30d6745f1f89 button.colab-df-convert');\n",
              "        buttonEl.style.display =\n",
              "          google.colab.kernel.accessAllowed ? 'block' : 'none';\n",
              "\n",
              "        async function convertToInteractive(key) {\n",
              "          const element = document.querySelector('#df-903cfecf-aeef-4dd3-9b32-30d6745f1f89');\n",
              "          const dataTable =\n",
              "            await google.colab.kernel.invokeFunction('convertToInteractive',\n",
              "                                                     [key], {});\n",
              "          if (!dataTable) return;\n",
              "\n",
              "          const docLinkHtml = 'Like what you see? Visit the ' +\n",
              "            '<a target=\"_blank\" href=https://colab.research.google.com/notebooks/data_table.ipynb>data table notebook</a>'\n",
              "            + ' to learn more about interactive tables.';\n",
              "          element.innerHTML = '';\n",
              "          dataTable['output_type'] = 'display_data';\n",
              "          await google.colab.output.renderOutput(dataTable, element);\n",
              "          const docLink = document.createElement('div');\n",
              "          docLink.innerHTML = docLinkHtml;\n",
              "          element.appendChild(docLink);\n",
              "        }\n",
              "      </script>\n",
              "    </div>\n",
              "  </div>\n",
              "  "
            ]
          },
          "metadata": {},
          "execution_count": 18
        }
      ]
    },
    {
      "cell_type": "code",
      "source": [
        "sample_rate=34864"
      ],
      "metadata": {
        "id": "da8wlIHDr7R1"
      },
      "execution_count": 19,
      "outputs": []
    },
    {
      "cell_type": "code",
      "source": [
        "batch_size = 32\n",
        "\n",
        "if device == \"cuda\":\n",
        "    num_workers = 1\n",
        "    pin_memory = True\n",
        "else:\n",
        "    num_workers = 0\n",
        "    pin_memory = False\n",
        "\n",
        "train_loader = torch.utils.data.DataLoader(\n",
        "    train_set,\n",
        "    batch_size=batch_size,\n",
        "    shuffle=True,\n",
        "    num_workers=num_workers,\n",
        "    #collate_fn=collate_fn,\n",
        "    pin_memory=pin_memory,\n",
        ")\n",
        "test_loader = torch.utils.data.DataLoader(\n",
        "    test_set,\n",
        "    batch_size=batch_size,\n",
        "    shuffle=False,\n",
        "    drop_last=False,\n",
        "    num_workers=num_workers,\n",
        "    #collate_fn=collate_fn,\n",
        "    pin_memory=pin_memory,\n",
        ")"
      ],
      "metadata": {
        "id": "rX2RvYN4M3Td"
      },
      "execution_count": 20,
      "outputs": []
    },
    {
      "cell_type": "code",
      "source": [
        "def evaluate_accuracy(model,transform, dataloader):\n",
        "    correct = 0\n",
        "    total = 0\n",
        "    model.eval()\n",
        "    with torch.no_grad():\n",
        "        for data in dataloader:\n",
        "            images, y = data\n",
        "            if transform:\n",
        "                images=transform(images.to(device))\n",
        "            else:\n",
        "                images=images.to(device)\n",
        "            outputs = model(images)\n",
        "            _, predicted = torch.max(outputs.data, 1)  \n",
        "            total += y.size(0) \n",
        "            correct += (predicted == y.to(device)).sum().item()\n",
        "    accuracy = 100 * correct / total  \n",
        "    return accuracy\n",
        "\n",
        "def accuracy_classes(net,transform,dataloader,classes): \n",
        "    correct_pred = {classname: 0 for classname in classes}\n",
        "    total_pred = {classname: 0 for classname in classes}\n",
        "    net.eval()\n",
        "    with torch.no_grad():\n",
        "        for data in dataloader:\n",
        "            images, labels = data\n",
        "            if transform:\n",
        "                images=transform(images.to(device))\n",
        "            else:\n",
        "                images=images.to(device)\n",
        "            outputs = net(images)\n",
        "            _, predictions = torch.max(outputs, 1)\n",
        "            for label, prediction in zip(labels.to(device), predictions):\n",
        "                if label == prediction:\n",
        "                    correct_pred[classes[label]] += 1\n",
        "                total_pred[classes[label]] += 1\n",
        "\n",
        "    for classname, correct_count in correct_pred.items():\n",
        "        accuracy = 100 * float(correct_count) / total_pred[classname]\n",
        "        print(f'Accuracy for class: {classname:5s} is {accuracy:.1f} %')\n",
        "     "
      ],
      "metadata": {
        "id": "ieWAnNJFspbn"
      },
      "execution_count": 21,
      "outputs": []
    },
    {
      "cell_type": "code",
      "source": [
        "def training(net,transform,optimizer,criterion,train_loader,test_loader,num_epochs):\n",
        "  history={'loss':[],'train_accuracy':[],'val_accuracy':[]}\n",
        "  for epoch in tqdm(range(num_epochs)):\n",
        "      running_loss = 0.0\n",
        "      running_corrects = 0.0\n",
        "      net.train()\n",
        "      for i, data in enumerate(train_loader, 0):\n",
        "          inputs, y = data\n",
        "          optimizer.zero_grad()\n",
        "          if transform:\n",
        "            inputs=transform(inputs.to(device))\n",
        "          else:\n",
        "            inputs=inputs.to(device)\n",
        "          outputs = net(inputs)\n",
        "\n",
        "          loss = criterion(outputs, y.to(device))\n",
        "          loss.backward()\n",
        "          optimizer.step()\n",
        " \n",
        "          _, predicted = torch.max(outputs.data.cpu(), 1)\n",
        "          running_corrects += torch.sum(predicted == y.data).item()\n",
        "        \n",
        "          running_loss += loss.item() * inputs.size(0)\n",
        "        \n",
        "\n",
        "      epoch_loss = running_loss / len(train_loader.dataset)\n",
        "      epoch_acc = 100.0*running_corrects / len(train_loader.dataset)\n",
        "      val_acc=evaluate_accuracy(net,transform,test_loader)\n",
        "      history['loss'].append(epoch_loss)\n",
        "      history['train_accuracy'].append(epoch_acc)\n",
        "      history['val_accuracy'].append(val_acc)\n",
        "      print('Epoch {} Loss: {:.4f} Acc: {:.4f}% Val Acc: {:.4f}%'.format(epoch+1, epoch_loss, epoch_acc, val_acc))  \n",
        "  return history"
      ],
      "metadata": {
        "id": "41R5MDatsxP-"
      },
      "execution_count": 22,
      "outputs": []
    },
    {
      "cell_type": "code",
      "source": [
        "class LogisticRegression(nn.Module):\n",
        "    def __init__(self, n_input, n_output=18):\n",
        "        super().__init__()\n",
        "        self.fc1 = nn.Linear(n_input, n_output)\n",
        "    def forward(self, x):\n",
        "        x=x.view(x.shape[0],-1)\n",
        "        x = self.fc1(x)\n",
        "        return F.log_softmax(x, dim=1).squeeze()"
      ],
      "metadata": {
        "id": "rL24KD0cgszt"
      },
      "execution_count": 23,
      "outputs": []
    },
    {
      "cell_type": "code",
      "source": [
        "T=20000"
      ],
      "metadata": {
        "id": "fAKYi6eQszp5"
      },
      "execution_count": 24,
      "outputs": []
    },
    {
      "cell_type": "code",
      "source": [
        "transform = torchaudio.transforms.Resample(orig_freq=sample_rate, new_freq=T).to(device)"
      ],
      "metadata": {
        "id": "LWTL8m7ds9nD"
      },
      "execution_count": 25,
      "outputs": []
    },
    {
      "cell_type": "code",
      "source": [
        "len(labels)"
      ],
      "metadata": {
        "colab": {
          "base_uri": "https://localhost:8080/"
        },
        "id": "-_0pe3G3xIm5",
        "outputId": "7742d7fb-72ce-4ad0-ae09-72bf1ecb46d2"
      },
      "execution_count": 26,
      "outputs": [
        {
          "output_type": "execute_result",
          "data": {
            "text/plain": [
              "18"
            ]
          },
          "metadata": {},
          "execution_count": 26
        }
      ]
    },
    {
      "cell_type": "code",
      "source": [
        "model = LogisticRegression(n_input=T, n_output=len(labels)).to(device)    "
      ],
      "metadata": {
        "id": "Ec2qC4E6tBF1"
      },
      "execution_count": 27,
      "outputs": []
    },
    {
      "cell_type": "code",
      "source": [
        "criterion = nn.NLLLoss()"
      ],
      "metadata": {
        "id": "aGU0GorxtEn_"
      },
      "execution_count": 28,
      "outputs": []
    },
    {
      "cell_type": "code",
      "source": [
        "optimizer = optim.SGD(model.parameters(), lr=0.01, weight_decay=0.001)"
      ],
      "metadata": {
        "id": "BwPgMx4KtHBb"
      },
      "execution_count": 29,
      "outputs": []
    },
    {
      "cell_type": "code",
      "source": [
        "summary(model,(1,T))"
      ],
      "metadata": {
        "colab": {
          "base_uri": "https://localhost:8080/"
        },
        "id": "PIoX_RyHtJxF",
        "outputId": "d12d01be-45b0-4df4-9448-e2380c30a0b3"
      },
      "execution_count": 30,
      "outputs": [
        {
          "output_type": "stream",
          "name": "stdout",
          "text": [
            "----------------------------------------------------------------\n",
            "        Layer (type)               Output Shape         Param #\n",
            "================================================================\n",
            "            Linear-1                   [-1, 18]         360,018\n",
            "================================================================\n",
            "Total params: 360,018\n",
            "Trainable params: 360,018\n",
            "Non-trainable params: 0\n",
            "----------------------------------------------------------------\n",
            "Input size (MB): 0.08\n",
            "Forward/backward pass size (MB): 0.00\n",
            "Params size (MB): 1.37\n",
            "Estimated Total Size (MB): 1.45\n",
            "----------------------------------------------------------------\n"
          ]
        }
      ]
    },
    {
      "cell_type": "code",
      "source": [
        "num_epochs=100"
      ],
      "metadata": {
        "id": "J2g5b4_MtMw5"
      },
      "execution_count": 31,
      "outputs": []
    },
    {
      "cell_type": "code",
      "source": [
        "history=training(model,transform,optimizer,criterion,train_loader,test_loader,num_epochs)"
      ],
      "metadata": {
        "colab": {
          "base_uri": "https://localhost:8080/",
          "height": 1000,
          "referenced_widgets": [
            "66fcff0f7fb444ed9a6e10a04c40276e",
            "82a0110eb22341cbad13aa2c0bfe5638",
            "da2621ce23614c6285ad1f5d367189be",
            "71b68553c5524b988565578ff27af0b9",
            "ce68605f5e5e45458309d8af1a6a3bda",
            "63ccdf01236e406b9306850dfbd1d329",
            "d321780a6a9e47749748289437225783",
            "efb18eb3940a4316ab86323d1c3be925",
            "c80e5b0cf8084d23827d6207a9d4f9d0",
            "54713dadc2014d9ab1a7554bbe2288ad",
            "5750d163df034c40a77607d058017596"
          ]
        },
        "id": "kNY5CSgmtPM6",
        "outputId": "30f3ba04-c69e-400a-9b43-5305f61b3a0d"
      },
      "execution_count": 32,
      "outputs": [
        {
          "output_type": "display_data",
          "data": {
            "text/plain": [
              "  0%|          | 0/100 [00:00<?, ?it/s]"
            ],
            "application/vnd.jupyter.widget-view+json": {
              "version_major": 2,
              "version_minor": 0,
              "model_id": "66fcff0f7fb444ed9a6e10a04c40276e"
            }
          },
          "metadata": {}
        },
        {
          "output_type": "stream",
          "name": "stdout",
          "text": [
            "Epoch 1 Loss: 2.9229 Acc: 8.0808% Val Acc: 9.5000%\n",
            "Epoch 2 Loss: 2.5317 Acc: 45.6790% Val Acc: 14.0000%\n",
            "Epoch 3 Loss: 2.2990 Acc: 62.6263% Val Acc: 14.5000%\n",
            "Epoch 4 Loss: 2.1229 Acc: 67.5645% Val Acc: 13.5000%\n",
            "Epoch 5 Loss: 1.9768 Acc: 70.1459% Val Acc: 13.5000%\n",
            "Epoch 6 Loss: 1.8535 Acc: 74.5230% Val Acc: 13.5000%\n",
            "Epoch 7 Loss: 1.7481 Acc: 76.3187% Val Acc: 13.5000%\n",
            "Epoch 8 Loss: 1.6529 Acc: 78.0022% Val Acc: 14.0000%\n",
            "Epoch 9 Loss: 1.5690 Acc: 79.7980% Val Acc: 13.0000%\n",
            "Epoch 10 Loss: 1.4933 Acc: 81.3692% Val Acc: 13.0000%\n",
            "Epoch 11 Loss: 1.4249 Acc: 82.2671% Val Acc: 13.5000%\n",
            "Epoch 12 Loss: 1.3619 Acc: 83.8384% Val Acc: 13.5000%\n",
            "Epoch 13 Loss: 1.3044 Acc: 85.2974% Val Acc: 13.5000%\n",
            "Epoch 14 Loss: 1.2517 Acc: 87.0932% Val Acc: 13.5000%\n",
            "Epoch 15 Loss: 1.2028 Acc: 87.2054% Val Acc: 13.5000%\n",
            "Epoch 16 Loss: 1.1566 Acc: 88.2155% Val Acc: 13.5000%\n",
            "Epoch 17 Loss: 1.1139 Acc: 88.6644% Val Acc: 13.5000%\n",
            "Epoch 18 Loss: 1.0745 Acc: 89.5623% Val Acc: 13.5000%\n",
            "Epoch 19 Loss: 1.0369 Acc: 90.1235% Val Acc: 13.5000%\n",
            "Epoch 20 Loss: 1.0027 Acc: 90.9091% Val Acc: 13.5000%\n",
            "Epoch 21 Loss: 0.9701 Acc: 91.6947% Val Acc: 13.5000%\n",
            "Epoch 22 Loss: 0.9385 Acc: 92.4804% Val Acc: 14.0000%\n",
            "Epoch 23 Loss: 0.9088 Acc: 92.9293% Val Acc: 14.0000%\n",
            "Epoch 24 Loss: 0.8811 Acc: 93.1538% Val Acc: 14.0000%\n",
            "Epoch 25 Loss: 0.8548 Acc: 93.4905% Val Acc: 14.0000%\n",
            "Epoch 26 Loss: 0.8300 Acc: 93.4905% Val Acc: 14.5000%\n",
            "Epoch 27 Loss: 0.8062 Acc: 93.7149% Val Acc: 14.5000%\n",
            "Epoch 28 Loss: 0.7834 Acc: 94.2761% Val Acc: 14.5000%\n",
            "Epoch 29 Loss: 0.7620 Acc: 94.7250% Val Acc: 14.0000%\n",
            "Epoch 30 Loss: 0.7414 Acc: 95.2862% Val Acc: 14.0000%\n",
            "Epoch 31 Loss: 0.7217 Acc: 95.7351% Val Acc: 14.0000%\n",
            "Epoch 32 Loss: 0.7029 Acc: 96.2963% Val Acc: 15.0000%\n",
            "Epoch 33 Loss: 0.6848 Acc: 96.7452% Val Acc: 15.0000%\n",
            "Epoch 34 Loss: 0.6676 Acc: 96.9697% Val Acc: 14.5000%\n",
            "Epoch 35 Loss: 0.6511 Acc: 97.0819% Val Acc: 14.5000%\n",
            "Epoch 36 Loss: 0.6352 Acc: 97.3064% Val Acc: 14.5000%\n",
            "Epoch 37 Loss: 0.6198 Acc: 97.4186% Val Acc: 15.0000%\n",
            "Epoch 38 Loss: 0.6051 Acc: 97.5309% Val Acc: 15.0000%\n",
            "Epoch 39 Loss: 0.5909 Acc: 97.6431% Val Acc: 14.5000%\n",
            "Epoch 40 Loss: 0.5773 Acc: 97.7553% Val Acc: 14.5000%\n",
            "Epoch 41 Loss: 0.5642 Acc: 98.0920% Val Acc: 14.5000%\n",
            "Epoch 42 Loss: 0.5515 Acc: 98.0920% Val Acc: 15.0000%\n",
            "Epoch 43 Loss: 0.5393 Acc: 98.0920% Val Acc: 15.0000%\n",
            "Epoch 44 Loss: 0.5275 Acc: 98.2043% Val Acc: 15.0000%\n",
            "Epoch 45 Loss: 0.5161 Acc: 98.3165% Val Acc: 15.0000%\n",
            "Epoch 46 Loss: 0.5050 Acc: 98.4287% Val Acc: 15.0000%\n",
            "Epoch 47 Loss: 0.4945 Acc: 98.5410% Val Acc: 15.0000%\n",
            "Epoch 48 Loss: 0.4842 Acc: 98.5410% Val Acc: 15.0000%\n",
            "Epoch 49 Loss: 0.4743 Acc: 98.5410% Val Acc: 15.0000%\n",
            "Epoch 50 Loss: 0.4646 Acc: 98.5410% Val Acc: 15.0000%\n",
            "Epoch 51 Loss: 0.4553 Acc: 98.5410% Val Acc: 15.0000%\n",
            "Epoch 52 Loss: 0.4463 Acc: 98.6532% Val Acc: 15.5000%\n",
            "Epoch 53 Loss: 0.4376 Acc: 98.6532% Val Acc: 15.5000%\n",
            "Epoch 54 Loss: 0.4291 Acc: 98.6532% Val Acc: 15.5000%\n",
            "Epoch 55 Loss: 0.4209 Acc: 98.8777% Val Acc: 15.0000%\n",
            "Epoch 56 Loss: 0.4129 Acc: 98.9899% Val Acc: 15.0000%\n",
            "Epoch 57 Loss: 0.4052 Acc: 99.1021% Val Acc: 15.0000%\n",
            "Epoch 58 Loss: 0.3977 Acc: 99.1021% Val Acc: 15.0000%\n",
            "Epoch 59 Loss: 0.3903 Acc: 99.1021% Val Acc: 15.0000%\n",
            "Epoch 60 Loss: 0.3832 Acc: 99.1021% Val Acc: 15.0000%\n",
            "Epoch 61 Loss: 0.3764 Acc: 99.1021% Val Acc: 15.0000%\n",
            "Epoch 62 Loss: 0.3697 Acc: 99.1021% Val Acc: 15.0000%\n",
            "Epoch 63 Loss: 0.3632 Acc: 99.1021% Val Acc: 15.0000%\n",
            "Epoch 64 Loss: 0.3569 Acc: 99.1021% Val Acc: 15.0000%\n",
            "Epoch 65 Loss: 0.3507 Acc: 99.3266% Val Acc: 15.0000%\n",
            "Epoch 66 Loss: 0.3448 Acc: 99.3266% Val Acc: 15.0000%\n",
            "Epoch 67 Loss: 0.3390 Acc: 99.3266% Val Acc: 15.0000%\n",
            "Epoch 68 Loss: 0.3333 Acc: 99.4388% Val Acc: 15.0000%\n",
            "Epoch 69 Loss: 0.3278 Acc: 99.4388% Val Acc: 15.0000%\n",
            "Epoch 70 Loss: 0.3224 Acc: 99.4388% Val Acc: 15.0000%\n",
            "Epoch 71 Loss: 0.3172 Acc: 99.5511% Val Acc: 15.0000%\n",
            "Epoch 72 Loss: 0.3121 Acc: 99.5511% Val Acc: 15.0000%\n",
            "Epoch 73 Loss: 0.3072 Acc: 99.5511% Val Acc: 15.0000%\n",
            "Epoch 74 Loss: 0.3023 Acc: 99.5511% Val Acc: 15.0000%\n",
            "Epoch 75 Loss: 0.2976 Acc: 99.6633% Val Acc: 15.0000%\n",
            "Epoch 76 Loss: 0.2930 Acc: 99.6633% Val Acc: 15.0000%\n",
            "Epoch 77 Loss: 0.2885 Acc: 99.6633% Val Acc: 15.0000%\n",
            "Epoch 78 Loss: 0.2842 Acc: 99.6633% Val Acc: 15.0000%\n",
            "Epoch 79 Loss: 0.2799 Acc: 99.6633% Val Acc: 15.0000%\n",
            "Epoch 80 Loss: 0.2758 Acc: 99.6633% Val Acc: 15.0000%\n",
            "Epoch 81 Loss: 0.2717 Acc: 99.6633% Val Acc: 15.0000%\n",
            "Epoch 82 Loss: 0.2677 Acc: 99.6633% Val Acc: 15.0000%\n",
            "Epoch 83 Loss: 0.2638 Acc: 99.6633% Val Acc: 15.0000%\n",
            "Epoch 84 Loss: 0.2601 Acc: 99.6633% Val Acc: 15.0000%\n",
            "Epoch 85 Loss: 0.2564 Acc: 99.6633% Val Acc: 15.0000%\n",
            "Epoch 86 Loss: 0.2528 Acc: 99.6633% Val Acc: 15.0000%\n",
            "Epoch 87 Loss: 0.2493 Acc: 99.7755% Val Acc: 15.0000%\n",
            "Epoch 88 Loss: 0.2458 Acc: 99.7755% Val Acc: 15.0000%\n",
            "Epoch 89 Loss: 0.2425 Acc: 99.7755% Val Acc: 15.0000%\n",
            "Epoch 90 Loss: 0.2392 Acc: 99.7755% Val Acc: 15.0000%\n",
            "Epoch 91 Loss: 0.2360 Acc: 99.7755% Val Acc: 15.0000%\n",
            "Epoch 92 Loss: 0.2328 Acc: 99.7755% Val Acc: 15.0000%\n",
            "Epoch 93 Loss: 0.2298 Acc: 99.7755% Val Acc: 15.5000%\n",
            "Epoch 94 Loss: 0.2268 Acc: 99.7755% Val Acc: 15.5000%\n",
            "Epoch 95 Loss: 0.2238 Acc: 99.8878% Val Acc: 15.5000%\n",
            "Epoch 96 Loss: 0.2210 Acc: 99.8878% Val Acc: 15.5000%\n",
            "Epoch 97 Loss: 0.2181 Acc: 99.8878% Val Acc: 15.5000%\n",
            "Epoch 98 Loss: 0.2154 Acc: 99.8878% Val Acc: 15.5000%\n",
            "Epoch 99 Loss: 0.2127 Acc: 99.8878% Val Acc: 15.5000%\n",
            "Epoch 100 Loss: 0.2101 Acc: 99.8878% Val Acc: 15.5000%\n"
          ]
        }
      ]
    },
    {
      "cell_type": "code",
      "source": [
        "accuracy_classes(model,transform,train_loader,labels)"
      ],
      "metadata": {
        "colab": {
          "base_uri": "https://localhost:8080/"
        },
        "id": "Jf0uNzBn-gGO",
        "outputId": "7ef95d87-4b18-4749-b3e6-f2e2e8250336"
      },
      "execution_count": 33,
      "outputs": [
        {
          "output_type": "stream",
          "name": "stdout",
          "text": [
            "Accuracy for class: Blip  is 100.0 %\n",
            "Accuracy for class: Chirp is 100.0 %\n",
            "Accuracy for class: Extremely_Loud is 100.0 %\n",
            "Accuracy for class: Koi_Fish is 100.0 %\n",
            "Accuracy for class: Light_Modulation is 100.0 %\n",
            "Accuracy for class: Low_Frequency_Burst is 100.0 %\n",
            "Accuracy for class: Low_Frequency_Lines is 100.0 %\n",
            "Accuracy for class: No_Glitch is 100.0 %\n",
            "Accuracy for class: None_of_the_Above is 100.0 %\n",
            "Accuracy for class: Paired_Doves is 100.0 %\n",
            "Accuracy for class: Power_Line is 100.0 %\n",
            "Accuracy for class: Repeating_Blips is 100.0 %\n",
            "Accuracy for class: Scattered_Light is 100.0 %\n",
            "Accuracy for class: Scratchy is 100.0 %\n",
            "Accuracy for class: Tomte is 100.0 %\n",
            "Accuracy for class: Violin_Mode is 100.0 %\n",
            "Accuracy for class: Wandering_Line is 100.0 %\n",
            "Accuracy for class: Whistle is 100.0 %\n"
          ]
        }
      ]
    },
    {
      "cell_type": "code",
      "source": [
        "accuracy_classes(model,transform,test_loader,labels)"
      ],
      "metadata": {
        "colab": {
          "base_uri": "https://localhost:8080/",
          "height": 305
        },
        "id": "yG2-hI7J-fr8",
        "outputId": "951d64e2-82db-4f2e-d2b9-c0f24e8e0596"
      },
      "execution_count": null,
      "outputs": [
        {
          "output_type": "stream",
          "name": "stdout",
          "text": [
            "Accuracy for class: Blip  is 33.3 %\n"
          ]
        },
        {
          "output_type": "error",
          "ename": "ZeroDivisionError",
          "evalue": "ignored",
          "traceback": [
            "\u001b[0;31m---------------------------------------------------------------------------\u001b[0m",
            "\u001b[0;31mZeroDivisionError\u001b[0m                         Traceback (most recent call last)",
            "\u001b[0;32m<ipython-input-43-d03def316133>\u001b[0m in \u001b[0;36m<cell line: 1>\u001b[0;34m()\u001b[0m\n\u001b[0;32m----> 1\u001b[0;31m \u001b[0maccuracy_classes\u001b[0m\u001b[0;34m(\u001b[0m\u001b[0mmodel\u001b[0m\u001b[0;34m,\u001b[0m\u001b[0mtransform\u001b[0m\u001b[0;34m,\u001b[0m\u001b[0mtest_loader\u001b[0m\u001b[0;34m,\u001b[0m\u001b[0mlabels\u001b[0m\u001b[0;34m)\u001b[0m\u001b[0;34m\u001b[0m\u001b[0;34m\u001b[0m\u001b[0m\n\u001b[0m",
            "\u001b[0;32m<ipython-input-26-a45c3886f36f>\u001b[0m in \u001b[0;36maccuracy_classes\u001b[0;34m(net, transform, dataloader, classes)\u001b[0m\n\u001b[1;32m     36\u001b[0m \u001b[0;34m\u001b[0m\u001b[0m\n\u001b[1;32m     37\u001b[0m     \u001b[0;32mfor\u001b[0m \u001b[0mclassname\u001b[0m\u001b[0;34m,\u001b[0m \u001b[0mcorrect_count\u001b[0m \u001b[0;32min\u001b[0m \u001b[0mcorrect_pred\u001b[0m\u001b[0;34m.\u001b[0m\u001b[0mitems\u001b[0m\u001b[0;34m(\u001b[0m\u001b[0;34m)\u001b[0m\u001b[0;34m:\u001b[0m\u001b[0;34m\u001b[0m\u001b[0;34m\u001b[0m\u001b[0m\n\u001b[0;32m---> 38\u001b[0;31m         \u001b[0maccuracy\u001b[0m \u001b[0;34m=\u001b[0m \u001b[0;36m100\u001b[0m \u001b[0;34m*\u001b[0m \u001b[0mfloat\u001b[0m\u001b[0;34m(\u001b[0m\u001b[0mcorrect_count\u001b[0m\u001b[0;34m)\u001b[0m \u001b[0;34m/\u001b[0m \u001b[0mtotal_pred\u001b[0m\u001b[0;34m[\u001b[0m\u001b[0mclassname\u001b[0m\u001b[0;34m]\u001b[0m\u001b[0;34m\u001b[0m\u001b[0;34m\u001b[0m\u001b[0m\n\u001b[0m\u001b[1;32m     39\u001b[0m         \u001b[0mprint\u001b[0m\u001b[0;34m(\u001b[0m\u001b[0;34mf'Accuracy for class: {classname:5s} is {accuracy:.1f} %'\u001b[0m\u001b[0;34m)\u001b[0m\u001b[0;34m\u001b[0m\u001b[0;34m\u001b[0m\u001b[0m\n\u001b[1;32m     40\u001b[0m \u001b[0;34m\u001b[0m\u001b[0m\n",
            "\u001b[0;31mZeroDivisionError\u001b[0m: float division by zero"
          ]
        }
      ]
    },
    {
      "cell_type": "code",
      "source": [
        "#LOGSCATTERING"
      ],
      "metadata": {
        "id": "r3dwkBpuk6aQ"
      },
      "execution_count": null,
      "outputs": []
    }
  ]
}