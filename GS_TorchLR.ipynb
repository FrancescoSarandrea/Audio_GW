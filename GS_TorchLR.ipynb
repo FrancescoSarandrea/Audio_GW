{
  "nbformat": 4,
  "nbformat_minor": 0,
  "metadata": {
    "colab": {
      "provenance": [],
      "gpuType": "T4",
      "authorship_tag": "ABX9TyOKkNEC2yAz/A56NdM5sZCC",
      "include_colab_link": true
    },
    "kernelspec": {
      "name": "python3",
      "display_name": "Python 3"
    },
    "language_info": {
      "name": "python"
    },
    "accelerator": "GPU",
    "gpuClass": "standard",
    "widgets": {
      "application/vnd.jupyter.widget-state+json": {
        "6fcc3c2a69334565b9d5d9159870bfd8": {
          "model_module": "@jupyter-widgets/controls",
          "model_name": "HBoxModel",
          "model_module_version": "1.5.0",
          "state": {
            "_dom_classes": [],
            "_model_module": "@jupyter-widgets/controls",
            "_model_module_version": "1.5.0",
            "_model_name": "HBoxModel",
            "_view_count": null,
            "_view_module": "@jupyter-widgets/controls",
            "_view_module_version": "1.5.0",
            "_view_name": "HBoxView",
            "box_style": "",
            "children": [
              "IPY_MODEL_71b57096c6054a7c99891ab3331962ad",
              "IPY_MODEL_92844ff5dd974911b8f875bb5eb127cc",
              "IPY_MODEL_80d2c1a724d347d1bef898a2f00b721f"
            ],
            "layout": "IPY_MODEL_f9811fcbc9f14ab49c8cfae220ab3670"
          }
        },
        "71b57096c6054a7c99891ab3331962ad": {
          "model_module": "@jupyter-widgets/controls",
          "model_name": "HTMLModel",
          "model_module_version": "1.5.0",
          "state": {
            "_dom_classes": [],
            "_model_module": "@jupyter-widgets/controls",
            "_model_module_version": "1.5.0",
            "_model_name": "HTMLModel",
            "_view_count": null,
            "_view_module": "@jupyter-widgets/controls",
            "_view_module_version": "1.5.0",
            "_view_name": "HTMLView",
            "description": "",
            "description_tooltip": null,
            "layout": "IPY_MODEL_0ef5e90c0a3a458cbfe912ce53d9a0f7",
            "placeholder": "​",
            "style": "IPY_MODEL_8213f3c4d22841f987909f98c645ea0a",
            "value": "100%"
          }
        },
        "92844ff5dd974911b8f875bb5eb127cc": {
          "model_module": "@jupyter-widgets/controls",
          "model_name": "FloatProgressModel",
          "model_module_version": "1.5.0",
          "state": {
            "_dom_classes": [],
            "_model_module": "@jupyter-widgets/controls",
            "_model_module_version": "1.5.0",
            "_model_name": "FloatProgressModel",
            "_view_count": null,
            "_view_module": "@jupyter-widgets/controls",
            "_view_module_version": "1.5.0",
            "_view_name": "ProgressView",
            "bar_style": "success",
            "description": "",
            "description_tooltip": null,
            "layout": "IPY_MODEL_23032f42ccb541d7bcbe9d2495e9204e",
            "max": 100,
            "min": 0,
            "orientation": "horizontal",
            "style": "IPY_MODEL_4bd72bcee4794bd78e954b9b8e4e568f",
            "value": 100
          }
        },
        "80d2c1a724d347d1bef898a2f00b721f": {
          "model_module": "@jupyter-widgets/controls",
          "model_name": "HTMLModel",
          "model_module_version": "1.5.0",
          "state": {
            "_dom_classes": [],
            "_model_module": "@jupyter-widgets/controls",
            "_model_module_version": "1.5.0",
            "_model_name": "HTMLModel",
            "_view_count": null,
            "_view_module": "@jupyter-widgets/controls",
            "_view_module_version": "1.5.0",
            "_view_name": "HTMLView",
            "description": "",
            "description_tooltip": null,
            "layout": "IPY_MODEL_1c0298780c5f44cdb4f748c0405b5665",
            "placeholder": "​",
            "style": "IPY_MODEL_ea82694e25af4e4ea5e0ae30607e93ae",
            "value": " 100/100 [00:18&lt;00:00,  7.05it/s]"
          }
        },
        "f9811fcbc9f14ab49c8cfae220ab3670": {
          "model_module": "@jupyter-widgets/base",
          "model_name": "LayoutModel",
          "model_module_version": "1.2.0",
          "state": {
            "_model_module": "@jupyter-widgets/base",
            "_model_module_version": "1.2.0",
            "_model_name": "LayoutModel",
            "_view_count": null,
            "_view_module": "@jupyter-widgets/base",
            "_view_module_version": "1.2.0",
            "_view_name": "LayoutView",
            "align_content": null,
            "align_items": null,
            "align_self": null,
            "border": null,
            "bottom": null,
            "display": null,
            "flex": null,
            "flex_flow": null,
            "grid_area": null,
            "grid_auto_columns": null,
            "grid_auto_flow": null,
            "grid_auto_rows": null,
            "grid_column": null,
            "grid_gap": null,
            "grid_row": null,
            "grid_template_areas": null,
            "grid_template_columns": null,
            "grid_template_rows": null,
            "height": null,
            "justify_content": null,
            "justify_items": null,
            "left": null,
            "margin": null,
            "max_height": null,
            "max_width": null,
            "min_height": null,
            "min_width": null,
            "object_fit": null,
            "object_position": null,
            "order": null,
            "overflow": null,
            "overflow_x": null,
            "overflow_y": null,
            "padding": null,
            "right": null,
            "top": null,
            "visibility": null,
            "width": null
          }
        },
        "0ef5e90c0a3a458cbfe912ce53d9a0f7": {
          "model_module": "@jupyter-widgets/base",
          "model_name": "LayoutModel",
          "model_module_version": "1.2.0",
          "state": {
            "_model_module": "@jupyter-widgets/base",
            "_model_module_version": "1.2.0",
            "_model_name": "LayoutModel",
            "_view_count": null,
            "_view_module": "@jupyter-widgets/base",
            "_view_module_version": "1.2.0",
            "_view_name": "LayoutView",
            "align_content": null,
            "align_items": null,
            "align_self": null,
            "border": null,
            "bottom": null,
            "display": null,
            "flex": null,
            "flex_flow": null,
            "grid_area": null,
            "grid_auto_columns": null,
            "grid_auto_flow": null,
            "grid_auto_rows": null,
            "grid_column": null,
            "grid_gap": null,
            "grid_row": null,
            "grid_template_areas": null,
            "grid_template_columns": null,
            "grid_template_rows": null,
            "height": null,
            "justify_content": null,
            "justify_items": null,
            "left": null,
            "margin": null,
            "max_height": null,
            "max_width": null,
            "min_height": null,
            "min_width": null,
            "object_fit": null,
            "object_position": null,
            "order": null,
            "overflow": null,
            "overflow_x": null,
            "overflow_y": null,
            "padding": null,
            "right": null,
            "top": null,
            "visibility": null,
            "width": null
          }
        },
        "8213f3c4d22841f987909f98c645ea0a": {
          "model_module": "@jupyter-widgets/controls",
          "model_name": "DescriptionStyleModel",
          "model_module_version": "1.5.0",
          "state": {
            "_model_module": "@jupyter-widgets/controls",
            "_model_module_version": "1.5.0",
            "_model_name": "DescriptionStyleModel",
            "_view_count": null,
            "_view_module": "@jupyter-widgets/base",
            "_view_module_version": "1.2.0",
            "_view_name": "StyleView",
            "description_width": ""
          }
        },
        "23032f42ccb541d7bcbe9d2495e9204e": {
          "model_module": "@jupyter-widgets/base",
          "model_name": "LayoutModel",
          "model_module_version": "1.2.0",
          "state": {
            "_model_module": "@jupyter-widgets/base",
            "_model_module_version": "1.2.0",
            "_model_name": "LayoutModel",
            "_view_count": null,
            "_view_module": "@jupyter-widgets/base",
            "_view_module_version": "1.2.0",
            "_view_name": "LayoutView",
            "align_content": null,
            "align_items": null,
            "align_self": null,
            "border": null,
            "bottom": null,
            "display": null,
            "flex": null,
            "flex_flow": null,
            "grid_area": null,
            "grid_auto_columns": null,
            "grid_auto_flow": null,
            "grid_auto_rows": null,
            "grid_column": null,
            "grid_gap": null,
            "grid_row": null,
            "grid_template_areas": null,
            "grid_template_columns": null,
            "grid_template_rows": null,
            "height": null,
            "justify_content": null,
            "justify_items": null,
            "left": null,
            "margin": null,
            "max_height": null,
            "max_width": null,
            "min_height": null,
            "min_width": null,
            "object_fit": null,
            "object_position": null,
            "order": null,
            "overflow": null,
            "overflow_x": null,
            "overflow_y": null,
            "padding": null,
            "right": null,
            "top": null,
            "visibility": null,
            "width": null
          }
        },
        "4bd72bcee4794bd78e954b9b8e4e568f": {
          "model_module": "@jupyter-widgets/controls",
          "model_name": "ProgressStyleModel",
          "model_module_version": "1.5.0",
          "state": {
            "_model_module": "@jupyter-widgets/controls",
            "_model_module_version": "1.5.0",
            "_model_name": "ProgressStyleModel",
            "_view_count": null,
            "_view_module": "@jupyter-widgets/base",
            "_view_module_version": "1.2.0",
            "_view_name": "StyleView",
            "bar_color": null,
            "description_width": ""
          }
        },
        "1c0298780c5f44cdb4f748c0405b5665": {
          "model_module": "@jupyter-widgets/base",
          "model_name": "LayoutModel",
          "model_module_version": "1.2.0",
          "state": {
            "_model_module": "@jupyter-widgets/base",
            "_model_module_version": "1.2.0",
            "_model_name": "LayoutModel",
            "_view_count": null,
            "_view_module": "@jupyter-widgets/base",
            "_view_module_version": "1.2.0",
            "_view_name": "LayoutView",
            "align_content": null,
            "align_items": null,
            "align_self": null,
            "border": null,
            "bottom": null,
            "display": null,
            "flex": null,
            "flex_flow": null,
            "grid_area": null,
            "grid_auto_columns": null,
            "grid_auto_flow": null,
            "grid_auto_rows": null,
            "grid_column": null,
            "grid_gap": null,
            "grid_row": null,
            "grid_template_areas": null,
            "grid_template_columns": null,
            "grid_template_rows": null,
            "height": null,
            "justify_content": null,
            "justify_items": null,
            "left": null,
            "margin": null,
            "max_height": null,
            "max_width": null,
            "min_height": null,
            "min_width": null,
            "object_fit": null,
            "object_position": null,
            "order": null,
            "overflow": null,
            "overflow_x": null,
            "overflow_y": null,
            "padding": null,
            "right": null,
            "top": null,
            "visibility": null,
            "width": null
          }
        },
        "ea82694e25af4e4ea5e0ae30607e93ae": {
          "model_module": "@jupyter-widgets/controls",
          "model_name": "DescriptionStyleModel",
          "model_module_version": "1.5.0",
          "state": {
            "_model_module": "@jupyter-widgets/controls",
            "_model_module_version": "1.5.0",
            "_model_name": "DescriptionStyleModel",
            "_view_count": null,
            "_view_module": "@jupyter-widgets/base",
            "_view_module_version": "1.2.0",
            "_view_name": "StyleView",
            "description_width": ""
          }
        }
      }
    }
  },
  "cells": [
    {
      "cell_type": "markdown",
      "metadata": {
        "id": "view-in-github",
        "colab_type": "text"
      },
      "source": [
        "<a href=\"https://colab.research.google.com/github/FrancescoSarandrea/Audio_GW/blob/main/GS_TorchLR.ipynb\" target=\"_parent\"><img src=\"https://colab.research.google.com/assets/colab-badge.svg\" alt=\"Open In Colab\"/></a>"
      ]
    },
    {
      "cell_type": "markdown",
      "source": [
        "Simple notebook to convert gravity spy samples to pytorch datasets, an implementation of a logistic regression is also provided."
      ],
      "metadata": {
        "id": "-HokMp0jROML"
      }
    },
    {
      "cell_type": "code",
      "source": [
        "from google.colab import drive\n",
        "drive.mount('/content/drive')  "
      ],
      "metadata": {
        "colab": {
          "base_uri": "https://localhost:8080/"
        },
        "id": "Mt3clcKKfqGY",
        "outputId": "90b02bc5-dc68-4844-8bc4-81e57319a23e"
      },
      "execution_count": 3,
      "outputs": [
        {
          "output_type": "stream",
          "name": "stdout",
          "text": [
            "Mounted at /content/drive\n"
          ]
        }
      ]
    },
    {
      "cell_type": "code",
      "source": [
        "try:\n",
        "    from gwpy.timeseries import TimeSeries\n",
        "except ModuleNotFoundError: \n",
        "    !pip install --quiet gwpy\n",
        "    from gwpy.timeseries import TimeSeries"
      ],
      "metadata": {
        "colab": {
          "base_uri": "https://localhost:8080/"
        },
        "id": "zZ5Bs9__7HPV",
        "outputId": "d6229894-6f84-4c83-bf20-5c5e0dfcfeba"
      },
      "execution_count": 4,
      "outputs": [
        {
          "output_type": "stream",
          "name": "stdout",
          "text": [
            "\u001b[2K     \u001b[90m━━━━━━━━━━━━━━━━━━━━━━━━━━━━━━━━━━━━━━━━\u001b[0m \u001b[32m1.4/1.4 MB\u001b[0m \u001b[31m27.9 MB/s\u001b[0m eta \u001b[36m0:00:00\u001b[0m\n",
            "\u001b[2K     \u001b[90m━━━━━━━━━━━━━━━━━━━━━━━━━━━━━━━━━━━━━━━━\u001b[0m \u001b[32m45.4/45.4 kB\u001b[0m \u001b[31m6.4 MB/s\u001b[0m eta \u001b[36m0:00:00\u001b[0m\n",
            "\u001b[2K     \u001b[90m━━━━━━━━━━━━━━━━━━━━━━━━━━━━━━━━━━━━━━━━\u001b[0m \u001b[32m51.0/51.0 kB\u001b[0m \u001b[31m7.1 MB/s\u001b[0m eta \u001b[36m0:00:00\u001b[0m\n",
            "\u001b[?25h  Preparing metadata (setup.py) ... \u001b[?25l\u001b[?25hdone\n",
            "  Building wheel for ligo-segments (setup.py) ... \u001b[?25l\u001b[?25hdone\n"
          ]
        }
      ]
    },
    {
      "cell_type": "code",
      "execution_count": 5,
      "metadata": {
        "id": "IzvdRngD6zhB"
      },
      "outputs": [],
      "source": [
        "import os\n",
        "import h5py as h5\n",
        "import pandas as pd\n",
        "import matplotlib.pyplot as plt\n",
        "from os import listdir\n",
        "import numpy as np\n",
        "import pandas as pd\n",
        "\n",
        "import torch\n",
        "import torch.nn as nn\n",
        "import torch.nn.functional as F\n",
        "import torch.optim as optim\n",
        "import torchaudio\n",
        "import sys\n",
        "from torch.utils.data import DataLoader, TensorDataset\n",
        "import matplotlib.pyplot as plt\n",
        "from tqdm.notebook import tqdm\n",
        "from torchsummary import summary"
      ]
    },
    {
      "cell_type": "code",
      "source": [
        "device = torch.device(\"cuda\" if torch.cuda.is_available() else \"cpu\")\n",
        "print(device)"
      ],
      "metadata": {
        "colab": {
          "base_uri": "https://localhost:8080/"
        },
        "id": "FFg88ZNqqpyL",
        "outputId": "1f41dce9-0990-4bdd-b246-c42db2a7358d"
      },
      "execution_count": 6,
      "outputs": [
        {
          "output_type": "stream",
          "name": "stdout",
          "text": [
            "cuda\n"
          ]
        }
      ]
    },
    {
      "cell_type": "code",
      "source": [
        "def construct_dataframe(path,t_delta=None):\n",
        "  name_data=[]\n",
        "  starting_times_data=[]\n",
        "  timeseries_data=[]\n",
        "  type_data=[]\n",
        "  for file in listdir(path):\n",
        "    fout=h5.File(path+file,'r') \n",
        "    type_of_glitch=list(fout.keys())[0]\n",
        "    dataset=fout[type_of_glitch]\n",
        "    t = TimeSeries(dataset[()])\n",
        "    ln=len(t)/2\n",
        "    #if no t_delta is provided, the whole the timeseries are not cut \n",
        "    if t_delta==None:\n",
        "      t_delta=ln\n",
        "    name_data.append(file.split('.')[0].split('_')[0])\n",
        "    type_data.append(type_of_glitch)\n",
        "    starting_times_data.append(dataset.attrs['t0'])\n",
        "    dataset_cut=dataset[()][int(ln-t_delta):int(ln+t_delta)]\n",
        "    timeseries_data.append(dataset_cut)\n",
        "    # intialise data of lists.\n",
        "  data_Virgo = {'ID':name_data,\n",
        "        'Type_Of_Glitch':type_data,\n",
        "        'Starting_Times':starting_times_data,\n",
        "        'TimeSeries':timeseries_data}\n",
        "    # Create DataFrame\n",
        "  df= pd.DataFrame(data_Virgo)\n",
        "  return df\n",
        "\n",
        "def check_remove_nanDF(dataframe, col='TimeSeries'):\n",
        "    val=dataframe[col].values\n",
        "    idx=[]\n",
        "    for i in range(len(val)):\n",
        "        if np.isnan(val[i])[0]==True:\n",
        "            idx+=[i]\n",
        "    print(\"removed timeseries:\", len(idx))\n",
        "    return dataframe.drop(labels=idx,axis=0)\n",
        "\n",
        "\n",
        "def build_torchDataset(Dataset, val_shape=200, norm=True):\n",
        "    X,y=Dataset.T\n",
        "    data=[]\n",
        "    label=[]\n",
        "    for element in X:\n",
        "        data+= [element]\n",
        "    for i in y:\n",
        "        label+=[i]\n",
        "    X_t=torch.tensor(np.asarray(data)).unsqueeze(1)\n",
        "    y_t=torch.tensor(label).long()\n",
        "    if norm:\n",
        "        X_t=(X_t-X_t.mean(0))/X_t.std(0)\n",
        "    X_train, X_val=X_t[:-val_shape], X_t[-val_shape:]\n",
        "    y_train, y_val=y_t[:-val_shape], y_t[-val_shape:]\n",
        "    return TensorDataset(X_train,y_train), TensorDataset(X_val,y_val)\n",
        "\n",
        "def count_classes(dataset):\n",
        "    classes=torch.empty(1)\n",
        "    for _, label in dataset:\n",
        "        classes=torch.cat((classes,label.view(1)))\n",
        "    #print(classes)\n",
        "    label=torch.arange(0,classes.max()+1,1)\n",
        "    freq=torch.bincount(classes.long())\n",
        "    counts=torch.vstack((label,freq))\n",
        "    return pd.DataFrame(freq)\n",
        "\n",
        "def check_classes(train,val,labels):\n",
        "    df1=count_classes(train)\n",
        "    df1.rename(columns = {0:'Train set'},inplace=True)\n",
        "    df2=count_classes(val)\n",
        "    df2.rename(columns = {0:'Test set'},inplace=True)\n",
        "    df3=pd.concat([df1,df2],axis=1)\n",
        "    df3.index = labels\n",
        "    return df3"
      ],
      "metadata": {
        "id": "myaLcJx67FKy"
      },
      "execution_count": 18,
      "outputs": []
    },
    {
      "cell_type": "code",
      "source": [
        "!unzip -q /content/drive/MyDrive/GW_ML/Gravity_Spy_Glitches_whitened_1.zip "
      ],
      "metadata": {
        "id": "1Af0hXsJ5Xph"
      },
      "execution_count": 8,
      "outputs": []
    },
    {
      "cell_type": "code",
      "source": [
        "df_LIGO=construct_dataframe('/content/content/sample_data/Gravity_Spy/')"
      ],
      "metadata": {
        "id": "U_fCqZ3i9uwF"
      },
      "execution_count": 9,
      "outputs": []
    },
    {
      "cell_type": "code",
      "source": [
        "df_LIGO.head()"
      ],
      "metadata": {
        "colab": {
          "base_uri": "https://localhost:8080/",
          "height": 206
        },
        "id": "RX8XLdvnH-iG",
        "outputId": "27ad89bc-7a8e-49cf-85e8-357808991726"
      },
      "execution_count": 10,
      "outputs": [
        {
          "output_type": "execute_result",
          "data": {
            "text/plain": [
              "           ID       Type_Of_Glitch  Starting_Times  \\\n",
              "0  ETeyjFLNXi            No_Glitch    1.126766e+09   \n",
              "1  hPyYFvFLBV            No_Glitch    1.135921e+09   \n",
              "2  cuiN0cvLl3  Low_Frequency_Burst    1.134997e+09   \n",
              "3  zJ8niJL4Cy  Low_Frequency_Lines    1.134565e+09   \n",
              "4  vQLnNoG549      Scattered_Light    1.134176e+09   \n",
              "\n",
              "                                          TimeSeries  \n",
              "0  [-0.07380686, 3.3789918, 2.515241, 0.77137023,...  \n",
              "1  [-5.61079, 32.08648, -12.678058, 20.615831, -5...  \n",
              "2  [-0.0029804548, -5.6829243, 7.361643, 5.990745...  \n",
              "3  [-77.5008, 92.88992, -75.61221, 85.37933, -65....  \n",
              "4  [0.5169164, 4.872511, 1.070817, 7.105692, 7.82...  "
            ],
            "text/html": [
              "\n",
              "  <div id=\"df-2e5711a4-752f-4ecb-b26a-789b07a6b16f\">\n",
              "    <div class=\"colab-df-container\">\n",
              "      <div>\n",
              "<style scoped>\n",
              "    .dataframe tbody tr th:only-of-type {\n",
              "        vertical-align: middle;\n",
              "    }\n",
              "\n",
              "    .dataframe tbody tr th {\n",
              "        vertical-align: top;\n",
              "    }\n",
              "\n",
              "    .dataframe thead th {\n",
              "        text-align: right;\n",
              "    }\n",
              "</style>\n",
              "<table border=\"1\" class=\"dataframe\">\n",
              "  <thead>\n",
              "    <tr style=\"text-align: right;\">\n",
              "      <th></th>\n",
              "      <th>ID</th>\n",
              "      <th>Type_Of_Glitch</th>\n",
              "      <th>Starting_Times</th>\n",
              "      <th>TimeSeries</th>\n",
              "    </tr>\n",
              "  </thead>\n",
              "  <tbody>\n",
              "    <tr>\n",
              "      <th>0</th>\n",
              "      <td>ETeyjFLNXi</td>\n",
              "      <td>No_Glitch</td>\n",
              "      <td>1.126766e+09</td>\n",
              "      <td>[-0.07380686, 3.3789918, 2.515241, 0.77137023,...</td>\n",
              "    </tr>\n",
              "    <tr>\n",
              "      <th>1</th>\n",
              "      <td>hPyYFvFLBV</td>\n",
              "      <td>No_Glitch</td>\n",
              "      <td>1.135921e+09</td>\n",
              "      <td>[-5.61079, 32.08648, -12.678058, 20.615831, -5...</td>\n",
              "    </tr>\n",
              "    <tr>\n",
              "      <th>2</th>\n",
              "      <td>cuiN0cvLl3</td>\n",
              "      <td>Low_Frequency_Burst</td>\n",
              "      <td>1.134997e+09</td>\n",
              "      <td>[-0.0029804548, -5.6829243, 7.361643, 5.990745...</td>\n",
              "    </tr>\n",
              "    <tr>\n",
              "      <th>3</th>\n",
              "      <td>zJ8niJL4Cy</td>\n",
              "      <td>Low_Frequency_Lines</td>\n",
              "      <td>1.134565e+09</td>\n",
              "      <td>[-77.5008, 92.88992, -75.61221, 85.37933, -65....</td>\n",
              "    </tr>\n",
              "    <tr>\n",
              "      <th>4</th>\n",
              "      <td>vQLnNoG549</td>\n",
              "      <td>Scattered_Light</td>\n",
              "      <td>1.134176e+09</td>\n",
              "      <td>[0.5169164, 4.872511, 1.070817, 7.105692, 7.82...</td>\n",
              "    </tr>\n",
              "  </tbody>\n",
              "</table>\n",
              "</div>\n",
              "      <button class=\"colab-df-convert\" onclick=\"convertToInteractive('df-2e5711a4-752f-4ecb-b26a-789b07a6b16f')\"\n",
              "              title=\"Convert this dataframe to an interactive table.\"\n",
              "              style=\"display:none;\">\n",
              "        \n",
              "  <svg xmlns=\"http://www.w3.org/2000/svg\" height=\"24px\"viewBox=\"0 0 24 24\"\n",
              "       width=\"24px\">\n",
              "    <path d=\"M0 0h24v24H0V0z\" fill=\"none\"/>\n",
              "    <path d=\"M18.56 5.44l.94 2.06.94-2.06 2.06-.94-2.06-.94-.94-2.06-.94 2.06-2.06.94zm-11 1L8.5 8.5l.94-2.06 2.06-.94-2.06-.94L8.5 2.5l-.94 2.06-2.06.94zm10 10l.94 2.06.94-2.06 2.06-.94-2.06-.94-.94-2.06-.94 2.06-2.06.94z\"/><path d=\"M17.41 7.96l-1.37-1.37c-.4-.4-.92-.59-1.43-.59-.52 0-1.04.2-1.43.59L10.3 9.45l-7.72 7.72c-.78.78-.78 2.05 0 2.83L4 21.41c.39.39.9.59 1.41.59.51 0 1.02-.2 1.41-.59l7.78-7.78 2.81-2.81c.8-.78.8-2.07 0-2.86zM5.41 20L4 18.59l7.72-7.72 1.47 1.35L5.41 20z\"/>\n",
              "  </svg>\n",
              "      </button>\n",
              "      \n",
              "  <style>\n",
              "    .colab-df-container {\n",
              "      display:flex;\n",
              "      flex-wrap:wrap;\n",
              "      gap: 12px;\n",
              "    }\n",
              "\n",
              "    .colab-df-convert {\n",
              "      background-color: #E8F0FE;\n",
              "      border: none;\n",
              "      border-radius: 50%;\n",
              "      cursor: pointer;\n",
              "      display: none;\n",
              "      fill: #1967D2;\n",
              "      height: 32px;\n",
              "      padding: 0 0 0 0;\n",
              "      width: 32px;\n",
              "    }\n",
              "\n",
              "    .colab-df-convert:hover {\n",
              "      background-color: #E2EBFA;\n",
              "      box-shadow: 0px 1px 2px rgba(60, 64, 67, 0.3), 0px 1px 3px 1px rgba(60, 64, 67, 0.15);\n",
              "      fill: #174EA6;\n",
              "    }\n",
              "\n",
              "    [theme=dark] .colab-df-convert {\n",
              "      background-color: #3B4455;\n",
              "      fill: #D2E3FC;\n",
              "    }\n",
              "\n",
              "    [theme=dark] .colab-df-convert:hover {\n",
              "      background-color: #434B5C;\n",
              "      box-shadow: 0px 1px 3px 1px rgba(0, 0, 0, 0.15);\n",
              "      filter: drop-shadow(0px 1px 2px rgba(0, 0, 0, 0.3));\n",
              "      fill: #FFFFFF;\n",
              "    }\n",
              "  </style>\n",
              "\n",
              "      <script>\n",
              "        const buttonEl =\n",
              "          document.querySelector('#df-2e5711a4-752f-4ecb-b26a-789b07a6b16f button.colab-df-convert');\n",
              "        buttonEl.style.display =\n",
              "          google.colab.kernel.accessAllowed ? 'block' : 'none';\n",
              "\n",
              "        async function convertToInteractive(key) {\n",
              "          const element = document.querySelector('#df-2e5711a4-752f-4ecb-b26a-789b07a6b16f');\n",
              "          const dataTable =\n",
              "            await google.colab.kernel.invokeFunction('convertToInteractive',\n",
              "                                                     [key], {});\n",
              "          if (!dataTable) return;\n",
              "\n",
              "          const docLinkHtml = 'Like what you see? Visit the ' +\n",
              "            '<a target=\"_blank\" href=https://colab.research.google.com/notebooks/data_table.ipynb>data table notebook</a>'\n",
              "            + ' to learn more about interactive tables.';\n",
              "          element.innerHTML = '';\n",
              "          dataTable['output_type'] = 'display_data';\n",
              "          await google.colab.output.renderOutput(dataTable, element);\n",
              "          const docLink = document.createElement('div');\n",
              "          docLink.innerHTML = docLinkHtml;\n",
              "          element.appendChild(docLink);\n",
              "        }\n",
              "      </script>\n",
              "    </div>\n",
              "  </div>\n",
              "  "
            ]
          },
          "metadata": {},
          "execution_count": 10
        }
      ]
    },
    {
      "cell_type": "code",
      "source": [
        "df_LIGO=check_remove_nanDF(df_LIGO)"
      ],
      "metadata": {
        "id": "BpWICOooAKAO",
        "colab": {
          "base_uri": "https://localhost:8080/"
        },
        "outputId": "2a5470ef-4f76-4f7e-a139-d94d84862cbb"
      },
      "execution_count": 11,
      "outputs": [
        {
          "output_type": "stream",
          "name": "stdout",
          "text": [
            "removed timeseries: 4\n"
          ]
        }
      ]
    },
    {
      "cell_type": "code",
      "source": [
        "df_LIGO.Type_Of_Glitch = pd.Categorical(df_LIGO.Type_Of_Glitch)"
      ],
      "metadata": {
        "id": "Uw2WB7yIIDE6"
      },
      "execution_count": 12,
      "outputs": []
    },
    {
      "cell_type": "code",
      "source": [
        "df_LIGO['code']=df_LIGO.Type_Of_Glitch.cat.codes"
      ],
      "metadata": {
        "id": "UgbGVNduIa8c"
      },
      "execution_count": 13,
      "outputs": []
    },
    {
      "cell_type": "code",
      "source": [
        "df_LIGO.head()"
      ],
      "metadata": {
        "colab": {
          "base_uri": "https://localhost:8080/",
          "height": 206
        },
        "id": "aFAyBfqSIzKv",
        "outputId": "5b022711-9151-4f72-af7d-7f913b7657ec"
      },
      "execution_count": 14,
      "outputs": [
        {
          "output_type": "execute_result",
          "data": {
            "text/plain": [
              "           ID       Type_Of_Glitch  Starting_Times  \\\n",
              "0  ETeyjFLNXi            No_Glitch    1.126766e+09   \n",
              "1  hPyYFvFLBV            No_Glitch    1.135921e+09   \n",
              "2  cuiN0cvLl3  Low_Frequency_Burst    1.134997e+09   \n",
              "3  zJ8niJL4Cy  Low_Frequency_Lines    1.134565e+09   \n",
              "4  vQLnNoG549      Scattered_Light    1.134176e+09   \n",
              "\n",
              "                                          TimeSeries  code  \n",
              "0  [-0.07380686, 3.3789918, 2.515241, 0.77137023,...     7  \n",
              "1  [-5.61079, 32.08648, -12.678058, 20.615831, -5...     7  \n",
              "2  [-0.0029804548, -5.6829243, 7.361643, 5.990745...     5  \n",
              "3  [-77.5008, 92.88992, -75.61221, 85.37933, -65....     6  \n",
              "4  [0.5169164, 4.872511, 1.070817, 7.105692, 7.82...    12  "
            ],
            "text/html": [
              "\n",
              "  <div id=\"df-b44f7f81-ed93-4e78-85b5-7f3f2335dbf5\">\n",
              "    <div class=\"colab-df-container\">\n",
              "      <div>\n",
              "<style scoped>\n",
              "    .dataframe tbody tr th:only-of-type {\n",
              "        vertical-align: middle;\n",
              "    }\n",
              "\n",
              "    .dataframe tbody tr th {\n",
              "        vertical-align: top;\n",
              "    }\n",
              "\n",
              "    .dataframe thead th {\n",
              "        text-align: right;\n",
              "    }\n",
              "</style>\n",
              "<table border=\"1\" class=\"dataframe\">\n",
              "  <thead>\n",
              "    <tr style=\"text-align: right;\">\n",
              "      <th></th>\n",
              "      <th>ID</th>\n",
              "      <th>Type_Of_Glitch</th>\n",
              "      <th>Starting_Times</th>\n",
              "      <th>TimeSeries</th>\n",
              "      <th>code</th>\n",
              "    </tr>\n",
              "  </thead>\n",
              "  <tbody>\n",
              "    <tr>\n",
              "      <th>0</th>\n",
              "      <td>ETeyjFLNXi</td>\n",
              "      <td>No_Glitch</td>\n",
              "      <td>1.126766e+09</td>\n",
              "      <td>[-0.07380686, 3.3789918, 2.515241, 0.77137023,...</td>\n",
              "      <td>7</td>\n",
              "    </tr>\n",
              "    <tr>\n",
              "      <th>1</th>\n",
              "      <td>hPyYFvFLBV</td>\n",
              "      <td>No_Glitch</td>\n",
              "      <td>1.135921e+09</td>\n",
              "      <td>[-5.61079, 32.08648, -12.678058, 20.615831, -5...</td>\n",
              "      <td>7</td>\n",
              "    </tr>\n",
              "    <tr>\n",
              "      <th>2</th>\n",
              "      <td>cuiN0cvLl3</td>\n",
              "      <td>Low_Frequency_Burst</td>\n",
              "      <td>1.134997e+09</td>\n",
              "      <td>[-0.0029804548, -5.6829243, 7.361643, 5.990745...</td>\n",
              "      <td>5</td>\n",
              "    </tr>\n",
              "    <tr>\n",
              "      <th>3</th>\n",
              "      <td>zJ8niJL4Cy</td>\n",
              "      <td>Low_Frequency_Lines</td>\n",
              "      <td>1.134565e+09</td>\n",
              "      <td>[-77.5008, 92.88992, -75.61221, 85.37933, -65....</td>\n",
              "      <td>6</td>\n",
              "    </tr>\n",
              "    <tr>\n",
              "      <th>4</th>\n",
              "      <td>vQLnNoG549</td>\n",
              "      <td>Scattered_Light</td>\n",
              "      <td>1.134176e+09</td>\n",
              "      <td>[0.5169164, 4.872511, 1.070817, 7.105692, 7.82...</td>\n",
              "      <td>12</td>\n",
              "    </tr>\n",
              "  </tbody>\n",
              "</table>\n",
              "</div>\n",
              "      <button class=\"colab-df-convert\" onclick=\"convertToInteractive('df-b44f7f81-ed93-4e78-85b5-7f3f2335dbf5')\"\n",
              "              title=\"Convert this dataframe to an interactive table.\"\n",
              "              style=\"display:none;\">\n",
              "        \n",
              "  <svg xmlns=\"http://www.w3.org/2000/svg\" height=\"24px\"viewBox=\"0 0 24 24\"\n",
              "       width=\"24px\">\n",
              "    <path d=\"M0 0h24v24H0V0z\" fill=\"none\"/>\n",
              "    <path d=\"M18.56 5.44l.94 2.06.94-2.06 2.06-.94-2.06-.94-.94-2.06-.94 2.06-2.06.94zm-11 1L8.5 8.5l.94-2.06 2.06-.94-2.06-.94L8.5 2.5l-.94 2.06-2.06.94zm10 10l.94 2.06.94-2.06 2.06-.94-2.06-.94-.94-2.06-.94 2.06-2.06.94z\"/><path d=\"M17.41 7.96l-1.37-1.37c-.4-.4-.92-.59-1.43-.59-.52 0-1.04.2-1.43.59L10.3 9.45l-7.72 7.72c-.78.78-.78 2.05 0 2.83L4 21.41c.39.39.9.59 1.41.59.51 0 1.02-.2 1.41-.59l7.78-7.78 2.81-2.81c.8-.78.8-2.07 0-2.86zM5.41 20L4 18.59l7.72-7.72 1.47 1.35L5.41 20z\"/>\n",
              "  </svg>\n",
              "      </button>\n",
              "      \n",
              "  <style>\n",
              "    .colab-df-container {\n",
              "      display:flex;\n",
              "      flex-wrap:wrap;\n",
              "      gap: 12px;\n",
              "    }\n",
              "\n",
              "    .colab-df-convert {\n",
              "      background-color: #E8F0FE;\n",
              "      border: none;\n",
              "      border-radius: 50%;\n",
              "      cursor: pointer;\n",
              "      display: none;\n",
              "      fill: #1967D2;\n",
              "      height: 32px;\n",
              "      padding: 0 0 0 0;\n",
              "      width: 32px;\n",
              "    }\n",
              "\n",
              "    .colab-df-convert:hover {\n",
              "      background-color: #E2EBFA;\n",
              "      box-shadow: 0px 1px 2px rgba(60, 64, 67, 0.3), 0px 1px 3px 1px rgba(60, 64, 67, 0.15);\n",
              "      fill: #174EA6;\n",
              "    }\n",
              "\n",
              "    [theme=dark] .colab-df-convert {\n",
              "      background-color: #3B4455;\n",
              "      fill: #D2E3FC;\n",
              "    }\n",
              "\n",
              "    [theme=dark] .colab-df-convert:hover {\n",
              "      background-color: #434B5C;\n",
              "      box-shadow: 0px 1px 3px 1px rgba(0, 0, 0, 0.15);\n",
              "      filter: drop-shadow(0px 1px 2px rgba(0, 0, 0, 0.3));\n",
              "      fill: #FFFFFF;\n",
              "    }\n",
              "  </style>\n",
              "\n",
              "      <script>\n",
              "        const buttonEl =\n",
              "          document.querySelector('#df-b44f7f81-ed93-4e78-85b5-7f3f2335dbf5 button.colab-df-convert');\n",
              "        buttonEl.style.display =\n",
              "          google.colab.kernel.accessAllowed ? 'block' : 'none';\n",
              "\n",
              "        async function convertToInteractive(key) {\n",
              "          const element = document.querySelector('#df-b44f7f81-ed93-4e78-85b5-7f3f2335dbf5');\n",
              "          const dataTable =\n",
              "            await google.colab.kernel.invokeFunction('convertToInteractive',\n",
              "                                                     [key], {});\n",
              "          if (!dataTable) return;\n",
              "\n",
              "          const docLinkHtml = 'Like what you see? Visit the ' +\n",
              "            '<a target=\"_blank\" href=https://colab.research.google.com/notebooks/data_table.ipynb>data table notebook</a>'\n",
              "            + ' to learn more about interactive tables.';\n",
              "          element.innerHTML = '';\n",
              "          dataTable['output_type'] = 'display_data';\n",
              "          await google.colab.output.renderOutput(dataTable, element);\n",
              "          const docLink = document.createElement('div');\n",
              "          docLink.innerHTML = docLinkHtml;\n",
              "          element.appendChild(docLink);\n",
              "        }\n",
              "      </script>\n",
              "    </div>\n",
              "  </div>\n",
              "  "
            ]
          },
          "metadata": {},
          "execution_count": 14
        }
      ]
    },
    {
      "cell_type": "code",
      "source": [
        "labels = sorted(list(set(datapoint[1] for datapoint in df_LIGO.to_numpy())))"
      ],
      "metadata": {
        "id": "bgHV3mQRZ59v"
      },
      "execution_count": 15,
      "outputs": []
    },
    {
      "cell_type": "code",
      "source": [
        "labels"
      ],
      "metadata": {
        "colab": {
          "base_uri": "https://localhost:8080/"
        },
        "id": "5T21A6vnZ7AJ",
        "outputId": "2519414d-06fe-4699-b5a5-c445dab7ed3c"
      },
      "execution_count": 16,
      "outputs": [
        {
          "output_type": "execute_result",
          "data": {
            "text/plain": [
              "['Blip',\n",
              " 'Chirp',\n",
              " 'Extremely_Loud',\n",
              " 'Koi_Fish',\n",
              " 'Light_Modulation',\n",
              " 'Low_Frequency_Burst',\n",
              " 'Low_Frequency_Lines',\n",
              " 'No_Glitch',\n",
              " 'None_of_the_Above',\n",
              " 'Paired_Doves',\n",
              " 'Power_Line',\n",
              " 'Repeating_Blips',\n",
              " 'Scattered_Light',\n",
              " 'Scratchy',\n",
              " 'Tomte',\n",
              " 'Violin_Mode',\n",
              " 'Wandering_Line',\n",
              " 'Whistle']"
            ]
          },
          "metadata": {},
          "execution_count": 16
        }
      ]
    },
    {
      "cell_type": "code",
      "source": [
        "#Count of classes:\n",
        "df1 = df_LIGO['Type_Of_Glitch'].value_counts()\n",
        "print(df1)\n",
        "del df1"
      ],
      "metadata": {
        "colab": {
          "base_uri": "https://localhost:8080/"
        },
        "id": "QA4552QMQ48k",
        "outputId": "5211df47-4f39-42c5-ae90-45fe83f8ab58"
      },
      "execution_count": 17,
      "outputs": [
        {
          "output_type": "stream",
          "name": "stdout",
          "text": [
            "Low_Frequency_Burst    193\n",
            "Scattered_Light        177\n",
            "Low_Frequency_Lines    155\n",
            "Power_Line             117\n",
            "Blip                   104\n",
            "Scratchy                85\n",
            "Whistle                 80\n",
            "Tomte                   74\n",
            "No_Glitch               44\n",
            "Repeating_Blips         26\n",
            "Light_Modulation        23\n",
            "None_of_the_Above        5\n",
            "Wandering_Line           3\n",
            "Chirp                    1\n",
            "Koi_Fish                 1\n",
            "Extremely_Loud           1\n",
            "Violin_Mode              1\n",
            "Paired_Doves             1\n",
            "Name: Type_Of_Glitch, dtype: int64\n"
          ]
        }
      ]
    },
    {
      "cell_type": "code",
      "source": [
        "train_set, test_set = build_torchDataset(df_LIGO.drop(columns=['ID', 'Type_Of_Glitch', 'Starting_Times']).values)"
      ],
      "metadata": {
        "id": "ZI4GCZ6hr7tX"
      },
      "execution_count": 19,
      "outputs": []
    },
    {
      "cell_type": "code",
      "source": [
        "check_classes(train_set, test_set,labels) #If this cell give an overflow error, run it again untill it works, idk why"
      ],
      "metadata": {
        "colab": {
          "base_uri": "https://localhost:8080/",
          "height": 614
        },
        "id": "kii64wEoYZEY",
        "outputId": "0914e082-fe35-4c8a-d5be-abbe8bc89b87"
      },
      "execution_count": 24,
      "outputs": [
        {
          "output_type": "execute_result",
          "data": {
            "text/plain": [
              "                     Train set  Test set\n",
              "Blip                        84        22\n",
              "Chirp                        1         0\n",
              "Extremely_Loud               1         0\n",
              "Koi_Fish                     0         1\n",
              "Light_Modulation            21         2\n",
              "Low_Frequency_Burst        157        36\n",
              "Low_Frequency_Lines        133        22\n",
              "No_Glitch                   32        12\n",
              "None_of_the_Above            5         0\n",
              "Paired_Doves                 0         1\n",
              "Power_Line                  99        18\n",
              "Repeating_Blips             21         5\n",
              "Scattered_Light            144        33\n",
              "Scratchy                    68        17\n",
              "Tomte                       59        15\n",
              "Violin_Mode                  1         0\n",
              "Wandering_Line               2         1\n",
              "Whistle                     64        16"
            ],
            "text/html": [
              "\n",
              "  <div id=\"df-8db09c00-0a38-4c27-93ca-532fc5346010\">\n",
              "    <div class=\"colab-df-container\">\n",
              "      <div>\n",
              "<style scoped>\n",
              "    .dataframe tbody tr th:only-of-type {\n",
              "        vertical-align: middle;\n",
              "    }\n",
              "\n",
              "    .dataframe tbody tr th {\n",
              "        vertical-align: top;\n",
              "    }\n",
              "\n",
              "    .dataframe thead th {\n",
              "        text-align: right;\n",
              "    }\n",
              "</style>\n",
              "<table border=\"1\" class=\"dataframe\">\n",
              "  <thead>\n",
              "    <tr style=\"text-align: right;\">\n",
              "      <th></th>\n",
              "      <th>Train set</th>\n",
              "      <th>Test set</th>\n",
              "    </tr>\n",
              "  </thead>\n",
              "  <tbody>\n",
              "    <tr>\n",
              "      <th>Blip</th>\n",
              "      <td>84</td>\n",
              "      <td>22</td>\n",
              "    </tr>\n",
              "    <tr>\n",
              "      <th>Chirp</th>\n",
              "      <td>1</td>\n",
              "      <td>0</td>\n",
              "    </tr>\n",
              "    <tr>\n",
              "      <th>Extremely_Loud</th>\n",
              "      <td>1</td>\n",
              "      <td>0</td>\n",
              "    </tr>\n",
              "    <tr>\n",
              "      <th>Koi_Fish</th>\n",
              "      <td>0</td>\n",
              "      <td>1</td>\n",
              "    </tr>\n",
              "    <tr>\n",
              "      <th>Light_Modulation</th>\n",
              "      <td>21</td>\n",
              "      <td>2</td>\n",
              "    </tr>\n",
              "    <tr>\n",
              "      <th>Low_Frequency_Burst</th>\n",
              "      <td>157</td>\n",
              "      <td>36</td>\n",
              "    </tr>\n",
              "    <tr>\n",
              "      <th>Low_Frequency_Lines</th>\n",
              "      <td>133</td>\n",
              "      <td>22</td>\n",
              "    </tr>\n",
              "    <tr>\n",
              "      <th>No_Glitch</th>\n",
              "      <td>32</td>\n",
              "      <td>12</td>\n",
              "    </tr>\n",
              "    <tr>\n",
              "      <th>None_of_the_Above</th>\n",
              "      <td>5</td>\n",
              "      <td>0</td>\n",
              "    </tr>\n",
              "    <tr>\n",
              "      <th>Paired_Doves</th>\n",
              "      <td>0</td>\n",
              "      <td>1</td>\n",
              "    </tr>\n",
              "    <tr>\n",
              "      <th>Power_Line</th>\n",
              "      <td>99</td>\n",
              "      <td>18</td>\n",
              "    </tr>\n",
              "    <tr>\n",
              "      <th>Repeating_Blips</th>\n",
              "      <td>21</td>\n",
              "      <td>5</td>\n",
              "    </tr>\n",
              "    <tr>\n",
              "      <th>Scattered_Light</th>\n",
              "      <td>144</td>\n",
              "      <td>33</td>\n",
              "    </tr>\n",
              "    <tr>\n",
              "      <th>Scratchy</th>\n",
              "      <td>68</td>\n",
              "      <td>17</td>\n",
              "    </tr>\n",
              "    <tr>\n",
              "      <th>Tomte</th>\n",
              "      <td>59</td>\n",
              "      <td>15</td>\n",
              "    </tr>\n",
              "    <tr>\n",
              "      <th>Violin_Mode</th>\n",
              "      <td>1</td>\n",
              "      <td>0</td>\n",
              "    </tr>\n",
              "    <tr>\n",
              "      <th>Wandering_Line</th>\n",
              "      <td>2</td>\n",
              "      <td>1</td>\n",
              "    </tr>\n",
              "    <tr>\n",
              "      <th>Whistle</th>\n",
              "      <td>64</td>\n",
              "      <td>16</td>\n",
              "    </tr>\n",
              "  </tbody>\n",
              "</table>\n",
              "</div>\n",
              "      <button class=\"colab-df-convert\" onclick=\"convertToInteractive('df-8db09c00-0a38-4c27-93ca-532fc5346010')\"\n",
              "              title=\"Convert this dataframe to an interactive table.\"\n",
              "              style=\"display:none;\">\n",
              "        \n",
              "  <svg xmlns=\"http://www.w3.org/2000/svg\" height=\"24px\"viewBox=\"0 0 24 24\"\n",
              "       width=\"24px\">\n",
              "    <path d=\"M0 0h24v24H0V0z\" fill=\"none\"/>\n",
              "    <path d=\"M18.56 5.44l.94 2.06.94-2.06 2.06-.94-2.06-.94-.94-2.06-.94 2.06-2.06.94zm-11 1L8.5 8.5l.94-2.06 2.06-.94-2.06-.94L8.5 2.5l-.94 2.06-2.06.94zm10 10l.94 2.06.94-2.06 2.06-.94-2.06-.94-.94-2.06-.94 2.06-2.06.94z\"/><path d=\"M17.41 7.96l-1.37-1.37c-.4-.4-.92-.59-1.43-.59-.52 0-1.04.2-1.43.59L10.3 9.45l-7.72 7.72c-.78.78-.78 2.05 0 2.83L4 21.41c.39.39.9.59 1.41.59.51 0 1.02-.2 1.41-.59l7.78-7.78 2.81-2.81c.8-.78.8-2.07 0-2.86zM5.41 20L4 18.59l7.72-7.72 1.47 1.35L5.41 20z\"/>\n",
              "  </svg>\n",
              "      </button>\n",
              "      \n",
              "  <style>\n",
              "    .colab-df-container {\n",
              "      display:flex;\n",
              "      flex-wrap:wrap;\n",
              "      gap: 12px;\n",
              "    }\n",
              "\n",
              "    .colab-df-convert {\n",
              "      background-color: #E8F0FE;\n",
              "      border: none;\n",
              "      border-radius: 50%;\n",
              "      cursor: pointer;\n",
              "      display: none;\n",
              "      fill: #1967D2;\n",
              "      height: 32px;\n",
              "      padding: 0 0 0 0;\n",
              "      width: 32px;\n",
              "    }\n",
              "\n",
              "    .colab-df-convert:hover {\n",
              "      background-color: #E2EBFA;\n",
              "      box-shadow: 0px 1px 2px rgba(60, 64, 67, 0.3), 0px 1px 3px 1px rgba(60, 64, 67, 0.15);\n",
              "      fill: #174EA6;\n",
              "    }\n",
              "\n",
              "    [theme=dark] .colab-df-convert {\n",
              "      background-color: #3B4455;\n",
              "      fill: #D2E3FC;\n",
              "    }\n",
              "\n",
              "    [theme=dark] .colab-df-convert:hover {\n",
              "      background-color: #434B5C;\n",
              "      box-shadow: 0px 1px 3px 1px rgba(0, 0, 0, 0.15);\n",
              "      filter: drop-shadow(0px 1px 2px rgba(0, 0, 0, 0.3));\n",
              "      fill: #FFFFFF;\n",
              "    }\n",
              "  </style>\n",
              "\n",
              "      <script>\n",
              "        const buttonEl =\n",
              "          document.querySelector('#df-8db09c00-0a38-4c27-93ca-532fc5346010 button.colab-df-convert');\n",
              "        buttonEl.style.display =\n",
              "          google.colab.kernel.accessAllowed ? 'block' : 'none';\n",
              "\n",
              "        async function convertToInteractive(key) {\n",
              "          const element = document.querySelector('#df-8db09c00-0a38-4c27-93ca-532fc5346010');\n",
              "          const dataTable =\n",
              "            await google.colab.kernel.invokeFunction('convertToInteractive',\n",
              "                                                     [key], {});\n",
              "          if (!dataTable) return;\n",
              "\n",
              "          const docLinkHtml = 'Like what you see? Visit the ' +\n",
              "            '<a target=\"_blank\" href=https://colab.research.google.com/notebooks/data_table.ipynb>data table notebook</a>'\n",
              "            + ' to learn more about interactive tables.';\n",
              "          element.innerHTML = '';\n",
              "          dataTable['output_type'] = 'display_data';\n",
              "          await google.colab.output.renderOutput(dataTable, element);\n",
              "          const docLink = document.createElement('div');\n",
              "          docLink.innerHTML = docLinkHtml;\n",
              "          element.appendChild(docLink);\n",
              "        }\n",
              "      </script>\n",
              "    </div>\n",
              "  </div>\n",
              "  "
            ]
          },
          "metadata": {},
          "execution_count": 24
        }
      ]
    },
    {
      "cell_type": "code",
      "source": [
        "sample_rate=34864"
      ],
      "metadata": {
        "id": "da8wlIHDr7R1"
      },
      "execution_count": 24,
      "outputs": []
    },
    {
      "cell_type": "code",
      "source": [
        "batch_size = 32\n",
        "\n",
        "if device == \"cuda\":\n",
        "    num_workers = 1\n",
        "    pin_memory = True\n",
        "else:\n",
        "    num_workers = 0\n",
        "    pin_memory = False\n",
        "\n",
        "train_loader = torch.utils.data.DataLoader(\n",
        "    train_set,\n",
        "    batch_size=batch_size,\n",
        "    shuffle=True,\n",
        "    num_workers=num_workers,\n",
        "    #collate_fn=collate_fn,\n",
        "    pin_memory=pin_memory,\n",
        ")\n",
        "test_loader = torch.utils.data.DataLoader(\n",
        "    test_set,\n",
        "    batch_size=batch_size,\n",
        "    shuffle=False,\n",
        "    drop_last=False,\n",
        "    num_workers=num_workers,\n",
        "    #collate_fn=collate_fn,\n",
        "    pin_memory=pin_memory,\n",
        ")"
      ],
      "metadata": {
        "id": "rX2RvYN4M3Td"
      },
      "execution_count": 25,
      "outputs": []
    },
    {
      "cell_type": "code",
      "source": [
        "def evaluate_accuracy(model,transform, dataloader):\n",
        "    correct = 0\n",
        "    total = 0\n",
        "    model.eval()\n",
        "    with torch.no_grad():\n",
        "        for data in dataloader:\n",
        "            images, y = data\n",
        "            if transform:\n",
        "                images=transform(images.to(device))\n",
        "            else:\n",
        "                images=images.to(device)\n",
        "            outputs = model(images)\n",
        "            _, predicted = torch.max(outputs.data, 1)  \n",
        "            total += y.size(0) \n",
        "            correct += (predicted == y.to(device)).sum().item()\n",
        "    accuracy = 100 * correct / total  \n",
        "    return accuracy\n",
        "\n",
        "def accuracy_classes(net,transform,dataloader,classes): \n",
        "    correct_pred = {classname: 0 for classname in classes}\n",
        "    total_pred = {classname: 0 for classname in classes}\n",
        "    net.eval()\n",
        "    with torch.no_grad():\n",
        "        for data in dataloader:\n",
        "            images, labels = data\n",
        "            if transform:\n",
        "                images=transform(images.to(device))\n",
        "            else:\n",
        "                images=images.to(device)\n",
        "            outputs = net(images)\n",
        "            _, predictions = torch.max(outputs, 1)\n",
        "            for label, prediction in zip(labels.to(device), predictions):\n",
        "                if label == prediction:\n",
        "                    correct_pred[classes[label]] += 1\n",
        "                total_pred[classes[label]] += 1\n",
        "\n",
        "    for classname, correct_count in correct_pred.items():\n",
        "        accuracy = 100 * float(correct_count) / total_pred[classname]\n",
        "        print(f'Accuracy for class: {classname:5s} is {accuracy:.1f} %')\n",
        "     "
      ],
      "metadata": {
        "id": "ieWAnNJFspbn"
      },
      "execution_count": 26,
      "outputs": []
    },
    {
      "cell_type": "code",
      "source": [
        "def training(net,transform,optimizer,criterion,train_loader,test_loader,num_epochs):\n",
        "  history={'loss':[],'train_accuracy':[],'val_accuracy':[]}\n",
        "  for epoch in tqdm(range(num_epochs)):\n",
        "      running_loss = 0.0\n",
        "      running_corrects = 0.0\n",
        "      net.train()\n",
        "      for i, data in enumerate(train_loader, 0):\n",
        "          inputs, y = data\n",
        "          optimizer.zero_grad()\n",
        "          if transform:\n",
        "            inputs=transform(inputs.to(device))\n",
        "          else:\n",
        "            inputs=inputs.to(device)\n",
        "          outputs = net(inputs)\n",
        "\n",
        "          loss = criterion(outputs, y.to(device))\n",
        "          loss.backward()\n",
        "          optimizer.step()\n",
        " \n",
        "          _, predicted = torch.max(outputs.data.cpu(), 1)\n",
        "          running_corrects += torch.sum(predicted == y.data).item()\n",
        "        \n",
        "          running_loss += loss.item() * inputs.size(0)\n",
        "        \n",
        "\n",
        "      epoch_loss = running_loss / len(train_loader.dataset)\n",
        "      epoch_acc = 100.0*running_corrects / len(train_loader.dataset)\n",
        "      val_acc=evaluate_accuracy(net,transform,test_loader)\n",
        "      history['loss'].append(epoch_loss)\n",
        "      history['train_accuracy'].append(epoch_acc)\n",
        "      history['val_accuracy'].append(val_acc)\n",
        "      print('Epoch {} Loss: {:.4f} Acc: {:.4f}% Val Acc: {:.4f}%'.format(epoch+1, epoch_loss, epoch_acc, val_acc))  \n",
        "  return history"
      ],
      "metadata": {
        "id": "41R5MDatsxP-"
      },
      "execution_count": 27,
      "outputs": []
    },
    {
      "cell_type": "code",
      "source": [
        "class LogisticRegression(nn.Module):\n",
        "    def __init__(self, n_input, n_output=18):\n",
        "        super().__init__()\n",
        "        self.fc1 = nn.Linear(n_input, n_output)\n",
        "    def forward(self, x):\n",
        "        x=x.view(x.shape[0],-1)\n",
        "        x = self.fc1(x)\n",
        "        return F.log_softmax(x, dim=1).squeeze()"
      ],
      "metadata": {
        "id": "rL24KD0cgszt"
      },
      "execution_count": 28,
      "outputs": []
    },
    {
      "cell_type": "code",
      "source": [
        "T=20000"
      ],
      "metadata": {
        "id": "fAKYi6eQszp5"
      },
      "execution_count": 29,
      "outputs": []
    },
    {
      "cell_type": "code",
      "source": [
        "transform = torchaudio.transforms.Resample(orig_freq=sample_rate, new_freq=T).to(device)"
      ],
      "metadata": {
        "id": "LWTL8m7ds9nD"
      },
      "execution_count": 30,
      "outputs": []
    },
    {
      "cell_type": "code",
      "source": [
        "model = LogisticRegression(n_input=T, n_output=18).to(device)    "
      ],
      "metadata": {
        "id": "Ec2qC4E6tBF1"
      },
      "execution_count": 36,
      "outputs": []
    },
    {
      "cell_type": "code",
      "source": [
        "criterion = nn.NLLLoss()"
      ],
      "metadata": {
        "id": "aGU0GorxtEn_"
      },
      "execution_count": 37,
      "outputs": []
    },
    {
      "cell_type": "code",
      "source": [
        "optimizer = optim.SGD(model.parameters(), lr=0.01, weight_decay=0.001)"
      ],
      "metadata": {
        "id": "BwPgMx4KtHBb"
      },
      "execution_count": 38,
      "outputs": []
    },
    {
      "cell_type": "code",
      "source": [
        "summary(model,(1,T))"
      ],
      "metadata": {
        "colab": {
          "base_uri": "https://localhost:8080/"
        },
        "id": "PIoX_RyHtJxF",
        "outputId": "c476858e-af81-4b66-ca89-5918ae342531"
      },
      "execution_count": 39,
      "outputs": [
        {
          "output_type": "stream",
          "name": "stdout",
          "text": [
            "----------------------------------------------------------------\n",
            "        Layer (type)               Output Shape         Param #\n",
            "================================================================\n",
            "            Linear-1                   [-1, 18]         360,018\n",
            "================================================================\n",
            "Total params: 360,018\n",
            "Trainable params: 360,018\n",
            "Non-trainable params: 0\n",
            "----------------------------------------------------------------\n",
            "Input size (MB): 0.08\n",
            "Forward/backward pass size (MB): 0.00\n",
            "Params size (MB): 1.37\n",
            "Estimated Total Size (MB): 1.45\n",
            "----------------------------------------------------------------\n"
          ]
        }
      ]
    },
    {
      "cell_type": "code",
      "source": [
        "num_epochs=100"
      ],
      "metadata": {
        "id": "J2g5b4_MtMw5"
      },
      "execution_count": 40,
      "outputs": []
    },
    {
      "cell_type": "code",
      "source": [
        "history=training(model,transform,optimizer,criterion,train_loader,test_loader,num_epochs)"
      ],
      "metadata": {
        "colab": {
          "base_uri": "https://localhost:8080/",
          "height": 1000,
          "referenced_widgets": [
            "6fcc3c2a69334565b9d5d9159870bfd8",
            "71b57096c6054a7c99891ab3331962ad",
            "92844ff5dd974911b8f875bb5eb127cc",
            "80d2c1a724d347d1bef898a2f00b721f",
            "f9811fcbc9f14ab49c8cfae220ab3670",
            "0ef5e90c0a3a458cbfe912ce53d9a0f7",
            "8213f3c4d22841f987909f98c645ea0a",
            "23032f42ccb541d7bcbe9d2495e9204e",
            "4bd72bcee4794bd78e954b9b8e4e568f",
            "1c0298780c5f44cdb4f748c0405b5665",
            "ea82694e25af4e4ea5e0ae30607e93ae"
          ]
        },
        "id": "kNY5CSgmtPM6",
        "outputId": "410d1642-9075-4302-952a-8ad693479dc7"
      },
      "execution_count": 41,
      "outputs": [
        {
          "output_type": "display_data",
          "data": {
            "text/plain": [
              "  0%|          | 0/100 [00:00<?, ?it/s]"
            ],
            "application/vnd.jupyter.widget-view+json": {
              "version_major": 2,
              "version_minor": 0,
              "model_id": "6fcc3c2a69334565b9d5d9159870bfd8"
            }
          },
          "metadata": {}
        },
        {
          "output_type": "stream",
          "name": "stdout",
          "text": [
            "Epoch 1 Loss: 2.9160 Acc: 6.9585% Val Acc: 6.5000%\n",
            "Epoch 2 Loss: 2.5393 Acc: 44.2200% Val Acc: 11.0000%\n",
            "Epoch 3 Loss: 2.3061 Acc: 62.4018% Val Acc: 13.5000%\n",
            "Epoch 4 Loss: 2.1284 Acc: 70.4826% Val Acc: 15.5000%\n",
            "Epoch 5 Loss: 1.9826 Acc: 73.9618% Val Acc: 16.0000%\n",
            "Epoch 6 Loss: 1.8610 Acc: 77.2166% Val Acc: 16.0000%\n",
            "Epoch 7 Loss: 1.7524 Acc: 78.3389% Val Acc: 17.0000%\n",
            "Epoch 8 Loss: 1.6574 Acc: 80.1347% Val Acc: 15.5000%\n",
            "Epoch 9 Loss: 1.5741 Acc: 81.5937% Val Acc: 15.5000%\n",
            "Epoch 10 Loss: 1.4976 Acc: 83.3895% Val Acc: 16.0000%\n",
            "Epoch 11 Loss: 1.4286 Acc: 83.8384% Val Acc: 16.0000%\n",
            "Epoch 12 Loss: 1.3659 Acc: 85.0730% Val Acc: 16.5000%\n",
            "Epoch 13 Loss: 1.3093 Acc: 86.4198% Val Acc: 16.5000%\n",
            "Epoch 14 Loss: 1.2562 Acc: 87.4299% Val Acc: 17.5000%\n",
            "Epoch 15 Loss: 1.2059 Acc: 88.2155% Val Acc: 17.0000%\n",
            "Epoch 16 Loss: 1.1606 Acc: 88.7767% Val Acc: 17.5000%\n",
            "Epoch 17 Loss: 1.1191 Acc: 89.7868% Val Acc: 18.0000%\n",
            "Epoch 18 Loss: 1.0786 Acc: 91.0213% Val Acc: 17.5000%\n",
            "Epoch 19 Loss: 1.0406 Acc: 91.5825% Val Acc: 17.5000%\n",
            "Epoch 20 Loss: 1.0056 Acc: 92.4804% Val Acc: 17.5000%\n",
            "Epoch 21 Loss: 0.9725 Acc: 93.0415% Val Acc: 17.5000%\n",
            "Epoch 22 Loss: 0.9417 Acc: 93.7149% Val Acc: 18.0000%\n",
            "Epoch 23 Loss: 0.9116 Acc: 94.1639% Val Acc: 18.0000%\n",
            "Epoch 24 Loss: 0.8846 Acc: 94.3883% Val Acc: 18.0000%\n",
            "Epoch 25 Loss: 0.8588 Acc: 94.3883% Val Acc: 18.0000%\n",
            "Epoch 26 Loss: 0.8329 Acc: 94.8373% Val Acc: 18.0000%\n",
            "Epoch 27 Loss: 0.8087 Acc: 95.0617% Val Acc: 18.5000%\n",
            "Epoch 28 Loss: 0.7857 Acc: 95.2862% Val Acc: 18.5000%\n",
            "Epoch 29 Loss: 0.7641 Acc: 95.5107% Val Acc: 18.5000%\n",
            "Epoch 30 Loss: 0.7433 Acc: 95.7351% Val Acc: 18.5000%\n",
            "Epoch 31 Loss: 0.7236 Acc: 96.1841% Val Acc: 18.5000%\n",
            "Epoch 32 Loss: 0.7048 Acc: 96.4085% Val Acc: 18.5000%\n",
            "Epoch 33 Loss: 0.6868 Acc: 96.6330% Val Acc: 18.5000%\n",
            "Epoch 34 Loss: 0.6691 Acc: 96.8575% Val Acc: 18.5000%\n",
            "Epoch 35 Loss: 0.6524 Acc: 97.0819% Val Acc: 18.5000%\n",
            "Epoch 36 Loss: 0.6365 Acc: 97.4186% Val Acc: 18.5000%\n",
            "Epoch 37 Loss: 0.6211 Acc: 97.4186% Val Acc: 18.5000%\n",
            "Epoch 38 Loss: 0.6062 Acc: 97.6431% Val Acc: 18.5000%\n",
            "Epoch 39 Loss: 0.5922 Acc: 97.8676% Val Acc: 19.0000%\n",
            "Epoch 40 Loss: 0.5784 Acc: 97.9798% Val Acc: 19.0000%\n",
            "Epoch 41 Loss: 0.5650 Acc: 98.2043% Val Acc: 19.0000%\n",
            "Epoch 42 Loss: 0.5523 Acc: 98.2043% Val Acc: 19.0000%\n",
            "Epoch 43 Loss: 0.5400 Acc: 98.3165% Val Acc: 19.0000%\n",
            "Epoch 44 Loss: 0.5281 Acc: 98.4287% Val Acc: 18.5000%\n",
            "Epoch 45 Loss: 0.5168 Acc: 98.5410% Val Acc: 18.5000%\n",
            "Epoch 46 Loss: 0.5057 Acc: 98.5410% Val Acc: 18.5000%\n",
            "Epoch 47 Loss: 0.4950 Acc: 98.5410% Val Acc: 18.5000%\n",
            "Epoch 48 Loss: 0.4847 Acc: 98.5410% Val Acc: 18.5000%\n",
            "Epoch 49 Loss: 0.4747 Acc: 98.6532% Val Acc: 19.0000%\n",
            "Epoch 50 Loss: 0.4652 Acc: 98.6532% Val Acc: 19.0000%\n",
            "Epoch 51 Loss: 0.4557 Acc: 98.7654% Val Acc: 19.0000%\n",
            "Epoch 52 Loss: 0.4466 Acc: 98.7654% Val Acc: 19.0000%\n",
            "Epoch 53 Loss: 0.4378 Acc: 98.8777% Val Acc: 19.0000%\n",
            "Epoch 54 Loss: 0.4293 Acc: 98.8777% Val Acc: 19.0000%\n",
            "Epoch 55 Loss: 0.4211 Acc: 98.9899% Val Acc: 19.0000%\n",
            "Epoch 56 Loss: 0.4131 Acc: 99.2144% Val Acc: 19.0000%\n",
            "Epoch 57 Loss: 0.4053 Acc: 99.3266% Val Acc: 19.5000%\n",
            "Epoch 58 Loss: 0.3978 Acc: 99.3266% Val Acc: 19.5000%\n",
            "Epoch 59 Loss: 0.3905 Acc: 99.3266% Val Acc: 19.5000%\n",
            "Epoch 60 Loss: 0.3834 Acc: 99.3266% Val Acc: 19.5000%\n",
            "Epoch 61 Loss: 0.3765 Acc: 99.3266% Val Acc: 19.0000%\n",
            "Epoch 62 Loss: 0.3698 Acc: 99.4388% Val Acc: 19.0000%\n",
            "Epoch 63 Loss: 0.3632 Acc: 99.4388% Val Acc: 19.0000%\n",
            "Epoch 64 Loss: 0.3569 Acc: 99.4388% Val Acc: 19.0000%\n",
            "Epoch 65 Loss: 0.3507 Acc: 99.5511% Val Acc: 19.0000%\n",
            "Epoch 66 Loss: 0.3448 Acc: 99.5511% Val Acc: 19.0000%\n",
            "Epoch 67 Loss: 0.3389 Acc: 99.5511% Val Acc: 19.0000%\n",
            "Epoch 68 Loss: 0.3333 Acc: 99.5511% Val Acc: 19.0000%\n",
            "Epoch 69 Loss: 0.3277 Acc: 99.5511% Val Acc: 19.0000%\n",
            "Epoch 70 Loss: 0.3223 Acc: 99.5511% Val Acc: 19.0000%\n",
            "Epoch 71 Loss: 0.3171 Acc: 99.5511% Val Acc: 19.0000%\n",
            "Epoch 72 Loss: 0.3120 Acc: 99.5511% Val Acc: 19.0000%\n",
            "Epoch 73 Loss: 0.3070 Acc: 99.5511% Val Acc: 19.0000%\n",
            "Epoch 74 Loss: 0.3022 Acc: 99.6633% Val Acc: 19.0000%\n",
            "Epoch 75 Loss: 0.2975 Acc: 99.7755% Val Acc: 19.0000%\n",
            "Epoch 76 Loss: 0.2929 Acc: 99.7755% Val Acc: 19.5000%\n",
            "Epoch 77 Loss: 0.2884 Acc: 99.7755% Val Acc: 19.5000%\n",
            "Epoch 78 Loss: 0.2841 Acc: 99.7755% Val Acc: 19.5000%\n",
            "Epoch 79 Loss: 0.2798 Acc: 99.7755% Val Acc: 20.0000%\n",
            "Epoch 80 Loss: 0.2756 Acc: 99.7755% Val Acc: 20.0000%\n",
            "Epoch 81 Loss: 0.2715 Acc: 99.7755% Val Acc: 20.0000%\n",
            "Epoch 82 Loss: 0.2676 Acc: 99.7755% Val Acc: 20.0000%\n",
            "Epoch 83 Loss: 0.2637 Acc: 99.7755% Val Acc: 20.0000%\n",
            "Epoch 84 Loss: 0.2600 Acc: 99.8878% Val Acc: 20.0000%\n",
            "Epoch 85 Loss: 0.2563 Acc: 99.8878% Val Acc: 20.0000%\n",
            "Epoch 86 Loss: 0.2527 Acc: 99.8878% Val Acc: 20.0000%\n",
            "Epoch 87 Loss: 0.2491 Acc: 99.8878% Val Acc: 20.0000%\n",
            "Epoch 88 Loss: 0.2457 Acc: 99.8878% Val Acc: 20.0000%\n",
            "Epoch 89 Loss: 0.2423 Acc: 99.8878% Val Acc: 20.0000%\n",
            "Epoch 90 Loss: 0.2391 Acc: 99.8878% Val Acc: 20.0000%\n",
            "Epoch 91 Loss: 0.2359 Acc: 99.8878% Val Acc: 20.0000%\n",
            "Epoch 92 Loss: 0.2327 Acc: 99.8878% Val Acc: 20.0000%\n",
            "Epoch 93 Loss: 0.2296 Acc: 99.8878% Val Acc: 20.0000%\n",
            "Epoch 94 Loss: 0.2266 Acc: 99.8878% Val Acc: 20.0000%\n",
            "Epoch 95 Loss: 0.2237 Acc: 99.8878% Val Acc: 20.0000%\n",
            "Epoch 96 Loss: 0.2208 Acc: 99.8878% Val Acc: 20.0000%\n",
            "Epoch 97 Loss: 0.2180 Acc: 99.8878% Val Acc: 20.0000%\n",
            "Epoch 98 Loss: 0.2153 Acc: 99.8878% Val Acc: 20.0000%\n",
            "Epoch 99 Loss: 0.2126 Acc: 99.8878% Val Acc: 20.0000%\n",
            "Epoch 100 Loss: 0.2099 Acc: 99.8878% Val Acc: 20.0000%\n"
          ]
        }
      ]
    },
    {
      "cell_type": "code",
      "source": [
        "accuracy_classes(model,transform,train_loader,labels)"
      ],
      "metadata": {
        "colab": {
          "base_uri": "https://localhost:8080/",
          "height": 340
        },
        "id": "Jf0uNzBn-gGO",
        "outputId": "35151cfb-b885-4212-b4cb-d484296d2669"
      },
      "execution_count": 42,
      "outputs": [
        {
          "output_type": "stream",
          "name": "stdout",
          "text": [
            "Accuracy for class: Blip  is 100.0 %\n",
            "Accuracy for class: Chirp is 100.0 %\n",
            "Accuracy for class: Extremely_Loud is 100.0 %\n"
          ]
        },
        {
          "output_type": "error",
          "ename": "ZeroDivisionError",
          "evalue": "ignored",
          "traceback": [
            "\u001b[0;31m---------------------------------------------------------------------------\u001b[0m",
            "\u001b[0;31mZeroDivisionError\u001b[0m                         Traceback (most recent call last)",
            "\u001b[0;32m<ipython-input-42-bba3b319d9fc>\u001b[0m in \u001b[0;36m<cell line: 1>\u001b[0;34m()\u001b[0m\n\u001b[0;32m----> 1\u001b[0;31m \u001b[0maccuracy_classes\u001b[0m\u001b[0;34m(\u001b[0m\u001b[0mmodel\u001b[0m\u001b[0;34m,\u001b[0m\u001b[0mtransform\u001b[0m\u001b[0;34m,\u001b[0m\u001b[0mtrain_loader\u001b[0m\u001b[0;34m,\u001b[0m\u001b[0mlabels\u001b[0m\u001b[0;34m)\u001b[0m\u001b[0;34m\u001b[0m\u001b[0;34m\u001b[0m\u001b[0m\n\u001b[0m",
            "\u001b[0;32m<ipython-input-26-a45c3886f36f>\u001b[0m in \u001b[0;36maccuracy_classes\u001b[0;34m(net, transform, dataloader, classes)\u001b[0m\n\u001b[1;32m     36\u001b[0m \u001b[0;34m\u001b[0m\u001b[0m\n\u001b[1;32m     37\u001b[0m     \u001b[0;32mfor\u001b[0m \u001b[0mclassname\u001b[0m\u001b[0;34m,\u001b[0m \u001b[0mcorrect_count\u001b[0m \u001b[0;32min\u001b[0m \u001b[0mcorrect_pred\u001b[0m\u001b[0;34m.\u001b[0m\u001b[0mitems\u001b[0m\u001b[0;34m(\u001b[0m\u001b[0;34m)\u001b[0m\u001b[0;34m:\u001b[0m\u001b[0;34m\u001b[0m\u001b[0;34m\u001b[0m\u001b[0m\n\u001b[0;32m---> 38\u001b[0;31m         \u001b[0maccuracy\u001b[0m \u001b[0;34m=\u001b[0m \u001b[0;36m100\u001b[0m \u001b[0;34m*\u001b[0m \u001b[0mfloat\u001b[0m\u001b[0;34m(\u001b[0m\u001b[0mcorrect_count\u001b[0m\u001b[0;34m)\u001b[0m \u001b[0;34m/\u001b[0m \u001b[0mtotal_pred\u001b[0m\u001b[0;34m[\u001b[0m\u001b[0mclassname\u001b[0m\u001b[0;34m]\u001b[0m\u001b[0;34m\u001b[0m\u001b[0;34m\u001b[0m\u001b[0m\n\u001b[0m\u001b[1;32m     39\u001b[0m         \u001b[0mprint\u001b[0m\u001b[0;34m(\u001b[0m\u001b[0;34mf'Accuracy for class: {classname:5s} is {accuracy:.1f} %'\u001b[0m\u001b[0;34m)\u001b[0m\u001b[0;34m\u001b[0m\u001b[0;34m\u001b[0m\u001b[0m\n\u001b[1;32m     40\u001b[0m \u001b[0;34m\u001b[0m\u001b[0m\n",
            "\u001b[0;31mZeroDivisionError\u001b[0m: float division by zero"
          ]
        }
      ]
    },
    {
      "cell_type": "code",
      "source": [
        "accuracy_classes(model,transform,test_loader,labels)"
      ],
      "metadata": {
        "colab": {
          "base_uri": "https://localhost:8080/",
          "height": 305
        },
        "id": "yG2-hI7J-fr8",
        "outputId": "951d64e2-82db-4f2e-d2b9-c0f24e8e0596"
      },
      "execution_count": 43,
      "outputs": [
        {
          "output_type": "stream",
          "name": "stdout",
          "text": [
            "Accuracy for class: Blip  is 33.3 %\n"
          ]
        },
        {
          "output_type": "error",
          "ename": "ZeroDivisionError",
          "evalue": "ignored",
          "traceback": [
            "\u001b[0;31m---------------------------------------------------------------------------\u001b[0m",
            "\u001b[0;31mZeroDivisionError\u001b[0m                         Traceback (most recent call last)",
            "\u001b[0;32m<ipython-input-43-d03def316133>\u001b[0m in \u001b[0;36m<cell line: 1>\u001b[0;34m()\u001b[0m\n\u001b[0;32m----> 1\u001b[0;31m \u001b[0maccuracy_classes\u001b[0m\u001b[0;34m(\u001b[0m\u001b[0mmodel\u001b[0m\u001b[0;34m,\u001b[0m\u001b[0mtransform\u001b[0m\u001b[0;34m,\u001b[0m\u001b[0mtest_loader\u001b[0m\u001b[0;34m,\u001b[0m\u001b[0mlabels\u001b[0m\u001b[0;34m)\u001b[0m\u001b[0;34m\u001b[0m\u001b[0;34m\u001b[0m\u001b[0m\n\u001b[0m",
            "\u001b[0;32m<ipython-input-26-a45c3886f36f>\u001b[0m in \u001b[0;36maccuracy_classes\u001b[0;34m(net, transform, dataloader, classes)\u001b[0m\n\u001b[1;32m     36\u001b[0m \u001b[0;34m\u001b[0m\u001b[0m\n\u001b[1;32m     37\u001b[0m     \u001b[0;32mfor\u001b[0m \u001b[0mclassname\u001b[0m\u001b[0;34m,\u001b[0m \u001b[0mcorrect_count\u001b[0m \u001b[0;32min\u001b[0m \u001b[0mcorrect_pred\u001b[0m\u001b[0;34m.\u001b[0m\u001b[0mitems\u001b[0m\u001b[0;34m(\u001b[0m\u001b[0;34m)\u001b[0m\u001b[0;34m:\u001b[0m\u001b[0;34m\u001b[0m\u001b[0;34m\u001b[0m\u001b[0m\n\u001b[0;32m---> 38\u001b[0;31m         \u001b[0maccuracy\u001b[0m \u001b[0;34m=\u001b[0m \u001b[0;36m100\u001b[0m \u001b[0;34m*\u001b[0m \u001b[0mfloat\u001b[0m\u001b[0;34m(\u001b[0m\u001b[0mcorrect_count\u001b[0m\u001b[0;34m)\u001b[0m \u001b[0;34m/\u001b[0m \u001b[0mtotal_pred\u001b[0m\u001b[0;34m[\u001b[0m\u001b[0mclassname\u001b[0m\u001b[0;34m]\u001b[0m\u001b[0;34m\u001b[0m\u001b[0;34m\u001b[0m\u001b[0m\n\u001b[0m\u001b[1;32m     39\u001b[0m         \u001b[0mprint\u001b[0m\u001b[0;34m(\u001b[0m\u001b[0;34mf'Accuracy for class: {classname:5s} is {accuracy:.1f} %'\u001b[0m\u001b[0;34m)\u001b[0m\u001b[0;34m\u001b[0m\u001b[0;34m\u001b[0m\u001b[0m\n\u001b[1;32m     40\u001b[0m \u001b[0;34m\u001b[0m\u001b[0m\n",
            "\u001b[0;31mZeroDivisionError\u001b[0m: float division by zero"
          ]
        }
      ]
    },
    {
      "cell_type": "code",
      "source": [
        "#LOGSCATTERING"
      ],
      "metadata": {
        "id": "r3dwkBpuk6aQ"
      },
      "execution_count": null,
      "outputs": []
    }
  ]
}