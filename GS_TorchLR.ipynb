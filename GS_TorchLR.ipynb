{
  "nbformat": 4,
  "nbformat_minor": 0,
  "metadata": {
    "colab": {
      "provenance": [],
      "gpuType": "T4",
      "authorship_tag": "ABX9TyN1caYNKZ+Wn6qmbrvC8yW9",
      "include_colab_link": true
    },
    "kernelspec": {
      "name": "python3",
      "display_name": "Python 3"
    },
    "language_info": {
      "name": "python"
    },
    "accelerator": "GPU",
    "gpuClass": "standard",
    "widgets": {
      "application/vnd.jupyter.widget-state+json": {
        "7444f0871a484fa5b8a5aaec566fee65": {
          "model_module": "@jupyter-widgets/controls",
          "model_name": "HBoxModel",
          "model_module_version": "1.5.0",
          "state": {
            "_dom_classes": [],
            "_model_module": "@jupyter-widgets/controls",
            "_model_module_version": "1.5.0",
            "_model_name": "HBoxModel",
            "_view_count": null,
            "_view_module": "@jupyter-widgets/controls",
            "_view_module_version": "1.5.0",
            "_view_name": "HBoxView",
            "box_style": "",
            "children": [
              "IPY_MODEL_68042f1349004ed2bacf7583c5bbbe97",
              "IPY_MODEL_88b07c5072e046e6afb42c1823e5461e",
              "IPY_MODEL_f807ea181dca416faa64cc41c2d65db1"
            ],
            "layout": "IPY_MODEL_edb3f9b0a77943988dfe1e3bdfd5318c"
          }
        },
        "68042f1349004ed2bacf7583c5bbbe97": {
          "model_module": "@jupyter-widgets/controls",
          "model_name": "HTMLModel",
          "model_module_version": "1.5.0",
          "state": {
            "_dom_classes": [],
            "_model_module": "@jupyter-widgets/controls",
            "_model_module_version": "1.5.0",
            "_model_name": "HTMLModel",
            "_view_count": null,
            "_view_module": "@jupyter-widgets/controls",
            "_view_module_version": "1.5.0",
            "_view_name": "HTMLView",
            "description": "",
            "description_tooltip": null,
            "layout": "IPY_MODEL_23e5ca7baaef4c99b60ea2907e96caba",
            "placeholder": "​",
            "style": "IPY_MODEL_1cc995faa76949ebb27cdc4b19a3b483",
            "value": "100%"
          }
        },
        "88b07c5072e046e6afb42c1823e5461e": {
          "model_module": "@jupyter-widgets/controls",
          "model_name": "FloatProgressModel",
          "model_module_version": "1.5.0",
          "state": {
            "_dom_classes": [],
            "_model_module": "@jupyter-widgets/controls",
            "_model_module_version": "1.5.0",
            "_model_name": "FloatProgressModel",
            "_view_count": null,
            "_view_module": "@jupyter-widgets/controls",
            "_view_module_version": "1.5.0",
            "_view_name": "ProgressView",
            "bar_style": "success",
            "description": "",
            "description_tooltip": null,
            "layout": "IPY_MODEL_86668382a45c48f5a978ffd1918b0086",
            "max": 100,
            "min": 0,
            "orientation": "horizontal",
            "style": "IPY_MODEL_d85e282f601d416c94939eb77d67d027",
            "value": 100
          }
        },
        "f807ea181dca416faa64cc41c2d65db1": {
          "model_module": "@jupyter-widgets/controls",
          "model_name": "HTMLModel",
          "model_module_version": "1.5.0",
          "state": {
            "_dom_classes": [],
            "_model_module": "@jupyter-widgets/controls",
            "_model_module_version": "1.5.0",
            "_model_name": "HTMLModel",
            "_view_count": null,
            "_view_module": "@jupyter-widgets/controls",
            "_view_module_version": "1.5.0",
            "_view_name": "HTMLView",
            "description": "",
            "description_tooltip": null,
            "layout": "IPY_MODEL_b5b09aabbd0546b8a37d373229598f47",
            "placeholder": "​",
            "style": "IPY_MODEL_7d358ecc91434ab1b61883b4c1ee563b",
            "value": " 100/100 [00:26&lt;00:00,  4.07it/s]"
          }
        },
        "edb3f9b0a77943988dfe1e3bdfd5318c": {
          "model_module": "@jupyter-widgets/base",
          "model_name": "LayoutModel",
          "model_module_version": "1.2.0",
          "state": {
            "_model_module": "@jupyter-widgets/base",
            "_model_module_version": "1.2.0",
            "_model_name": "LayoutModel",
            "_view_count": null,
            "_view_module": "@jupyter-widgets/base",
            "_view_module_version": "1.2.0",
            "_view_name": "LayoutView",
            "align_content": null,
            "align_items": null,
            "align_self": null,
            "border": null,
            "bottom": null,
            "display": null,
            "flex": null,
            "flex_flow": null,
            "grid_area": null,
            "grid_auto_columns": null,
            "grid_auto_flow": null,
            "grid_auto_rows": null,
            "grid_column": null,
            "grid_gap": null,
            "grid_row": null,
            "grid_template_areas": null,
            "grid_template_columns": null,
            "grid_template_rows": null,
            "height": null,
            "justify_content": null,
            "justify_items": null,
            "left": null,
            "margin": null,
            "max_height": null,
            "max_width": null,
            "min_height": null,
            "min_width": null,
            "object_fit": null,
            "object_position": null,
            "order": null,
            "overflow": null,
            "overflow_x": null,
            "overflow_y": null,
            "padding": null,
            "right": null,
            "top": null,
            "visibility": null,
            "width": null
          }
        },
        "23e5ca7baaef4c99b60ea2907e96caba": {
          "model_module": "@jupyter-widgets/base",
          "model_name": "LayoutModel",
          "model_module_version": "1.2.0",
          "state": {
            "_model_module": "@jupyter-widgets/base",
            "_model_module_version": "1.2.0",
            "_model_name": "LayoutModel",
            "_view_count": null,
            "_view_module": "@jupyter-widgets/base",
            "_view_module_version": "1.2.0",
            "_view_name": "LayoutView",
            "align_content": null,
            "align_items": null,
            "align_self": null,
            "border": null,
            "bottom": null,
            "display": null,
            "flex": null,
            "flex_flow": null,
            "grid_area": null,
            "grid_auto_columns": null,
            "grid_auto_flow": null,
            "grid_auto_rows": null,
            "grid_column": null,
            "grid_gap": null,
            "grid_row": null,
            "grid_template_areas": null,
            "grid_template_columns": null,
            "grid_template_rows": null,
            "height": null,
            "justify_content": null,
            "justify_items": null,
            "left": null,
            "margin": null,
            "max_height": null,
            "max_width": null,
            "min_height": null,
            "min_width": null,
            "object_fit": null,
            "object_position": null,
            "order": null,
            "overflow": null,
            "overflow_x": null,
            "overflow_y": null,
            "padding": null,
            "right": null,
            "top": null,
            "visibility": null,
            "width": null
          }
        },
        "1cc995faa76949ebb27cdc4b19a3b483": {
          "model_module": "@jupyter-widgets/controls",
          "model_name": "DescriptionStyleModel",
          "model_module_version": "1.5.0",
          "state": {
            "_model_module": "@jupyter-widgets/controls",
            "_model_module_version": "1.5.0",
            "_model_name": "DescriptionStyleModel",
            "_view_count": null,
            "_view_module": "@jupyter-widgets/base",
            "_view_module_version": "1.2.0",
            "_view_name": "StyleView",
            "description_width": ""
          }
        },
        "86668382a45c48f5a978ffd1918b0086": {
          "model_module": "@jupyter-widgets/base",
          "model_name": "LayoutModel",
          "model_module_version": "1.2.0",
          "state": {
            "_model_module": "@jupyter-widgets/base",
            "_model_module_version": "1.2.0",
            "_model_name": "LayoutModel",
            "_view_count": null,
            "_view_module": "@jupyter-widgets/base",
            "_view_module_version": "1.2.0",
            "_view_name": "LayoutView",
            "align_content": null,
            "align_items": null,
            "align_self": null,
            "border": null,
            "bottom": null,
            "display": null,
            "flex": null,
            "flex_flow": null,
            "grid_area": null,
            "grid_auto_columns": null,
            "grid_auto_flow": null,
            "grid_auto_rows": null,
            "grid_column": null,
            "grid_gap": null,
            "grid_row": null,
            "grid_template_areas": null,
            "grid_template_columns": null,
            "grid_template_rows": null,
            "height": null,
            "justify_content": null,
            "justify_items": null,
            "left": null,
            "margin": null,
            "max_height": null,
            "max_width": null,
            "min_height": null,
            "min_width": null,
            "object_fit": null,
            "object_position": null,
            "order": null,
            "overflow": null,
            "overflow_x": null,
            "overflow_y": null,
            "padding": null,
            "right": null,
            "top": null,
            "visibility": null,
            "width": null
          }
        },
        "d85e282f601d416c94939eb77d67d027": {
          "model_module": "@jupyter-widgets/controls",
          "model_name": "ProgressStyleModel",
          "model_module_version": "1.5.0",
          "state": {
            "_model_module": "@jupyter-widgets/controls",
            "_model_module_version": "1.5.0",
            "_model_name": "ProgressStyleModel",
            "_view_count": null,
            "_view_module": "@jupyter-widgets/base",
            "_view_module_version": "1.2.0",
            "_view_name": "StyleView",
            "bar_color": null,
            "description_width": ""
          }
        },
        "b5b09aabbd0546b8a37d373229598f47": {
          "model_module": "@jupyter-widgets/base",
          "model_name": "LayoutModel",
          "model_module_version": "1.2.0",
          "state": {
            "_model_module": "@jupyter-widgets/base",
            "_model_module_version": "1.2.0",
            "_model_name": "LayoutModel",
            "_view_count": null,
            "_view_module": "@jupyter-widgets/base",
            "_view_module_version": "1.2.0",
            "_view_name": "LayoutView",
            "align_content": null,
            "align_items": null,
            "align_self": null,
            "border": null,
            "bottom": null,
            "display": null,
            "flex": null,
            "flex_flow": null,
            "grid_area": null,
            "grid_auto_columns": null,
            "grid_auto_flow": null,
            "grid_auto_rows": null,
            "grid_column": null,
            "grid_gap": null,
            "grid_row": null,
            "grid_template_areas": null,
            "grid_template_columns": null,
            "grid_template_rows": null,
            "height": null,
            "justify_content": null,
            "justify_items": null,
            "left": null,
            "margin": null,
            "max_height": null,
            "max_width": null,
            "min_height": null,
            "min_width": null,
            "object_fit": null,
            "object_position": null,
            "order": null,
            "overflow": null,
            "overflow_x": null,
            "overflow_y": null,
            "padding": null,
            "right": null,
            "top": null,
            "visibility": null,
            "width": null
          }
        },
        "7d358ecc91434ab1b61883b4c1ee563b": {
          "model_module": "@jupyter-widgets/controls",
          "model_name": "DescriptionStyleModel",
          "model_module_version": "1.5.0",
          "state": {
            "_model_module": "@jupyter-widgets/controls",
            "_model_module_version": "1.5.0",
            "_model_name": "DescriptionStyleModel",
            "_view_count": null,
            "_view_module": "@jupyter-widgets/base",
            "_view_module_version": "1.2.0",
            "_view_name": "StyleView",
            "description_width": ""
          }
        }
      }
    }
  },
  "cells": [
    {
      "cell_type": "markdown",
      "metadata": {
        "id": "view-in-github",
        "colab_type": "text"
      },
      "source": [
        "<a href=\"https://colab.research.google.com/github/FrancescoSarandrea/Audio_GW/blob/main/GS_TorchLR.ipynb\" target=\"_parent\"><img src=\"https://colab.research.google.com/assets/colab-badge.svg\" alt=\"Open In Colab\"/></a>"
      ]
    },
    {
      "cell_type": "markdown",
      "source": [
        "Simple notebook to convert gravity spy samples to pytorch datasets, an implementation of a logistic regression is also provided."
      ],
      "metadata": {
        "id": "-HokMp0jROML"
      }
    },
    {
      "cell_type": "code",
      "source": [
        "from google.colab import drive\n",
        "drive.mount('/content/drive')  "
      ],
      "metadata": {
        "colab": {
          "base_uri": "https://localhost:8080/"
        },
        "id": "Mt3clcKKfqGY",
        "outputId": "bcf0c697-f8f0-4d16-8597-42611ca2e253"
      },
      "execution_count": 1,
      "outputs": [
        {
          "output_type": "stream",
          "name": "stdout",
          "text": [
            "Drive already mounted at /content/drive; to attempt to forcibly remount, call drive.mount(\"/content/drive\", force_remount=True).\n"
          ]
        }
      ]
    },
    {
      "cell_type": "code",
      "source": [
        "try:\n",
        "    from gwpy.timeseries import TimeSeries\n",
        "except ModuleNotFoundError: \n",
        "    !pip install --quiet gwpy\n",
        "    from gwpy.timeseries import TimeSeries"
      ],
      "metadata": {
        "id": "zZ5Bs9__7HPV"
      },
      "execution_count": 2,
      "outputs": []
    },
    {
      "cell_type": "code",
      "execution_count": 3,
      "metadata": {
        "id": "IzvdRngD6zhB"
      },
      "outputs": [],
      "source": [
        "import os\n",
        "import h5py as h5\n",
        "import pandas as pd\n",
        "import matplotlib.pyplot as plt\n",
        "from os import listdir\n",
        "import numpy as np\n",
        "import pandas as pd\n",
        "\n",
        "import torch\n",
        "import torch.nn as nn\n",
        "import torch.nn.functional as F\n",
        "import torch.optim as optim\n",
        "import torchaudio\n",
        "import sys\n",
        "from torch.utils.data import DataLoader, TensorDataset\n",
        "import matplotlib.pyplot as plt\n",
        "from tqdm.notebook import tqdm\n",
        "from torchsummary import summary"
      ]
    },
    {
      "cell_type": "code",
      "source": [
        "device = torch.device(\"cuda\" if torch.cuda.is_available() else \"cpu\")\n",
        "print(device)"
      ],
      "metadata": {
        "colab": {
          "base_uri": "https://localhost:8080/"
        },
        "id": "FFg88ZNqqpyL",
        "outputId": "1651e032-f617-4ff9-be2a-794ca0b0575f"
      },
      "execution_count": 4,
      "outputs": [
        {
          "output_type": "stream",
          "name": "stdout",
          "text": [
            "cuda\n"
          ]
        }
      ]
    },
    {
      "cell_type": "code",
      "source": [
        "def construct_dataframe(path,t_delta=None):\n",
        "  name_data=[]\n",
        "  starting_times_data=[]\n",
        "  timeseries_data=[]\n",
        "  type_data=[]\n",
        "  for file in listdir(path):\n",
        "    if file != '.ipynb_checkpoints':\n",
        "        fout=h5.File(path+file,'r') \n",
        "    type_of_glitch=list(fout.keys())[0]\n",
        "    dataset=fout[type_of_glitch]\n",
        "    t = TimeSeries(dataset[()])\n",
        "    ln=len(t)/2\n",
        "    #if no t_delta is provided, the whole the timeseries are not cut \n",
        "    if t_delta==None:\n",
        "      t_delta=ln\n",
        "    name_data.append(file.split('.')[0].split('_')[0])\n",
        "    type_data.append(type_of_glitch)\n",
        "    starting_times_data.append(dataset.attrs['t0'])\n",
        "    dataset_cut=dataset[()][int(ln-t_delta):int(ln+t_delta)]\n",
        "    timeseries_data.append(dataset_cut)\n",
        "    # intialise data of lists.\n",
        "\n",
        "  data_Virgo = {'ID':name_data,\n",
        "        'Type_Of_Glitch':type_data,\n",
        "        'Starting_Times':starting_times_data,\n",
        "        'TimeSeries':timeseries_data}\n",
        "    # Create DataFrame\n",
        "  df= pd.DataFrame(data_Virgo)\n",
        "  return df\n",
        "\n",
        "def check_remove_nanDF(dataframe, col='TimeSeries'):\n",
        "    val=dataframe[col].values\n",
        "    idx=[]\n",
        "    for i in range(len(val)):\n",
        "        if np.isnan(val[i])[0]==True:\n",
        "            idx+=[i]\n",
        "    print(\"removed timeseries:\", len(idx))\n",
        "    return dataframe.drop(labels=idx,axis=0)\n",
        "\n",
        "\n",
        "def build_torchDataset(Dataset, val_shape=200, norm=True):\n",
        "    X,y=Dataset.T\n",
        "    data=[]\n",
        "    label=[]\n",
        "    for element in X:\n",
        "        data+= [element]\n",
        "    for i in y:\n",
        "        label+=[i]\n",
        "    X_t=torch.tensor(np.asarray(data)).unsqueeze(1)\n",
        "    y_t=torch.tensor(label).long()\n",
        "    if norm:\n",
        "        X_t=(X_t-X_t.mean(0))/X_t.std(0)\n",
        "    X_train, X_val=X_t[:-val_shape], X_t[-val_shape:]\n",
        "    y_train, y_val=y_t[:-val_shape], y_t[-val_shape:]\n",
        "    return TensorDataset(X_train,y_train), TensorDataset(X_val,y_val)\n",
        "\n",
        "def count_classes(dataset):\n",
        "    classes=torch.empty(1)\n",
        "    for _, label in dataset:\n",
        "        classes=torch.cat((classes,label.view(1)))\n",
        "    #print(classes)\n",
        "    label=torch.arange(0,classes.max()+1,1)\n",
        "    freq=torch.bincount(classes.long())\n",
        "    counts=torch.vstack((label,freq))\n",
        "    return pd.DataFrame(freq)\n",
        "\n",
        "def check_classes(train,val,labels):\n",
        "    df1=count_classes(train)\n",
        "    df1.rename(columns = {0:'Train set'},inplace=True)\n",
        "    df2=count_classes(val)\n",
        "    df2.rename(columns = {0:'Test set'},inplace=True)\n",
        "    df3=pd.concat([df1,df2],axis=1)\n",
        "    df3.index = labels\n",
        "    return df3"
      ],
      "metadata": {
        "id": "myaLcJx67FKy"
      },
      "execution_count": 5,
      "outputs": []
    },
    {
      "cell_type": "code",
      "source": [
        "!unzip -q /content/drive/MyDrive/GW_ML/Gravity_Spy_Glitches_whitened_1.zip \n",
        "!unzip -q /content/drive/MyDrive/GW_ML/Gravity_Spy_Glitches_whitened_2.zip "
      ],
      "metadata": {
        "id": "1Af0hXsJ5Xph",
        "colab": {
          "base_uri": "https://localhost:8080/"
        },
        "outputId": "d7db6889-4b57-4f1b-a266-0a36798bb6eb"
      },
      "execution_count": 6,
      "outputs": [
        {
          "output_type": "stream",
          "name": "stdout",
          "text": [
            "replace content/sample_data/Gravity_Spy/qiOJvCXifs_whitened.h5? [y]es, [n]o, [A]ll, [N]one, [r]ename: N\n",
            "replace content/sample_data/Gravity_Spy/YWDsnHEgdr_whitened.h5? [y]es, [n]o, [A]ll, [N]one, [r]ename: N\n"
          ]
        }
      ]
    },
    {
      "cell_type": "code",
      "source": [
        "!rm -rf /content/content/sample_data/.ipynb_checkpoints/"
      ],
      "metadata": {
        "id": "iRAvFHmht8e6"
      },
      "execution_count": 7,
      "outputs": []
    },
    {
      "cell_type": "code",
      "source": [
        "df_LIGO=construct_dataframe('/content/content/sample_data/Gravity_Spy/')"
      ],
      "metadata": {
        "id": "U_fCqZ3i9uwF"
      },
      "execution_count": 8,
      "outputs": []
    },
    {
      "cell_type": "code",
      "source": [
        "df_LIGO.head()"
      ],
      "metadata": {
        "colab": {
          "base_uri": "https://localhost:8080/",
          "height": 206
        },
        "id": "RX8XLdvnH-iG",
        "outputId": "cc25602a-9093-4752-f4b9-810b49655e65"
      },
      "execution_count": 9,
      "outputs": [
        {
          "output_type": "execute_result",
          "data": {
            "text/plain": [
              "           ID       Type_Of_Glitch  Starting_Times  \\\n",
              "0  NyRT1i4JUz             Scratchy    1.129836e+09   \n",
              "1  geyxTnGgSS                 Blip    1.132886e+09   \n",
              "2  u0Y5PSuCps       Extremely_Loud    1.133127e+09   \n",
              "3  1pWDp3xjUi  Low_Frequency_Burst    1.135530e+09   \n",
              "4  vDeLwvZOYx     Light_Modulation    1.127317e+09   \n",
              "\n",
              "                                          TimeSeries  \n",
              "0  [-36.20354, 26.148184, -25.498957, 22.738546, ...  \n",
              "1  [22.177229, -8.049409, 22.73818, -6.7634506, 1...  \n",
              "2  [-0.8902027, 1.4464859, -0.40690136, -2.141224...  \n",
              "3  [-28.990265, 2.939058, -34.67333, -3.4040651, ...  \n",
              "4  [-3.5203443, 19.16648, -6.5227933, 15.003055, ...  "
            ],
            "text/html": [
              "\n",
              "  <div id=\"df-3d5fbfa1-498d-4117-a538-574af29b6c6f\">\n",
              "    <div class=\"colab-df-container\">\n",
              "      <div>\n",
              "<style scoped>\n",
              "    .dataframe tbody tr th:only-of-type {\n",
              "        vertical-align: middle;\n",
              "    }\n",
              "\n",
              "    .dataframe tbody tr th {\n",
              "        vertical-align: top;\n",
              "    }\n",
              "\n",
              "    .dataframe thead th {\n",
              "        text-align: right;\n",
              "    }\n",
              "</style>\n",
              "<table border=\"1\" class=\"dataframe\">\n",
              "  <thead>\n",
              "    <tr style=\"text-align: right;\">\n",
              "      <th></th>\n",
              "      <th>ID</th>\n",
              "      <th>Type_Of_Glitch</th>\n",
              "      <th>Starting_Times</th>\n",
              "      <th>TimeSeries</th>\n",
              "    </tr>\n",
              "  </thead>\n",
              "  <tbody>\n",
              "    <tr>\n",
              "      <th>0</th>\n",
              "      <td>NyRT1i4JUz</td>\n",
              "      <td>Scratchy</td>\n",
              "      <td>1.129836e+09</td>\n",
              "      <td>[-36.20354, 26.148184, -25.498957, 22.738546, ...</td>\n",
              "    </tr>\n",
              "    <tr>\n",
              "      <th>1</th>\n",
              "      <td>geyxTnGgSS</td>\n",
              "      <td>Blip</td>\n",
              "      <td>1.132886e+09</td>\n",
              "      <td>[22.177229, -8.049409, 22.73818, -6.7634506, 1...</td>\n",
              "    </tr>\n",
              "    <tr>\n",
              "      <th>2</th>\n",
              "      <td>u0Y5PSuCps</td>\n",
              "      <td>Extremely_Loud</td>\n",
              "      <td>1.133127e+09</td>\n",
              "      <td>[-0.8902027, 1.4464859, -0.40690136, -2.141224...</td>\n",
              "    </tr>\n",
              "    <tr>\n",
              "      <th>3</th>\n",
              "      <td>1pWDp3xjUi</td>\n",
              "      <td>Low_Frequency_Burst</td>\n",
              "      <td>1.135530e+09</td>\n",
              "      <td>[-28.990265, 2.939058, -34.67333, -3.4040651, ...</td>\n",
              "    </tr>\n",
              "    <tr>\n",
              "      <th>4</th>\n",
              "      <td>vDeLwvZOYx</td>\n",
              "      <td>Light_Modulation</td>\n",
              "      <td>1.127317e+09</td>\n",
              "      <td>[-3.5203443, 19.16648, -6.5227933, 15.003055, ...</td>\n",
              "    </tr>\n",
              "  </tbody>\n",
              "</table>\n",
              "</div>\n",
              "      <button class=\"colab-df-convert\" onclick=\"convertToInteractive('df-3d5fbfa1-498d-4117-a538-574af29b6c6f')\"\n",
              "              title=\"Convert this dataframe to an interactive table.\"\n",
              "              style=\"display:none;\">\n",
              "        \n",
              "  <svg xmlns=\"http://www.w3.org/2000/svg\" height=\"24px\"viewBox=\"0 0 24 24\"\n",
              "       width=\"24px\">\n",
              "    <path d=\"M0 0h24v24H0V0z\" fill=\"none\"/>\n",
              "    <path d=\"M18.56 5.44l.94 2.06.94-2.06 2.06-.94-2.06-.94-.94-2.06-.94 2.06-2.06.94zm-11 1L8.5 8.5l.94-2.06 2.06-.94-2.06-.94L8.5 2.5l-.94 2.06-2.06.94zm10 10l.94 2.06.94-2.06 2.06-.94-2.06-.94-.94-2.06-.94 2.06-2.06.94z\"/><path d=\"M17.41 7.96l-1.37-1.37c-.4-.4-.92-.59-1.43-.59-.52 0-1.04.2-1.43.59L10.3 9.45l-7.72 7.72c-.78.78-.78 2.05 0 2.83L4 21.41c.39.39.9.59 1.41.59.51 0 1.02-.2 1.41-.59l7.78-7.78 2.81-2.81c.8-.78.8-2.07 0-2.86zM5.41 20L4 18.59l7.72-7.72 1.47 1.35L5.41 20z\"/>\n",
              "  </svg>\n",
              "      </button>\n",
              "      \n",
              "  <style>\n",
              "    .colab-df-container {\n",
              "      display:flex;\n",
              "      flex-wrap:wrap;\n",
              "      gap: 12px;\n",
              "    }\n",
              "\n",
              "    .colab-df-convert {\n",
              "      background-color: #E8F0FE;\n",
              "      border: none;\n",
              "      border-radius: 50%;\n",
              "      cursor: pointer;\n",
              "      display: none;\n",
              "      fill: #1967D2;\n",
              "      height: 32px;\n",
              "      padding: 0 0 0 0;\n",
              "      width: 32px;\n",
              "    }\n",
              "\n",
              "    .colab-df-convert:hover {\n",
              "      background-color: #E2EBFA;\n",
              "      box-shadow: 0px 1px 2px rgba(60, 64, 67, 0.3), 0px 1px 3px 1px rgba(60, 64, 67, 0.15);\n",
              "      fill: #174EA6;\n",
              "    }\n",
              "\n",
              "    [theme=dark] .colab-df-convert {\n",
              "      background-color: #3B4455;\n",
              "      fill: #D2E3FC;\n",
              "    }\n",
              "\n",
              "    [theme=dark] .colab-df-convert:hover {\n",
              "      background-color: #434B5C;\n",
              "      box-shadow: 0px 1px 3px 1px rgba(0, 0, 0, 0.15);\n",
              "      filter: drop-shadow(0px 1px 2px rgba(0, 0, 0, 0.3));\n",
              "      fill: #FFFFFF;\n",
              "    }\n",
              "  </style>\n",
              "\n",
              "      <script>\n",
              "        const buttonEl =\n",
              "          document.querySelector('#df-3d5fbfa1-498d-4117-a538-574af29b6c6f button.colab-df-convert');\n",
              "        buttonEl.style.display =\n",
              "          google.colab.kernel.accessAllowed ? 'block' : 'none';\n",
              "\n",
              "        async function convertToInteractive(key) {\n",
              "          const element = document.querySelector('#df-3d5fbfa1-498d-4117-a538-574af29b6c6f');\n",
              "          const dataTable =\n",
              "            await google.colab.kernel.invokeFunction('convertToInteractive',\n",
              "                                                     [key], {});\n",
              "          if (!dataTable) return;\n",
              "\n",
              "          const docLinkHtml = 'Like what you see? Visit the ' +\n",
              "            '<a target=\"_blank\" href=https://colab.research.google.com/notebooks/data_table.ipynb>data table notebook</a>'\n",
              "            + ' to learn more about interactive tables.';\n",
              "          element.innerHTML = '';\n",
              "          dataTable['output_type'] = 'display_data';\n",
              "          await google.colab.output.renderOutput(dataTable, element);\n",
              "          const docLink = document.createElement('div');\n",
              "          docLink.innerHTML = docLinkHtml;\n",
              "          element.appendChild(docLink);\n",
              "        }\n",
              "      </script>\n",
              "    </div>\n",
              "  </div>\n",
              "  "
            ]
          },
          "metadata": {},
          "execution_count": 9
        }
      ]
    },
    {
      "cell_type": "code",
      "source": [
        "df_LIGO=check_remove_nanDF(df_LIGO)"
      ],
      "metadata": {
        "id": "BpWICOooAKAO",
        "colab": {
          "base_uri": "https://localhost:8080/"
        },
        "outputId": "6823d1fc-e42f-4426-850a-09aa8b3a8e1c"
      },
      "execution_count": 10,
      "outputs": [
        {
          "output_type": "stream",
          "name": "stdout",
          "text": [
            "removed timeseries: 39\n"
          ]
        }
      ]
    },
    {
      "cell_type": "code",
      "source": [
        "df_LIGO.Type_Of_Glitch = pd.Categorical(df_LIGO.Type_Of_Glitch)"
      ],
      "metadata": {
        "id": "Uw2WB7yIIDE6"
      },
      "execution_count": 11,
      "outputs": []
    },
    {
      "cell_type": "code",
      "source": [
        "df_LIGO['code']=df_LIGO.Type_Of_Glitch.cat.codes"
      ],
      "metadata": {
        "id": "UgbGVNduIa8c"
      },
      "execution_count": 12,
      "outputs": []
    },
    {
      "cell_type": "code",
      "source": [
        "df_LIGO.head()"
      ],
      "metadata": {
        "colab": {
          "base_uri": "https://localhost:8080/",
          "height": 206
        },
        "id": "aFAyBfqSIzKv",
        "outputId": "3dce24eb-8f54-4df4-a6ec-9c8bedac050c"
      },
      "execution_count": 13,
      "outputs": [
        {
          "output_type": "execute_result",
          "data": {
            "text/plain": [
              "           ID       Type_Of_Glitch  Starting_Times  \\\n",
              "0  NyRT1i4JUz             Scratchy    1.129836e+09   \n",
              "1  geyxTnGgSS                 Blip    1.132886e+09   \n",
              "2  u0Y5PSuCps       Extremely_Loud    1.133127e+09   \n",
              "3  1pWDp3xjUi  Low_Frequency_Burst    1.135530e+09   \n",
              "4  vDeLwvZOYx     Light_Modulation    1.127317e+09   \n",
              "\n",
              "                                          TimeSeries  code  \n",
              "0  [-36.20354, 26.148184, -25.498957, 22.738546, ...    16  \n",
              "1  [22.177229, -8.049409, 22.73818, -6.7634506, 1...     3  \n",
              "2  [-0.8902027, 1.4464859, -0.40690136, -2.141224...     5  \n",
              "3  [-28.990265, 2.939058, -34.67333, -3.4040651, ...     8  \n",
              "4  [-3.5203443, 19.16648, -6.5227933, 15.003055, ...     7  "
            ],
            "text/html": [
              "\n",
              "  <div id=\"df-d737061a-4b45-49b7-91d1-1bfa45490257\">\n",
              "    <div class=\"colab-df-container\">\n",
              "      <div>\n",
              "<style scoped>\n",
              "    .dataframe tbody tr th:only-of-type {\n",
              "        vertical-align: middle;\n",
              "    }\n",
              "\n",
              "    .dataframe tbody tr th {\n",
              "        vertical-align: top;\n",
              "    }\n",
              "\n",
              "    .dataframe thead th {\n",
              "        text-align: right;\n",
              "    }\n",
              "</style>\n",
              "<table border=\"1\" class=\"dataframe\">\n",
              "  <thead>\n",
              "    <tr style=\"text-align: right;\">\n",
              "      <th></th>\n",
              "      <th>ID</th>\n",
              "      <th>Type_Of_Glitch</th>\n",
              "      <th>Starting_Times</th>\n",
              "      <th>TimeSeries</th>\n",
              "      <th>code</th>\n",
              "    </tr>\n",
              "  </thead>\n",
              "  <tbody>\n",
              "    <tr>\n",
              "      <th>0</th>\n",
              "      <td>NyRT1i4JUz</td>\n",
              "      <td>Scratchy</td>\n",
              "      <td>1.129836e+09</td>\n",
              "      <td>[-36.20354, 26.148184, -25.498957, 22.738546, ...</td>\n",
              "      <td>16</td>\n",
              "    </tr>\n",
              "    <tr>\n",
              "      <th>1</th>\n",
              "      <td>geyxTnGgSS</td>\n",
              "      <td>Blip</td>\n",
              "      <td>1.132886e+09</td>\n",
              "      <td>[22.177229, -8.049409, 22.73818, -6.7634506, 1...</td>\n",
              "      <td>3</td>\n",
              "    </tr>\n",
              "    <tr>\n",
              "      <th>2</th>\n",
              "      <td>u0Y5PSuCps</td>\n",
              "      <td>Extremely_Loud</td>\n",
              "      <td>1.133127e+09</td>\n",
              "      <td>[-0.8902027, 1.4464859, -0.40690136, -2.141224...</td>\n",
              "      <td>5</td>\n",
              "    </tr>\n",
              "    <tr>\n",
              "      <th>3</th>\n",
              "      <td>1pWDp3xjUi</td>\n",
              "      <td>Low_Frequency_Burst</td>\n",
              "      <td>1.135530e+09</td>\n",
              "      <td>[-28.990265, 2.939058, -34.67333, -3.4040651, ...</td>\n",
              "      <td>8</td>\n",
              "    </tr>\n",
              "    <tr>\n",
              "      <th>4</th>\n",
              "      <td>vDeLwvZOYx</td>\n",
              "      <td>Light_Modulation</td>\n",
              "      <td>1.127317e+09</td>\n",
              "      <td>[-3.5203443, 19.16648, -6.5227933, 15.003055, ...</td>\n",
              "      <td>7</td>\n",
              "    </tr>\n",
              "  </tbody>\n",
              "</table>\n",
              "</div>\n",
              "      <button class=\"colab-df-convert\" onclick=\"convertToInteractive('df-d737061a-4b45-49b7-91d1-1bfa45490257')\"\n",
              "              title=\"Convert this dataframe to an interactive table.\"\n",
              "              style=\"display:none;\">\n",
              "        \n",
              "  <svg xmlns=\"http://www.w3.org/2000/svg\" height=\"24px\"viewBox=\"0 0 24 24\"\n",
              "       width=\"24px\">\n",
              "    <path d=\"M0 0h24v24H0V0z\" fill=\"none\"/>\n",
              "    <path d=\"M18.56 5.44l.94 2.06.94-2.06 2.06-.94-2.06-.94-.94-2.06-.94 2.06-2.06.94zm-11 1L8.5 8.5l.94-2.06 2.06-.94-2.06-.94L8.5 2.5l-.94 2.06-2.06.94zm10 10l.94 2.06.94-2.06 2.06-.94-2.06-.94-.94-2.06-.94 2.06-2.06.94z\"/><path d=\"M17.41 7.96l-1.37-1.37c-.4-.4-.92-.59-1.43-.59-.52 0-1.04.2-1.43.59L10.3 9.45l-7.72 7.72c-.78.78-.78 2.05 0 2.83L4 21.41c.39.39.9.59 1.41.59.51 0 1.02-.2 1.41-.59l7.78-7.78 2.81-2.81c.8-.78.8-2.07 0-2.86zM5.41 20L4 18.59l7.72-7.72 1.47 1.35L5.41 20z\"/>\n",
              "  </svg>\n",
              "      </button>\n",
              "      \n",
              "  <style>\n",
              "    .colab-df-container {\n",
              "      display:flex;\n",
              "      flex-wrap:wrap;\n",
              "      gap: 12px;\n",
              "    }\n",
              "\n",
              "    .colab-df-convert {\n",
              "      background-color: #E8F0FE;\n",
              "      border: none;\n",
              "      border-radius: 50%;\n",
              "      cursor: pointer;\n",
              "      display: none;\n",
              "      fill: #1967D2;\n",
              "      height: 32px;\n",
              "      padding: 0 0 0 0;\n",
              "      width: 32px;\n",
              "    }\n",
              "\n",
              "    .colab-df-convert:hover {\n",
              "      background-color: #E2EBFA;\n",
              "      box-shadow: 0px 1px 2px rgba(60, 64, 67, 0.3), 0px 1px 3px 1px rgba(60, 64, 67, 0.15);\n",
              "      fill: #174EA6;\n",
              "    }\n",
              "\n",
              "    [theme=dark] .colab-df-convert {\n",
              "      background-color: #3B4455;\n",
              "      fill: #D2E3FC;\n",
              "    }\n",
              "\n",
              "    [theme=dark] .colab-df-convert:hover {\n",
              "      background-color: #434B5C;\n",
              "      box-shadow: 0px 1px 3px 1px rgba(0, 0, 0, 0.15);\n",
              "      filter: drop-shadow(0px 1px 2px rgba(0, 0, 0, 0.3));\n",
              "      fill: #FFFFFF;\n",
              "    }\n",
              "  </style>\n",
              "\n",
              "      <script>\n",
              "        const buttonEl =\n",
              "          document.querySelector('#df-d737061a-4b45-49b7-91d1-1bfa45490257 button.colab-df-convert');\n",
              "        buttonEl.style.display =\n",
              "          google.colab.kernel.accessAllowed ? 'block' : 'none';\n",
              "\n",
              "        async function convertToInteractive(key) {\n",
              "          const element = document.querySelector('#df-d737061a-4b45-49b7-91d1-1bfa45490257');\n",
              "          const dataTable =\n",
              "            await google.colab.kernel.invokeFunction('convertToInteractive',\n",
              "                                                     [key], {});\n",
              "          if (!dataTable) return;\n",
              "\n",
              "          const docLinkHtml = 'Like what you see? Visit the ' +\n",
              "            '<a target=\"_blank\" href=https://colab.research.google.com/notebooks/data_table.ipynb>data table notebook</a>'\n",
              "            + ' to learn more about interactive tables.';\n",
              "          element.innerHTML = '';\n",
              "          dataTable['output_type'] = 'display_data';\n",
              "          await google.colab.output.renderOutput(dataTable, element);\n",
              "          const docLink = document.createElement('div');\n",
              "          docLink.innerHTML = docLinkHtml;\n",
              "          element.appendChild(docLink);\n",
              "        }\n",
              "      </script>\n",
              "    </div>\n",
              "  </div>\n",
              "  "
            ]
          },
          "metadata": {},
          "execution_count": 13
        }
      ]
    },
    {
      "cell_type": "code",
      "source": [
        "labels = sorted(list(set(datapoint[1] for datapoint in df_LIGO.to_numpy())))"
      ],
      "metadata": {
        "id": "bgHV3mQRZ59v"
      },
      "execution_count": 14,
      "outputs": []
    },
    {
      "cell_type": "code",
      "source": [
        "labels"
      ],
      "metadata": {
        "colab": {
          "base_uri": "https://localhost:8080/"
        },
        "id": "5T21A6vnZ7AJ",
        "outputId": "06e709fd-24db-4c9f-cab7-0c3c4b648b21"
      },
      "execution_count": 15,
      "outputs": [
        {
          "output_type": "execute_result",
          "data": {
            "text/plain": [
              "['1080Lines',\n",
              " '1400Ripples',\n",
              " 'Air_Compressor',\n",
              " 'Blip',\n",
              " 'Chirp',\n",
              " 'Extremely_Loud',\n",
              " 'Koi_Fish',\n",
              " 'Light_Modulation',\n",
              " 'Low_Frequency_Burst',\n",
              " 'Low_Frequency_Lines',\n",
              " 'No_Glitch',\n",
              " 'None_of_the_Above',\n",
              " 'Paired_Doves',\n",
              " 'Power_Line',\n",
              " 'Repeating_Blips',\n",
              " 'Scattered_Light',\n",
              " 'Scratchy',\n",
              " 'Tomte',\n",
              " 'Violin_Mode',\n",
              " 'Wandering_Line',\n",
              " 'Whistle']"
            ]
          },
          "metadata": {},
          "execution_count": 15
        }
      ]
    },
    {
      "cell_type": "code",
      "source": [
        "#Count of classes:\n",
        "df1 = df_LIGO['Type_Of_Glitch'].value_counts()\n",
        "print(df1)\n",
        "del df1"
      ],
      "metadata": {
        "colab": {
          "base_uri": "https://localhost:8080/"
        },
        "id": "QA4552QMQ48k",
        "outputId": "1407a1cc-28b6-4ca0-cf51-47088c09d2b5"
      },
      "execution_count": 16,
      "outputs": [
        {
          "output_type": "stream",
          "name": "stdout",
          "text": [
            "Blip                   593\n",
            "Low_Frequency_Burst    204\n",
            "Scattered_Light        197\n",
            "Low_Frequency_Lines    159\n",
            "Power_Line             129\n",
            "Koi_Fish               111\n",
            "Scratchy                95\n",
            "Extremely_Loud          92\n",
            "Whistle                 85\n",
            "Tomte                   79\n",
            "No_Glitch               45\n",
            "Light_Modulation        36\n",
            "Repeating_Blips         26\n",
            "1080Lines               21\n",
            "None_of_the_Above        5\n",
            "Air_Compressor           4\n",
            "Chirp                    3\n",
            "Wandering_Line           3\n",
            "1400Ripples              2\n",
            "Paired_Doves             1\n",
            "Violin_Mode              1\n",
            "Name: Type_Of_Glitch, dtype: int64\n"
          ]
        }
      ]
    },
    {
      "cell_type": "code",
      "source": [
        "train_set, test_set = build_torchDataset(df_LIGO.drop(columns=['ID', 'Type_Of_Glitch', 'Starting_Times']).values)"
      ],
      "metadata": {
        "id": "ZI4GCZ6hr7tX"
      },
      "execution_count": 17,
      "outputs": []
    },
    {
      "cell_type": "code",
      "source": [
        "check_classes(train_set, test_set,labels) #If this cell give an overflow error, run it again untill it works, idk why"
      ],
      "metadata": {
        "colab": {
          "base_uri": "https://localhost:8080/",
          "height": 708
        },
        "id": "kii64wEoYZEY",
        "outputId": "9f23e82f-225d-423e-9f7a-c84562bf5bf3"
      },
      "execution_count": 18,
      "outputs": [
        {
          "output_type": "execute_result",
          "data": {
            "text/plain": [
              "                     Train set  Test set\n",
              "1080Lines                   21         2\n",
              "1400Ripples                  2         0\n",
              "Air_Compressor               4         0\n",
              "Blip                       530        63\n",
              "Chirp                        3         0\n",
              "Extremely_Loud              85         7\n",
              "Koi_Fish                   100        11\n",
              "Light_Modulation            29         7\n",
              "Low_Frequency_Burst        183        21\n",
              "Low_Frequency_Lines        143        16\n",
              "No_Glitch                   40         5\n",
              "None_of_the_Above            4         1\n",
              "Paired_Doves                 1         0\n",
              "Power_Line                 117        12\n",
              "Repeating_Blips             24         2\n",
              "Scattered_Light            172        25\n",
              "Scratchy                    82        13\n",
              "Tomte                       74         5\n",
              "Violin_Mode                  1         0\n",
              "Wandering_Line               3         0\n",
              "Whistle                     74        11"
            ],
            "text/html": [
              "\n",
              "  <div id=\"df-84381781-7da6-4359-b8d8-a37521c1a7c8\">\n",
              "    <div class=\"colab-df-container\">\n",
              "      <div>\n",
              "<style scoped>\n",
              "    .dataframe tbody tr th:only-of-type {\n",
              "        vertical-align: middle;\n",
              "    }\n",
              "\n",
              "    .dataframe tbody tr th {\n",
              "        vertical-align: top;\n",
              "    }\n",
              "\n",
              "    .dataframe thead th {\n",
              "        text-align: right;\n",
              "    }\n",
              "</style>\n",
              "<table border=\"1\" class=\"dataframe\">\n",
              "  <thead>\n",
              "    <tr style=\"text-align: right;\">\n",
              "      <th></th>\n",
              "      <th>Train set</th>\n",
              "      <th>Test set</th>\n",
              "    </tr>\n",
              "  </thead>\n",
              "  <tbody>\n",
              "    <tr>\n",
              "      <th>1080Lines</th>\n",
              "      <td>21</td>\n",
              "      <td>2</td>\n",
              "    </tr>\n",
              "    <tr>\n",
              "      <th>1400Ripples</th>\n",
              "      <td>2</td>\n",
              "      <td>0</td>\n",
              "    </tr>\n",
              "    <tr>\n",
              "      <th>Air_Compressor</th>\n",
              "      <td>4</td>\n",
              "      <td>0</td>\n",
              "    </tr>\n",
              "    <tr>\n",
              "      <th>Blip</th>\n",
              "      <td>530</td>\n",
              "      <td>63</td>\n",
              "    </tr>\n",
              "    <tr>\n",
              "      <th>Chirp</th>\n",
              "      <td>3</td>\n",
              "      <td>0</td>\n",
              "    </tr>\n",
              "    <tr>\n",
              "      <th>Extremely_Loud</th>\n",
              "      <td>85</td>\n",
              "      <td>7</td>\n",
              "    </tr>\n",
              "    <tr>\n",
              "      <th>Koi_Fish</th>\n",
              "      <td>100</td>\n",
              "      <td>11</td>\n",
              "    </tr>\n",
              "    <tr>\n",
              "      <th>Light_Modulation</th>\n",
              "      <td>29</td>\n",
              "      <td>7</td>\n",
              "    </tr>\n",
              "    <tr>\n",
              "      <th>Low_Frequency_Burst</th>\n",
              "      <td>183</td>\n",
              "      <td>21</td>\n",
              "    </tr>\n",
              "    <tr>\n",
              "      <th>Low_Frequency_Lines</th>\n",
              "      <td>143</td>\n",
              "      <td>16</td>\n",
              "    </tr>\n",
              "    <tr>\n",
              "      <th>No_Glitch</th>\n",
              "      <td>40</td>\n",
              "      <td>5</td>\n",
              "    </tr>\n",
              "    <tr>\n",
              "      <th>None_of_the_Above</th>\n",
              "      <td>4</td>\n",
              "      <td>1</td>\n",
              "    </tr>\n",
              "    <tr>\n",
              "      <th>Paired_Doves</th>\n",
              "      <td>1</td>\n",
              "      <td>0</td>\n",
              "    </tr>\n",
              "    <tr>\n",
              "      <th>Power_Line</th>\n",
              "      <td>117</td>\n",
              "      <td>12</td>\n",
              "    </tr>\n",
              "    <tr>\n",
              "      <th>Repeating_Blips</th>\n",
              "      <td>24</td>\n",
              "      <td>2</td>\n",
              "    </tr>\n",
              "    <tr>\n",
              "      <th>Scattered_Light</th>\n",
              "      <td>172</td>\n",
              "      <td>25</td>\n",
              "    </tr>\n",
              "    <tr>\n",
              "      <th>Scratchy</th>\n",
              "      <td>82</td>\n",
              "      <td>13</td>\n",
              "    </tr>\n",
              "    <tr>\n",
              "      <th>Tomte</th>\n",
              "      <td>74</td>\n",
              "      <td>5</td>\n",
              "    </tr>\n",
              "    <tr>\n",
              "      <th>Violin_Mode</th>\n",
              "      <td>1</td>\n",
              "      <td>0</td>\n",
              "    </tr>\n",
              "    <tr>\n",
              "      <th>Wandering_Line</th>\n",
              "      <td>3</td>\n",
              "      <td>0</td>\n",
              "    </tr>\n",
              "    <tr>\n",
              "      <th>Whistle</th>\n",
              "      <td>74</td>\n",
              "      <td>11</td>\n",
              "    </tr>\n",
              "  </tbody>\n",
              "</table>\n",
              "</div>\n",
              "      <button class=\"colab-df-convert\" onclick=\"convertToInteractive('df-84381781-7da6-4359-b8d8-a37521c1a7c8')\"\n",
              "              title=\"Convert this dataframe to an interactive table.\"\n",
              "              style=\"display:none;\">\n",
              "        \n",
              "  <svg xmlns=\"http://www.w3.org/2000/svg\" height=\"24px\"viewBox=\"0 0 24 24\"\n",
              "       width=\"24px\">\n",
              "    <path d=\"M0 0h24v24H0V0z\" fill=\"none\"/>\n",
              "    <path d=\"M18.56 5.44l.94 2.06.94-2.06 2.06-.94-2.06-.94-.94-2.06-.94 2.06-2.06.94zm-11 1L8.5 8.5l.94-2.06 2.06-.94-2.06-.94L8.5 2.5l-.94 2.06-2.06.94zm10 10l.94 2.06.94-2.06 2.06-.94-2.06-.94-.94-2.06-.94 2.06-2.06.94z\"/><path d=\"M17.41 7.96l-1.37-1.37c-.4-.4-.92-.59-1.43-.59-.52 0-1.04.2-1.43.59L10.3 9.45l-7.72 7.72c-.78.78-.78 2.05 0 2.83L4 21.41c.39.39.9.59 1.41.59.51 0 1.02-.2 1.41-.59l7.78-7.78 2.81-2.81c.8-.78.8-2.07 0-2.86zM5.41 20L4 18.59l7.72-7.72 1.47 1.35L5.41 20z\"/>\n",
              "  </svg>\n",
              "      </button>\n",
              "      \n",
              "  <style>\n",
              "    .colab-df-container {\n",
              "      display:flex;\n",
              "      flex-wrap:wrap;\n",
              "      gap: 12px;\n",
              "    }\n",
              "\n",
              "    .colab-df-convert {\n",
              "      background-color: #E8F0FE;\n",
              "      border: none;\n",
              "      border-radius: 50%;\n",
              "      cursor: pointer;\n",
              "      display: none;\n",
              "      fill: #1967D2;\n",
              "      height: 32px;\n",
              "      padding: 0 0 0 0;\n",
              "      width: 32px;\n",
              "    }\n",
              "\n",
              "    .colab-df-convert:hover {\n",
              "      background-color: #E2EBFA;\n",
              "      box-shadow: 0px 1px 2px rgba(60, 64, 67, 0.3), 0px 1px 3px 1px rgba(60, 64, 67, 0.15);\n",
              "      fill: #174EA6;\n",
              "    }\n",
              "\n",
              "    [theme=dark] .colab-df-convert {\n",
              "      background-color: #3B4455;\n",
              "      fill: #D2E3FC;\n",
              "    }\n",
              "\n",
              "    [theme=dark] .colab-df-convert:hover {\n",
              "      background-color: #434B5C;\n",
              "      box-shadow: 0px 1px 3px 1px rgba(0, 0, 0, 0.15);\n",
              "      filter: drop-shadow(0px 1px 2px rgba(0, 0, 0, 0.3));\n",
              "      fill: #FFFFFF;\n",
              "    }\n",
              "  </style>\n",
              "\n",
              "      <script>\n",
              "        const buttonEl =\n",
              "          document.querySelector('#df-84381781-7da6-4359-b8d8-a37521c1a7c8 button.colab-df-convert');\n",
              "        buttonEl.style.display =\n",
              "          google.colab.kernel.accessAllowed ? 'block' : 'none';\n",
              "\n",
              "        async function convertToInteractive(key) {\n",
              "          const element = document.querySelector('#df-84381781-7da6-4359-b8d8-a37521c1a7c8');\n",
              "          const dataTable =\n",
              "            await google.colab.kernel.invokeFunction('convertToInteractive',\n",
              "                                                     [key], {});\n",
              "          if (!dataTable) return;\n",
              "\n",
              "          const docLinkHtml = 'Like what you see? Visit the ' +\n",
              "            '<a target=\"_blank\" href=https://colab.research.google.com/notebooks/data_table.ipynb>data table notebook</a>'\n",
              "            + ' to learn more about interactive tables.';\n",
              "          element.innerHTML = '';\n",
              "          dataTable['output_type'] = 'display_data';\n",
              "          await google.colab.output.renderOutput(dataTable, element);\n",
              "          const docLink = document.createElement('div');\n",
              "          docLink.innerHTML = docLinkHtml;\n",
              "          element.appendChild(docLink);\n",
              "        }\n",
              "      </script>\n",
              "    </div>\n",
              "  </div>\n",
              "  "
            ]
          },
          "metadata": {},
          "execution_count": 18
        }
      ]
    },
    {
      "cell_type": "code",
      "source": [
        "sample_rate=34864"
      ],
      "metadata": {
        "id": "da8wlIHDr7R1"
      },
      "execution_count": 19,
      "outputs": []
    },
    {
      "cell_type": "code",
      "source": [
        "batch_size = 32\n",
        "\n",
        "if device == \"cuda\":\n",
        "    num_workers = 1\n",
        "    pin_memory = True\n",
        "else:\n",
        "    num_workers = 0\n",
        "    pin_memory = False\n",
        "\n",
        "train_loader = torch.utils.data.DataLoader(\n",
        "    train_set,\n",
        "    batch_size=batch_size,\n",
        "    shuffle=True,\n",
        "    num_workers=num_workers,\n",
        "    #collate_fn=collate_fn,\n",
        "    pin_memory=pin_memory,\n",
        ")\n",
        "test_loader = torch.utils.data.DataLoader(\n",
        "    test_set,\n",
        "    batch_size=batch_size,\n",
        "    shuffle=False,\n",
        "    drop_last=False,\n",
        "    num_workers=num_workers,\n",
        "    #collate_fn=collate_fn,\n",
        "    pin_memory=pin_memory,\n",
        ")"
      ],
      "metadata": {
        "id": "rX2RvYN4M3Td"
      },
      "execution_count": 20,
      "outputs": []
    },
    {
      "cell_type": "code",
      "source": [
        "def evaluate_accuracy(model,transform, dataloader):\n",
        "    correct = 0\n",
        "    total = 0\n",
        "    model.eval()\n",
        "    with torch.no_grad():\n",
        "        for data in dataloader:\n",
        "            images, y = data\n",
        "            if transform:\n",
        "                images=transform(images.to(device))\n",
        "            else:\n",
        "                images=images.to(device)\n",
        "            outputs = model(images)\n",
        "            _, predicted = torch.max(outputs.data, 1)  \n",
        "            total += y.size(0) \n",
        "            correct += (predicted == y.to(device)).sum().item()\n",
        "    accuracy = 100 * correct / total  \n",
        "    return accuracy\n",
        "\n",
        "def accuracy_classes(net,transform,dataloader,classes): \n",
        "    correct_pred = {classname: 0 for classname in classes}\n",
        "    total_pred = {classname: 0 for classname in classes}\n",
        "    net.eval()\n",
        "    with torch.no_grad():\n",
        "        for data in dataloader:\n",
        "            images, labels = data\n",
        "            if transform:\n",
        "                images=transform(images.to(device))\n",
        "            else:\n",
        "                images=images.to(device)\n",
        "            outputs = net(images)\n",
        "            _, predictions = torch.max(outputs, 1)\n",
        "            for label, prediction in zip(labels.to(device), predictions):\n",
        "                if label == prediction:\n",
        "                    correct_pred[classes[label]] += 1\n",
        "                total_pred[classes[label]] += 1\n",
        "\n",
        "    for classname, correct_count in correct_pred.items():\n",
        "        accuracy = 100 * float(correct_count) / total_pred[classname]\n",
        "        print(f'Accuracy for class: {classname:5s} is {accuracy:.1f} %')\n",
        "     "
      ],
      "metadata": {
        "id": "ieWAnNJFspbn"
      },
      "execution_count": 21,
      "outputs": []
    },
    {
      "cell_type": "code",
      "source": [
        "def training(net,transform,optimizer,criterion,train_loader,test_loader,num_epochs):\n",
        "  history={'loss':[],'train_accuracy':[],'val_accuracy':[]}\n",
        "  for epoch in tqdm(range(num_epochs)):\n",
        "      running_loss = 0.0\n",
        "      running_corrects = 0.0\n",
        "      net.train()\n",
        "      for i, data in enumerate(train_loader, 0):\n",
        "          inputs, y = data\n",
        "          optimizer.zero_grad()\n",
        "          if transform:\n",
        "            inputs=transform(inputs.to(device))\n",
        "          else:\n",
        "            inputs=inputs.to(device)\n",
        "          outputs = net(inputs)\n",
        "\n",
        "          loss = criterion(outputs, y.to(device))\n",
        "          loss.backward()\n",
        "          optimizer.step()\n",
        " \n",
        "          _, predicted = torch.max(outputs.data.cpu(), 1)\n",
        "          running_corrects += torch.sum(predicted == y.data).item()\n",
        "        \n",
        "          running_loss += loss.item() * inputs.size(0)\n",
        "        \n",
        "\n",
        "      epoch_loss = running_loss / len(train_loader.dataset)\n",
        "      epoch_acc = 100.0*running_corrects / len(train_loader.dataset)\n",
        "      val_acc=evaluate_accuracy(net,transform,test_loader)\n",
        "      history['loss'].append(epoch_loss)\n",
        "      history['train_accuracy'].append(epoch_acc)\n",
        "      history['val_accuracy'].append(val_acc)\n",
        "      print('Epoch {} Loss: {:.4f} Acc: {:.4f}% Val Acc: {:.4f}%'.format(epoch+1, epoch_loss, epoch_acc, val_acc))  \n",
        "  return history"
      ],
      "metadata": {
        "id": "41R5MDatsxP-"
      },
      "execution_count": 22,
      "outputs": []
    },
    {
      "cell_type": "code",
      "source": [
        "class LogisticRegression(nn.Module):\n",
        "    def __init__(self, n_input, n_output=18):\n",
        "        super().__init__()\n",
        "        self.fc1 = nn.Linear(n_input, n_output)\n",
        "    def forward(self, x):\n",
        "        x=x.view(x.shape[0],-1)\n",
        "        x = self.fc1(x)\n",
        "        return F.log_softmax(x, dim=1).squeeze()"
      ],
      "metadata": {
        "id": "rL24KD0cgszt"
      },
      "execution_count": 23,
      "outputs": []
    },
    {
      "cell_type": "code",
      "source": [
        "T=20000"
      ],
      "metadata": {
        "id": "fAKYi6eQszp5"
      },
      "execution_count": 24,
      "outputs": []
    },
    {
      "cell_type": "code",
      "source": [
        "transform = torchaudio.transforms.Resample(orig_freq=sample_rate, new_freq=T).to(device)"
      ],
      "metadata": {
        "id": "LWTL8m7ds9nD"
      },
      "execution_count": 25,
      "outputs": []
    },
    {
      "cell_type": "code",
      "source": [
        "len(labels)"
      ],
      "metadata": {
        "colab": {
          "base_uri": "https://localhost:8080/"
        },
        "id": "-_0pe3G3xIm5",
        "outputId": "12016766-da2f-4b4e-dfa5-384a1fb154a9"
      },
      "execution_count": 26,
      "outputs": [
        {
          "output_type": "execute_result",
          "data": {
            "text/plain": [
              "21"
            ]
          },
          "metadata": {},
          "execution_count": 26
        }
      ]
    },
    {
      "cell_type": "code",
      "source": [
        "model = LogisticRegression(n_input=T, n_output=len(labels)).to(device)    "
      ],
      "metadata": {
        "id": "Ec2qC4E6tBF1"
      },
      "execution_count": 27,
      "outputs": []
    },
    {
      "cell_type": "code",
      "source": [
        "criterion = nn.NLLLoss()"
      ],
      "metadata": {
        "id": "aGU0GorxtEn_"
      },
      "execution_count": 28,
      "outputs": []
    },
    {
      "cell_type": "code",
      "source": [
        "optimizer = optim.SGD(model.parameters(), lr=0.01, weight_decay=0.001)"
      ],
      "metadata": {
        "id": "BwPgMx4KtHBb"
      },
      "execution_count": 29,
      "outputs": []
    },
    {
      "cell_type": "code",
      "source": [
        "summary(model,(1,T))"
      ],
      "metadata": {
        "colab": {
          "base_uri": "https://localhost:8080/"
        },
        "id": "PIoX_RyHtJxF",
        "outputId": "34a1fcdb-df0d-4505-f011-325a3b8d2111"
      },
      "execution_count": 30,
      "outputs": [
        {
          "output_type": "stream",
          "name": "stdout",
          "text": [
            "----------------------------------------------------------------\n",
            "        Layer (type)               Output Shape         Param #\n",
            "================================================================\n",
            "            Linear-1                   [-1, 21]         420,021\n",
            "================================================================\n",
            "Total params: 420,021\n",
            "Trainable params: 420,021\n",
            "Non-trainable params: 0\n",
            "----------------------------------------------------------------\n",
            "Input size (MB): 0.08\n",
            "Forward/backward pass size (MB): 0.00\n",
            "Params size (MB): 1.60\n",
            "Estimated Total Size (MB): 1.68\n",
            "----------------------------------------------------------------\n"
          ]
        }
      ]
    },
    {
      "cell_type": "code",
      "source": [
        "num_epochs=100"
      ],
      "metadata": {
        "id": "J2g5b4_MtMw5"
      },
      "execution_count": 31,
      "outputs": []
    },
    {
      "cell_type": "code",
      "source": [
        "history=training(model,transform,optimizer,criterion,train_loader,test_loader,num_epochs)"
      ],
      "metadata": {
        "colab": {
          "base_uri": "https://localhost:8080/",
          "height": 1000,
          "referenced_widgets": [
            "7444f0871a484fa5b8a5aaec566fee65",
            "68042f1349004ed2bacf7583c5bbbe97",
            "88b07c5072e046e6afb42c1823e5461e",
            "f807ea181dca416faa64cc41c2d65db1",
            "edb3f9b0a77943988dfe1e3bdfd5318c",
            "23e5ca7baaef4c99b60ea2907e96caba",
            "1cc995faa76949ebb27cdc4b19a3b483",
            "86668382a45c48f5a978ffd1918b0086",
            "d85e282f601d416c94939eb77d67d027",
            "b5b09aabbd0546b8a37d373229598f47",
            "7d358ecc91434ab1b61883b4c1ee563b"
          ]
        },
        "id": "kNY5CSgmtPM6",
        "outputId": "87b7bd13-af77-48eb-a5ed-e87381ef513d"
      },
      "execution_count": 32,
      "outputs": [
        {
          "output_type": "display_data",
          "data": {
            "text/plain": [
              "  0%|          | 0/100 [00:00<?, ?it/s]"
            ],
            "application/vnd.jupyter.widget-view+json": {
              "version_major": 2,
              "version_minor": 0,
              "model_id": "7444f0871a484fa5b8a5aaec566fee65"
            }
          },
          "metadata": {}
        },
        {
          "output_type": "stream",
          "name": "stdout",
          "text": [
            "Epoch 1 Loss: 3.0388 Acc: 12.7735% Val Acc: 0.5000%\n",
            "Epoch 2 Loss: 2.9002 Acc: 16.7357% Val Acc: 29.5000%\n",
            "Epoch 3 Loss: 2.7793 Acc: 32.7617% Val Acc: 31.0000%\n",
            "Epoch 4 Loss: 2.6813 Acc: 32.9982% Val Acc: 31.0000%\n",
            "Epoch 5 Loss: 2.6027 Acc: 33.1165% Val Acc: 31.0000%\n",
            "Epoch 6 Loss: 2.5393 Acc: 33.1756% Val Acc: 31.0000%\n",
            "Epoch 7 Loss: 2.4872 Acc: 33.3530% Val Acc: 31.0000%\n",
            "Epoch 8 Loss: 2.4437 Acc: 33.4122% Val Acc: 31.0000%\n",
            "Epoch 9 Loss: 2.4065 Acc: 33.6487% Val Acc: 31.0000%\n",
            "Epoch 10 Loss: 2.3743 Acc: 33.8261% Val Acc: 31.0000%\n",
            "Epoch 11 Loss: 2.3454 Acc: 34.0035% Val Acc: 31.0000%\n",
            "Epoch 12 Loss: 2.3196 Acc: 34.2992% Val Acc: 31.0000%\n",
            "Epoch 13 Loss: 2.2959 Acc: 34.5949% Val Acc: 31.0000%\n",
            "Epoch 14 Loss: 2.2739 Acc: 35.0680% Val Acc: 31.0000%\n",
            "Epoch 15 Loss: 2.2534 Acc: 35.4820% Val Acc: 31.0000%\n",
            "Epoch 16 Loss: 2.2340 Acc: 35.5411% Val Acc: 31.0000%\n",
            "Epoch 17 Loss: 2.2158 Acc: 36.1325% Val Acc: 31.0000%\n",
            "Epoch 18 Loss: 2.1987 Acc: 36.3690% Val Acc: 31.0000%\n",
            "Epoch 19 Loss: 2.1836 Acc: 36.8421% Val Acc: 31.0000%\n",
            "Epoch 20 Loss: 2.1711 Acc: 37.0787% Val Acc: 31.0000%\n",
            "Epoch 21 Loss: 2.1546 Acc: 37.2561% Val Acc: 31.0000%\n",
            "Epoch 22 Loss: 2.1441 Acc: 37.4926% Val Acc: 31.0000%\n",
            "Epoch 23 Loss: 2.1424 Acc: 37.6700% Val Acc: 31.0000%\n",
            "Epoch 24 Loss: 2.1282 Acc: 37.7292% Val Acc: 31.0000%\n",
            "Epoch 25 Loss: 2.1146 Acc: 37.7883% Val Acc: 31.0000%\n",
            "Epoch 26 Loss: 2.1019 Acc: 37.8474% Val Acc: 31.0000%\n",
            "Epoch 27 Loss: 2.0895 Acc: 38.2022% Val Acc: 31.0000%\n",
            "Epoch 28 Loss: 2.0773 Acc: 38.4388% Val Acc: 31.0000%\n",
            "Epoch 29 Loss: 2.0653 Acc: 38.6753% Val Acc: 31.0000%\n",
            "Epoch 30 Loss: 2.0538 Acc: 38.9710% Val Acc: 31.0000%\n",
            "Epoch 31 Loss: 2.0426 Acc: 39.3258% Val Acc: 31.0000%\n",
            "Epoch 32 Loss: 2.0317 Acc: 39.7398% Val Acc: 31.0000%\n",
            "Epoch 33 Loss: 2.0212 Acc: 39.9763% Val Acc: 31.0000%\n",
            "Epoch 34 Loss: 2.0109 Acc: 40.2129% Val Acc: 31.0000%\n",
            "Epoch 35 Loss: 2.0009 Acc: 40.5677% Val Acc: 31.0000%\n",
            "Epoch 36 Loss: 1.9912 Acc: 40.8043% Val Acc: 31.0000%\n",
            "Epoch 37 Loss: 1.9816 Acc: 41.0408% Val Acc: 31.0000%\n",
            "Epoch 38 Loss: 1.9724 Acc: 41.1591% Val Acc: 31.0000%\n",
            "Epoch 39 Loss: 1.9746 Acc: 41.5139% Val Acc: 31.0000%\n",
            "Epoch 40 Loss: 1.9808 Acc: 41.7504% Val Acc: 31.0000%\n",
            "Epoch 41 Loss: 1.9712 Acc: 41.9870% Val Acc: 31.0000%\n",
            "Epoch 42 Loss: 1.9618 Acc: 42.2235% Val Acc: 31.0000%\n",
            "Epoch 43 Loss: 1.9525 Acc: 42.5192% Val Acc: 31.0000%\n",
            "Epoch 44 Loss: 1.9438 Acc: 42.6966% Val Acc: 31.0000%\n",
            "Epoch 45 Loss: 1.9351 Acc: 42.6966% Val Acc: 31.0000%\n",
            "Epoch 46 Loss: 1.9264 Acc: 42.8149% Val Acc: 31.0000%\n",
            "Epoch 47 Loss: 1.9180 Acc: 42.9332% Val Acc: 31.0000%\n",
            "Epoch 48 Loss: 1.9097 Acc: 43.1106% Val Acc: 31.0000%\n",
            "Epoch 49 Loss: 1.9016 Acc: 43.2880% Val Acc: 31.0000%\n",
            "Epoch 50 Loss: 1.8939 Acc: 43.5245% Val Acc: 31.0000%\n",
            "Epoch 51 Loss: 1.8862 Acc: 43.5245% Val Acc: 31.0000%\n",
            "Epoch 52 Loss: 1.8786 Acc: 43.6428% Val Acc: 31.0000%\n",
            "Epoch 53 Loss: 1.8711 Acc: 43.8202% Val Acc: 31.0000%\n",
            "Epoch 54 Loss: 1.8637 Acc: 43.9385% Val Acc: 31.0000%\n",
            "Epoch 55 Loss: 1.8563 Acc: 43.9976% Val Acc: 31.0000%\n",
            "Epoch 56 Loss: 1.8492 Acc: 44.2933% Val Acc: 31.0000%\n",
            "Epoch 57 Loss: 1.8422 Acc: 44.4116% Val Acc: 31.0000%\n",
            "Epoch 58 Loss: 1.8359 Acc: 44.5299% Val Acc: 31.0000%\n",
            "Epoch 59 Loss: 1.8299 Acc: 44.8255% Val Acc: 31.0000%\n",
            "Epoch 60 Loss: 1.8232 Acc: 44.8847% Val Acc: 31.0000%\n",
            "Epoch 61 Loss: 1.8165 Acc: 45.0030% Val Acc: 31.0000%\n",
            "Epoch 62 Loss: 1.8100 Acc: 45.2395% Val Acc: 31.0000%\n",
            "Epoch 63 Loss: 1.8037 Acc: 45.3578% Val Acc: 31.0000%\n",
            "Epoch 64 Loss: 1.7974 Acc: 45.6535% Val Acc: 30.5000%\n",
            "Epoch 65 Loss: 1.7912 Acc: 45.6535% Val Acc: 30.5000%\n",
            "Epoch 66 Loss: 1.7851 Acc: 45.7126% Val Acc: 30.5000%\n",
            "Epoch 67 Loss: 1.7791 Acc: 45.7717% Val Acc: 30.5000%\n",
            "Epoch 68 Loss: 1.7732 Acc: 45.9491% Val Acc: 30.5000%\n",
            "Epoch 69 Loss: 1.7675 Acc: 46.1266% Val Acc: 30.5000%\n",
            "Epoch 70 Loss: 1.7618 Acc: 46.0674% Val Acc: 30.5000%\n",
            "Epoch 71 Loss: 1.7707 Acc: 45.9491% Val Acc: 30.5000%\n",
            "Epoch 72 Loss: 1.7725 Acc: 46.0083% Val Acc: 30.5000%\n",
            "Epoch 73 Loss: 1.7658 Acc: 46.4222% Val Acc: 30.5000%\n",
            "Epoch 74 Loss: 1.7595 Acc: 46.3631% Val Acc: 30.5000%\n",
            "Epoch 75 Loss: 1.7533 Acc: 46.5996% Val Acc: 30.5000%\n",
            "Epoch 76 Loss: 1.7472 Acc: 46.6588% Val Acc: 30.5000%\n",
            "Epoch 77 Loss: 1.7412 Acc: 46.7771% Val Acc: 30.5000%\n",
            "Epoch 78 Loss: 1.7353 Acc: 46.7771% Val Acc: 30.5000%\n",
            "Epoch 79 Loss: 1.7296 Acc: 46.8362% Val Acc: 30.5000%\n",
            "Epoch 80 Loss: 1.7239 Acc: 47.0727% Val Acc: 30.5000%\n",
            "Epoch 81 Loss: 1.7184 Acc: 47.3093% Val Acc: 30.5000%\n",
            "Epoch 82 Loss: 1.7129 Acc: 47.3093% Val Acc: 30.5000%\n",
            "Epoch 83 Loss: 1.7075 Acc: 47.6050% Val Acc: 30.5000%\n",
            "Epoch 84 Loss: 1.7021 Acc: 47.6641% Val Acc: 30.5000%\n",
            "Epoch 85 Loss: 1.6967 Acc: 47.6641% Val Acc: 30.0000%\n",
            "Epoch 86 Loss: 1.6916 Acc: 47.8415% Val Acc: 30.0000%\n",
            "Epoch 87 Loss: 1.6864 Acc: 47.9598% Val Acc: 30.0000%\n",
            "Epoch 88 Loss: 1.6814 Acc: 47.9598% Val Acc: 30.0000%\n",
            "Epoch 89 Loss: 1.6765 Acc: 48.1372% Val Acc: 30.0000%\n",
            "Epoch 90 Loss: 1.6716 Acc: 48.4329% Val Acc: 30.0000%\n",
            "Epoch 91 Loss: 1.6667 Acc: 48.3737% Val Acc: 29.5000%\n",
            "Epoch 92 Loss: 1.6619 Acc: 48.7286% Val Acc: 29.5000%\n",
            "Epoch 93 Loss: 1.6572 Acc: 48.7286% Val Acc: 30.0000%\n",
            "Epoch 94 Loss: 1.6525 Acc: 48.8468% Val Acc: 30.0000%\n",
            "Epoch 95 Loss: 1.6479 Acc: 49.0242% Val Acc: 30.0000%\n",
            "Epoch 96 Loss: 1.6434 Acc: 49.0834% Val Acc: 30.0000%\n",
            "Epoch 97 Loss: 1.6391 Acc: 49.2608% Val Acc: 30.0000%\n",
            "Epoch 98 Loss: 1.6347 Acc: 49.2608% Val Acc: 30.0000%\n",
            "Epoch 99 Loss: 1.6303 Acc: 49.4382% Val Acc: 30.0000%\n",
            "Epoch 100 Loss: 1.6259 Acc: 49.5565% Val Acc: 30.0000%\n"
          ]
        }
      ]
    },
    {
      "cell_type": "code",
      "source": [
        "accuracy_classes(model,transform,train_loader,labels)"
      ],
      "metadata": {
        "colab": {
          "base_uri": "https://localhost:8080/"
        },
        "id": "Jf0uNzBn-gGO",
        "outputId": "e212da6e-2d44-4719-9baf-988ab6f9cb2a"
      },
      "execution_count": 33,
      "outputs": [
        {
          "output_type": "stream",
          "name": "stdout",
          "text": [
            "Accuracy for class: 1080Lines is 80.0 %\n",
            "Accuracy for class: 1400Ripples is 50.0 %\n",
            "Accuracy for class: Air_Compressor is 0.0 %\n",
            "Accuracy for class: Blip  is 100.0 %\n",
            "Accuracy for class: Chirp is 0.0 %\n",
            "Accuracy for class: Extremely_Loud is 12.9 %\n",
            "Accuracy for class: Koi_Fish is 2.0 %\n",
            "Accuracy for class: Light_Modulation is 0.0 %\n",
            "Accuracy for class: Low_Frequency_Burst is 46.4 %\n",
            "Accuracy for class: Low_Frequency_Lines is 42.7 %\n",
            "Accuracy for class: No_Glitch is 20.0 %\n",
            "Accuracy for class: None_of_the_Above is 25.0 %\n",
            "Accuracy for class: Paired_Doves is 0.0 %\n",
            "Accuracy for class: Power_Line is 20.5 %\n",
            "Accuracy for class: Repeating_Blips is 20.8 %\n",
            "Accuracy for class: Scattered_Light is 17.4 %\n",
            "Accuracy for class: Scratchy is 23.2 %\n",
            "Accuracy for class: Tomte is 23.0 %\n",
            "Accuracy for class: Violin_Mode is 100.0 %\n",
            "Accuracy for class: Wandering_Line is 0.0 %\n",
            "Accuracy for class: Whistle is 39.2 %\n"
          ]
        }
      ]
    },
    {
      "cell_type": "code",
      "source": [
        "accuracy_classes(model,transform,test_loader,labels)"
      ],
      "metadata": {
        "colab": {
          "base_uri": "https://localhost:8080/",
          "height": 305
        },
        "id": "yG2-hI7J-fr8",
        "outputId": "951d64e2-82db-4f2e-d2b9-c0f24e8e0596"
      },
      "execution_count": null,
      "outputs": [
        {
          "output_type": "stream",
          "name": "stdout",
          "text": [
            "Accuracy for class: Blip  is 33.3 %\n"
          ]
        },
        {
          "output_type": "error",
          "ename": "ZeroDivisionError",
          "evalue": "ignored",
          "traceback": [
            "\u001b[0;31m---------------------------------------------------------------------------\u001b[0m",
            "\u001b[0;31mZeroDivisionError\u001b[0m                         Traceback (most recent call last)",
            "\u001b[0;32m<ipython-input-43-d03def316133>\u001b[0m in \u001b[0;36m<cell line: 1>\u001b[0;34m()\u001b[0m\n\u001b[0;32m----> 1\u001b[0;31m \u001b[0maccuracy_classes\u001b[0m\u001b[0;34m(\u001b[0m\u001b[0mmodel\u001b[0m\u001b[0;34m,\u001b[0m\u001b[0mtransform\u001b[0m\u001b[0;34m,\u001b[0m\u001b[0mtest_loader\u001b[0m\u001b[0;34m,\u001b[0m\u001b[0mlabels\u001b[0m\u001b[0;34m)\u001b[0m\u001b[0;34m\u001b[0m\u001b[0;34m\u001b[0m\u001b[0m\n\u001b[0m",
            "\u001b[0;32m<ipython-input-26-a45c3886f36f>\u001b[0m in \u001b[0;36maccuracy_classes\u001b[0;34m(net, transform, dataloader, classes)\u001b[0m\n\u001b[1;32m     36\u001b[0m \u001b[0;34m\u001b[0m\u001b[0m\n\u001b[1;32m     37\u001b[0m     \u001b[0;32mfor\u001b[0m \u001b[0mclassname\u001b[0m\u001b[0;34m,\u001b[0m \u001b[0mcorrect_count\u001b[0m \u001b[0;32min\u001b[0m \u001b[0mcorrect_pred\u001b[0m\u001b[0;34m.\u001b[0m\u001b[0mitems\u001b[0m\u001b[0;34m(\u001b[0m\u001b[0;34m)\u001b[0m\u001b[0;34m:\u001b[0m\u001b[0;34m\u001b[0m\u001b[0;34m\u001b[0m\u001b[0m\n\u001b[0;32m---> 38\u001b[0;31m         \u001b[0maccuracy\u001b[0m \u001b[0;34m=\u001b[0m \u001b[0;36m100\u001b[0m \u001b[0;34m*\u001b[0m \u001b[0mfloat\u001b[0m\u001b[0;34m(\u001b[0m\u001b[0mcorrect_count\u001b[0m\u001b[0;34m)\u001b[0m \u001b[0;34m/\u001b[0m \u001b[0mtotal_pred\u001b[0m\u001b[0;34m[\u001b[0m\u001b[0mclassname\u001b[0m\u001b[0;34m]\u001b[0m\u001b[0;34m\u001b[0m\u001b[0;34m\u001b[0m\u001b[0m\n\u001b[0m\u001b[1;32m     39\u001b[0m         \u001b[0mprint\u001b[0m\u001b[0;34m(\u001b[0m\u001b[0;34mf'Accuracy for class: {classname:5s} is {accuracy:.1f} %'\u001b[0m\u001b[0;34m)\u001b[0m\u001b[0;34m\u001b[0m\u001b[0;34m\u001b[0m\u001b[0m\n\u001b[1;32m     40\u001b[0m \u001b[0;34m\u001b[0m\u001b[0m\n",
            "\u001b[0;31mZeroDivisionError\u001b[0m: float division by zero"
          ]
        }
      ]
    },
    {
      "cell_type": "code",
      "source": [
        "#LOGSCATTERING"
      ],
      "metadata": {
        "id": "r3dwkBpuk6aQ"
      },
      "execution_count": null,
      "outputs": []
    }
  ]
}